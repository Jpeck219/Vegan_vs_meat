{
 "cells": [
  {
   "cell_type": "markdown",
   "metadata": {},
   "source": [
    "## Web Scraping"
   ]
  },
  {
   "cell_type": "markdown",
   "metadata": {},
   "source": [
    "### Obtaining and scrubbing the data"
   ]
  },
  {
   "cell_type": "code",
   "execution_count": 21,
   "metadata": {},
   "outputs": [],
   "source": [
    "import requests\n",
    "import json\n",
    "import pandas as pd\n",
    "import time\n",
    "import warnings\n",
    "warnings.filterwarnings(\"ignore\")"
   ]
  },
  {
   "cell_type": "code",
   "execution_count": 9,
   "metadata": {},
   "outputs": [],
   "source": [
    "# jonathan keys NEED TO put this into gitinnore!!!!\n",
    "client_id = 'E1AQMelCA8e5oZKc-yWfhg'\n",
    "\n",
    "key= '43p9tSwkbBOVCEUsTURSCAQOXKzbiPIa5r0fTt3cKZT6W2zSXaT3nGQV4MUgu6EPQHKvPeqbio9N6sUMM3Ycug_3xphoP48sFtUf9wx-JdAWLPzGhZZP2c4hTF8SXXYx'"
   ]
  },
  {
   "cell_type": "markdown",
   "metadata": {},
   "source": [
    "- Get response\n"
   ]
  },
  {
   "cell_type": "code",
   "execution_count": 10,
   "metadata": {},
   "outputs": [],
   "source": [
    "def get_response( food , city):\n",
    "    \"\"\" it takes the type of food and the city and return the respond\"\"\"\n",
    "    term = 'food' \n",
    "    location = 'city'\n",
    "    SEARCH_LIMIT = 10\n",
    "\n",
    "    url = 'https://api.yelp.com/v3/businesses/search'\n",
    "\n",
    "    headers = {\n",
    "            'Authorization': 'Bearer {}'.format(key),\n",
    "        }\n",
    "\n",
    "    url_params = {\n",
    "                    'term': term.replace(' ', '+'),\n",
    "                    'location': location.replace(' ', '+'),\n",
    "                    'limit': SEARCH_LIMIT\n",
    "                }\n",
    "    response = requests.get(url, headers=headers, params=url_params)\n",
    "    return response"
   ]
  },
  {
   "cell_type": "code",
   "execution_count": 11,
   "metadata": {},
   "outputs": [],
   "source": [
    "response = get_response('vegan' ,'Dallas')"
   ]
  },
  {
   "cell_type": "code",
   "execution_count": 24,
   "metadata": {},
   "outputs": [],
   "source": [
    "response_2 = get_response('meat' , \"Dallas\")"
   ]
  },
  {
   "cell_type": "code",
   "execution_count": 25,
   "metadata": {},
   "outputs": [],
   "source": [
    "response_3 = get_response('vegan' ,'NYC')"
   ]
  },
  {
   "cell_type": "code",
   "execution_count": 26,
   "metadata": {},
   "outputs": [],
   "source": [
    "response_4 = get_response('Steakhouse' , 'NYC')"
   ]
  },
  {
   "cell_type": "code",
   "execution_count": 27,
   "metadata": {},
   "outputs": [],
   "source": [
    "response_5 = get_response('vegan', 'LA')"
   ]
  },
  {
   "cell_type": "code",
   "execution_count": 28,
   "metadata": {},
   "outputs": [],
   "source": [
    "response_6 = get_response('meat' ,'LA')"
   ]
  },
  {
   "cell_type": "code",
   "execution_count": 29,
   "metadata": {},
   "outputs": [],
   "source": [
    "response_7 = get_response('vegan', 'Minneapolis')"
   ]
  },
  {
   "cell_type": "code",
   "execution_count": 30,
   "metadata": {},
   "outputs": [],
   "source": [
    "response_8 = get_response('meat' , 'Minneapolis')"
   ]
  },
  {
   "cell_type": "code",
   "execution_count": 31,
   "metadata": {},
   "outputs": [],
   "source": [
    "list_response = [ response, response_2, response_3, response_4, response_5, response_6, response_7, response_8]"
   ]
  },
  {
   "cell_type": "markdown",
   "metadata": {},
   "source": [
    "- Web scraping"
   ]
  },
  {
   "cell_type": "code",
   "execution_count": 32,
   "metadata": {},
   "outputs": [],
   "source": [
    "def yelp_call(url_params, key):\n",
    "    url = 'https://api.yelp.com/v3/businesses/search'\n",
    "    headers = {'Authorization': 'Bearer {}'.format(key)}\n",
    "    response = requests.get(url, headers=headers, params=url_params)\n",
    "    \n",
    "    df = pd.DataFrame(response.json()['businesses'])\n",
    "    return df\n",
    "\n",
    "def all_results(url_params, key , food, city ):\n",
    "            for i in list_response:\n",
    "                num = i.json()['total']\n",
    "                print('{} total matches found.'.format(num))\n",
    "                cur = 0\n",
    "                dfs = []\n",
    "                while cur < num and cur < 700:\n",
    "                    url_params['offset'] = cur\n",
    "                    dfs.append(yelp_call(url_params, key)) \n",
    "                    time.sleep(1) #Wait a second\n",
    "                    cur += 50\n",
    "                df = pd.concat(dfs, ignore_index=True)\n",
    "                return df\n",
    "\n",
    "term = 'food'\n",
    "location = 'city'\n",
    "url_params = {  'term': term.replace(' ', '+'),\n",
    "                'location': location.replace(' ', '+'),\n",
    "                'limit' : 50,\n",
    "                 'radius' : 20000\n",
    "             }\n"
   ]
  },
  {
   "cell_type": "code",
   "execution_count": 13,
   "metadata": {},
   "outputs": [
    {
     "name": "stdout",
     "output_type": "stream",
     "text": [
      "30000 total matches found.\n"
     ]
    }
   ],
   "source": [
    "df = all_results(url_params, key,'vegan','Dallas')\n"
   ]
  },
  {
   "cell_type": "code",
   "execution_count": 33,
   "metadata": {},
   "outputs": [
    {
     "name": "stdout",
     "output_type": "stream",
     "text": [
      "30000 total matches found.\n"
     ]
    }
   ],
   "source": [
    "df1 =  all_results(url_params, key,'meat','Dallas')\n"
   ]
  },
  {
   "cell_type": "code",
   "execution_count": 34,
   "metadata": {},
   "outputs": [
    {
     "name": "stdout",
     "output_type": "stream",
     "text": [
      "30000 total matches found.\n"
     ]
    }
   ],
   "source": [
    "df2 = all_results(url_params, key,'vegan','NY')\n"
   ]
  },
  {
   "cell_type": "code",
   "execution_count": 51,
   "metadata": {},
   "outputs": [
    {
     "name": "stdout",
     "output_type": "stream",
     "text": [
      "30000 total matches found.\n"
     ]
    }
   ],
   "source": [
    "df3 = all_results(url_params, key,'steakhouse','NY')\n"
   ]
  },
  {
   "cell_type": "code",
   "execution_count": 48,
   "metadata": {},
   "outputs": [
    {
     "name": "stdout",
     "output_type": "stream",
     "text": [
      "824 total matches found.\n"
     ]
    }
   ],
   "source": [
    "df4 = all_results(url_params, key,'vegan','LA')\n"
   ]
  },
  {
   "cell_type": "code",
   "execution_count": 44,
   "metadata": {},
   "outputs": [
    {
     "name": "stdout",
     "output_type": "stream",
     "text": [
      "30000 total matches found.\n"
     ]
    }
   ],
   "source": [
    "df5 = all_results(url_params, key,'meat','LA')\n"
   ]
  },
  {
   "cell_type": "code",
   "execution_count": 48,
   "metadata": {},
   "outputs": [
    {
     "name": "stdout",
     "output_type": "stream",
     "text": [
      "30000 total matches found.\n"
     ]
    }
   ],
   "source": [
    "df6 = all_results(url_params, key,'vegan','Minneapolis')\n"
   ]
  },
  {
   "cell_type": "code",
   "execution_count": 43,
   "metadata": {},
   "outputs": [
    {
     "name": "stdout",
     "output_type": "stream",
     "text": [
      "30000 total matches found.\n"
     ]
    }
   ],
   "source": [
    "df7 = all_results(url_params, key,'meat','Minneapolis')\n"
   ]
  },
  {
   "cell_type": "markdown",
   "metadata": {},
   "source": [
    "- Store in a csv file"
   ]
  },
  {
   "cell_type": "code",
   "execution_count": 15,
   "metadata": {},
   "outputs": [],
   "source": [
    "def store_csv(file):\n",
    "    \"\"\" it takes the info from the yelp web and store in a csv file\"\"\"\n",
    "    return df.to_csv('file')\n",
    "  \n",
    "\n"
   ]
  },
  {
   "cell_type": "code",
   "execution_count": 17,
   "metadata": {},
   "outputs": [],
   "source": [
    "veganDallas = store_csv('df')"
   ]
  },
  {
   "cell_type": "code",
   "execution_count": 35,
   "metadata": {},
   "outputs": [],
   "source": [
    "meatDallas = store_csv('df1')"
   ]
  },
  {
   "cell_type": "code",
   "execution_count": 37,
   "metadata": {},
   "outputs": [],
   "source": [
    "veganNY = store_csv('df2')"
   ]
  },
  {
   "cell_type": "code",
   "execution_count": 38,
   "metadata": {},
   "outputs": [],
   "source": [
    "stakehouseNY = store_csv('df3')"
   ]
  },
  {
   "cell_type": "code",
   "execution_count": 39,
   "metadata": {},
   "outputs": [],
   "source": [
    "veganLA = store_csv( 'df4')"
   ]
  },
  {
   "cell_type": "code",
   "execution_count": 40,
   "metadata": {},
   "outputs": [],
   "source": [
    "meatLA = store_csv('d5' )"
   ]
  },
  {
   "cell_type": "code",
   "execution_count": 41,
   "metadata": {},
   "outputs": [],
   "source": [
    "veganMinneapolis  = store_csv('df6' )"
   ]
  },
  {
   "cell_type": "code",
   "execution_count": 42,
   "metadata": {},
   "outputs": [],
   "source": [
    "meatMinneapolis = store_csv('df7')"
   ]
  }
 ],
 "metadata": {
  "kernelspec": {
   "display_name": "Python 3",
   "language": "python",
   "name": "python3"
  },
  "language_info": {
   "codemirror_mode": {
    "name": "ipython",
    "version": 3
   },
   "file_extension": ".py",
   "mimetype": "text/x-python",
   "name": "python",
   "nbconvert_exporter": "python",
   "pygments_lexer": "ipython3",
   "version": "3.7.3"
  }
 },
 "nbformat": 4,
 "nbformat_minor": 2
}
