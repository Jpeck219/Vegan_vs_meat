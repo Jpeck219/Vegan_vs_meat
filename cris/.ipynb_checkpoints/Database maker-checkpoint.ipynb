{
 "cells": [
  {
   "cell_type": "code",
   "execution_count": 46,
   "metadata": {},
   "outputs": [],
   "source": [
    "import pandas as pd\n",
    "import json\n",
    "import sqlite3\n",
    "import ast\n",
    "import csv"
   ]
  },
  {
   "cell_type": "code",
   "execution_count": 1,
   "metadata": {},
   "outputs": [],
   "source": [
    "conn = sqlite3.connect('Food_Mod3_proj.db')\n",
    "c = conn.cursor() "
   ]
  },
  {
   "cell_type": "code",
   "execution_count": 136,
   "metadata": {},
   "outputs": [
    {
     "name": "stdout",
     "output_type": "stream",
     "text": [
      "failed\n"
     ]
    }
   ],
   "source": [
    "def csv_to_db(a_list):\n",
    "    with open('/Users/jonathanpeck/desktop/cris/csv/veganNY.csv', newline='') as csvfile:\n",
    "        _data = csv.reader(csvfile)\n",
    "        for row in _data:\n",
    "            rest_info = []\n",
    "            try: \n",
    "                name = row[10] #name\n",
    "                city = ast.literal_eval(row[9])['city'] #city\n",
    "                price = row[12] #price\n",
    "                rating = row[13] #rating\n",
    "                review_count = row[14] #review_count\n",
    "                rest_info.append([name, city, price, rating, review_count])\n",
    "                c.execute(\"\"\"INSERT INTO rest_info (name, city, price, rating, review_count)\n",
    "                VALUES (?, ?, ?, ?, ?);\"\"\", rest_info[0])\n",
    "            except: \n",
    "                print('failed')"
   ]
  },
  {
   "cell_type": "code",
   "execution_count": 152,
   "metadata": {},
   "outputs": [
    {
     "name": "stdout",
     "output_type": "stream",
     "text": [
      "failed\n",
      "failed\n",
      "failed\n",
      "failed\n",
      "failed\n",
      "failed\n",
      "failed\n",
      "failed\n"
     ]
    }
   ],
   "source": [
    "csv_to_db(csv_list)"
   ]
  },
  {
   "cell_type": "code",
   "execution_count": 141,
   "metadata": {},
   "outputs": [],
   "source": [
    "csv_list = ['veganNY.csv', \n",
    "            'meatLA.csv',\n",
    "            'meatDallas.csv',\n",
    "            'veganMinneapolis.csv',\n",
    "            'stakehouseNY.csv',\n",
    "            'veganLA.csv',\n",
    "            'meatMinneapolis.csv',\n",
    "            'veganDallas.csv']"
   ]
  },
  {
   "cell_type": "code",
   "execution_count": 150,
   "metadata": {},
   "outputs": [
    {
     "data": {
      "text/plain": [
       "<sqlite3.Cursor at 0x10f551ab0>"
      ]
     },
     "execution_count": 150,
     "metadata": {},
     "output_type": "execute_result"
    }
   ],
   "source": [
    "c.execute('''CREATE TABLE rest_info\n",
    "(name TEXT NOT NULL, \n",
    "city TEXT NOT NULL,\n",
    "price INTEGER NOT NULL, \n",
    "rating INTEGER NOT NULL, \n",
    "review_count INTEGER NOT NULL);''')"
   ]
  },
  {
   "cell_type": "code",
   "execution_count": 154,
   "metadata": {},
   "outputs": [
    {
     "data": {
      "text/plain": [
       "[('New York',),\n",
       " ('Brooklyn',),\n",
       " ('Bedford-Stuyvesant',),\n",
       " ('Long Island City',),\n",
       " ('Astoria',),\n",
       " ('Ridgewood',),\n",
       " ('Bay Ridge',),\n",
       " ('Rego Park',),\n",
       " ('Bronx',),\n",
       " ('Flushing',),\n",
       " ('Jersey City',),\n",
       " ('Forest Hills',),\n",
       " ('East Flatbush',),\n",
       " ('Queens Night Market',),\n",
       " ('Manhattan',),\n",
       " ('Williamsburg',),\n",
       " ('Sunset Park',),\n",
       " ('Woodside',),\n",
       " ('Greenpoint',),\n",
       " ('Park Slope',),\n",
       " ('Sunnyside',),\n",
       " ('Hoboken',),\n",
       " ('Bayonne',),\n",
       " ('Newark',),\n",
       " ('Queens',),\n",
       " ('Jackson Heights',),\n",
       " ('Cliffside Park',),\n",
       " ('Kew Gardens',),\n",
       " ('Clifton',),\n",
       " ('Staten Island',),\n",
       " ('Dumbo',),\n",
       " ('Elmhurst',),\n",
       " ('Red Hook',),\n",
       " ('Brooklyn Heights',),\n",
       " ('Guttenberg',),\n",
       " ('Secaucus',),\n",
       " ('Clinton Hill',),\n",
       " ('Fullerton',),\n",
       " ('Maspeth',),\n",
       " ('Santa Monica',),\n",
       " ('Los Angeles',),\n",
       " ('Burbank',),\n",
       " ('Glendale',),\n",
       " ('Gardena',),\n",
       " ('Beverly Hills',),\n",
       " ('South Gate',),\n",
       " ('La Crescenta-Montrose',),\n",
       " ('Culver City',),\n",
       " ('Toluca Lake',),\n",
       " ('La Crescenta',),\n",
       " ('Pasadena',),\n",
       " ('Huntington Park',),\n",
       " ('North Hollywood',),\n",
       " ('Studio City',),\n",
       " ('Sun Valley',),\n",
       " ('Vernon',),\n",
       " ('Inglewood',),\n",
       " ('Manhattan Beach',),\n",
       " ('Van Nuys',),\n",
       " ('Universal City',),\n",
       " ('Sherman Oaks',),\n",
       " ('Montrose',),\n",
       " ('South Pasadena',),\n",
       " ('Venice',),\n",
       " ('Lynwood',),\n",
       " ('Hawthorne',),\n",
       " ('West Los Angeles',),\n",
       " ('Hollywood',),\n",
       " ('Redondo Beach',),\n",
       " ('Panorama City',),\n",
       " ('Marina del Rey',),\n",
       " ('Bell Gardens',),\n",
       " ('Valley Village',),\n",
       " ('Compton',),\n",
       " ('West Hollywood',),\n",
       " ('Woodland Hills',),\n",
       " ('Commerce',),\n",
       " ('Altadena',),\n",
       " ('San Fernando Valley',),\n",
       " ('El Segundo',),\n",
       " ('Eagle Rock',),\n",
       " ('Alhambra',),\n",
       " ('Cudahy',),\n",
       " ('Monterey Park',),\n",
       " ('Dallas',),\n",
       " ('Richardson',),\n",
       " ('Carrollton',),\n",
       " ('Garland',),\n",
       " ('Farmers Branch',),\n",
       " ('Plano',),\n",
       " ('Duncanville',),\n",
       " ('Irving',),\n",
       " ('Addison',),\n",
       " ('Mesquite',),\n",
       " ('Dallas Tx',),\n",
       " ('Lewisville',),\n",
       " ('Frisco',),\n",
       " ('McKinney',),\n",
       " ('Coppell',),\n",
       " ('Minneapolis',),\n",
       " ('Saint Paul',),\n",
       " ('St Paul',),\n",
       " ('Bloomington',),\n",
       " ('Golden Valley',),\n",
       " ('Saint Louis Park',),\n",
       " ('Brooklyn Park',),\n",
       " ('Edina',),\n",
       " ('St. Louis Park',),\n",
       " ('Eden Prairie',),\n",
       " ('St. Paul',),\n",
       " ('Columbia Heights',),\n",
       " ('St Louis Park',),\n",
       " ('Richfield',),\n",
       " ('Roseville',),\n",
       " ('Plymouth',),\n",
       " ('Maple Grove',),\n",
       " ('Minnetonka',),\n",
       " ('Robbinsdale',),\n",
       " ('Spring Lake Park',),\n",
       " ('Hopkins',),\n",
       " ('Mounds View',),\n",
       " ('Osseo',),\n",
       " ('Eagan',),\n",
       " ('Twin Cities',),\n",
       " ('Fridley',),\n",
       " ('Brooklyn Center',),\n",
       " ('Crystal',),\n",
       " ('New Brighton',),\n",
       " ('Mendota Heights',),\n",
       " ('North Oaks',),\n",
       " ('Shoreview',),\n",
       " ('Burnsville',),\n",
       " ('Blaine',),\n",
       " ('Saint paul',),\n",
       " ('Crown Heights',),\n",
       " ('Bushwick',),\n",
       " ('Fort Lee',),\n",
       " ('Corona',),\n",
       " ('Rockaway Park',),\n",
       " ('North Bergen',),\n",
       " ('Harlem',),\n",
       " ('Tompkinsville',),\n",
       " ('Palisades Park',),\n",
       " ('College Point',),\n",
       " ('West New York',),\n",
       " ('Middle Village',),\n",
       " ('Hackensack',),\n",
       " ('Garfield',),\n",
       " ('East New York',),\n",
       " ('Fairview',),\n",
       " ('Union City',),\n",
       " ('Coney Island',),\n",
       " ('Kearny',),\n",
       " ('Bath Beach',),\n",
       " ('Carlstadt',),\n",
       " ('Passaic',),\n",
       " ('Howard Beach',),\n",
       " ('Ozone Park',),\n",
       " ('North Arlington',),\n",
       " ('Briarwood',),\n",
       " ('West Bronx',),\n",
       " ('Borough Park',),\n",
       " ('Nutley',),\n",
       " ('jersey city',),\n",
       " ('Boyle Heights',),\n",
       " ('Lawndale',),\n",
       " ('Playa Vista',),\n",
       " ('Westwood',),\n",
       " ('Bell',),\n",
       " ('Highland Park',),\n",
       " ('Downey',),\n",
       " ('Encino',),\n",
       " ('Paramount',),\n",
       " ('Arden Hills',),\n",
       " ('Mendota',),\n",
       " ('New Hope',),\n",
       " ('St. Anthony',),\n",
       " ('Lexington',),\n",
       " ('Falcon Heights',),\n",
       " ('Coon Rapids',),\n",
       " ('St. Anthony Village',),\n",
       " ('Carollton',),\n",
       " ('Allen',)]"
      ]
     },
     "execution_count": 154,
     "metadata": {},
     "output_type": "execute_result"
    }
   ],
   "source": [
    "c.execute(\"\"\"select distinct city from rest_info\"\"\").fetchall()"
   ]
  },
  {
   "cell_type": "code",
   "execution_count": null,
   "metadata": {},
   "outputs": [],
   "source": []
  }
 ],
 "metadata": {
  "kernelspec": {
   "display_name": "Python 3",
   "language": "python",
   "name": "python3"
  },
  "language_info": {
   "codemirror_mode": {
    "name": "ipython",
    "version": 3
   },
   "file_extension": ".py",
   "mimetype": "text/x-python",
   "name": "python",
   "nbconvert_exporter": "python",
   "pygments_lexer": "ipython3",
   "version": "3.7.3"
  }
 },
 "nbformat": 4,
 "nbformat_minor": 2
}
