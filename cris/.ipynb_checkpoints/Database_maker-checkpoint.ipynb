{
 "cells": [
  {
   "cell_type": "code",
   "execution_count": 1,
   "metadata": {},
   "outputs": [],
   "source": [
    "import pandas as pd\n",
    "import json\n",
    "import sqlite3\n",
    "import ast\n",
    "import csv\n",
    "import numpy as np\n",
    "import matplotlib.pyplot as plt\n",
    "%matplotlib inline\n",
    "from scipy import stats\n",
    "import seaborn as sns\n",
    "from statsmodels.stats.anova import anova_lm\n",
    "from statsmodels.formula.api import ols\n",
    "from statsmodels.stats.multicomp import MultiComparison"
   ]
  },
  {
   "cell_type": "code",
   "execution_count": 2,
   "metadata": {},
   "outputs": [],
   "source": [
    "conn = sqlite3.connect('Food_Mod3_proj.db')\n",
    "c = conn.cursor() "
   ]
  },
  {
   "cell_type": "code",
   "execution_count": 3,
   "metadata": {},
   "outputs": [
    {
     "data": {
      "text/plain": [
       "<sqlite3.Cursor at 0x1a23bf9730>"
      ]
     },
     "execution_count": 3,
     "metadata": {},
     "output_type": "execute_result"
    }
   ],
   "source": [
    "c.execute(\"\"\"DROP TABLE rest_info\"\"\")"
   ]
  },
  {
   "cell_type": "code",
   "execution_count": 4,
   "metadata": {},
   "outputs": [],
   "source": [
    "csv_list = [('veganNY.csv', 'NYC', 'vegan', 18.4),\n",
    "            ('meatLA.csv', 'LA', 'meat', 18.8),\n",
    "            ('meatDallas.csv', 'Dallas', 'meat', 7.5),\n",
    "            ('veganMinneapolis.csv', 'Minn', 'vegan', 3.4),\n",
    "            ('stakehouseNY.csv', 'NYC', 'meat', 18.4),\n",
    "            ('veganLA.csv', 'LA', 'vegan', 18.8),\n",
    "            ('meatMinneapolis.csv', 'Minn', 'meat', 3.4),\n",
    "            ('veganDallas.csv', 'Dallas', 'vegan', 7.5)]"
   ]
  },
  {
   "cell_type": "code",
   "execution_count": 5,
   "metadata": {},
   "outputs": [
    {
     "data": {
      "text/plain": [
       "<sqlite3.Cursor at 0x1a23bf9730>"
      ]
     },
     "execution_count": 5,
     "metadata": {},
     "output_type": "execute_result"
    }
   ],
   "source": [
    "c.execute('''CREATE TABLE rest_info\n",
    "(name TEXT NOT NULL, \n",
    "city TEXT NOT NULL,\n",
    "price INTEGER NOT NULL, \n",
    "rating INTEGER NOT NULL, \n",
    "review_count INTEGER NOT NULL,\n",
    "rest_type TEXT NOT NULL,\n",
    "pop_in_mil INTEGER NOT NULL);''')"
   ]
  },
  {
   "cell_type": "code",
   "execution_count": 6,
   "metadata": {},
   "outputs": [],
   "source": [
    "def csv_to_db(a_list):\n",
    "    for i in a_list:\n",
    "        with open('/Users/jonathanpeck/Desktop/Vegan_vs_meat/cris/csv/{}'.format(i[0]), newline='') as csvfile:\n",
    "            _data = csv.reader(csvfile)\n",
    "            for row in _data:\n",
    "                rest_info = []\n",
    "                try: \n",
    "                    name = row[10] #name\n",
    "                    city = i[1] #city i[1]\n",
    "                    price = row[12] #price\n",
    "                    rating = row[13] #rating\n",
    "                    review_count = row[14] #review_count\n",
    "                    rest_type = i[2]\n",
    "                    pop_in_mil = i[3]\n",
    "                    rest_info.append([name, city, price, rating, review_count, rest_type, pop_in_mil])\n",
    "                    c.execute(\"\"\"INSERT INTO rest_info (name, city, price, rating, review_count, rest_type, pop_in_mil)\n",
    "                    VALUES (?, ?, ?, ?, ?, ?, ?);\"\"\", rest_info[0])\n",
    "                except: \n",
    "                    print('failed')"
   ]
  },
  {
   "cell_type": "code",
   "execution_count": 7,
   "metadata": {},
   "outputs": [],
   "source": [
    "csv_to_db(csv_list)"
   ]
  },
  {
   "cell_type": "code",
   "execution_count": 8,
   "metadata": {},
   "outputs": [
    {
     "data": {
      "text/plain": [
       "[('name', 'NYC', 'price', 'rating', 'review_count', 'vegan', 18.4),\n",
       " ('Jajaja', 'NYC', '$$', 4.5, 719, 'vegan', 18.4),\n",
       " ('Seasoned Vegan', 'NYC', '$$', 4, 1054, 'vegan', 18.4),\n",
       " ('by CHLOE. West Village', 'NYC', '$$', 4, 1598, 'vegan', 18.4),\n",
       " ('XYST', 'NYC', '$$', 4, 241, 'vegan', 18.4),\n",
       " ('Urban Vegan Kitchen', 'NYC', '$$', 4, 354, 'vegan', 18.4),\n",
       " ('Double Zero', 'NYC', '$$', 4.5, 424, 'vegan', 18.4),\n",
       " ('Bar Verde', 'NYC', '$$', 4.5, 184, 'vegan', 18.4),\n",
       " ('Honeybee’s', 'NYC', '', 4, 18, 'vegan', 18.4),\n",
       " ('Champs Diner', 'NYC', '$$', 4, 1394, 'vegan', 18.4),\n",
       " ('Spicy Moon', 'NYC', '$$', 4.5, 146, 'vegan', 18.4),\n",
       " (\"Divya's Kitchen\", 'NYC', '$$', 4.5, 308, 'vegan', 18.4),\n",
       " ('MTHR Vegan', 'NYC', '$$', 4.5, 80, 'vegan', 18.4),\n",
       " ('Avant Garden - Brooklyn', 'NYC', '', 4.5, 32, 'vegan', 18.4),\n",
       " ('Ladybird', 'NYC', '$$', 4, 232, 'vegan', 18.4),\n",
       " ('Blossom', 'NYC', '$$$', 4, 1008, 'vegan', 18.4),\n",
       " ('Le Botaniste', 'NYC', '$$', 4.5, 109, 'vegan', 18.4),\n",
       " ('Original Buddha Bodai Kosher Vegetarian Restaurant',\n",
       "  'NYC',\n",
       "  '$$',\n",
       "  4,\n",
       "  935,\n",
       "  'vegan',\n",
       "  18.4),\n",
       " ('Spring Cafe', 'NYC', '$', 4.5, 36, 'vegan', 18.4),\n",
       " ('Avant Garden', 'NYC', '$$$', 4.5, 293, 'vegan', 18.4),\n",
       " ('Red Bamboo', 'NYC', '$$', 4, 1664, 'vegan', 18.4),\n",
       " ('by CHLOE. Flatiron', 'NYC', '$$', 4, 714, 'vegan', 18.4),\n",
       " ('Le Botaniste', 'NYC', '', 4.5, 17, 'vegan', 18.4),\n",
       " ('Candle 79', 'NYC', '$$', 4, 1294, 'vegan', 18.4),\n",
       " ('Plant Food + Wine', 'NYC', '', 4, 66, 'vegan', 18.4),\n",
       " ('The Candle Cafe', 'NYC', '$$', 4, 882, 'vegan', 18.4),\n",
       " ('Peacefood Cafe', 'NYC', '$$', 4, 1216, 'vegan', 18.4),\n",
       " ('Franchia Vegan Cafe', 'NYC', '$$', 4, 865, 'vegan', 18.4),\n",
       " ('Artistic Pizza', 'NYC', '', 4.5, 9, 'vegan', 18.4),\n",
       " ('The Cinnamon Snail', 'NYC', '$$', 4, 467, 'vegan', 18.4),\n",
       " ('Vegan Love', 'NYC', '', 4.5, 22, 'vegan', 18.4),\n",
       " ('Toad Style', 'NYC', '$$', 4, 335, 'vegan', 18.4),\n",
       " ('Peacefood Cafe Downtown', 'NYC', '$$', 4, 704, 'vegan', 18.4),\n",
       " ('Greedi Vegan', 'NYC', '$$', 4.5, 116, 'vegan', 18.4),\n",
       " ('Sacred Chow', 'NYC', '$$', 4, 534, 'vegan', 18.4),\n",
       " ('Blossom on Columbus', 'NYC', '$$', 4, 343, 'vegan', 18.4),\n",
       " ('Happy Zoe Vegan Bakery', 'NYC', '$', 4.5, 62, 'vegan', 18.4),\n",
       " ('Delice & Sarrasin', 'NYC', '$$', 4, 358, 'vegan', 18.4),\n",
       " ('Bunna Cafe', 'NYC', '$$', 4.5, 545, 'vegan', 18.4),\n",
       " ('Dirt Candy', 'NYC', '$$$', 4, 599, 'vegan', 18.4),\n",
       " (\"Paulie Gee's\", 'NYC', '$$', 4.5, 1187, 'vegan', 18.4),\n",
       " ('No5nyc', 'NYC', '$$', 4, 118, 'vegan', 18.4),\n",
       " ('Black Flamingo', 'NYC', '$$', 4, 189, 'vegan', 18.4),\n",
       " ('P.S. Kitchen', 'NYC', '$$', 4, 331, 'vegan', 18.4),\n",
       " ('Blossom Du Jour', 'NYC', '$$', 4, 387, 'vegan', 18.4),\n",
       " ('Superiority Burger', 'NYC', '$', 4, 561, 'vegan', 18.4),\n",
       " ('Mother of Pearl', 'NYC', '$$', 4, 387, 'vegan', 18.4),\n",
       " ('Next Level Burger', 'NYC', '$$', 4, 149, 'vegan', 18.4),\n",
       " (\"Rip's Malt Shop\", 'NYC', '$$', 4.5, 72, 'vegan', 18.4),\n",
       " ('Nix', 'NYC', '$$', 4, 489, 'vegan', 18.4),\n",
       " ('VSPOT', 'NYC', '$$', 3.5, 652, 'vegan', 18.4),\n",
       " ('Noodlelove', 'NYC', '$$', 4, 65, 'vegan', 18.4),\n",
       " ('Supernatural', 'NYC', '', 5, 20, 'vegan', 18.4),\n",
       " ('Modern Love Brooklyn', 'NYC', '$$', 4.5, 418, 'vegan', 18.4),\n",
       " ('Bodhi Kosher Vegetarian Restaurant', 'NYC', '$$', 4, 319, 'vegan', 18.4),\n",
       " ('Bali Kitchen', 'NYC', '$$', 4.5, 111, 'vegan', 18.4),\n",
       " ('Sans', 'NYC', '', 3.5, 45, 'vegan', 18.4),\n",
       " (\"LuAnne's Wild Ginger All-Asian Vegan\", 'NYC', '$$', 4, 341, 'vegan', 18.4),\n",
       " ('by CHLOE. Seaport District', 'NYC', '$$', 3.5, 59, 'vegan', 18.4),\n",
       " ('Cocoron', 'NYC', '$$', 4, 965, 'vegan', 18.4),\n",
       " ('Kajitsu', 'NYC', '$$$$', 4, 216, 'vegan', 18.4),\n",
       " ('Dun-Well Doughnuts', 'NYC', '$', 4, 218, 'vegan', 18.4),\n",
       " ('BAD Gyal Vegan', 'NYC', '', 4.5, 14, 'vegan', 18.4),\n",
       " ('ABCV', 'NYC', '$$$', 4, 415, 'vegan', 18.4),\n",
       " ('Jujube Tree', 'NYC', '$$', 4.5, 357, 'vegan', 18.4),\n",
       " ('VLife', 'NYC', '$$', 4, 333, 'vegan', 18.4),\n",
       " ('Happy Vegan', 'NYC', '', 4, 4, 'vegan', 18.4),\n",
       " ('Hartbreakers', 'NYC', '', 4, 60, 'vegan', 18.4),\n",
       " ('Little Choc Apothecary', 'NYC', '$$', 4.5, 326, 'vegan', 18.4),\n",
       " ('Pocion', 'NYC', '$$', 4.5, 145, 'vegan', 18.4),\n",
       " ('Two Tablespoons', 'NYC', '$$', 4, 37, 'vegan', 18.4),\n",
       " ('Co Co Lin Vegetarian House', 'NYC', '$$', 4, 231, 'vegan', 18.4),\n",
       " (\"Screamer's Pizzeria\", 'NYC', '$', 4, 314, 'vegan', 18.4),\n",
       " ('Norman Cafe', 'NYC', '', 4.5, 6, 'vegan', 18.4),\n",
       " ('Ital Kitchen', 'NYC', '$$', 4.5, 121, 'vegan', 18.4),\n",
       " ('The Cinnamon Snail', 'NYC', '$', 4.5, 991, 'vegan', 18.4),\n",
       " ('by CHLOE. SOHO', 'NYC', '$$', 4, 307, 'vegan', 18.4),\n",
       " ('Beyond Sushi', 'NYC', '$$', 4.5, 390, 'vegan', 18.4),\n",
       " ('Quantum Leap', 'NYC', '$$', 4, 651, 'vegan', 18.4),\n",
       " ('Beyond Sushi', 'NYC', '$$', 4.5, 907, 'vegan', 18.4),\n",
       " ('Jungle Cafe', 'NYC', '$$', 4, 220, 'vegan', 18.4),\n",
       " ('Amituofo Vegan Cuisine', 'NYC', '$$', 4.5, 87, 'vegan', 18.4),\n",
       " (\"Luanne's Wild Ginger\", 'NYC', '$$', 4.5, 58, 'vegan', 18.4),\n",
       " ('Orchard Grocer', 'NYC', '$$', 4.5, 169, 'vegan', 18.4),\n",
       " ('by CHLOE. Williamsburg', 'NYC', '$$', 3.5, 209, 'vegan', 18.4),\n",
       " ('Shangri-La', 'NYC', '$$', 4, 162, 'vegan', 18.4),\n",
       " ('Pure Ktchn', 'NYC', '$$', 4.5, 242, 'vegan', 18.4),\n",
       " ('Awash Brooklyn', 'NYC', '$$', 4, 163, 'vegan', 18.4),\n",
       " ('westbourne', 'NYC', '$$', 4, 103, 'vegan', 18.4),\n",
       " ('Hangawi', 'NYC', '$$$', 4, 1096, 'vegan', 18.4),\n",
       " ('The Thirsty Koala', 'NYC', '$$', 4.5, 1036, 'vegan', 18.4),\n",
       " ('Vegan Shop Up', 'NYC', '$$', 4.5, 25, 'vegan', 18.4),\n",
       " ('May Kaidee East Broadway', 'NYC', '', 4.5, 33, 'vegan', 18.4),\n",
       " ('Loving Hut', 'NYC', '$$', 4, 320, 'vegan', 18.4),\n",
       " ('V 4 Vegan', 'NYC', '', 4, 8, 'vegan', 18.4),\n",
       " ('Westville Dumbo', 'NYC', '$$', 4, 233, 'vegan', 18.4),\n",
       " ('Green Zenphony', 'NYC', '$$', 4.5, 182, 'vegan', 18.4),\n",
       " ('American Vegan', 'NYC', '', 4.5, 43, 'vegan', 18.4),\n",
       " ('Bar Velo Brooklyn', 'NYC', '$$', 4.5, 61, 'vegan', 18.4),\n",
       " ('Goemon', 'NYC', '$$', 4, 126, 'vegan', 18.4),\n",
       " ('Kimbap Lab', 'NYC', '$$', 5, 29, 'vegan', 18.4),\n",
       " ('Next Stop Vegan', 'NYC', '', 5, 11, 'vegan', 18.4),\n",
       " ('Jones Wood Foundry', 'NYC', '$$', 4, 597, 'vegan', 18.4),\n",
       " ('Bodai Vegetarian', 'NYC', '$$', 4, 274, 'vegan', 18.4),\n",
       " ('Go Zen', 'NYC', '$$', 4, 553, 'vegan', 18.4),\n",
       " ('The Luv Nugget', 'NYC', '', 4, 1, 'vegan', 18.4),\n",
       " ('Ginger Root Vegan', 'NYC', '$$', 4.5, 104, 'vegan', 18.4),\n",
       " ('Pet Shop', 'NYC', '$$', 4, 206, 'vegan', 18.4),\n",
       " (\"Marty's V Burger\", 'NYC', '$', 4.5, 245, 'vegan', 18.4),\n",
       " ('Wild Ginger', 'NYC', '$$', 3.5, 140, 'vegan', 18.4),\n",
       " (\"Govinda's Vegetarian\", 'NYC', '$', 4.5, 164, 'vegan', 18.4),\n",
       " ('Tofubox', 'NYC', '', 5, 50, 'vegan', 18.4),\n",
       " (\"Vinnie's Pizzeria\", 'NYC', '$', 4, 630, 'vegan', 18.4),\n",
       " ('Sol Sips', 'NYC', '$', 4.5, 101, 'vegan', 18.4),\n",
       " ('Brain Food The Smart Kitchen', 'NYC', '', 4, 35, 'vegan', 18.4),\n",
       " ('Yeah Dawg Vegan', 'NYC', '$', 4.5, 11, 'vegan', 18.4),\n",
       " (\"Monk's Meats\", 'NYC', '$$', 3.5, 15, 'vegan', 18.4),\n",
       " ('Pine Box Rock Shop', 'NYC', '$$', 4, 217, 'vegan', 18.4),\n",
       " ('Red Pipe Cafe', 'NYC', '$$', 4, 420, 'vegan', 18.4),\n",
       " ('Riverdel', 'NYC', '$$', 4.5, 118, 'vegan', 18.4),\n",
       " ('Terri', 'NYC', '$$', 4, 842, 'vegan', 18.4),\n",
       " ('My Pie', 'NYC', '$', 4.5, 125, 'vegan', 18.4),\n",
       " (\"The Butcher's Daughter\", 'NYC', '$$', 3.5, 1145, 'vegan', 18.4),\n",
       " ('Beyond Sushi', 'NYC', '$$', 4.5, 27, 'vegan', 18.4),\n",
       " ('Meet Noodles', 'NYC', '$$', 4.5, 77, 'vegan', 18.4),\n",
       " ('Taim West Village', 'NYC', '$', 4.5, 1484, 'vegan', 18.4),\n",
       " ('Confectionery', 'NYC', '$$', 5, 113, 'vegan', 18.4),\n",
       " ('Vegans Delight', 'NYC', '$', 4.5, 44, 'vegan', 18.4),\n",
       " ('Michaeli Bakery', 'NYC', '', 5, 20, 'vegan', 18.4),\n",
       " ('Beyond Sushi', 'NYC', '$$', 4.5, 618, 'vegan', 18.4),\n",
       " ('Hotel Tortuga', 'NYC', '$$', 3.5, 487, 'vegan', 18.4),\n",
       " (\"Luanne's Wild Ginger Franklin\", 'NYC', '$$', 4, 64, 'vegan', 18.4),\n",
       " ('Beyond Sushi', 'NYC', '$$', 4.5, 26, 'vegan', 18.4),\n",
       " ('Nish Nush', 'NYC', '$$', 4.5, 679, 'vegan', 18.4),\n",
       " ('My Pie Pizzeria Romana', 'NYC', '$', 4.5, 688, 'vegan', 18.4),\n",
       " ('BoCaphe', 'NYC', '$$', 4, 1183, 'vegan', 18.4),\n",
       " ('Grilled Cheese Incident', 'NYC', '', 5, 5, 'vegan', 18.4),\n",
       " ('Tara Rose', 'NYC', '', 5, 6, 'vegan', 18.4),\n",
       " ('The Good Fork', 'NYC', '$$', 4, 400, 'vegan', 18.4),\n",
       " ('Oda House', 'NYC', '', 4.5, 16, 'vegan', 18.4),\n",
       " ('Ginger House', 'NYC', '$$', 4, 119, 'vegan', 18.4),\n",
       " ('Taco Dumbo', 'NYC', '$$', 4, 151, 'vegan', 18.4),\n",
       " ('Le Botaniste', 'NYC', '$$', 4.5, 370, 'vegan', 18.4),\n",
       " ('Ital Fusion', 'NYC', '$$', 4.5, 62, 'vegan', 18.4),\n",
       " ('Fermento', 'NYC', '$$', 4.5, 33, 'vegan', 18.4),\n",
       " ('Pickle Shack', 'NYC', '', 4.5, 6, 'vegan', 18.4),\n",
       " ('Vegetarian Dim Sum House', 'NYC', '$', 3.5, 541, 'vegan', 18.4),\n",
       " ('Moon Man', 'NYC', '', 5, 2, 'vegan', 18.4),\n",
       " ('Quantum Leap', 'NYC', '', 4.5, 24, 'vegan', 18.4),\n",
       " ('Souen', 'NYC', '$$', 3.5, 314, 'vegan', 18.4),\n",
       " ('Body & Soul Bakeshop', 'NYC', '$', 4.5, 63, 'vegan', 18.4),\n",
       " ('TONCHIN NEW YORK', 'NYC', '$$', 4.5, 824, 'vegan', 18.4),\n",
       " ('Kor Tor Mor', 'NYC', '$$', 4, 213, 'vegan', 18.4),\n",
       " ('Abracadabra Brooklyn', 'NYC', '$$', 4.5, 143, 'vegan', 18.4),\n",
       " ('Clementine Bakery', 'NYC', '$', 4, 422, 'vegan', 18.4),\n",
       " ('Benyam Cuisine', 'NYC', '$$', 5, 85, 'vegan', 18.4),\n",
       " ('The Shanti Shack', 'NYC', '$$', 5, 29, 'vegan', 18.4),\n",
       " ('honeygrow', 'NYC', '$$', 4, 158, 'vegan', 18.4),\n",
       " ('More Life Cafe Vegan', 'NYC', '$$', 4.5, 41, 'vegan', 18.4),\n",
       " ('Secret Garden', 'NYC', '', 4.5, 16, 'vegan', 18.4),\n",
       " ('The Chick Shop', 'NYC', '', 4.5, 47, 'vegan', 18.4),\n",
       " ('Bive', 'NYC', '', 4.5, 26, 'vegan', 18.4),\n",
       " (\"LuAnne's Wild Ginger All-Asian Vegan\", 'NYC', '$$', 4, 627, 'vegan', 18.4),\n",
       " ('The Little Beet', 'NYC', '$$', 4, 126, 'vegan', 18.4),\n",
       " ('Brooklyn Whiskers - Greenpoint', 'NYC', '$', 4.5, 22, 'vegan', 18.4),\n",
       " ('Chickpea & Olive', 'NYC', '$$', 4.5, 150, 'vegan', 18.4),\n",
       " ('Lucky Vegetarian', 'NYC', '$$', 4.5, 50, 'vegan', 18.4),\n",
       " ('Pizzette', 'NYC', '', 5, 1, 'vegan', 18.4),\n",
       " ('VSPOT Organic', 'NYC', '$$', 3.5, 376, 'vegan', 18.4),\n",
       " ('Burrito Republic', 'NYC', '$', 4.5, 78, 'vegan', 18.4),\n",
       " ('Zatar', 'NYC', '', 4.5, 22, 'vegan', 18.4),\n",
       " ('Caravan of Dreams', 'NYC', '$$', 3.5, 513, 'vegan', 18.4),\n",
       " ('Ikraveit Foods', 'NYC', '$', 3, 118, 'vegan', 18.4),\n",
       " ('Thai Villa', 'NYC', '$$', 4.5, 2691, 'vegan', 18.4),\n",
       " ('Zyara NY', 'NYC', '$', 4.5, 129, 'vegan', 18.4),\n",
       " ('Ayurveda Cafe', 'NYC', '$$', 4, 298, 'vegan', 18.4),\n",
       " ('Bareburger', 'NYC', '$$', 4, 847, 'vegan', 18.4),\n",
       " ('Mulberry & Vine', 'NYC', '$$', 4, 294, 'vegan', 18.4),\n",
       " ('Village Natural', 'NYC', '$$', 3.5, 137, 'vegan', 18.4),\n",
       " ('Jivamuktea Café', 'NYC', '$$', 3.5, 122, 'vegan', 18.4),\n",
       " ('Hummus Kitchen', 'NYC', '$$', 4, 723, 'vegan', 18.4),\n",
       " (\"The Butcher's Daughter\", 'NYC', '$$', 3.5, 218, 'vegan', 18.4),\n",
       " (\"Lyn-Genet's Kitchen\", 'NYC', '', 4, 5, 'vegan', 18.4),\n",
       " ('Brooklyn Whiskers Bakery', 'NYC', '$', 4, 137, 'vegan', 18.4),\n",
       " ('Chez Alex', 'NYC', '$', 4, 125, 'vegan', 18.4),\n",
       " ('I Am Thai Restaurant', 'NYC', '$$', 4, 267, 'vegan', 18.4),\n",
       " ('Taco Dumbo', 'NYC', '$$', 4, 221, 'vegan', 18.4),\n",
       " ('Bodai Vegetarian Restaurant', 'NYC', '', 4.5, 15, 'vegan', 18.4),\n",
       " ('Green Symphony', 'NYC', '$', 4, 82, 'vegan', 18.4),\n",
       " ('by CHLOE. Rockefeller Center', 'NYC', '$$', 4, 355, 'vegan', 18.4),\n",
       " ('Lifethyme', 'NYC', '$$$', 4, 224, 'vegan', 18.4),\n",
       " ('Green Symphony', 'NYC', '$', 4, 455, 'vegan', 18.4),\n",
       " ('The Little Beet Table', 'NYC', '$$', 4, 501, 'vegan', 18.4),\n",
       " ('Cafe Mogador', 'NYC', '$$', 4.5, 1102, 'vegan', 18.4),\n",
       " ('Jahlookova', 'NYC', '$', 4.5, 13, 'vegan', 18.4),\n",
       " ('Gobo', 'NYC', '', 4, 2, 'vegan', 18.4),\n",
       " ('Sabai Thai Restaurant', 'NYC', '$$', 4.5, 200, 'vegan', 18.4),\n",
       " ('Planted Cafe', 'NYC', '', 4.5, 23, 'vegan', 18.4),\n",
       " ('Acai Berry', 'NYC', '$$', 4, 82, 'vegan', 18.4),\n",
       " ('La Shuk', 'NYC', '$$', 4.5, 347, 'vegan', 18.4),\n",
       " ('Ahimsa', 'NYC', '$$', 4, 247, 'vegan', 18.4),\n",
       " ('Chun Vegetarian', 'NYC', '', 4.5, 22, 'vegan', 18.4),\n",
       " ('The Butchers Daughter', 'NYC', '$$', 3.5, 75, 'vegan', 18.4),\n",
       " ('Gertie', 'NYC', '', 4, 43, 'vegan', 18.4),\n",
       " (\"Mo's Original\", 'NYC', '', 4.5, 31, 'vegan', 18.4),\n",
       " ('Areppas', 'NYC', '$', 3.5, 148, 'vegan', 18.4),\n",
       " ('Chama Mama', 'NYC', '$$', 4.5, 110, 'vegan', 18.4),\n",
       " ('Up Thai', 'NYC', '$$', 4.5, 2062, 'vegan', 18.4),\n",
       " ('Buntopia', 'NYC', '$$', 4.5, 232, 'vegan', 18.4),\n",
       " (\"Ribalta Mo'\", 'NYC', '', 3.5, 19, 'vegan', 18.4),\n",
       " ('UThai', 'NYC', '$', 4, 144, 'vegan', 18.4),\n",
       " ('Time Out Market New York', 'NYC', '$$', 3.5, 77, 'vegan', 18.4),\n",
       " ('Atlas Cafe & Bakery', 'NYC', '$', 3.5, 458, 'vegan', 18.4),\n",
       " ('The Little Beet', 'NYC', '$$', 3.5, 145, 'vegan', 18.4),\n",
       " ('Good Health Cafe', 'NYC', '$$', 4, 254, 'vegan', 18.4),\n",
       " ('Austin Public', 'NYC', '$$', 3, 291, 'vegan', 18.4),\n",
       " ('Nish Nush', 'NYC', '$$', 4.5, 254, 'vegan', 18.4),\n",
       " ('Sweets by CHLOE.', 'NYC', '$$', 3.5, 166, 'vegan', 18.4),\n",
       " ('Mint Kitchen', 'NYC', '$$', 4.5, 75, 'vegan', 18.4),\n",
       " ('High Lúa Vietnamese Kitchen', 'NYC', '$$', 4.5, 86, 'vegan', 18.4),\n",
       " ('Lili and Cata', 'NYC', '', 5, 6, 'vegan', 18.4),\n",
       " ('Momo Ramen', 'NYC', '$$', 4, 253, 'vegan', 18.4),\n",
       " ('The Brooklyn Tree', 'NYC', '$$', 4.5, 136, 'vegan', 18.4),\n",
       " ('Sofreh', 'NYC', '$$', 4, 191, 'vegan', 18.4),\n",
       " ('Flowers Cafe', 'NYC', '', 5, 1, 'vegan', 18.4),\n",
       " ('KROK Brooklyn', 'NYC', '$$', 4.5, 43, 'vegan', 18.4),\n",
       " ('Golden Diner', 'NYC', '', 4.5, 43, 'vegan', 18.4),\n",
       " ('Ramen Ishida', 'NYC', '$$', 4.5, 136, 'vegan', 18.4),\n",
       " ('Chakra Cafe', 'NYC', '', 4.5, 37, 'vegan', 18.4),\n",
       " ('Gohan-ya', 'NYC', '$$$', 4, 44, 'vegan', 18.4),\n",
       " ('Green Recipes', 'NYC', '', 5, 45, 'vegan', 18.4),\n",
       " ('Strange Flavor Burger Shack', 'NYC', '$$', 3.5, 81, 'vegan', 18.4),\n",
       " ('Sunflower Cafe', 'NYC', '', 4, 33, 'vegan', 18.4),\n",
       " ('Ahimsa Garden', 'NYC', '$$', 4.5, 83, 'vegan', 18.4),\n",
       " ('Injera', 'NYC', '$$', 4, 549, 'vegan', 18.4),\n",
       " ('The Organic Grill', 'NYC', '$$', 3.5, 421, 'vegan', 18.4),\n",
       " ('Two Tablespoons', 'NYC', '$$', 3.5, 78, 'vegan', 18.4),\n",
       " ('Olea', 'NYC', '$$', 4, 823, 'vegan', 18.4),\n",
       " ('Green Bean Cafe', 'NYC', '$', 3.5, 121, 'vegan', 18.4),\n",
       " ('Hungry Like the Wolf', 'NYC', '', 3.5, 6, 'vegan', 18.4),\n",
       " ('Dough Vale', 'NYC', '', 5, 2, 'vegan', 18.4),\n",
       " ('The Family Store', 'NYC', '$$', 4.5, 161, 'vegan', 18.4),\n",
       " (\"Erin McKenna's Bakery\", 'NYC', '$', 3.5, 1061, 'vegan', 18.4),\n",
       " ('Gotan', 'NYC', '$$', 4, 111, 'vegan', 18.4),\n",
       " ('Vish Hummus & Happiness', 'NYC', '', 4.5, 11, 'vegan', 18.4),\n",
       " ('Screamer’s Pizzeria', 'NYC', '', 3.5, 58, 'vegan', 18.4),\n",
       " ('nonono', 'NYC', '$$', 4.5, 402, 'vegan', 18.4),\n",
       " ('Dig Inn', 'NYC', '', 3.5, 47, 'vegan', 18.4),\n",
       " ('Bloom Cafe', 'NYC', '', 4.5, 14, 'vegan', 18.4),\n",
       " ('Tofu Tofu', 'NYC', '$$', 4.5, 280, 'vegan', 18.4),\n",
       " ('Westville West', 'NYC', '$$', 4, 914, 'vegan', 18.4),\n",
       " ('Beyond Sushi', 'NYC', '$$', 4.5, 210, 'vegan', 18.4),\n",
       " ('Celestine', 'NYC', '$$$', 4, 181, 'vegan', 18.4),\n",
       " ('Rawsome Treats', 'NYC', '$$', 4.5, 82, 'vegan', 18.4),\n",
       " ('Tacoria', 'NYC', '$$', 4.5, 49, 'vegan', 18.4),\n",
       " ('LoveMama', 'NYC', '$$', 4, 4361, 'vegan', 18.4),\n",
       " ('Hole in the Wall', 'NYC', '$$', 4.5, 456, 'vegan', 18.4),\n",
       " ('Dao Palate', 'NYC', '$$', 3.5, 231, 'vegan', 18.4),\n",
       " ('Tuk Tuk', 'NYC', '$$', 4, 654, 'vegan', 18.4),\n",
       " ('House Of Flavor', 'NYC', '$$', 4.5, 66, 'vegan', 18.4),\n",
       " ('Blueprint Cafe Lounge', 'NYC', '$$', 4.5, 61, 'vegan', 18.4),\n",
       " ('The Little Beet', 'NYC', '$$', 3.5, 352, 'vegan', 18.4),\n",
       " ('Baba Cool', 'NYC', '$$', 4, 158, 'vegan', 18.4),\n",
       " ('THEP Thai Restaurant', 'NYC', '$$', 4.5, 514, 'vegan', 18.4),\n",
       " ('Brooklyn Standard', 'NYC', '$', 3, 240, 'vegan', 18.4),\n",
       " ('Uptown Veg and Juice Bar', 'NYC', '$$', 4, 113, 'vegan', 18.4),\n",
       " ('The Little Beet', 'NYC', '$$', 3.5, 75, 'vegan', 18.4),\n",
       " ('Blossom Du Jour', 'NYC', '$$', 3.5, 59, 'vegan', 18.4),\n",
       " ('While In Kathmandu', 'NYC', '$', 4.5, 108, 'vegan', 18.4),\n",
       " ('Osteria 57', 'NYC', '$$$', 4.5, 89, 'vegan', 18.4),\n",
       " (\"Friedman's\", 'NYC', '$$', 4, 2186, 'vegan', 18.4),\n",
       " ('Awash Ethiopian Restaurant', 'NYC', '$$', 3.5, 309, 'vegan', 18.4),\n",
       " ('The Osprey', 'NYC', '$$', 3.5, 135, 'vegan', 18.4),\n",
       " ('Sweet Chick', 'NYC', '$$', 4, 253, 'vegan', 18.4),\n",
       " ('POST', 'NYC', '$$', 4.5, 222, 'vegan', 18.4),\n",
       " ('Seed', 'NYC', '$$', 4.5, 183, 'vegan', 18.4),\n",
       " ('Bengal Tiger Indian Food', 'NYC', '$$', 4.5, 1625, 'vegan', 18.4),\n",
       " (\"Jack's Stir Brew Coffee\", 'NYC', '$$', 4, 189, 'vegan', 18.4),\n",
       " ('Black Cat LES', 'NYC', '$', 4, 279, 'vegan', 18.4),\n",
       " ('BCD Tofu House', 'NYC', '$$', 4, 1883, 'vegan', 18.4),\n",
       " ('Cobble & Co.', 'NYC', '$$', 3, 61, 'vegan', 18.4),\n",
       " ('Newtown', 'NYC', '$', 4.5, 123, 'vegan', 18.4),\n",
       " ('The MasalaWala', 'NYC', '$$', 4.5, 1385, 'vegan', 18.4),\n",
       " (\"Westville Hell's Kitchen\", 'NYC', '$$', 4.5, 50, 'vegan', 18.4),\n",
       " ('The Dropout', 'NYC', '', 5, 5, 'vegan', 18.4),\n",
       " ('The Kitchen Comic', 'NYC', '', 5, 1, 'vegan', 18.4),\n",
       " ('Land', 'NYC', '$$', 4, 1028, 'vegan', 18.4),\n",
       " ('El Vez Burrito Bar', 'NYC', '$$', 4, 116, 'vegan', 18.4),\n",
       " ('Rabbithole Restaurant', 'NYC', '$$', 4, 766, 'vegan', 18.4),\n",
       " ('Verdure Vegan Jamaican Restaurant', 'NYC', '', 5, 4, 'vegan', 18.4),\n",
       " ('Superfine', 'NYC', '$$', 3.5, 437, 'vegan', 18.4),\n",
       " ('Shinka Ramen & Sake Bar', 'NYC', '$$', 4.5, 238, 'vegan', 18.4),\n",
       " ('Mondayoff by Plant Love House', 'NYC', '$$', 4, 180, 'vegan', 18.4),\n",
       " ('Samudra Vegetarian Restaurant & Chaat House',\n",
       "  'NYC',\n",
       "  '$$',\n",
       "  4,\n",
       "  497,\n",
       "  'vegan',\n",
       "  18.4),\n",
       " ('The Gradient', 'NYC', '', 5, 7, 'vegan', 18.4),\n",
       " ('Oath Pizza - East 67th Street', 'NYC', '$$', 4.5, 88, 'vegan', 18.4),\n",
       " ('Holy Cow', 'NYC', '$', 4, 183, 'vegan', 18.4),\n",
       " ('Look By Plant Love House', 'NYC', '$$', 4, 297, 'vegan', 18.4),\n",
       " ('Four Saison', 'NYC', '', 4.5, 3, 'vegan', 18.4),\n",
       " ('Nefista Vegan Kofteh', 'NYC', '$', 5, 72, 'vegan', 18.4),\n",
       " ('Natural Blend', 'NYC', '$', 4.5, 184, 'vegan', 18.4),\n",
       " ('The Wild Son', 'NYC', '$$', 4.5, 418, 'vegan', 18.4),\n",
       " ('Esme', 'NYC', '$$', 4.5, 308, 'vegan', 18.4),\n",
       " ('Westville - Wall St', 'NYC', '$$', 4, 156, 'vegan', 18.4),\n",
       " ('Thy’s Noodles', 'NYC', '', 4.5, 51, 'vegan', 18.4),\n",
       " ('Alachi Masala', 'NYC', '$$', 4, 198, 'vegan', 18.4),\n",
       " ('Junzi Kitchen', 'NYC', '$$', 4.5, 55, 'vegan', 18.4),\n",
       " ('SkyIce 9th St.', 'NYC', '', 4, 4, 'vegan', 18.4),\n",
       " ('Momo Ramen', 'NYC', '', 4.5, 6, 'vegan', 18.4),\n",
       " ('Bunker', 'NYC', '$$', 4, 689, 'vegan', 18.4),\n",
       " ('The Boogie Down Grind Café', 'NYC', '$$', 4.5, 39, 'vegan', 18.4),\n",
       " ('Atrium Dumbo', 'NYC', '$$', 4, 629, 'vegan', 18.4),\n",
       " ('Sans Bakery', 'NYC', '$$', 4.5, 3, 'vegan', 18.4),\n",
       " ('Dosa Royale', 'NYC', '$$', 3.5, 208, 'vegan', 18.4),\n",
       " ('The Juicy Box', 'NYC', '$$', 4, 43, 'vegan', 18.4),\n",
       " ('Father Knows Best', 'NYC', '$$', 4, 263, 'vegan', 18.4),\n",
       " (\"Eva's Kitchen\", 'NYC', '$$', 4.5, 73, 'vegan', 18.4),\n",
       " ('Cocoron', 'NYC', '$$', 4, 614, 'vegan', 18.4),\n",
       " (\"Po'Mi\", 'NYC', '', 4.5, 64, 'vegan', 18.4),\n",
       " ('Spice & Grill : The Indian Kitchen', 'NYC', '$$', 4.5, 120, 'vegan', 18.4),\n",
       " ('White Maize', 'NYC', '$', 4.5, 146, 'vegan', 18.4),\n",
       " (\"Adelina's\", 'NYC', '$$', 4, 164, 'vegan', 18.4),\n",
       " ('Taco Dumbo', 'NYC', '$$', 4, 60, 'vegan', 18.4),\n",
       " ('Oh Dumplings', 'NYC', '', 4, 46, 'vegan', 18.4),\n",
       " ('Colony 274', 'NYC', '$$', 3.5, 90, 'vegan', 18.4),\n",
       " ('Bombay Sandwich Co.', 'NYC', '$$', 4, 374, 'vegan', 18.4),\n",
       " ('Nefista Vegan Kofteh Clifton', 'NYC', '$', 5, 52, 'vegan', 18.4),\n",
       " ('Mulberry & Vine', 'NYC', '', 4, 25, 'vegan', 18.4),\n",
       " ('Lavatera Grill', 'NYC', '', 4.5, 9, 'vegan', 18.4),\n",
       " (\"Lombardo's of Bay Ridge\", 'NYC', '$$', 5, 99, 'vegan', 18.4),\n",
       " ('Mulberry & Vine', 'NYC', '$$', 4, 126, 'vegan', 18.4),\n",
       " (\"Juliana's Pizza\", 'NYC', '$$', 4.5, 2007, 'vegan', 18.4),\n",
       " ('Alimama', 'NYC', '$$', 4.5, 700, 'vegan', 18.4),\n",
       " (\"Eva's Kitchen\", 'NYC', '$', 4.5, 380, 'vegan', 18.4),\n",
       " ('Nansense', 'NYC', '', 5, 8, 'vegan', 18.4),\n",
       " ('Bodega Pizza', 'NYC', '$$', 4, 131, 'vegan', 18.4),\n",
       " ('A8 Pan Asian Vegan Cuisine', 'NYC', '', 4, 20, 'vegan', 18.4),\n",
       " ('Taqueria El Maguey', 'NYC', '', 4.5, 21, 'vegan', 18.4),\n",
       " ('Banter', 'NYC', '$$', 4.5, 347, 'vegan', 18.4),\n",
       " ('Springbone Kitchen', 'NYC', '$$', 4, 231, 'vegan', 18.4),\n",
       " ('Mekki NYC', 'NYC', '$$$', 4.5, 103, 'vegan', 18.4),\n",
       " ('Hummus Market', 'NYC', '$$', 4.5, 159, 'vegan', 18.4),\n",
       " ('Bajeko Sekuwa', 'NYC', '$$', 4, 79, 'vegan', 18.4),\n",
       " ('Dubu Maru', 'NYC', '', 4, 47, 'vegan', 18.4),\n",
       " ('Good Thanks NYC', 'NYC', '$$', 4.5, 93, 'vegan', 18.4),\n",
       " ('Magic Mix Juicery', 'NYC', '$$', 4, 176, 'vegan', 18.4),\n",
       " ('Aubergine Cafe', 'NYC', '$$', 3.5, 315, 'vegan', 18.4),\n",
       " ('sweetgreen', 'NYC', '$$', 4, 241, 'vegan', 18.4),\n",
       " ('Four Seasons Bakery & Juice Bar', 'NYC', '$$', 4.5, 21, 'vegan', 18.4),\n",
       " ('The Edge Harlem', 'NYC', '$$', 4, 538, 'vegan', 18.4),\n",
       " ('Baoburg', 'NYC', '$$', 4, 190, 'vegan', 18.4),\n",
       " (\"Bijan's\", 'NYC', '$$', 4, 500, 'vegan', 18.4),\n",
       " ('Kusharista - Lentils, Grains & More', 'NYC', '$', 4.5, 106, 'vegan', 18.4),\n",
       " ('Wild', 'NYC', '$$', 3.5, 385, 'vegan', 18.4),\n",
       " ('wagamama - murray hill', 'NYC', '$$', 4, 149, 'vegan', 18.4),\n",
       " ('Arepas Cafe', 'NYC', '$$', 4, 867, 'vegan', 18.4),\n",
       " ('Selamat Pagi', 'NYC', '$$', 4, 254, 'vegan', 18.4),\n",
       " ('Win Son', 'NYC', '$$', 4.5, 381, 'vegan', 18.4),\n",
       " (\"983-Bushwick's Living Room\", 'NYC', '$$', 4, 384, 'vegan', 18.4),\n",
       " ('Zen Vegetarian House', 'NYC', '$$', 4, 263, 'vegan', 18.4),\n",
       " ('Dosa Garden', 'NYC', '$$', 4, 108, 'vegan', 18.4),\n",
       " ('Gustaly', 'NYC', '', 5, 3, 'vegan', 18.4),\n",
       " ('Spoonfed New York Country', 'NYC', '$$', 4, 409, 'vegan', 18.4),\n",
       " ('Indian Accent', 'NYC', '$$$$', 4.5, 500, 'vegan', 18.4),\n",
       " ('El Barrio Burritos', 'NYC', '$', 3, 190, 'vegan', 18.4),\n",
       " ('Simple NYC-Downtown Brooklyn', 'NYC', '$$', 5, 67, 'vegan', 18.4),\n",
       " (\"Tribeca's Kitchen\", 'NYC', '$$', 4, 434, 'vegan', 18.4),\n",
       " ('Loco Coco', 'NYC', '$$', 4, 185, 'vegan', 18.4),\n",
       " ('Oceanview Cafe', 'NYC', '$$', 4.5, 108, 'vegan', 18.4),\n",
       " ('Cafe Viva', 'NYC', '$', 3.5, 219, 'vegan', 18.4),\n",
       " ('Ginger and Lemongrass', 'NYC', '$$', 4.5, 282, 'vegan', 18.4),\n",
       " ('Tamra Teahouse', 'NYC', '$$', 4.5, 87, 'vegan', 18.4),\n",
       " (\"Jack's Wife Freda\", 'NYC', '$$', 4, 1780, 'vegan', 18.4),\n",
       " ('Spiegel', 'NYC', '$$', 4, 313, 'vegan', 18.4),\n",
       " ('Ugly Baby', 'NYC', '$$', 4.5, 268, 'vegan', 18.4),\n",
       " ('Cinnamon Girl', 'NYC', '$', 3.5, 90, 'vegan', 18.4),\n",
       " ('Avocaderia', 'NYC', '$$', 3.5, 218, 'vegan', 18.4),\n",
       " ('Dig Inn', 'NYC', '$$', 4, 469, 'vegan', 18.4),\n",
       " ('Natural Blend Juice Bar & Bakery', 'NYC', '$', 4.5, 118, 'vegan', 18.4),\n",
       " ('OddFellows Ice Cream Co.', 'NYC', '$$', 4.5, 30, 'vegan', 18.4),\n",
       " ('Mojo Restaurant', 'NYC', '$$', 4.5, 65, 'vegan', 18.4),\n",
       " ('Zatar', 'NYC', '$$', 4.5, 92, 'vegan', 18.4),\n",
       " ('jajaja', 'NYC', '', 5, 1, 'vegan', 18.4),\n",
       " ('Arepa Factory', 'NYC', '$', 4, 199, 'vegan', 18.4),\n",
       " ('Zizi Limona', 'NYC', '$$', 4, 401, 'vegan', 18.4),\n",
       " ('Zest Ramen', 'NYC', '$$', 4.5, 193, 'vegan', 18.4),\n",
       " ('Yara', 'NYC', '', 4.5, 47, 'vegan', 18.4),\n",
       " ('Between the Bread', 'NYC', '$$', 4, 56, 'vegan', 18.4),\n",
       " ('Ramen Setagaya', 'NYC', '$$', 4, 228, 'vegan', 18.4),\n",
       " ('Taste of Heaven', 'NYC', '$$', 5, 104, 'vegan', 18.4),\n",
       " ('Anytime', 'NYC', '$$', 5, 641, 'vegan', 18.4),\n",
       " ('The Bean', 'NYC', '$', 4, 480, 'vegan', 18.4),\n",
       " (\"Baron's\", 'NYC', '$$', 4.5, 258, 'vegan', 18.4),\n",
       " ('Cafe Tibet', 'NYC', '$$', 4, 309, 'vegan', 18.4),\n",
       " ('Blockheads', 'NYC', '$$', 3.5, 754, 'vegan', 18.4),\n",
       " ('Ramen Danbo', 'NYC', '$$', 4.5, 110, 'vegan', 18.4),\n",
       " ('Dig Inn', 'NYC', '', 4.5, 28, 'vegan', 18.4),\n",
       " ('Liv', 'NYC', '', 4.5, 30, 'vegan', 18.4),\n",
       " ('Chick P', 'NYC', '$', 4.5, 239, 'vegan', 18.4),\n",
       " ('The Fulton', 'NYC', '', 3.5, 41, 'vegan', 18.4),\n",
       " ('SUNSHINE - HUMMUS', 'NYC', '', 5, 60, 'vegan', 18.4),\n",
       " ('Kati Shop', 'NYC', '$$', 5, 120, 'vegan', 18.4),\n",
       " ('While We Were Young', 'NYC', '$$', 4, 281, 'vegan', 18.4),\n",
       " ('Ube Kitchen', 'NYC', '$', 4, 26, 'vegan', 18.4),\n",
       " ('Ghenet Brooklyn', 'NYC', '$$', 4, 468, 'vegan', 18.4),\n",
       " ('Blossom Ice Cream', 'NYC', '$', 4.5, 200, 'vegan', 18.4),\n",
       " (\"Effy's Cafe\", 'NYC', '$$', 4, 211, 'vegan', 18.4),\n",
       " ('Cafe Himalaya', 'NYC', '$', 4, 593, 'vegan', 18.4),\n",
       " ('Raku', 'NYC', '$$', 4.5, 255, 'vegan', 18.4),\n",
       " ('Abyssinia Ethiopian Restaurant', 'NYC', '$$', 4, 228, 'vegan', 18.4),\n",
       " ('Downtown Natural Market', 'NYC', '$$', 4.5, 23, 'vegan', 18.4),\n",
       " ('The CopperPot', 'NYC', '', 4.5, 33, 'vegan', 18.4),\n",
       " ('Smør', 'NYC', '', 4.5, 21, 'vegan', 18.4),\n",
       " ('Bareburger', 'NYC', '$$', 4, 335, 'vegan', 18.4),\n",
       " ('Thai Farm Kitchen', 'NYC', '$$', 4.5, 132, 'vegan', 18.4),\n",
       " ('Buttermilk Channel', 'NYC', '$$', 4, 1835, 'vegan', 18.4),\n",
       " ('Brooklyn Fresh Market', 'NYC', '', 5, 1, 'vegan', 18.4),\n",
       " ('sweetgreen', 'NYC', '$$', 4, 227, 'vegan', 18.4),\n",
       " ('Gather', 'NYC', '$$', 4, 112, 'vegan', 18.4),\n",
       " ('5ive Spice', 'NYC', '$$', 4, 544, 'vegan', 18.4),\n",
       " ('Perelandra Natural Food Center', 'NYC', '$$', 4, 164, 'vegan', 18.4),\n",
       " ('Organic Soul Cafe', 'NYC', '$$', 5, 6, 'vegan', 18.4),\n",
       " ('Little Mo', 'NYC', '$$', 4, 295, 'vegan', 18.4),\n",
       " ('Queens Comfort', 'NYC', '$$', 4, 2022, 'vegan', 18.4),\n",
       " ('Black Burger', 'NYC', '$', 4, 308, 'vegan', 18.4),\n",
       " ('Chela Modern Mexican', 'NYC', '$$', 4.5, 327, 'vegan', 18.4),\n",
       " ('Hello Always Tea', 'NYC', '', 5, 32, 'vegan', 18.4),\n",
       " ('Massawa', 'NYC', '$$', 4, 252, 'vegan', 18.4),\n",
       " ('Melt Shop', 'NYC', '$$', 4, 350, 'vegan', 18.4),\n",
       " ('Wolfnights', 'NYC', '$$', 4, 506, 'vegan', 18.4),\n",
       " ('Ricas Pupusas & Mas', 'NYC', '', 4.5, 23, 'vegan', 18.4),\n",
       " ('Madcap Cafe', 'NYC', '$$', 4, 65, 'vegan', 18.4),\n",
       " ('Sweet Chick', 'NYC', '$$', 4, 1868, 'vegan', 18.4),\n",
       " ('Tatsu Ramen', 'NYC', '$$', 4, 323, 'vegan', 18.4),\n",
       " ('Dill & Parsley', 'NYC', '', 4.5, 16, 'vegan', 18.4),\n",
       " ('NY Dosas', 'NYC', '$', 4.5, 397, 'vegan', 18.4),\n",
       " (\"Petee's Cafe\", 'NYC', '$$', 4.5, 67, 'vegan', 18.4),\n",
       " ('Forkright', 'NYC', '', 4, 20, 'vegan', 18.4),\n",
       " ('honeygrow', 'NYC', '$$', 3.5, 278, 'vegan', 18.4),\n",
       " ('The Dumpling Shop', 'NYC', '', 4.5, 100, 'vegan', 18.4),\n",
       " ('Westville Chelsea', 'NYC', '$$', 4, 1073, 'vegan', 18.4),\n",
       " ('Eatwell', 'NYC', '', 5, 1, 'vegan', 18.4),\n",
       " ('&pizza', 'NYC', '$$', 4.5, 379, 'vegan', 18.4),\n",
       " ('sweetgreen', 'NYC', '$$', 4, 608, 'vegan', 18.4),\n",
       " ('The Bean', 'NYC', '$', 3.5, 97, 'vegan', 18.4),\n",
       " ('Posh Pop Bakeshop', 'NYC', '', 4.5, 104, 'vegan', 18.4),\n",
       " ('Dudleys', 'NYC', '$$', 4, 650, 'vegan', 18.4),\n",
       " ('Colonie', 'NYC', '$$$', 4, 549, 'vegan', 18.4),\n",
       " ('Tacos Lokos 4ever', 'NYC', '$', 4, 25, 'vegan', 18.4),\n",
       " ('Kanan Indian Restaurant', 'NYC', '$$', 3.5, 119, 'vegan', 18.4),\n",
       " (\"John's of 12th Street\", 'NYC', '$$', 3.5, 649, 'vegan', 18.4),\n",
       " ('Camperdown Elm', 'NYC', '$$$', 4.5, 99, 'vegan', 18.4),\n",
       " (\"Schmackary's\", 'NYC', '', 4.5, 3, 'vegan', 18.4),\n",
       " ('Vino Levantino', 'NYC', '$$', 4, 224, 'vegan', 18.4),\n",
       " ('Lakruwana', 'NYC', '$$', 4.5, 280, 'vegan', 18.4),\n",
       " ('Sai Gon Dep', 'NYC', '$$', 4, 76, 'vegan', 18.4),\n",
       " ('Salt+Seed', 'NYC', '', 5, 4, 'vegan', 18.4),\n",
       " ('Lotus Vegetarian', 'NYC', '', 5, 5, 'vegan', 18.4),\n",
       " ('Juicy Lucy Juice Bar', 'NYC', '$', 4, 122, 'vegan', 18.4),\n",
       " ('The Food Sermon Kitchen', 'NYC', '$$', 4.5, 243, 'vegan', 18.4),\n",
       " ('Jin Ramen', 'NYC', '$$', 4, 813, 'vegan', 18.4),\n",
       " ('Bar Bruno', 'NYC', '$$', 4, 241, 'vegan', 18.4),\n",
       " ('Van Leeuwen Ice Cream', 'NYC', '', 4, 17, 'vegan', 18.4),\n",
       " ('Mother Dough', 'NYC', '$$', 4.5, 27, 'vegan', 18.4),\n",
       " ('Lazy Suzy Cafe & Shop', 'NYC', '', 5, 16, 'vegan', 18.4),\n",
       " ('Samurai Papa', 'NYC', '$$', 4.5, 251, 'vegan', 18.4),\n",
       " ('CAVA', 'NYC', '', 4.5, 40, 'vegan', 18.4),\n",
       " ('19 Cleveland By Nish Nush', 'NYC', '', 4.5, 89, 'vegan', 18.4),\n",
       " (\"Mom's Kitchen & Bar\", 'NYC', '$$', 4, 555, 'vegan', 18.4),\n",
       " ('Smooch', 'NYC', '$$', 3.5, 196, 'vegan', 18.4),\n",
       " ('NAYA', 'NYC', '$', 4.5, 121, 'vegan', 18.4),\n",
       " ('Ippudo Westside', 'NYC', '$$', 4, 3516, 'vegan', 18.4),\n",
       " ('Topaz Noodle Bar', 'NYC', '$$', 4, 577, 'vegan', 18.4),\n",
       " ('Vegetarian Palate', 'NYC', '$$', 3.5, 182, 'vegan', 18.4),\n",
       " ('Gentle Perch', 'NYC', '', 5, 3, 'vegan', 18.4),\n",
       " ('Nimbooda', 'NYC', '$$', 4, 148, 'vegan', 18.4),\n",
       " ('Taco Mahal', 'NYC', '$$', 4.5, 479, 'vegan', 18.4),\n",
       " ('Bonafini', 'NYC', '$$', 4, 324, 'vegan', 18.4),\n",
       " ('Local 92', 'NYC', '$$', 4, 368, 'vegan', 18.4),\n",
       " ('Blackbarn Cafe | Bar', 'NYC', '$$', 4, 66, 'vegan', 18.4),\n",
       " ('minigrow', 'NYC', '$$', 3.5, 99, 'vegan', 18.4),\n",
       " ('Frankie Goes To Bollywood', 'NYC', '', 4, 26, 'vegan', 18.4),\n",
       " ('Caracas Arepa Bar', 'NYC', '$$', 4, 794, 'vegan', 18.4),\n",
       " ('Naruto Ramen', 'NYC', '$$', 4, 220, 'vegan', 18.4),\n",
       " ('The River Café', 'NYC', '$$$$', 4, 1064, 'vegan', 18.4),\n",
       " ('Calexico', 'NYC', '$$', 4, 603, 'vegan', 18.4),\n",
       " ('Calle Dao - Chelsea', 'NYC', '$$', 4.5, 470, 'vegan', 18.4),\n",
       " ('Spring Natural Kitchen', 'NYC', '$$', 3.5, 456, 'vegan', 18.4),\n",
       " ('CHALAIT', 'NYC', '$$', 4.5, 79, 'vegan', 18.4),\n",
       " ('Sunday in Brooklyn', 'NYC', '$$', 4, 609, 'vegan', 18.4),\n",
       " ('Good Move', 'NYC', '$$', 4, 29, 'vegan', 18.4),\n",
       " ('MRS. AN Thai', 'NYC', '$$', 4, 79, 'vegan', 18.4),\n",
       " ('Nowadays', 'NYC', '$$', 3.5, 149, 'vegan', 18.4),\n",
       " ('Taheni Mediterranean Grill', 'NYC', '$', 4.5, 201, 'vegan', 18.4),\n",
       " ('Café Beit', 'NYC', '$', 4.5, 83, 'vegan', 18.4),\n",
       " ('Miss Ada', 'NYC', '$$$', 4.5, 167, 'vegan', 18.4),\n",
       " ('Reunion', 'NYC', '$$', 4, 373, 'vegan', 18.4),\n",
       " ('La Loncheria', 'NYC', '$$', 4.5, 55, 'vegan', 18.4),\n",
       " (\"Julia's\", 'NYC', '$$', 4.5, 189, 'vegan', 18.4),\n",
       " ('OBAO', 'NYC', '$$', 4, 2255, 'vegan', 18.4),\n",
       " (\"Dawa's\", 'NYC', '$$', 4.5, 205, 'vegan', 18.4),\n",
       " ('Citizens of Chelsea', 'NYC', '$$', 4, 578, 'vegan', 18.4),\n",
       " ('Thai72', 'NYC', '$$', 4, 206, 'vegan', 18.4),\n",
       " (\"Walter's\", 'NYC', '$$', 4, 489, 'vegan', 18.4),\n",
       " ('Bea', 'NYC', '$$', 4, 2304, 'vegan', 18.4),\n",
       " ('Roots Cafe', 'NYC', '$$', 4.5, 297, 'vegan', 18.4),\n",
       " ('NaNa Thai Street', 'NYC', '', 4.5, 39, 'vegan', 18.4),\n",
       " ('Meraki Hummus & Juice Bar', 'NYC', '$$', 5, 27, 'vegan', 18.4),\n",
       " ('Tiger Box', 'NYC', '$', 4, 49, 'vegan', 18.4),\n",
       " ('Milk Burger', 'NYC', '$$', 4.5, 91, 'vegan', 18.4),\n",
       " ('Manhatta', 'NYC', '$$$$', 4.5, 301, 'vegan', 18.4),\n",
       " ('Pye Boat Noodle', 'NYC', '$$', 4, 737, 'vegan', 18.4),\n",
       " ('Porteñas Yerba Mate', 'NYC', '', 4.5, 20, 'vegan', 18.4),\n",
       " ('Comfortland', 'NYC', '', 4, 96, 'vegan', 18.4),\n",
       " ('CAVA', 'NYC', '$$', 4.5, 262, 'vegan', 18.4),\n",
       " ('Bread & Spread', 'NYC', '$$', 4.5, 130, 'vegan', 18.4),\n",
       " ('indi thai', 'NYC', '', 4.5, 59, 'vegan', 18.4),\n",
       " ('Yemen Cafe & Restaurant', 'NYC', '$$', 4.5, 471, 'vegan', 18.4),\n",
       " ('La Morada Restaurant', 'NYC', '$$', 4.5, 152, 'vegan', 18.4),\n",
       " ('The Plaza Food Hall', 'NYC', '$$', 4, 627, 'vegan', 18.4),\n",
       " ('Chennai Garden by Tiffin Wallah', 'NYC', '$$', 4, 745, 'vegan', 18.4),\n",
       " ('The Gumbo Bros', 'NYC', '$$', 4.5, 291, 'vegan', 18.4),\n",
       " ('Chicks Isan', 'NYC', '', 4.5, 45, 'vegan', 18.4),\n",
       " ('Panzerotti Bites', 'NYC', '$$', 5, 97, 'vegan', 18.4),\n",
       " ('Yellow Magnolia Café', 'NYC', '$$', 4, 59, 'vegan', 18.4),\n",
       " ('Harlem Public', 'NYC', '$$', 4, 855, 'vegan', 18.4),\n",
       " ('May-Wah Vegetarian Market', 'NYC', '$$', 4.5, 108, 'vegan', 18.4),\n",
       " (\"S'MAC\", 'NYC', '$$', 3.5, 2144, 'vegan', 18.4),\n",
       " ('Three Jewels Cafe', 'NYC', '', 4, 9, 'vegan', 18.4),\n",
       " (\"Friedman's\", 'NYC', '$$', 4, 526, 'vegan', 18.4),\n",
       " ('Five Leaves', 'NYC', '$$', 4, 1549, 'vegan', 18.4),\n",
       " ('Proper Food', 'NYC', '', 4.5, 4, 'vegan', 18.4),\n",
       " ('Thursday Kitchen', 'NYC', '$$', 4.5, 1201, 'vegan', 18.4),\n",
       " (\"Paulie Gee's Slice Shop\", 'NYC', '$', 4, 127, 'vegan', 18.4),\n",
       " ('Wild Park Slope', 'NYC', '$$', 3.5, 216, 'vegan', 18.4),\n",
       " ('JoJu', 'NYC', '$', 4.5, 1531, 'vegan', 18.4),\n",
       " ('The Bluebell Cafe', 'NYC', '$$', 4, 585, 'vegan', 18.4),\n",
       " ('Cocoa Grinder', 'NYC', '$$', 4, 284, 'vegan', 18.4),\n",
       " ('Outro', 'NYC', '$$', 4, 225, 'vegan', 18.4),\n",
       " ('Salis Cafe', 'NYC', '$$', 4.5, 21, 'vegan', 18.4),\n",
       " ('Ashland', 'NYC', '$$', 4.5, 16, 'vegan', 18.4),\n",
       " ('Saiguette', 'NYC', '$$', 4.5, 569, 'vegan', 18.4),\n",
       " ('Daddy Greens', 'NYC', '$', 4, 359, 'vegan', 18.4),\n",
       " ('Loring Place', 'NYC', '$$$', 4.5, 338, 'vegan', 18.4),\n",
       " ('Dig Inn', 'NYC', '$$', 4, 234, 'vegan', 18.4),\n",
       " ('Loosie Rouge', 'NYC', '$$', 4, 76, 'vegan', 18.4),\n",
       " ('Balzem', 'NYC', '$$', 4, 399, 'vegan', 18.4),\n",
       " ('Mi Noodle Bar', 'NYC', '$$', 4.5, 183, 'vegan', 18.4),\n",
       " ('The Drunken Munkey - UES', 'NYC', '$$', 4.5, 916, 'vegan', 18.4),\n",
       " ('Spring Natural', 'NYC', '$$', 3.5, 766, 'vegan', 18.4),\n",
       " ('Beatstro', 'NYC', '$$', 4, 185, 'vegan', 18.4),\n",
       " ('The Bonnie', 'NYC', '$$', 4, 566, 'vegan', 18.4),\n",
       " ('Baby Brasa', 'NYC', '$$', 4, 389, 'vegan', 18.4),\n",
       " (\"CC's Cafe\", 'NYC', '$$', 4.5, 131, 'vegan', 18.4),\n",
       " ('Wok Wok', 'NYC', '$$', 4, 809, 'vegan', 18.4),\n",
       " ('Los Tacos No.1', 'NYC', '$', 4.5, 1284, 'vegan', 18.4),\n",
       " ('Mr. Taka Ramen', 'NYC', '$$', 4, 415, 'vegan', 18.4),\n",
       " ('Black Tap Craft Burger & Beers', 'NYC', '$$', 4, 979, 'vegan', 18.4),\n",
       " ('Momofuku Noodle Bar', 'NYC', '', 4, 164, 'vegan', 18.4),\n",
       " ('Kitsby', 'NYC', '$$', 4.5, 58, 'vegan', 18.4),\n",
       " ('Green Basket & More', 'NYC', '$', 5, 12, 'vegan', 18.4),\n",
       " ('Vatan Indian Vegetarian', 'NYC', '$$$', 4, 599, 'vegan', 18.4),\n",
       " ('Coco & Cru', 'NYC', '$$', 4, 282, 'vegan', 18.4),\n",
       " ('Champion Pizza', 'NYC', '$', 4, 262, 'vegan', 18.4),\n",
       " ('Pinwheel Garden Dumpling & Noodle Bar',\n",
       "  'NYC',\n",
       "  '$$',\n",
       "  4.5,\n",
       "  136,\n",
       "  'vegan',\n",
       "  18.4),\n",
       " ('Jia NYC', 'NYC', '$$', 4.5, 69, 'vegan', 18.4),\n",
       " ('Luchadores', 'NYC', '', 4, 46, 'vegan', 18.4),\n",
       " ('Koku Ramen', 'NYC', '$$', 4, 256, 'vegan', 18.4),\n",
       " ('The Black Flamingo', 'NYC', '$', 4.5, 51, 'vegan', 18.4),\n",
       " ('Veggies Natural Juice Bar', 'NYC', '$', 4.5, 134, 'vegan', 18.4),\n",
       " ('Sweetwater Restaurant', 'NYC', '$$', 4, 338, 'vegan', 18.4),\n",
       " ('Taza Mkt', 'NYC', '', 5, 13, 'vegan', 18.4),\n",
       " (\"Millie's Cuban Cafe\", 'NYC', '', 4.5, 52, 'vegan', 18.4),\n",
       " ('Bareburger', 'NYC', '$$', 3, 30, 'vegan', 18.4),\n",
       " ('Cyclo', 'NYC', '$$', 4, 463, 'vegan', 18.4),\n",
       " ('V-Nam Cafe', 'NYC', '$', 4, 448, 'vegan', 18.4),\n",
       " ('Vegan Food and Drink Festival', 'NYC', '$$', 3.5, 5, 'vegan', 18.4),\n",
       " ('Hummus Place', 'NYC', '$$', 4, 590, 'vegan', 18.4),\n",
       " ('Dr Smood - Madison', 'NYC', '$$', 3.5, 106, 'vegan', 18.4),\n",
       " ('Olmsted', 'NYC', '$$$', 4, 332, 'vegan', 18.4),\n",
       " ('The Bean', 'NYC', '$', 3.5, 448, 'vegan', 18.4),\n",
       " ('Loco Coco - Brooklyn', 'NYC', '', 1, 2, 'vegan', 18.4),\n",
       " (\"Subia's Organic Market\", 'NYC', '$$', 4, 178, 'vegan', 18.4),\n",
       " ('Avocado Appétit', 'NYC', '$$', 4.5, 200, 'vegan', 18.4),\n",
       " ('deep indian kitchen - indikitch', 'NYC', '$$', 4, 689, 'vegan', 18.4),\n",
       " ('Van Leeuwen Artisan Ice Cream', 'NYC', '$$', 4, 90, 'vegan', 18.4),\n",
       " ('Seed + Mill', 'NYC', '$', 4.5, 205, 'vegan', 18.4),\n",
       " ('Calyer', 'NYC', '', 4.5, 7, 'vegan', 18.4),\n",
       " ('Thai Direct Bowls', 'NYC', '', 4, 34, 'vegan', 18.4),\n",
       " ('Bao Bao Cafe', 'NYC', '$', 4, 430, 'vegan', 18.4),\n",
       " ('Scoops & Plates Eatery', 'NYC', '$', 4, 34, 'vegan', 18.4),\n",
       " ('Two Hands Restaurant & Bar', 'NYC', '$$', 3.5, 275, 'vegan', 18.4),\n",
       " (\"L'Accolade\", 'NYC', '', 4.5, 6, 'vegan', 18.4),\n",
       " ('Café China', 'NYC', '$$', 4, 1471, 'vegan', 18.4),\n",
       " ('The Picnic Basket', 'NYC', '$', 4, 145, 'vegan', 18.4),\n",
       " (\"Sunny and Annie's\", 'NYC', '$', 4.5, 464, 'vegan', 18.4),\n",
       " ('Himalayan Yak', 'NYC', '$$', 3.5, 603, 'vegan', 18.4),\n",
       " ('Zoma', 'NYC', '$$', 4, 377, 'vegan', 18.4),\n",
       " ('The Little Beet', 'NYC', '$$', 4, 34, 'vegan', 18.4),\n",
       " ('Bowery Road', 'NYC', '$$$', 4, 185, 'vegan', 18.4),\n",
       " ('Van Leeuwen Artisan Ice Cream', 'NYC', '', 4.5, 3, 'vegan', 18.4),\n",
       " ('Hard Times Christmas Liquors at the Sunset bar',\n",
       "  'NYC',\n",
       "  '$$',\n",
       "  4,\n",
       "  349,\n",
       "  'vegan',\n",
       "  18.4),\n",
       " ('Go Natural Health Foods & Juice Bar', 'NYC', '$$', 4, 70, 'vegan', 18.4),\n",
       " ('SIMÒ PIZZA', 'NYC', '$', 4.5, 110, 'vegan', 18.4),\n",
       " ('Hu Kitchen', 'NYC', '$$', 3.5, 902, 'vegan', 18.4),\n",
       " (\"Jack's Wife Freda\", 'NYC', '$$', 4, 797, 'vegan', 18.4),\n",
       " ('Belle Reve', 'NYC', '$$', 4, 152, 'vegan', 18.4),\n",
       " ('Mama Fox', 'NYC', '$$', 4, 76, 'vegan', 18.4),\n",
       " ('Vegan Street Fair Grand Bazaar', 'NYC', '', 3, 1, 'vegan', 18.4),\n",
       " ('Veggies Natural Juice Bar and Cafe', 'NYC', '', 4.5, 14, 'vegan', 18.4),\n",
       " ('Chow House', 'NYC', '$$', 4.5, 282, 'vegan', 18.4),\n",
       " ('Sunshine', 'NYC', '$$', 4, 328, 'vegan', 18.4),\n",
       " ('Van Leeuwen Artisan Ice Cream', 'NYC', '$$', 4, 97, 'vegan', 18.4),\n",
       " ('Burgerology', 'NYC', '$$', 3.5, 139, 'vegan', 18.4),\n",
       " ('SpaHa Soul and Bone Broth', 'NYC', '$$', 4.5, 114, 'vegan', 18.4),\n",
       " ('Dr Cow Tree Nut Cheese Corp', 'NYC', '$$', 4.5, 27, 'vegan', 18.4),\n",
       " (\"Drip Cafe' Bk\", 'NYC', '', 5, 4, 'vegan', 18.4),\n",
       " ('CAVA', 'NYC', '$$', 4, 142, 'vegan', 18.4),\n",
       " ('Hungry Bird', 'NYC', '$$', 4.5, 182, 'vegan', 18.4),\n",
       " (\"Luna's Kitchen & Bar\", 'NYC', '', 5, 7, 'vegan', 18.4),\n",
       " ('Otis', 'NYC', '$$', 5, 207, 'vegan', 18.4),\n",
       " ('CK14  The Crooked Knife', 'NYC', '$$', 4, 496, 'vegan', 18.4),\n",
       " ('Bogota Latin Bistro', 'NYC', '$$', 4, 2096, 'vegan', 18.4),\n",
       " ('Uglyduckling', 'NYC', '$$', 4, 452, 'vegan', 18.4),\n",
       " ('Pinto Restaurant', 'NYC', '$$', 4, 208, 'vegan', 18.4),\n",
       " ('The Burrito Box', 'NYC', '$', 4, 843, 'vegan', 18.4),\n",
       " ('Awash Ethiopian Restaurant', 'NYC', '$$', 4, 438, 'vegan', 18.4),\n",
       " ('Society Cafe', 'NYC', '$$', 4, 139, 'vegan', 18.4),\n",
       " ('Rustic Table', 'NYC', '$$', 4, 750, 'vegan', 18.4),\n",
       " ('Taco Dumbo', 'NYC', '$$', 4, 90, 'vegan', 18.4),\n",
       " ('Jen Maxine', 'NYC', '', 5, 2, 'vegan', 18.4),\n",
       " (\"Xi'an Famous Foods\", 'NYC', '$', 4, 955, 'vegan', 18.4),\n",
       " ('Nuchas - Brooklyn', 'NYC', '', 4.5, 3, 'vegan', 18.4),\n",
       " ('Boucherie West Village', 'NYC', '$$$', 4.5, 1107, 'vegan', 18.4),\n",
       " ('Food For Health', 'NYC', '$$', 4.5, 92, 'vegan', 18.4),\n",
       " ('Entwine', 'NYC', '$$', 4, 202, 'vegan', 18.4),\n",
       " ('The Coppola Cafe', 'NYC', '', 4.5, 7, 'vegan', 18.4),\n",
       " ('B&H Dairy', 'NYC', '$', 4.5, 457, 'vegan', 18.4),\n",
       " ('Fish Cheeks', 'NYC', '$$', 4.5, 401, 'vegan', 18.4),\n",
       " ('House of Small Wonder', 'NYC', '$$', 4, 683, 'vegan', 18.4),\n",
       " ('Renaissance Harlem', 'NYC', '$$', 4, 162, 'vegan', 18.4),\n",
       " ('Quinoa Kitchen', 'NYC', '$$', 4.5, 144, 'vegan', 18.4),\n",
       " ('Cafe Peanut', 'NYC', '', 4.5, 5, 'vegan', 18.4),\n",
       " ('Van Leeuwen Artisan Ice Cream', 'NYC', '$$', 4.5, 452, 'vegan', 18.4),\n",
       " (\"Meme's Healthy Nibbles\", 'NYC', '$$', 4, 143, 'vegan', 18.4),\n",
       " ('Vida', 'NYC', '$$$', 4, 56, 'vegan', 18.4),\n",
       " ('1803', 'NYC', '$$', 4.5, 256, 'vegan', 18.4),\n",
       " ('De Mole', 'NYC', '', 4.5, 74, 'vegan', 18.4),\n",
       " ('The Kati Roll Company', 'NYC', '$', 4, 1464, 'vegan', 18.4),\n",
       " ('Java Indonesian Restaurant', 'NYC', '$$', 4, 186, 'vegan', 18.4),\n",
       " ('The Bowery Market', 'NYC', '$$', 4, 21, 'vegan', 18.4),\n",
       " ('&pizza', 'NYC', '$$', 4, 128, 'vegan', 18.4),\n",
       " ('Bamboo House & Bar', 'NYC', '', 4.5, 9, 'vegan', 18.4),\n",
       " ('Big Bowls Little Plates', 'NYC', '$$', 4, 24, 'vegan', 18.4),\n",
       " ('Moss Cafe', 'NYC', '$$', 4, 123, 'vegan', 18.4),\n",
       " ('Capybara Bar and Restaurant', 'NYC', '$$', 4, 39, 'vegan', 18.4),\n",
       " ('Foragers Table', 'NYC', '$$', 4, 528, 'vegan', 18.4),\n",
       " ('The Market', 'NYC', '$$', 4, 129, 'vegan', 18.4),\n",
       " ('Trattoria Trecolori', 'NYC', '$$', 4, 2153, 'vegan', 18.4),\n",
       " ('Maoz Falafel & Grill', 'NYC', '$$', 4, 205, 'vegan', 18.4),\n",
       " ('Fatty Daddy Taco', 'NYC', '$$', 4, 138, 'vegan', 18.4),\n",
       " ('Trufa Restaurant', 'NYC', '$$', 4, 292, 'vegan', 18.4),\n",
       " ('Hui Restaurant & Bar', 'NYC', '$$', 4.5, 99, 'vegan', 18.4),\n",
       " (\"L'ADRESSE\", 'NYC', '$$', 4, 480, 'vegan', 18.4),\n",
       " ('Bati', 'NYC', '$$', 3.5, 211, 'vegan', 18.4),\n",
       " ('Blockheads', 'NYC', '$$', 3.5, 442, 'vegan', 18.4),\n",
       " (\"Tiny's Giant Sandwich Shop\", 'NYC', '$', 4, 474, 'vegan', 18.4),\n",
       " ('wagamama - nomad', 'NYC', '$$', 3.5, 762, 'vegan', 18.4),\n",
       " ('Kokage', 'NYC', '$$$', 4, 85, 'vegan', 18.4),\n",
       " ('Maoz Vegetarian', 'NYC', '$', 4, 44, 'vegan', 18.4),\n",
       " ('191 Knickerbocker', 'NYC', '$$', 5, 100, 'vegan', 18.4),\n",
       " ('The Blue Light Speak Cheesy', 'NYC', '$', 5, 68, 'vegan', 18.4),\n",
       " ('The Shady Lady', 'NYC', '$$', 4, 746, 'vegan', 18.4),\n",
       " ('Havana Cafe', 'NYC', '$$', 4, 161, 'vegan', 18.4),\n",
       " ('Top Thai Greenwich', 'NYC', '$$', 4.5, 1166, 'vegan', 18.4),\n",
       " ('Gran Electrica', 'NYC', '$$', 3.5, 458, 'vegan', 18.4),\n",
       " (\"MeMe's Diner\", 'NYC', '$$$', 4, 88, 'vegan', 18.4),\n",
       " ('Dosa Hutt', 'NYC', '$', 4.5, 204, 'vegan', 18.4),\n",
       " ('The Grey Dog', 'NYC', '$$', 4, 1049, 'vegan', 18.4),\n",
       " ('Little Collins', 'NYC', '$$', 4.5, 757, 'vegan', 18.4),\n",
       " ('The Hummus & Pita', 'NYC', '$$', 4, 368, 'vegan', 18.4),\n",
       " ('Elephant & Castle', 'NYC', '$$', 4, 528, 'vegan', 18.4),\n",
       " (\"Mia's Bakery\", 'NYC', '$', 4.5, 584, 'vegan', 18.4),\n",
       " ('Diner', 'NYC', '$$', 4, 731, 'vegan', 18.4),\n",
       " ('Samurai Papa BS', 'NYC', '$$', 4, 140, 'vegan', 18.4),\n",
       " ('Gentleman Farmer - Fort Greene', 'NYC', '$$$', 4.5, 145, 'vegan', 18.4),\n",
       " ('Cheeky Sandwiches', 'NYC', '$', 4.5, 1112, 'vegan', 18.4),\n",
       " ('Ix Restaurant', 'NYC', '$$', 4.5, 107, 'vegan', 18.4),\n",
       " (\"Mamoun's Falafel\", 'NYC', '$', 4, 2318, 'vegan', 18.4),\n",
       " ('Counter & Bodega', 'NYC', '$$', 4.5, 61, 'vegan', 18.4),\n",
       " ('Very Fresh Noodles', 'NYC', '$$', 4.5, 819, 'vegan', 18.4),\n",
       " ('Spice Kitchen', 'NYC', '$$', 4.5, 173, 'vegan', 18.4),\n",
       " ('The Shakespeare', 'NYC', '$$', 4, 351, 'vegan', 18.4),\n",
       " ('Moloko', 'NYC', '$$', 4.5, 155, 'vegan', 18.4),\n",
       " ('Simply Juiced', 'NYC', '$$', 4.5, 111, 'vegan', 18.4),\n",
       " ('FalafaLafa Marine Park', 'NYC', '$', 4.5, 73, 'vegan', 18.4),\n",
       " ('Shanghai 21', 'NYC', '$$', 4, 1543, 'vegan', 18.4),\n",
       " ('Kaikagetsu NYC', 'NYC', '', 4.5, 34, 'vegan', 18.4),\n",
       " ('Birds of a Feather', 'NYC', '$$', 4, 272, 'vegan', 18.4),\n",
       " ('Westville Hudson', 'NYC', '$$', 4, 496, 'vegan', 18.4),\n",
       " ('The Hummus & Pita', 'NYC', '$$', 4, 619, 'vegan', 18.4),\n",
       " ('name', 'LA', 'price', 'rating', 'review_count', 'meat', 18.8),\n",
       " ('Meat On Ocean', 'LA', '$$$', 4, 634, 'meat', 18.8),\n",
       " ('H&H Brazilian Steakhouse', 'LA', '', 4.5, 113, 'meat', 18.8),\n",
       " ('Slab', 'LA', '$$', 4.5, 230, 'meat', 18.8),\n",
       " ('Jeong Yuk Jeom', 'LA', '$$', 4, 164, 'meat', 18.8),\n",
       " (\"McCall's Meat & Fish Company\", 'LA', '$$$', 4.5, 206, 'meat', 18.8),\n",
       " ('Ten-Raku', 'LA', '$$', 4.5, 387, 'meat', 18.8),\n",
       " (\"The Park's Finest\", 'LA', '$$', 4, 1942, 'meat', 18.8),\n",
       " ('UNCLEDADDY BBQ', 'LA', '', 5, 2, 'meat', 18.8),\n",
       " ('Choice Meat Market', 'LA', '$$', 4.5, 65, 'meat', 18.8),\n",
       " ('Red Rock-Sawtelle', 'LA', '$$', 4, 103, 'meat', 18.8),\n",
       " ('Magal BBQ', 'LA', '$$', 4.5, 1514, 'meat', 18.8),\n",
       " ('Huntington Meats', 'LA', '$$', 5, 171, 'meat', 18.8),\n",
       " ('LA Brisket', 'LA', '', 5, 78, 'meat', 18.8),\n",
       " ('Belcampo Burger LA/West Third', 'LA', '$$', 4, 284, 'meat', 18.8),\n",
       " (\"Lala's Argentine Grill\", 'LA', '$$', 4, 1877, 'meat', 18.8),\n",
       " (\"Bludso's Bar & Que\", 'LA', '$$', 4, 1835, 'meat', 18.8),\n",
       " ('Red Pig', 'LA', '$$', 4.5, 19, 'meat', 18.8),\n",
       " ('ACA Grill', 'LA', '$$', 4.5, 420, 'meat', 18.8),\n",
       " ('Gwen Butcher Shop', 'LA', '$$$$', 4, 511, 'meat', 18.8),\n",
       " ('Prime Cutts', 'LA', '$$', 4, 204, 'meat', 18.8),\n",
       " ('Soowon Galbi KBBQ Restaurant', 'LA', '$$', 4.5, 2458, 'meat', 18.8),\n",
       " ('Quarters Korean BBQ', 'LA', '$$', 4, 2473, 'meat', 18.8),\n",
       " ('A Cut Above Butcher Shop', 'LA', '$$', 4.5, 297, 'meat', 18.8),\n",
       " (\"Marconda's Meats\", 'LA', '$$', 4.5, 169, 'meat', 18.8),\n",
       " ('Pampas Grill', 'LA', '$$', 4, 1167, 'meat', 18.8),\n",
       " ('Aria Meat & BBQ', 'LA', '$', 5, 84, 'meat', 18.8),\n",
       " ('Polleria La Princesa', 'LA', '', 5, 1, 'meat', 18.8),\n",
       " ('Shin Sun Meat', 'LA', '$$', 4.5, 15, 'meat', 18.8),\n",
       " (\"Standing's Butchery\", 'LA', '$$', 5, 57, 'meat', 18.8),\n",
       " ('Sevan Meat Market', 'LA', '$$', 4.5, 107, 'meat', 18.8),\n",
       " (\"AJ's Tex-Mex & Barbecue\", 'LA', '$$', 4.5, 174, 'meat', 18.8),\n",
       " ('AYCE Gogi', 'LA', '$$', 4, 1434, 'meat', 18.8),\n",
       " ('Tamaen Japanese BBQ', 'LA', '', 4, 17, 'meat', 18.8),\n",
       " (\"Boogie McGee's Bayou Smokehouse BBQ\", 'LA', '$$', 4, 413, 'meat', 18.8),\n",
       " ('Yangmani', 'LA', '$$', 4.5, 174, 'meat', 18.8),\n",
       " ('European Deluxe Sausage Kitchen', 'LA', '$$', 5, 145, 'meat', 18.8),\n",
       " (\"Lala's Argentine Grill\", 'LA', '$$', 4, 90, 'meat', 18.8),\n",
       " ('La Carniceria Meat Market', 'LA', '$$', 4.5, 28, 'meat', 18.8),\n",
       " (\"Rich's BBQ\", 'LA', '$', 5, 57, 'meat', 18.8),\n",
       " ('Ahgassi Gopchang', 'LA', '$$', 4.5, 1208, 'meat', 18.8),\n",
       " ('Song Hak LA', 'LA', '$$', 4.5, 100, 'meat', 18.8),\n",
       " (\"Rabbi's Daughter\", 'LA', '$$', 4.5, 82, 'meat', 18.8),\n",
       " ('Zacatecas Meat Mkt', 'LA', '$$$$', 4.5, 5, 'meat', 18.8),\n",
       " ('Meat Love Korean BBQ', 'LA', '$$', 4, 372, 'meat', 18.8),\n",
       " ('Manpuku Japanese Yakiniku Dining', 'LA', '$$$', 4.5, 81, 'meat', 18.8),\n",
       " ('Max City BBQ', 'LA', '$$', 4, 886, 'meat', 18.8),\n",
       " ('Ribs Against the Machine', 'LA', '$$', 4.5, 73, 'meat', 18.8),\n",
       " ('Los Cinco Puntos', 'LA', '$', 4.5, 527, 'meat', 18.8),\n",
       " ('Torigoya', 'LA', '$$', 4, 119, 'meat', 18.8),\n",
       " ('Manpuku Tokyo BBQ', 'LA', '$$', 4, 597, 'meat', 18.8),\n",
       " ('Phillips Barbecue', 'LA', '$$', 4, 480, 'meat', 18.8),\n",
       " ('Zovk Market', 'LA', '$$', 4.5, 16, 'meat', 18.8),\n",
       " ('Angus Meat Market', 'LA', '$$', 4.5, 8, 'meat', 18.8),\n",
       " ('SuKarne - Premium Meats', 'LA', '', 5, 6, 'meat', 18.8),\n",
       " ('Tropicalia Brazilian Grill', 'LA', '$$', 4, 560, 'meat', 18.8),\n",
       " ('Choice Meat Market', 'LA', '$$', 5, 14, 'meat', 18.8),\n",
       " (\"Meme's BBQ Smoke House\", 'LA', '$$', 4.5, 187, 'meat', 18.8),\n",
       " ('Maple Block Meat Co', 'LA', '$$', 4, 1152, 'meat', 18.8),\n",
       " ('Ham Ji Park', 'LA', '$$', 4, 1451, 'meat', 18.8),\n",
       " ('El Centro Meat Market', 'LA', '$', 4.5, 10, 'meat', 18.8),\n",
       " ('Fogo de Chão Brazilian Steakhouse', 'LA', '$$$', 3.5, 992, 'meat', 18.8),\n",
       " ('ACA Grill', 'LA', '$$', 4.5, 34, 'meat', 18.8),\n",
       " ('Malbec Argentinean Cuisine', 'LA', '$$', 4, 728, 'meat', 18.8),\n",
       " ('Belcampo Burger DTLA', 'LA', '$$', 3.5, 518, 'meat', 18.8),\n",
       " (\"Urseila's Meat\", 'LA', '$', 5, 13, 'meat', 18.8),\n",
       " ('YAZAWA', 'LA', '$$$$', 4.5, 224, 'meat', 18.8),\n",
       " ('Lou’s Hot Chicken', 'LA', '', 5, 41, 'meat', 18.8),\n",
       " ('Ohana BBQ', 'LA', '$$', 4.5, 344, 'meat', 18.8),\n",
       " (\"Freedman's\", 'LA', '$$', 4, 171, 'meat', 18.8),\n",
       " ('Pampas Grill', 'LA', '$$', 4.5, 209, 'meat', 18.8),\n",
       " ('Chops Meat & Fish', 'LA', '$$', 5, 38, 'meat', 18.8),\n",
       " ('M Grill', 'LA', '$$$', 4.5, 1929, 'meat', 18.8),\n",
       " ('Carlitos Gardel Argentine Steakhouse', 'LA', '$$$', 4.5, 952, 'meat', 18.8),\n",
       " ('Harmony Farms', 'LA', '$$', 4.5, 121, 'meat', 18.8),\n",
       " ('Corner Place', 'LA', '$$', 4, 905, 'meat', 18.8),\n",
       " ('Round Table Grill', 'LA', '$$$', 4.5, 134, 'meat', 18.8),\n",
       " (\"Lupita's Meat Market\", 'LA', '$', 4, 27, 'meat', 18.8),\n",
       " ('Meat District Co', 'LA', '$$', 3.5, 966, 'meat', 18.8),\n",
       " ('Maloney Meat Co', 'LA', '$$', 4, 25, 'meat', 18.8),\n",
       " ('JJUKKU JJUKKU BBQ', 'LA', '$$', 4, 833, 'meat', 18.8),\n",
       " ('The Stinking Rose', 'LA', '$$', 4, 4169, 'meat', 18.8),\n",
       " ('Cielito Lindo Meat Market', 'LA', '$', 4.5, 6, 'meat', 18.8),\n",
       " ('Swinging Door BBQ', 'LA', '', 4.5, 5, 'meat', 18.8),\n",
       " ('Ssam Korean BBQ', 'LA', '$$', 4.5, 1084, 'meat', 18.8),\n",
       " ('Rays Texas BBQ', 'LA', '$$', 4.5, 726, 'meat', 18.8),\n",
       " ('Don Felix Meat Market', 'LA', '$', 4, 59, 'meat', 18.8),\n",
       " ('RiceBox', 'LA', '$$', 4.5, 135, 'meat', 18.8),\n",
       " ('Holy Cow BBQ', 'LA', '$$', 3.5, 791, 'meat', 18.8),\n",
       " ('Gyu-Kaku Japanese BBQ', 'LA', '$$', 4, 430, 'meat', 18.8),\n",
       " ('Kabob By Faraj Restaurant & Kosher Meat Market',\n",
       "  'LA',\n",
       "  '$$',\n",
       "  4.5,\n",
       "  219,\n",
       "  'meat',\n",
       "  18.8),\n",
       " ('Best Buy Meat', 'LA', '$$', 4.5, 7, 'meat', 18.8),\n",
       " ('Haykazuni Meat Market', 'LA', '$', 4.5, 12, 'meat', 18.8),\n",
       " ('Jokbal 1030', 'LA', '$$', 4.5, 97, 'meat', 18.8),\n",
       " ('TGI Korean BBQ', 'LA', '$$', 4.5, 279, 'meat', 18.8),\n",
       " ('Handy Market', 'LA', '$$', 4, 527, 'meat', 18.8),\n",
       " ('Alameda Market', 'LA', '$$', 4.5, 46, 'meat', 18.8),\n",
       " ('KOBUNGA', 'LA', '$$', 4.5, 141, 'meat', 18.8),\n",
       " ('Ombu Grill', 'LA', '$$$', 4, 151, 'meat', 18.8),\n",
       " ('Kang Ho-dong Baekjeong', 'LA', '$$', 4.5, 4056, 'meat', 18.8),\n",
       " ('Mi Tienda Meats', 'LA', '$$', 4.5, 11, 'meat', 18.8),\n",
       " ('Wood Spoon', 'LA', '$$', 4, 1370, 'meat', 18.8),\n",
       " ('Zamora Brothers', 'LA', '$', 4.5, 72, 'meat', 18.8),\n",
       " ('Hae Jang Chon Korean BBQ Restaurant', 'LA', '$$', 4, 4669, 'meat', 18.8),\n",
       " ('El Sereno Meat Market', 'LA', '$', 4.5, 35, 'meat', 18.8),\n",
       " ('Montana Natural Beef', 'LA', '$$', 5, 9, 'meat', 18.8),\n",
       " ('Oleego By Parks BBQ', 'LA', '$', 4, 325, 'meat', 18.8),\n",
       " ('Gyu-Kaku Japanese BBQ', 'LA', '$$', 4, 1095, 'meat', 18.8),\n",
       " ('Nanban-Kan Restaurant', 'LA', '$$', 4, 726, 'meat', 18.8),\n",
       " ('Manna Korean BBQ', 'LA', '$$', 3.5, 1234, 'meat', 18.8),\n",
       " ('Full Moon Pickles & Catering', 'LA', '', 5, 1, 'meat', 18.8),\n",
       " ('LA Fresh Poultry', 'LA', '$', 4, 42, 'meat', 18.8),\n",
       " (\"Pete's Louisiana Style Hot Links\", 'LA', '$', 4.5, 52, 'meat', 18.8),\n",
       " ('Majangdong', 'LA', '', 5, 17, 'meat', 18.8),\n",
       " ('Baby Blues BBQ', 'LA', '', 3.5, 148, 'meat', 18.8),\n",
       " ('Gyu-Kaku Japanese BBQ', 'LA', '$$', 3.5, 1004, 'meat', 18.8),\n",
       " ('Eight Korean BBQ', 'LA', '$$', 4.5, 1614, 'meat', 18.8),\n",
       " ('Feng Mao Lamb Kebab', 'LA', '$$', 4, 440, 'meat', 18.8),\n",
       " ('Fogo de Chão Brazilian Steakhouse', 'LA', '$$$$', 4, 3749, 'meat', 18.8),\n",
       " ('New China Mongolian Bbq', 'LA', '', 4.5, 41, 'meat', 18.8),\n",
       " ('Bulgogi Hut', 'LA', '$$', 4, 1906, 'meat', 18.8),\n",
       " ('The Swingin Door Texas BBQ', 'LA', '$$', 4, 723, 'meat', 18.8),\n",
       " ('Western Kosher', 'LA', '$$', 4, 38, 'meat', 18.8),\n",
       " ('Rosales Meat Distributors', 'LA', '', 5, 1, 'meat', 18.8),\n",
       " ('Cheesemongers of Sherman Oaks', 'LA', '$$', 5, 130, 'meat', 18.8),\n",
       " ('Cantinho Brasileiro', 'LA', '$', 4.5, 23, 'meat', 18.8),\n",
       " (\"Hardy's Meat Market\", 'LA', '$$', 4, 75, 'meat', 18.8),\n",
       " (\"Catalina's Market\", 'LA', '$', 4, 107, 'meat', 18.8),\n",
       " ('La Quail Farm', 'LA', '', 4, 17, 'meat', 18.8),\n",
       " ('Ong Ga Nae Korean BBQ', 'LA', '$$', 4.5, 433, 'meat', 18.8),\n",
       " ('Broadleaf', 'LA', '$$$$', 5, 3, 'meat', 18.8),\n",
       " ('El Camaguey Meat Market', 'LA', '$$', 4, 111, 'meat', 18.8),\n",
       " ('Alameda Swap Meet', 'LA', '$$', 3.5, 63, 'meat', 18.8),\n",
       " (\"Park's Meat Market\", 'LA', '$$', 3.5, 26, 'meat', 18.8),\n",
       " ('Sipan Meat Market', 'LA', '$', 4.5, 22, 'meat', 18.8),\n",
       " ('Taco Stand on Centinela and Venice', 'LA', '$', 4.5, 76, 'meat', 18.8),\n",
       " ('Crazy Falafel', 'LA', '', 4.5, 41, 'meat', 18.8),\n",
       " ('House of Galbi', 'LA', '$$', 4, 478, 'meat', 18.8),\n",
       " ('The Oaks Gourmet', 'LA', '$$', 4, 675, 'meat', 18.8),\n",
       " (\"Turner's Lousiana Meat & Poultry\", 'LA', '$', 4.5, 8, 'meat', 18.8),\n",
       " ('Manhattan Meats', 'LA', '$$', 4.5, 99, 'meat', 18.8),\n",
       " ('Carniceria Zacoalco', 'LA', '', 3, 2, 'meat', 18.8),\n",
       " ('Druzhba Deli', 'LA', '$$', 4.5, 21, 'meat', 18.8),\n",
       " ('The Smokey Cow', 'LA', '', 5, 3, 'meat', 18.8),\n",
       " (\"Lucille's Smokehouse Bar-B-Que\", 'LA', '$$', 3.5, 822, 'meat', 18.8),\n",
       " ('Belcampo Butcher Shop DTLA', 'LA', '$$', 3.5, 43, 'meat', 18.8),\n",
       " ('La Pasadita Meat Market', 'LA', '', 5, 14, 'meat', 18.8),\n",
       " (\"Delmonico's Steak and Lobster House\", 'LA', '$$$', 3.5, 640, 'meat', 18.8),\n",
       " ('Whittier Market', 'LA', '$$', 4.5, 27, 'meat', 18.8),\n",
       " ('Moobongri Soondae BBQ', 'LA', '', 4.5, 12, 'meat', 18.8),\n",
       " ('Brothers Bbq', 'LA', '$$', 4, 445, 'meat', 18.8),\n",
       " ('Brothers Bbq', 'LA', '$$', 4, 445, 'meat', 18.8),\n",
       " ('Karabagh Meat Market & Deli', 'LA', '$$', 3, 50, 'meat', 18.8),\n",
       " ('El Recreo Meat Market', 'LA', '$', 4.5, 17, 'meat', 18.8),\n",
       " ('Carnitas El Momo', 'LA', '$', 5, 71, 'meat', 18.8),\n",
       " ('Rancho Meat Market', 'LA', '$', 4.5, 11, 'meat', 18.8),\n",
       " ('Meatos Bistrot Chic', 'LA', '$$$', 4.5, 69, 'meat', 18.8),\n",
       " ('Smorgasburg', 'LA', '$$', 4, 928, 'meat', 18.8),\n",
       " ('Cafe Chimichurri', 'LA', '$$', 4, 224, 'meat', 18.8),\n",
       " ('Horse Thief BBQ', 'LA', '$$', 3.5, 812, 'meat', 18.8),\n",
       " ('Alex Meat Market Carniceria Argentina', 'LA', '$', 4.5, 76, 'meat', 18.8),\n",
       " ('Kalbis Grill', 'LA', '$$', 4.5, 195, 'meat', 18.8),\n",
       " ('BBQ + RICE Korean BBQ Bowls', 'LA', '$', 5, 198, 'meat', 18.8),\n",
       " ('Stone Grill', 'LA', '$$', 4, 412, 'meat', 18.8),\n",
       " (\"TJ's Tacos LA\", 'LA', '$', 5, 9, 'meat', 18.8),\n",
       " ('Glen Rose Meat', 'LA', '', 5, 5, 'meat', 18.8),\n",
       " ('Samba Brazilian Steakhouse and Lounge', 'LA', '$$$', 3, 1282, 'meat', 18.8),\n",
       " ('MulDaePo BBQ', 'LA', '$$', 4.5, 71, 'meat', 18.8),\n",
       " ('Haig Kabob House', 'LA', '$$', 4.5, 85, 'meat', 18.8),\n",
       " ('Boneyard Bistro', 'LA', '$$', 4, 1259, 'meat', 18.8),\n",
       " ('Aussie Pies And Sausages', 'LA', '', 5, 1, 'meat', 18.8),\n",
       " ('Chadolpoong', 'LA', '$$', 4, 87, 'meat', 18.8),\n",
       " ('Feng Mao Lamb Kebab', 'LA', '$$', 4.5, 534, 'meat', 18.8),\n",
       " (\"Taylor's Steakhouse\", 'LA', '$$$', 4, 1084, 'meat', 18.8),\n",
       " ('Samba Grill', 'LA', '$$', 4, 18, 'meat', 18.8),\n",
       " ('Nairi Meat & Deli', 'LA', '$', 4.5, 20, 'meat', 18.8),\n",
       " ('Angel’s Tijuana Tacos', 'LA', '', 4, 32, 'meat', 18.8),\n",
       " ('Royal Meat Market & Deli', 'LA', '', 5, 1, 'meat', 18.8),\n",
       " ('Carniceria lapotosina', 'LA', '', 5, 2, 'meat', 18.8),\n",
       " ('BBQ Chicken', 'LA', '$$', 4, 172, 'meat', 18.8),\n",
       " ('Huli Huli Hawaiian Grill & Teabar', 'LA', '$', 3.5, 83, 'meat', 18.8),\n",
       " (\"Gelsinger's Meats Market Deli\", 'LA', '$$', 4.5, 23, 'meat', 18.8),\n",
       " ('Ham Ji Park', 'LA', '$$', 4, 153, 'meat', 18.8),\n",
       " (\"Park's BBQ\", 'LA', '$$$', 4, 1623, 'meat', 18.8),\n",
       " ('Ararat Fish & Meat Market', 'LA', '$$', 4.5, 15, 'meat', 18.8),\n",
       " ('Kaban Persian Restaurant', 'LA', '$$', 4.5, 134, 'meat', 18.8),\n",
       " ('La Princesita Carnicera Y Tortilleria', 'LA', '$', 4.5, 37, 'meat', 18.8),\n",
       " ('APL Restaurant / APL BBQ', 'LA', '$$$$', 3.5, 215, 'meat', 18.8),\n",
       " ('Florence Meats', 'LA', '', 5, 1, 'meat', 18.8),\n",
       " ('Carniceria Don Juan', 'LA', '$', 5, 33, 'meat', 18.8),\n",
       " ('DaeBuDo', 'LA', '$$', 4.5, 166, 'meat', 18.8),\n",
       " ('Famous Market', 'LA', '$', 5, 17, 'meat', 18.8),\n",
       " ('The Barbacoa Boyz', 'LA', '', 5, 5, 'meat', 18.8),\n",
       " (\"Gus's Barbecue\", 'LA', '$$', 4, 2073, 'meat', 18.8),\n",
       " ('Mh Zh', 'LA', '$$', 4.5, 361, 'meat', 18.8),\n",
       " ('Pampas Grill', 'LA', '$$', 4, 615, 'meat', 18.8),\n",
       " ('Paddy Mac', 'LA', '$$', 4.5, 15, 'meat', 18.8),\n",
       " ('Genwa Korean BBQ', 'LA', '$$', 4.5, 2755, 'meat', 18.8),\n",
       " ('Seven Seas Gourmet Foods', 'LA', '$$$', 4.5, 20, 'meat', 18.8),\n",
       " ('Original Kabob Factory', 'LA', '$$', 4.5, 888, 'meat', 18.8),\n",
       " ('La Blanquita Carniceria', 'LA', '$$', 4.5, 20, 'meat', 18.8),\n",
       " ('Dvin Meat Market', 'LA', '$', 5, 27, 'meat', 18.8),\n",
       " ('Soh Grill House', 'LA', '$$', 4.5, 296, 'meat', 18.8),\n",
       " ('Brothers Bar-B-Que', 'LA', '$$', 3.5, 387, 'meat', 18.8),\n",
       " (\"Mike's Deli\", 'LA', '$$', 4.5, 696, 'meat', 18.8),\n",
       " ('Koreatown Galleria', 'LA', '$$', 4, 268, 'meat', 18.8),\n",
       " ('Kogi BBQ Truck- Roja', 'LA', '$', 4, 185, 'meat', 18.8),\n",
       " ('Road To Seoul', 'LA', '$$', 4, 3611, 'meat', 18.8),\n",
       " (\"Raffi's Place\", 'LA', '$$', 4.5, 4167, 'meat', 18.8),\n",
       " ('Ta-eem Grill', 'LA', '$$', 4.5, 1061, 'meat', 18.8),\n",
       " ('Gjusta', 'LA', '$$', 4, 1358, 'meat', 18.8),\n",
       " ('Los Amigos Market', 'LA', '$$', 4.5, 6, 'meat', 18.8),\n",
       " (\"Empanada's Place\", 'LA', '$', 4.5, 730, 'meat', 18.8),\n",
       " ('Soot Bull Jeep', 'LA', '$$', 4, 891, 'meat', 18.8),\n",
       " ('Clutch', 'LA', '$$', 4, 426, 'meat', 18.8),\n",
       " ('Artisan Premium Jerky', 'LA', '$$', 5, 44, 'meat', 18.8),\n",
       " ('Belcampo Butcher Shop', 'LA', '$$$', 4, 38, 'meat', 18.8),\n",
       " ('Gen Korean BBQ House', 'LA', '$$', 4, 834, 'meat', 18.8),\n",
       " (\"Del Frisco's Grille\", 'LA', '$$', 4, 1077, 'meat', 18.8),\n",
       " ('Tijuana Meats No 2', 'LA', '$', 4.5, 5, 'meat', 18.8),\n",
       " ('Yang San Bak', 'LA', '$$', 4.5, 275, 'meat', 18.8),\n",
       " (\"Moo's Craft Barbecue\", 'LA', '$$', 4, 65, 'meat', 18.8),\n",
       " ('Peking Poultry', 'LA', '$$', 3.5, 15, 'meat', 18.8),\n",
       " ('Cafe Brasil', 'LA', '$$', 4, 791, 'meat', 18.8),\n",
       " ('Premier Meat Company', 'LA', '', 3.5, 9, 'meat', 18.8),\n",
       " ('Spicy BBQ Restaurant', 'LA', '$$', 4.5, 506, 'meat', 18.8),\n",
       " (\"Nick + Stef's Steakhouse\", 'LA', '$$$', 4, 565, 'meat', 18.8),\n",
       " (\"Schreiner's Fine Sausages\", 'LA', '$', 4, 224, 'meat', 18.8),\n",
       " ('Wi Korean BBQ', 'LA', '$$', 4.5, 291, 'meat', 18.8),\n",
       " (\"Lieder's\", 'LA', '$$', 4.5, 31, 'meat', 18.8),\n",
       " ('Honey Baked Ham Company', 'LA', '$', 4, 134, 'meat', 18.8),\n",
       " ('Hardys Best BBQ', 'LA', '$$', 4, 19, 'meat', 18.8),\n",
       " ('Los Tres Cochinitos Restaurant', 'LA', '$', 4.5, 151, 'meat', 18.8),\n",
       " ('Laguna Meat Market', 'LA', '$', 5, 4, 'meat', 18.8),\n",
       " ('BBQ Choice', 'LA', '', 4.5, 28, 'meat', 18.8),\n",
       " (\"D's Original Take Out Grill\", 'LA', '$$', 4, 206, 'meat', 18.8),\n",
       " ('Tigranakert Meat Market', 'LA', '$$', 4, 46, 'meat', 18.8),\n",
       " (\"Kelly's Barbecue\", 'LA', '', 5, 8, 'meat', 18.8),\n",
       " ('Bangkok Market', 'LA', '$', 4, 106, 'meat', 18.8),\n",
       " ('Halal  Bar-B-Que', 'LA', '', 4.5, 20, 'meat', 18.8),\n",
       " (\"Olson's Deli\", 'LA', '$$', 4.5, 214, 'meat', 18.8),\n",
       " ('Froma on Melrose', 'LA', '$$', 4.5, 267, 'meat', 18.8),\n",
       " ('Sakura House', 'LA', '$$', 4, 305, 'meat', 18.8),\n",
       " ('Carniceria Los Compadres', 'LA', '$$', 4.5, 12, 'meat', 18.8),\n",
       " ('Las 7 Regiones', 'LA', '$$', 4.5, 39, 'meat', 18.8),\n",
       " ('Pacific Island Meat & Grocery', 'LA', '', 5, 6, 'meat', 18.8),\n",
       " (\"Moy's Meat Market\", 'LA', '$', 4.5, 47, 'meat', 18.8),\n",
       " ('Oo-Kook Korean BBQ', 'LA', '$$', 4, 1770, 'meat', 18.8),\n",
       " ('Honey Pig', 'LA', '$$', 3.5, 906, 'meat', 18.8),\n",
       " ('El Caney Meat Market', 'LA', '$', 4.5, 9, 'meat', 18.8),\n",
       " ('Beverly Soon Tofu Restaurant', 'LA', '$$', 4, 1428, 'meat', 18.8),\n",
       " ('DTLA Cheese', 'LA', '$$', 4, 256, 'meat', 18.8),\n",
       " (\"Russak's Cured & Smoked Products\", 'LA', '', 5, 3, 'meat', 18.8),\n",
       " ('Hwang Hae Do Korean BBQ', 'LA', '$$', 4, 146, 'meat', 18.8),\n",
       " ('Easyfit', 'LA', '$$', 4.5, 34, 'meat', 18.8),\n",
       " ('Ay-Do-No Korean BBQ', 'LA', '$$', 4, 464, 'meat', 18.8),\n",
       " ('Mr T Meat Market', 'LA', '$$$', 5, 2, 'meat', 18.8),\n",
       " ('Little Jewel of New Orleans', 'LA', '$$', 4, 1610, 'meat', 18.8),\n",
       " ('Secret Bar & Grill', 'LA', '$$', 3.5, 290, 'meat', 18.8),\n",
       " ('chunwei inc', 'LA', '', 4, 1, 'meat', 18.8),\n",
       " (\"Rocco's Italian Market and Deli\", 'LA', '$$', 4.5, 208, 'meat', 18.8),\n",
       " ('Hasiba', 'LA', '$$', 4.5, 152, 'meat', 18.8),\n",
       " ('Luis Meat Market', 'LA', '$', 4, 8, 'meat', 18.8),\n",
       " ('Killa Ribs', 'LA', '', 5, 1, 'meat', 18.8),\n",
       " ('Konanyan Meat Company', 'LA', '', 4, 1, 'meat', 18.8),\n",
       " (\"John's Fish Market\", 'LA', '$$', 4.5, 16, 'meat', 18.8),\n",
       " ('Mercado Buenos Aires', 'LA', '$$', 4, 561, 'meat', 18.8),\n",
       " ('Vintage Wine + Eats', 'LA', '', 5, 1, 'meat', 18.8),\n",
       " ('Selam Market & Deli', 'LA', '$', 4, 10, 'meat', 18.8),\n",
       " ('Kalbis Grill', 'LA', '$$', 4, 27, 'meat', 18.8),\n",
       " ('Korea BBQ House', 'LA', '$$', 4, 211, 'meat', 18.8),\n",
       " ('Sun Ha Jang', 'LA', '$$', 3.5, 199, 'meat', 18.8),\n",
       " ('Toe Bang Cafe', 'LA', '$$', 4, 820, 'meat', 18.8),\n",
       " ('La Familia Meat Market', 'LA', '', 1, 1, 'meat', 18.8),\n",
       " ('Sevan Meat Market', 'LA', '$$', 4.5, 26, 'meat', 18.8),\n",
       " ('SuKarne - Premium Meats', 'LA', '', 5, 1, 'meat', 18.8),\n",
       " (\"Pecos Bill's BBQ\", 'LA', '$', 4, 260, 'meat', 18.8),\n",
       " ('Baltaire', 'LA', '$$$$', 4, 696, 'meat', 18.8),\n",
       " ('Little Ocha Extra', 'LA', '$', 4, 182, 'meat', 18.8),\n",
       " ('Carniceria Guadalajara', 'LA', '$$', 4.5, 9, 'meat', 18.8),\n",
       " ('La Boucherie', 'LA', '$$$$', 4, 309, 'meat', 18.8),\n",
       " ('Dream Dinners', 'LA', '$$', 5, 15, 'meat', 18.8),\n",
       " (\"Chin's Hawaiian Teriyaki Bbq Chicken\", 'LA', '$', 4, 59, 'meat', 18.8),\n",
       " ('Glenoaks Meat Market', 'LA', '$$', 4.5, 11, 'meat', 18.8),\n",
       " ('Wood Ranch BBQ & Grill', 'LA', '$$', 4, 583, 'meat', 18.8),\n",
       " ('Chivas Farm Market', 'LA', '', 5, 1, 'meat', 18.8),\n",
       " ('La Pergoletta Deli', 'LA', '', 4.5, 16, 'meat', 18.8),\n",
       " (\"Chow's Meat Market\", 'LA', '', 5, 1, 'meat', 18.8),\n",
       " ('Galbi King', 'LA', '$$', 3, 516, 'meat', 18.8),\n",
       " ('Peoples Sausage Company', 'LA', '$', 4.5, 55, 'meat', 18.8),\n",
       " (\"Chong's Meat & Fish Market\", 'LA', '$$', 4.5, 15, 'meat', 18.8),\n",
       " ('Cast Iron Gourmet', 'LA', '$$$', 4.5, 7, 'meat', 18.8),\n",
       " ('Noho Halal Meat & Grocery', 'LA', '$', 4, 29, 'meat', 18.8),\n",
       " (\"Farmer's Market Poultry\", 'LA', '$$', 4.5, 17, 'meat', 18.8),\n",
       " ('French Street Bistro', 'LA', '$$', 3, 13, 'meat', 18.8),\n",
       " ('Chosun Galbee', 'LA', '$$$', 4, 1601, 'meat', 18.8),\n",
       " ('L&L Hawaiian Barbecue', 'LA', '$', 3.5, 160, 'meat', 18.8),\n",
       " ('Eastside Market Italian Deli', 'LA', '$', 4.5, 977, 'meat', 18.8),\n",
       " ('Wood Ranch BBQ & Grill', 'LA', '$$', 3.5, 927, 'meat', 18.8),\n",
       " ...]"
      ]
     },
     "execution_count": 8,
     "metadata": {},
     "output_type": "execute_result"
    }
   ],
   "source": [
    "c.execute(\"\"\"select * from rest_info\"\"\").fetchall()"
   ]
  },
  {
   "cell_type": "code",
   "execution_count": 9,
   "metadata": {
    "scrolled": true
   },
   "outputs": [
    {
     "data": {
      "text/html": [
       "<div>\n",
       "<style scoped>\n",
       "    .dataframe tbody tr th:only-of-type {\n",
       "        vertical-align: middle;\n",
       "    }\n",
       "\n",
       "    .dataframe tbody tr th {\n",
       "        vertical-align: top;\n",
       "    }\n",
       "\n",
       "    .dataframe thead th {\n",
       "        text-align: right;\n",
       "    }\n",
       "</style>\n",
       "<table border=\"1\" class=\"dataframe\">\n",
       "  <thead>\n",
       "    <tr style=\"text-align: right;\">\n",
       "      <th></th>\n",
       "      <th>name</th>\n",
       "      <th>city</th>\n",
       "      <th>price</th>\n",
       "      <th>rating</th>\n",
       "      <th>review_count</th>\n",
       "      <th>rest_type</th>\n",
       "      <th>pop_in_mil</th>\n",
       "    </tr>\n",
       "  </thead>\n",
       "  <tbody>\n",
       "    <tr>\n",
       "      <th>0</th>\n",
       "      <td>name</td>\n",
       "      <td>NYC</td>\n",
       "      <td>price</td>\n",
       "      <td>rating</td>\n",
       "      <td>review_count</td>\n",
       "      <td>vegan</td>\n",
       "      <td>18.4</td>\n",
       "    </tr>\n",
       "    <tr>\n",
       "      <th>1</th>\n",
       "      <td>Jajaja</td>\n",
       "      <td>NYC</td>\n",
       "      <td>$$</td>\n",
       "      <td>4.5</td>\n",
       "      <td>719</td>\n",
       "      <td>vegan</td>\n",
       "      <td>18.4</td>\n",
       "    </tr>\n",
       "    <tr>\n",
       "      <th>2</th>\n",
       "      <td>Seasoned Vegan</td>\n",
       "      <td>NYC</td>\n",
       "      <td>$$</td>\n",
       "      <td>4</td>\n",
       "      <td>1054</td>\n",
       "      <td>vegan</td>\n",
       "      <td>18.4</td>\n",
       "    </tr>\n",
       "    <tr>\n",
       "      <th>3</th>\n",
       "      <td>by CHLOE. West Village</td>\n",
       "      <td>NYC</td>\n",
       "      <td>$$</td>\n",
       "      <td>4</td>\n",
       "      <td>1598</td>\n",
       "      <td>vegan</td>\n",
       "      <td>18.4</td>\n",
       "    </tr>\n",
       "    <tr>\n",
       "      <th>4</th>\n",
       "      <td>XYST</td>\n",
       "      <td>NYC</td>\n",
       "      <td>$$</td>\n",
       "      <td>4</td>\n",
       "      <td>241</td>\n",
       "      <td>vegan</td>\n",
       "      <td>18.4</td>\n",
       "    </tr>\n",
       "  </tbody>\n",
       "</table>\n",
       "</div>"
      ],
      "text/plain": [
       "                     name city  price  rating  review_count rest_type  \\\n",
       "0                    name  NYC  price  rating  review_count     vegan   \n",
       "1                  Jajaja  NYC     $$     4.5           719     vegan   \n",
       "2          Seasoned Vegan  NYC     $$       4          1054     vegan   \n",
       "3  by CHLOE. West Village  NYC     $$       4          1598     vegan   \n",
       "4                    XYST  NYC     $$       4           241     vegan   \n",
       "\n",
       "   pop_in_mil  \n",
       "0        18.4  \n",
       "1        18.4  \n",
       "2        18.4  \n",
       "3        18.4  \n",
       "4        18.4  "
      ]
     },
     "execution_count": 9,
     "metadata": {},
     "output_type": "execute_result"
    }
   ],
   "source": [
    "c.execute(\"\"\"SELECT * from rest_info\"\"\")\n",
    "df = pd.DataFrame(c.fetchall())\n",
    "df.columns = ['name','city', 'price', 'rating', 'review_count', 'rest_type', 'pop_in_mil']\n",
    "df.head()"
   ]
  },
  {
   "cell_type": "code",
   "execution_count": 11,
   "metadata": {},
   "outputs": [],
   "source": [
    "df.loc[df['rating']=='rating']\n",
    "# df.drop([0, 701, 1402, 2084, 2785, 3486, 4187, 4658], inplace = True)"
   ]
  },
  {
   "cell_type": "code",
   "execution_count": 12,
   "metadata": {
    "scrolled": true
   },
   "outputs": [],
   "source": [
    "df.price.replace('',np.NaN, inplace = True)"
   ]
  },
  {
   "cell_type": "code",
   "execution_count": 13,
   "metadata": {},
   "outputs": [],
   "source": [
    "df = df.dropna(axis = 0)"
   ]
  },
  {
   "cell_type": "code",
   "execution_count": 14,
   "metadata": {
    "scrolled": true
   },
   "outputs": [
    {
     "data": {
      "text/html": [
       "<div>\n",
       "<style scoped>\n",
       "    .dataframe tbody tr th:only-of-type {\n",
       "        vertical-align: middle;\n",
       "    }\n",
       "\n",
       "    .dataframe tbody tr th {\n",
       "        vertical-align: top;\n",
       "    }\n",
       "\n",
       "    .dataframe thead th {\n",
       "        text-align: right;\n",
       "    }\n",
       "</style>\n",
       "<table border=\"1\" class=\"dataframe\">\n",
       "  <thead>\n",
       "    <tr style=\"text-align: right;\">\n",
       "      <th></th>\n",
       "      <th>name</th>\n",
       "      <th>city</th>\n",
       "      <th>price</th>\n",
       "      <th>rating</th>\n",
       "      <th>review_count</th>\n",
       "      <th>rest_type</th>\n",
       "      <th>pop_in_mil</th>\n",
       "    </tr>\n",
       "  </thead>\n",
       "  <tbody>\n",
       "    <tr>\n",
       "      <th>1</th>\n",
       "      <td>Jajaja</td>\n",
       "      <td>NYC</td>\n",
       "      <td>$$</td>\n",
       "      <td>4.5</td>\n",
       "      <td>719</td>\n",
       "      <td>vegan</td>\n",
       "      <td>18.4</td>\n",
       "    </tr>\n",
       "    <tr>\n",
       "      <th>2</th>\n",
       "      <td>Seasoned Vegan</td>\n",
       "      <td>NYC</td>\n",
       "      <td>$$</td>\n",
       "      <td>4</td>\n",
       "      <td>1054</td>\n",
       "      <td>vegan</td>\n",
       "      <td>18.4</td>\n",
       "    </tr>\n",
       "    <tr>\n",
       "      <th>3</th>\n",
       "      <td>by CHLOE. West Village</td>\n",
       "      <td>NYC</td>\n",
       "      <td>$$</td>\n",
       "      <td>4</td>\n",
       "      <td>1598</td>\n",
       "      <td>vegan</td>\n",
       "      <td>18.4</td>\n",
       "    </tr>\n",
       "    <tr>\n",
       "      <th>4</th>\n",
       "      <td>XYST</td>\n",
       "      <td>NYC</td>\n",
       "      <td>$$</td>\n",
       "      <td>4</td>\n",
       "      <td>241</td>\n",
       "      <td>vegan</td>\n",
       "      <td>18.4</td>\n",
       "    </tr>\n",
       "    <tr>\n",
       "      <th>5</th>\n",
       "      <td>Urban Vegan Kitchen</td>\n",
       "      <td>NYC</td>\n",
       "      <td>$$</td>\n",
       "      <td>4</td>\n",
       "      <td>354</td>\n",
       "      <td>vegan</td>\n",
       "      <td>18.4</td>\n",
       "    </tr>\n",
       "  </tbody>\n",
       "</table>\n",
       "</div>"
      ],
      "text/plain": [
       "                     name city price rating review_count rest_type  pop_in_mil\n",
       "1                  Jajaja  NYC    $$    4.5          719     vegan        18.4\n",
       "2          Seasoned Vegan  NYC    $$      4         1054     vegan        18.4\n",
       "3  by CHLOE. West Village  NYC    $$      4         1598     vegan        18.4\n",
       "4                    XYST  NYC    $$      4          241     vegan        18.4\n",
       "5     Urban Vegan Kitchen  NYC    $$      4          354     vegan        18.4"
      ]
     },
     "execution_count": 14,
     "metadata": {},
     "output_type": "execute_result"
    }
   ],
   "source": [
    "# df['pop_in_mil'] = np.nan\n",
    "df.head()"
   ]
  },
  {
   "cell_type": "code",
   "execution_count": 15,
   "metadata": {},
   "outputs": [
    {
     "data": {
      "text/html": [
       "<div>\n",
       "<style scoped>\n",
       "    .dataframe tbody tr th:only-of-type {\n",
       "        vertical-align: middle;\n",
       "    }\n",
       "\n",
       "    .dataframe tbody tr th {\n",
       "        vertical-align: top;\n",
       "    }\n",
       "\n",
       "    .dataframe thead th {\n",
       "        text-align: right;\n",
       "    }\n",
       "</style>\n",
       "<table border=\"1\" class=\"dataframe\">\n",
       "  <thead>\n",
       "    <tr style=\"text-align: right;\">\n",
       "      <th></th>\n",
       "      <th>name</th>\n",
       "      <th>city</th>\n",
       "      <th>price</th>\n",
       "      <th>rating</th>\n",
       "      <th>review_count</th>\n",
       "      <th>rest_type</th>\n",
       "      <th>pop_in_mil</th>\n",
       "      <th>pop_review_count</th>\n",
       "    </tr>\n",
       "  </thead>\n",
       "  <tbody>\n",
       "    <tr>\n",
       "      <th>1</th>\n",
       "      <td>Jajaja</td>\n",
       "      <td>NYC</td>\n",
       "      <td>$$</td>\n",
       "      <td>4.5</td>\n",
       "      <td>719</td>\n",
       "      <td>vegan</td>\n",
       "      <td>18.4</td>\n",
       "      <td>39.0761</td>\n",
       "    </tr>\n",
       "    <tr>\n",
       "      <th>2</th>\n",
       "      <td>Seasoned Vegan</td>\n",
       "      <td>NYC</td>\n",
       "      <td>$$</td>\n",
       "      <td>4</td>\n",
       "      <td>1054</td>\n",
       "      <td>vegan</td>\n",
       "      <td>18.4</td>\n",
       "      <td>57.2826</td>\n",
       "    </tr>\n",
       "    <tr>\n",
       "      <th>3</th>\n",
       "      <td>by CHLOE. West Village</td>\n",
       "      <td>NYC</td>\n",
       "      <td>$$</td>\n",
       "      <td>4</td>\n",
       "      <td>1598</td>\n",
       "      <td>vegan</td>\n",
       "      <td>18.4</td>\n",
       "      <td>86.8478</td>\n",
       "    </tr>\n",
       "    <tr>\n",
       "      <th>4</th>\n",
       "      <td>XYST</td>\n",
       "      <td>NYC</td>\n",
       "      <td>$$</td>\n",
       "      <td>4</td>\n",
       "      <td>241</td>\n",
       "      <td>vegan</td>\n",
       "      <td>18.4</td>\n",
       "      <td>13.0978</td>\n",
       "    </tr>\n",
       "    <tr>\n",
       "      <th>5</th>\n",
       "      <td>Urban Vegan Kitchen</td>\n",
       "      <td>NYC</td>\n",
       "      <td>$$</td>\n",
       "      <td>4</td>\n",
       "      <td>354</td>\n",
       "      <td>vegan</td>\n",
       "      <td>18.4</td>\n",
       "      <td>19.2391</td>\n",
       "    </tr>\n",
       "  </tbody>\n",
       "</table>\n",
       "</div>"
      ],
      "text/plain": [
       "                     name city price rating review_count rest_type  \\\n",
       "1                  Jajaja  NYC    $$    4.5          719     vegan   \n",
       "2          Seasoned Vegan  NYC    $$      4         1054     vegan   \n",
       "3  by CHLOE. West Village  NYC    $$      4         1598     vegan   \n",
       "4                    XYST  NYC    $$      4          241     vegan   \n",
       "5     Urban Vegan Kitchen  NYC    $$      4          354     vegan   \n",
       "\n",
       "   pop_in_mil pop_review_count  \n",
       "1        18.4          39.0761  \n",
       "2        18.4          57.2826  \n",
       "3        18.4          86.8478  \n",
       "4        18.4          13.0978  \n",
       "5        18.4          19.2391  "
      ]
     },
     "execution_count": 15,
     "metadata": {},
     "output_type": "execute_result"
    }
   ],
   "source": [
    "df['pop_review_count'] = df.review_count / df.pop_in_mil\n",
    "df.head()"
   ]
  },
  {
   "cell_type": "code",
   "execution_count": 16,
   "metadata": {},
   "outputs": [
    {
     "data": {
      "text/plain": [
       "name                0\n",
       "city                0\n",
       "price               0\n",
       "rating              0\n",
       "review_count        0\n",
       "rest_type           0\n",
       "pop_in_mil          0\n",
       "pop_review_count    0\n",
       "dtype: int64"
      ]
     },
     "execution_count": 16,
     "metadata": {},
     "output_type": "execute_result"
    }
   ],
   "source": [
    "df.isna().sum()"
   ]
  },
  {
   "cell_type": "code",
   "execution_count": 17,
   "metadata": {},
   "outputs": [
    {
     "data": {
      "text/plain": [
       "(4618, 8)"
      ]
     },
     "execution_count": 17,
     "metadata": {},
     "output_type": "execute_result"
    }
   ],
   "source": [
    "df.shape"
   ]
  },
  {
   "cell_type": "code",
   "execution_count": 18,
   "metadata": {},
   "outputs": [
    {
     "data": {
      "text/plain": [
       "array(['NYC', 'LA', 'Dallas', 'Minn'], dtype=object)"
      ]
     },
     "execution_count": 18,
     "metadata": {},
     "output_type": "execute_result"
    }
   ],
   "source": [
    "df.city.unique()"
   ]
  },
  {
   "cell_type": "code",
   "execution_count": 19,
   "metadata": {
    "scrolled": true
   },
   "outputs": [],
   "source": [
    "df_ny = df.loc[lambda df: df['city'] == 'NYC'] "
   ]
  },
  {
   "cell_type": "code",
   "execution_count": 20,
   "metadata": {},
   "outputs": [
    {
     "data": {
      "text/plain": [
       "array([4.5, 4, 3.5, 5, 3, 2.5, 1.5, 2], dtype=object)"
      ]
     },
     "execution_count": 20,
     "metadata": {},
     "output_type": "execute_result"
    }
   ],
   "source": [
    "df_ny.rating.unique()"
   ]
  },
  {
   "cell_type": "code",
   "execution_count": 21,
   "metadata": {},
   "outputs": [],
   "source": [
    "df_ny_vegan = df_ny.loc[lambda df_ny : df_ny['rest_type'] =='vegan']"
   ]
  },
  {
   "cell_type": "code",
   "execution_count": 22,
   "metadata": {},
   "outputs": [],
   "source": [
    "df_ny_meat = df_ny.loc[lambda df_ny : df_ny['rest_type'] =='meat']"
   ]
  },
  {
   "cell_type": "markdown",
   "metadata": {},
   "source": [
    "##  Question 1 : Is there a quality difference between vegan and non-vegan restaurants in NYC ?"
   ]
  },
  {
   "cell_type": "markdown",
   "metadata": {},
   "source": [
    "- H0: there is not a significant difference between the average rating and the type of restaurant in NYC.\n",
    "- H1: there is a significant different between the average rating and the type of restaurant.\n",
    "- The alpha level (i.e. the probability of rejecting the null hypothesis when it is true) will be set at 0.05 for a two-tailed test."
   ]
  },
  {
   "cell_type": "code",
   "execution_count": 23,
   "metadata": {
    "scrolled": true
   },
   "outputs": [
    {
     "data": {
      "text/plain": [
       "<matplotlib.axes._subplots.AxesSubplot at 0x1a23fc17b8>"
      ]
     },
     "execution_count": 23,
     "metadata": {},
     "output_type": "execute_result"
    },
    {
     "data": {
      "image/png": "[encoded data removed]",
      "text/plain": [
       "<Figure size 432x288 with 1 Axes>"
      ]
     },
     "metadata": {
      "needs_background": "light"
     },
     "output_type": "display_data"
    }
   ],
   "source": [
    "sns.boxplot(list(df_ny_vegan.rating))"
   ]
  },
  {
   "cell_type": "code",
   "execution_count": 24,
   "metadata": {},
   "outputs": [
    {
     "data": {
      "text/plain": [
       "count     580.0\n",
       "unique      5.0\n",
       "top         4.0\n",
       "freq      292.0\n",
       "Name: rating, dtype: float64"
      ]
     },
     "execution_count": 24,
     "metadata": {},
     "output_type": "execute_result"
    }
   ],
   "source": [
    "df_ny_vegan.rating.describe() "
   ]
  },
  {
   "cell_type": "code",
   "execution_count": 25,
   "metadata": {},
   "outputs": [
    {
     "data": {
      "text/plain": [
       "<matplotlib.axes._subplots.AxesSubplot at 0x1a244b8b70>"
      ]
     },
     "execution_count": 25,
     "metadata": {},
     "output_type": "execute_result"
    },
    {
     "data": {
      "image/png": "[encoded data removed]",
      "text/plain": [
       "<Figure size 432x288 with 1 Axes>"
      ]
     },
     "metadata": {
      "needs_background": "light"
     },
     "output_type": "display_data"
    }
   ],
   "source": [
    "sns.boxplot(list(df_ny_meat.rating))"
   ]
  },
  {
   "cell_type": "code",
   "execution_count": 26,
   "metadata": {},
   "outputs": [
    {
     "data": {
      "text/plain": [
       "count     545.0\n",
       "unique      8.0\n",
       "top         4.0\n",
       "freq      203.0\n",
       "Name: rating, dtype: float64"
      ]
     },
     "execution_count": 26,
     "metadata": {},
     "output_type": "execute_result"
    }
   ],
   "source": [
    "df_ny_meat.rating.describe() "
   ]
  },
  {
   "cell_type": "code",
   "execution_count": 27,
   "metadata": {},
   "outputs": [
    {
     "data": {
      "image/png": "[encoded data removed]",
      "text/plain": [
       "<Figure size 432x288 with 1 Axes>"
      ]
     },
     "metadata": {
      "needs_background": "light"
     },
     "output_type": "display_data"
    }
   ],
   "source": [
    "# fig plotting vegan VS Steakhouse\n",
    "sns.distplot(list(df_ny_vegan.rating), label='Vegan', color='seagreen')\n",
    "sns.distplot(list(df_ny_meat.rating), label='Steakhouse', color='indianred')\n",
    "plt.title('Distribution plots of the rating between Vegan and Steakhouse NY')\n",
    "plt.legend();"
   ]
  },
  {
   "cell_type": "code",
   "execution_count": 28,
   "metadata": {},
   "outputs": [
    {
     "data": {
      "text/plain": [
       "Ttest_indResult(statistic=1.0357250484486435, pvalue=0.30055340407982656)"
      ]
     },
     "execution_count": 28,
     "metadata": {},
     "output_type": "execute_result"
    }
   ],
   "source": [
    "stats.ttest_ind(df_ny_vegan.rating, df_ny_meat.rating)"
   ]
  },
  {
   "cell_type": "markdown",
   "metadata": {},
   "source": [
    "Since out pvalue=0.30055340407982656 we fail to reject the null hypothesis and we can conclude that there is not significant difference between ratings of vegan and meat restaurants)"
   ]
  },
  {
   "cell_type": "code",
   "execution_count": 29,
   "metadata": {},
   "outputs": [],
   "source": [
    "def Cohen_d(group1, group2):\n",
    "    diff = group1.mean() - group2.mean()\n",
    "    n1, n2 = len(group1), len(group2)\n",
    "    var1 = group1.var()\n",
    "    var2 = group2.var()\n",
    "    # Calculate the pooled threshold as shown earlier\n",
    "    pooled_var = (n1 * var1 + n2 * var2) / (n1 + n2)\n",
    "    \n",
    "    # Calculate Cohen's d statistic\n",
    "    d = diff / np.sqrt(pooled_var)\n",
    "    \n",
    "    return d"
   ]
  },
  {
   "cell_type": "code",
   "execution_count": 30,
   "metadata": {},
   "outputs": [],
   "source": [
    "variable = Cohen_d(df_ny_vegan.rating, df_ny_meat.rating)"
   ]
  },
  {
   "cell_type": "code",
   "execution_count": 259,
   "metadata": {},
   "outputs": [
    {
     "name": "stdout",
     "output_type": "stream",
     "text": [
      "Our Effect Size is 0.24720827209036922. This is a small effect size.\n"
     ]
    }
   ],
   "source": [
    "print(f'Our Effect Size is {variable}. This is a small effect size.')"
   ]
  },
  {
   "cell_type": "markdown",
   "metadata": {},
   "source": [
    "## Question 2: Are vegan restaurants more popular in different cities?\n",
    "- H0: there is not a significant difference between the popularity (review_count) for all cities. µ1 = µ 2 = µ 3...\n",
    "- H1: there is a significant difference between the popularity in at least one city.\n",
    "- The alpha level (i.e. the probability of rejecting the null hypothesis when it is true) will be set at 0.05"
   ]
  },
  {
   "cell_type": "code",
   "execution_count": 32,
   "metadata": {},
   "outputs": [
    {
     "data": {
      "text/plain": [
       "array(['NYC', 'LA', 'Dallas', 'Minn'], dtype=object)"
      ]
     },
     "execution_count": 32,
     "metadata": {},
     "output_type": "execute_result"
    }
   ],
   "source": [
    "df.city.unique()"
   ]
  },
  {
   "cell_type": "code",
   "execution_count": 33,
   "metadata": {},
   "outputs": [],
   "source": [
    "df_la = df.loc[lambda df: df['city'] == 'LA'] \n",
    "df_la_vegan = df_la.loc[lambda df_la : df_la['rest_type'] =='vegan']\n",
    "df_la_meat = df_la.loc[lambda df_la : df_la['rest_type'] =='meat']"
   ]
  },
  {
   "cell_type": "code",
   "execution_count": 34,
   "metadata": {},
   "outputs": [],
   "source": [
    "df_dallas = df.loc[lambda df: df['city'] == 'Dallas'] \n",
    "df_dallas_vegan = df_dallas.loc[lambda df_dallas : df_dallas['rest_type'] =='vegan']\n",
    "df_dallas_meat = df_dallas.loc[lambda df_dallas : df_dallas['rest_type'] =='meat']"
   ]
  },
  {
   "cell_type": "code",
   "execution_count": 35,
   "metadata": {},
   "outputs": [],
   "source": [
    "df_minn = df.loc[lambda df: df['city'] == 'Minn'] \n",
    "df_minn_vegan = df_minn.loc[lambda df_minn : df_minn['rest_type'] =='vegan']\n",
    "df_minn_meat = df_minn.loc[lambda df_minn : df_minn['rest_type'] =='meat']"
   ]
  },
  {
   "cell_type": "code",
   "execution_count": 110,
   "metadata": {},
   "outputs": [
    {
     "data": {
      "text/plain": [
       "<matplotlib.axes._subplots.AxesSubplot at 0x1a221fff28>"
      ]
     },
     "execution_count": 110,
     "metadata": {},
     "output_type": "execute_result"
    },
    {
     "data": {
      "image/png": "[encoded data removed]",
      "text/plain": [
       "<Figure size 432x288 with 1 Axes>"
      ]
     },
     "metadata": {
      "needs_background": "light"
     },
     "output_type": "display_data"
    }
   ],
   "source": [
    "sns.distplot(list(df_ny_vegan.review_count))"
   ]
  },
  {
   "cell_type": "code",
   "execution_count": 44,
   "metadata": {},
   "outputs": [
    {
     "data": {
      "text/plain": [
       "<matplotlib.axes._subplots.AxesSubplot at 0x1a218ea550>"
      ]
     },
     "execution_count": 44,
     "metadata": {},
     "output_type": "execute_result"
    },
    {
     "data": {
      "image/png": "[encoded data removed]",
      "text/plain": [
       "<Figure size 432x288 with 1 Axes>"
      ]
     },
     "metadata": {
      "needs_background": "light"
     },
     "output_type": "display_data"
    }
   ],
   "source": [
    "sns.distplot(list(df_minn_vegan.review_count))"
   ]
  },
  {
   "cell_type": "code",
   "execution_count": 45,
   "metadata": {
    "scrolled": true
   },
   "outputs": [
    {
     "data": {
      "text/plain": [
       "<matplotlib.axes._subplots.AxesSubplot at 0x1a2178e438>"
      ]
     },
     "execution_count": 45,
     "metadata": {},
     "output_type": "execute_result"
    },
    {
     "data": {
      "image/png": "[encoded data removed]",
      "text/plain": [
       "<Figure size 432x288 with 1 Axes>"
      ]
     },
     "metadata": {
      "needs_background": "light"
     },
     "output_type": "display_data"
    }
   ],
   "source": [
    "sns.distplot(list(df_la_vegan.review_count))"
   ]
  },
  {
   "cell_type": "code",
   "execution_count": 46,
   "metadata": {
    "scrolled": true
   },
   "outputs": [
    {
     "data": {
      "text/plain": [
       "<matplotlib.axes._subplots.AxesSubplot at 0x1a21a92550>"
      ]
     },
     "execution_count": 46,
     "metadata": {},
     "output_type": "execute_result"
    },
    {
     "data": {
      "image/png": "[encoded data removed]",
      "text/plain": [
       "<Figure size 432x288 with 1 Axes>"
      ]
     },
     "metadata": {
      "needs_background": "light"
     },
     "output_type": "display_data"
    }
   ],
   "source": [
    "sns.distplot(list(df_dallas_vegan.review_count))"
   ]
  },
  {
   "cell_type": "code",
   "execution_count": 47,
   "metadata": {},
   "outputs": [
    {
     "data": {
      "text/plain": [
       "F_onewayResult(statistic=68.69232288047708, pvalue=1.1474089109186928e-42)"
      ]
     },
     "execution_count": 47,
     "metadata": {},
     "output_type": "execute_result"
    }
   ],
   "source": [
    "stats.f_oneway(df_ny_vegan.review_count, df_la_vegan.review_count, df_dallas_vegan.review_count, df_minn_vegan.review_count)\n"
   ]
  },
  {
   "cell_type": "code",
   "execution_count": 72,
   "metadata": {},
   "outputs": [
    {
     "name": "stdout",
     "output_type": "stream",
     "text": [
      "Multiple Comparison of Means - Tukey HSD,FWER=0.05\n",
      "==================================================\n",
      "group1 group2  meandiff   lower     upper   reject\n",
      "--------------------------------------------------\n",
      "Dallas   LA    265.9112  211.4227  320.3997  True \n",
      "Dallas  Minn   -91.1025 -147.1702  -35.0349  True \n",
      "Dallas  NYC    91.6724   36.4445   146.9003  True \n",
      "  LA    Minn  -357.0137 -413.7313 -300.2961  True \n",
      "  LA    NYC   -174.2388 -230.1264 -118.3511  True \n",
      " Minn   NYC    182.7749  125.3466  240.2033  True \n",
      "--------------------------------------------------\n"
     ]
    },
    {
     "data": {
      "image/png": "[encoded data removed]",
      "text/plain": [
       "<Figure size 864x576 with 1 Axes>"
      ]
     },
     "metadata": {
      "needs_background": "light"
     },
     "output_type": "display_data"
    }
   ],
   "source": [
    "# turrrrkey test\n",
    "from scipy import stats\n",
    "\n",
    "from statsmodels.stats.multicomp import (pairwise_tukeyhsd,\n",
    "                                         MultiComparison)\n",
    "from statsmodels.stats.multicomp import pairwise_tukeyhsd\n",
    "from statsmodels.stats.multicomp import MultiComparison\n",
    "mc = MultiComparison(list(df.review_count), df.city)\n",
    "mc_results = mc.tukeyhsd()\n",
    "print(mc_results)\n",
    "mc_results = mc_results.plot_simultaneous(figsize=(12,8))\n",
    "plt.show()\n"
   ]
  },
  {
   "cell_type": "code",
   "execution_count": 37,
   "metadata": {},
   "outputs": [
    {
     "data": {
      "text/plain": [
       "<matplotlib.axes._subplots.AxesSubplot at 0x1a24b08a90>"
      ]
     },
     "execution_count": 37,
     "metadata": {},
     "output_type": "execute_result"
    },
    {
     "data": {
      "image/png": "[encoded data removed]",
      "text/plain": [
       "<Figure size 432x288 with 1 Axes>"
      ]
     },
     "metadata": {
      "needs_background": "light"
     },
     "output_type": "display_data"
    }
   ],
   "source": [
    "sns.distplot(list(df_ny_vegan.pop_review_count))\n",
    "\n",
    "sns.distplot(list(df_minn_vegan.pop_review_count))\n",
    "\n",
    "sns.distplot(list(df_la_vegan.pop_review_count))\n",
    "\n",
    "sns.distplot(list(df_dallas_vegan.pop_review_count))"
   ]
  },
  {
   "cell_type": "code",
   "execution_count": 38,
   "metadata": {},
   "outputs": [
    {
     "data": {
      "text/plain": [
       "F_onewayResult(statistic=73.31614911119138, pvalue=1.9909663553329932e-45)"
      ]
     },
     "execution_count": 38,
     "metadata": {},
     "output_type": "execute_result"
    }
   ],
   "source": [
    "stats.f_oneway(df_ny_vegan.pop_review_count, df_la_vegan.pop_review_count, df_dallas_vegan.pop_review_count, df_minn_vegan.pop_review_count)"
   ]
  },
  {
   "cell_type": "code",
   "execution_count": 40,
   "metadata": {
    "scrolled": false
   },
   "outputs": [
    {
     "name": "stdout",
     "output_type": "stream",
     "text": [
      "Multiple Comparison of Means - Tukey HSD,FWER=0.05\n",
      "===============================================\n",
      "group1 group2 meandiff  lower    upper   reject\n",
      "-----------------------------------------------\n",
      "Dallas   LA   -4.9626  -9.5786  -0.3466   True \n",
      "Dallas  Minn  11.5381   6.7883  16.2878   True \n",
      "Dallas  NYC   -13.8489 -18.5276 -9.1702   True \n",
      "  LA    Minn  16.5006  11.6958  21.3055   True \n",
      "  LA    NYC   -8.8863  -13.6209 -4.1518   True \n",
      " Minn   NYC   -25.387  -30.252  -20.5219  True \n",
      "-----------------------------------------------\n"
     ]
    },
    {
     "data": {
      "image/png": "[encoded data removed]",
      "text/plain": [
       "<Figure size 864x576 with 1 Axes>"
      ]
     },
     "metadata": {
      "needs_background": "light"
     },
     "output_type": "display_data"
    }
   ],
   "source": [
    "from scipy import stats\n",
    "\n",
    "from statsmodels.stats.multicomp import (pairwise_tukeyhsd,\n",
    "                                         MultiComparison)\n",
    "from statsmodels.stats.multicomp import pairwise_tukeyhsd\n",
    "from statsmodels.stats.multicomp import MultiComparison\n",
    "mc = MultiComparison(list(df.pop_review_count), df.city)\n",
    "mc_results = mc.tukeyhsd()\n",
    "print(mc_results)\n",
    "mc_results = mc_results.plot_simultaneous(figsize=(12,8))\n",
    "plt.show()"
   ]
  },
  {
   "cell_type": "markdown",
   "metadata": {},
   "source": [
    "## Question 3: Is the quality of vegan vs. Non-vegan restaurants different across different cities?\n",
    "- H0: There is no difference between rating of Vegan and Non-vegan resturants across different cities. µ1 = µ 2 = µ 3\n",
    "- H1: There is a difference between rating of Vegan and Non-vegan resturants across different cities.\n",
    "- The alpha level (i.e. the probability of rejecting the null hypothesis when it is true) will be set at 0.01 for a one-tail test"
   ]
  },
  {
   "cell_type": "markdown",
   "metadata": {},
   "source": [
    "A two-way anova with replication tests three null hypotheses: that the means of observations grouped by one factor are the same; that the means of observations grouped by the other factor are the same; and that there is no interaction between the two factors."
   ]
  },
  {
   "cell_type": "code",
   "execution_count": 51,
   "metadata": {},
   "outputs": [
    {
     "data": {
      "text/html": [
       "<div>\n",
       "<style scoped>\n",
       "    .dataframe tbody tr th:only-of-type {\n",
       "        vertical-align: middle;\n",
       "    }\n",
       "\n",
       "    .dataframe tbody tr th {\n",
       "        vertical-align: top;\n",
       "    }\n",
       "\n",
       "    .dataframe thead th {\n",
       "        text-align: right;\n",
       "    }\n",
       "</style>\n",
       "<table border=\"1\" class=\"dataframe\">\n",
       "  <thead>\n",
       "    <tr style=\"text-align: right;\">\n",
       "      <th></th>\n",
       "      <th>name</th>\n",
       "      <th>city</th>\n",
       "      <th>price</th>\n",
       "      <th>rating</th>\n",
       "      <th>review_count</th>\n",
       "      <th>rest_type</th>\n",
       "      <th>pop_in_mil</th>\n",
       "      <th>pop_review_count</th>\n",
       "      <th>city_encode</th>\n",
       "    </tr>\n",
       "  </thead>\n",
       "  <tbody>\n",
       "    <tr>\n",
       "      <th>1</th>\n",
       "      <td>Jajaja</td>\n",
       "      <td>NYC</td>\n",
       "      <td>$$</td>\n",
       "      <td>4.5</td>\n",
       "      <td>719</td>\n",
       "      <td>vegan</td>\n",
       "      <td>18.4</td>\n",
       "      <td>39.0761</td>\n",
       "      <td>3</td>\n",
       "    </tr>\n",
       "    <tr>\n",
       "      <th>2</th>\n",
       "      <td>Seasoned Vegan</td>\n",
       "      <td>NYC</td>\n",
       "      <td>$$</td>\n",
       "      <td>4</td>\n",
       "      <td>1054</td>\n",
       "      <td>vegan</td>\n",
       "      <td>18.4</td>\n",
       "      <td>57.2826</td>\n",
       "      <td>3</td>\n",
       "    </tr>\n",
       "    <tr>\n",
       "      <th>3</th>\n",
       "      <td>by CHLOE. West Village</td>\n",
       "      <td>NYC</td>\n",
       "      <td>$$</td>\n",
       "      <td>4</td>\n",
       "      <td>1598</td>\n",
       "      <td>vegan</td>\n",
       "      <td>18.4</td>\n",
       "      <td>86.8478</td>\n",
       "      <td>3</td>\n",
       "    </tr>\n",
       "    <tr>\n",
       "      <th>4</th>\n",
       "      <td>XYST</td>\n",
       "      <td>NYC</td>\n",
       "      <td>$$</td>\n",
       "      <td>4</td>\n",
       "      <td>241</td>\n",
       "      <td>vegan</td>\n",
       "      <td>18.4</td>\n",
       "      <td>13.0978</td>\n",
       "      <td>3</td>\n",
       "    </tr>\n",
       "    <tr>\n",
       "      <th>5</th>\n",
       "      <td>Urban Vegan Kitchen</td>\n",
       "      <td>NYC</td>\n",
       "      <td>$$</td>\n",
       "      <td>4</td>\n",
       "      <td>354</td>\n",
       "      <td>vegan</td>\n",
       "      <td>18.4</td>\n",
       "      <td>19.2391</td>\n",
       "      <td>3</td>\n",
       "    </tr>\n",
       "  </tbody>\n",
       "</table>\n",
       "</div>"
      ],
      "text/plain": [
       "                     name city price rating review_count rest_type  \\\n",
       "1                  Jajaja  NYC    $$    4.5          719     vegan   \n",
       "2          Seasoned Vegan  NYC    $$      4         1054     vegan   \n",
       "3  by CHLOE. West Village  NYC    $$      4         1598     vegan   \n",
       "4                    XYST  NYC    $$      4          241     vegan   \n",
       "5     Urban Vegan Kitchen  NYC    $$      4          354     vegan   \n",
       "\n",
       "   pop_in_mil pop_review_count  city_encode  \n",
       "1        18.4          39.0761            3  \n",
       "2        18.4          57.2826            3  \n",
       "3        18.4          86.8478            3  \n",
       "4        18.4          13.0978            3  \n",
       "5        18.4          19.2391            3  "
      ]
     },
     "execution_count": 51,
     "metadata": {},
     "output_type": "execute_result"
    }
   ],
   "source": [
    "from sklearn import preprocessing \n",
    "  \n",
    "# label_encoder object knows how to understand word labels. \n",
    "label_encoder = preprocessing.LabelEncoder() \n",
    "  \n",
    "# Encode labels in column 'species'. \n",
    "df['city_encode']= label_encoder.fit_transform(df['city']) \n",
    "\n",
    "df.head()"
   ]
  },
  {
   "cell_type": "code",
   "execution_count": 56,
   "metadata": {},
   "outputs": [
    {
     "data": {
      "text/html": [
       "<div>\n",
       "<style scoped>\n",
       "    .dataframe tbody tr th:only-of-type {\n",
       "        vertical-align: middle;\n",
       "    }\n",
       "\n",
       "    .dataframe tbody tr th {\n",
       "        vertical-align: top;\n",
       "    }\n",
       "\n",
       "    .dataframe thead th {\n",
       "        text-align: right;\n",
       "    }\n",
       "</style>\n",
       "<table border=\"1\" class=\"dataframe\">\n",
       "  <thead>\n",
       "    <tr style=\"text-align: right;\">\n",
       "      <th></th>\n",
       "      <th>name</th>\n",
       "      <th>city</th>\n",
       "      <th>price</th>\n",
       "      <th>rating</th>\n",
       "      <th>review_count</th>\n",
       "      <th>rest_type</th>\n",
       "      <th>pop_in_mil</th>\n",
       "      <th>pop_review_count</th>\n",
       "      <th>city_encode</th>\n",
       "      <th>rest_type_encode</th>\n",
       "    </tr>\n",
       "  </thead>\n",
       "  <tbody>\n",
       "    <tr>\n",
       "      <th>1</th>\n",
       "      <td>Jajaja</td>\n",
       "      <td>NYC</td>\n",
       "      <td>$$</td>\n",
       "      <td>4.5</td>\n",
       "      <td>719</td>\n",
       "      <td>vegan</td>\n",
       "      <td>18.4</td>\n",
       "      <td>39.0761</td>\n",
       "      <td>3</td>\n",
       "      <td>1</td>\n",
       "    </tr>\n",
       "    <tr>\n",
       "      <th>2</th>\n",
       "      <td>Seasoned Vegan</td>\n",
       "      <td>NYC</td>\n",
       "      <td>$$</td>\n",
       "      <td>4</td>\n",
       "      <td>1054</td>\n",
       "      <td>vegan</td>\n",
       "      <td>18.4</td>\n",
       "      <td>57.2826</td>\n",
       "      <td>3</td>\n",
       "      <td>1</td>\n",
       "    </tr>\n",
       "    <tr>\n",
       "      <th>3</th>\n",
       "      <td>by CHLOE. West Village</td>\n",
       "      <td>NYC</td>\n",
       "      <td>$$</td>\n",
       "      <td>4</td>\n",
       "      <td>1598</td>\n",
       "      <td>vegan</td>\n",
       "      <td>18.4</td>\n",
       "      <td>86.8478</td>\n",
       "      <td>3</td>\n",
       "      <td>1</td>\n",
       "    </tr>\n",
       "    <tr>\n",
       "      <th>4</th>\n",
       "      <td>XYST</td>\n",
       "      <td>NYC</td>\n",
       "      <td>$$</td>\n",
       "      <td>4</td>\n",
       "      <td>241</td>\n",
       "      <td>vegan</td>\n",
       "      <td>18.4</td>\n",
       "      <td>13.0978</td>\n",
       "      <td>3</td>\n",
       "      <td>1</td>\n",
       "    </tr>\n",
       "    <tr>\n",
       "      <th>5</th>\n",
       "      <td>Urban Vegan Kitchen</td>\n",
       "      <td>NYC</td>\n",
       "      <td>$$</td>\n",
       "      <td>4</td>\n",
       "      <td>354</td>\n",
       "      <td>vegan</td>\n",
       "      <td>18.4</td>\n",
       "      <td>19.2391</td>\n",
       "      <td>3</td>\n",
       "      <td>1</td>\n",
       "    </tr>\n",
       "  </tbody>\n",
       "</table>\n",
       "</div>"
      ],
      "text/plain": [
       "                     name city price rating review_count rest_type  \\\n",
       "1                  Jajaja  NYC    $$    4.5          719     vegan   \n",
       "2          Seasoned Vegan  NYC    $$      4         1054     vegan   \n",
       "3  by CHLOE. West Village  NYC    $$      4         1598     vegan   \n",
       "4                    XYST  NYC    $$      4          241     vegan   \n",
       "5     Urban Vegan Kitchen  NYC    $$      4          354     vegan   \n",
       "\n",
       "   pop_in_mil pop_review_count  city_encode  rest_type_encode  \n",
       "1        18.4          39.0761            3                 1  \n",
       "2        18.4          57.2826            3                 1  \n",
       "3        18.4          86.8478            3                 1  \n",
       "4        18.4          13.0978            3                 1  \n",
       "5        18.4          19.2391            3                 1  "
      ]
     },
     "execution_count": 56,
     "metadata": {},
     "output_type": "execute_result"
    }
   ],
   "source": [
    "df['rest_type_encode'] = label_encoder.fit_transform(df['rest_type']) \n",
    "df.head()"
   ]
  },
  {
   "cell_type": "code",
   "execution_count": 61,
   "metadata": {
    "scrolled": true
   },
   "outputs": [
    {
     "name": "stdout",
     "output_type": "stream",
     "text": [
      "                   Multivariate linear model\n",
      "===============================================================\n",
      "                                                               \n",
      "---------------------------------------------------------------\n",
      "        Intercept        Value  Num DF   Den DF  F Value Pr > F\n",
      "---------------------------------------------------------------\n",
      "           Wilks' lambda 0.9995 2.0000 4608.0000  1.1503 0.3166\n",
      "          Pillai's trace 0.0005 2.0000 4608.0000  1.1503 0.3166\n",
      "  Hotelling-Lawley trace 0.0005 2.0000 4608.0000  1.1503 0.3166\n",
      "     Roy's greatest root 0.0005 2.0000 4608.0000  1.1503 0.3166\n",
      "---------------------------------------------------------------\n",
      "                                                               \n",
      "---------------------------------------------------------------\n",
      "         rating         Value   Num DF   Den DF  F Value Pr > F\n",
      "---------------------------------------------------------------\n",
      "          Wilks' lambda 0.9165 16.0000 9216.0000 25.6721 0.0000\n",
      "         Pillai's trace 0.0842 16.0000 9218.0000 25.3281 0.0000\n",
      " Hotelling-Lawley trace 0.0904 16.0000 7536.7777 26.0174 0.0000\n",
      "    Roy's greatest root 0.0808  8.0000 4609.0000 46.5482 0.0000\n",
      "===============================================================\n",
      "\n"
     ]
    }
   ],
   "source": [
    "from statsmodels.multivariate.manova import MANOVA \n",
    "\n",
    "feats_list  = ['city_encode' , 'rest_type_encode']\n",
    "var_list = ['rating']\n",
    "\n",
    "endog, exog = np.asarray(df[feats_list]), np.asarray(df[var_list])\n",
    "\n",
    "\n",
    "mod = MANOVA.from_formula('city_encode + rest_type_encode ~ rating', data=df)\n",
    "r = mod.mv_test()\n",
    "print(r)"
   ]
  },
  {
   "cell_type": "code",
   "execution_count": 111,
   "metadata": {
    "scrolled": true
   },
   "outputs": [],
   "source": [
    "from statsmodels.formula.api import ols\n",
    "\n",
    "model = ols('rating ~ city_encode + rest_type_encode', df).fit()\n",
    "\n",
    " # Seeing if the overall model is significant\n",
    "# print(f\"Overall model F({model.df_model: .0f},{model.df_resid: .0f}) = {model.fvalue: .3f}, p = {model.f_pvalue: .4f}\")\n",
    "# model.summary()"
   ]
  },
  {
   "cell_type": "code",
   "execution_count": 192,
   "metadata": {
    "scrolled": true
   },
   "outputs": [
    {
     "data": {
      "text/plain": [
       "1       4.5\n",
       "2       4.0\n",
       "3       4.0\n",
       "4       4.0\n",
       "5       4.0\n",
       "6       4.5\n",
       "7       4.5\n",
       "9       4.0\n",
       "10      4.5\n",
       "11      4.5\n",
       "12      4.5\n",
       "14      4.0\n",
       "15      4.0\n",
       "16      4.5\n",
       "17      4.0\n",
       "18      4.5\n",
       "19      4.5\n",
       "20      4.0\n",
       "21      4.0\n",
       "23      4.0\n",
       "25      4.0\n",
       "26      4.0\n",
       "27      4.0\n",
       "29      4.0\n",
       "31      4.0\n",
       "32      4.0\n",
       "33      4.5\n",
       "34      4.0\n",
       "35      4.0\n",
       "36      4.5\n",
       "       ... \n",
       "5328    3.5\n",
       "5329    3.5\n",
       "5330    3.5\n",
       "5331    4.0\n",
       "5333    4.0\n",
       "5334    4.5\n",
       "5335    4.0\n",
       "5336    3.0\n",
       "5337    3.5\n",
       "5338    3.5\n",
       "5339    4.0\n",
       "5340    3.5\n",
       "5341    4.0\n",
       "5342    4.5\n",
       "5343    4.0\n",
       "5344    3.5\n",
       "5345    4.0\n",
       "5346    3.0\n",
       "5347    4.0\n",
       "5348    4.0\n",
       "5349    3.5\n",
       "5350    4.0\n",
       "5351    3.0\n",
       "5352    4.0\n",
       "5353    3.5\n",
       "5354    4.5\n",
       "5355    3.5\n",
       "5356    3.5\n",
       "5357    4.0\n",
       "5358    3.5\n",
       "Name: rating, Length: 4618, dtype: float64"
      ]
     },
     "execution_count": 192,
     "metadata": {},
     "output_type": "execute_result"
    }
   ],
   "source": [
    "temp_ser = df.rating.astype(np.float)\n",
    "temp_ser"
   ]
  },
  {
   "cell_type": "code",
   "execution_count": 217,
   "metadata": {},
   "outputs": [
    {
     "data": {
      "text/html": [
       "<div>\n",
       "<style scoped>\n",
       "    .dataframe tbody tr th:only-of-type {\n",
       "        vertical-align: middle;\n",
       "    }\n",
       "\n",
       "    .dataframe tbody tr th {\n",
       "        vertical-align: top;\n",
       "    }\n",
       "\n",
       "    .dataframe thead th {\n",
       "        text-align: right;\n",
       "    }\n",
       "</style>\n",
       "<table border=\"1\" class=\"dataframe\">\n",
       "  <thead>\n",
       "    <tr style=\"text-align: right;\">\n",
       "      <th></th>\n",
       "      <th>name</th>\n",
       "      <th>city</th>\n",
       "      <th>price</th>\n",
       "      <th>rating</th>\n",
       "      <th>review_count</th>\n",
       "      <th>rest_type</th>\n",
       "      <th>pop_in_mil</th>\n",
       "      <th>pop_review_count</th>\n",
       "      <th>city_encode</th>\n",
       "      <th>rest_type_encode</th>\n",
       "    </tr>\n",
       "  </thead>\n",
       "  <tbody>\n",
       "    <tr>\n",
       "      <th>1</th>\n",
       "      <td>Jajaja</td>\n",
       "      <td>NYC</td>\n",
       "      <td>$$</td>\n",
       "      <td>4.5</td>\n",
       "      <td>719</td>\n",
       "      <td>vegan</td>\n",
       "      <td>18.4</td>\n",
       "      <td>39.0761</td>\n",
       "      <td>3</td>\n",
       "      <td>1</td>\n",
       "    </tr>\n",
       "    <tr>\n",
       "      <th>2</th>\n",
       "      <td>Seasoned Vegan</td>\n",
       "      <td>NYC</td>\n",
       "      <td>$$</td>\n",
       "      <td>4</td>\n",
       "      <td>1054</td>\n",
       "      <td>vegan</td>\n",
       "      <td>18.4</td>\n",
       "      <td>57.2826</td>\n",
       "      <td>3</td>\n",
       "      <td>1</td>\n",
       "    </tr>\n",
       "    <tr>\n",
       "      <th>3</th>\n",
       "      <td>by CHLOE. West Village</td>\n",
       "      <td>NYC</td>\n",
       "      <td>$$</td>\n",
       "      <td>4</td>\n",
       "      <td>1598</td>\n",
       "      <td>vegan</td>\n",
       "      <td>18.4</td>\n",
       "      <td>86.8478</td>\n",
       "      <td>3</td>\n",
       "      <td>1</td>\n",
       "    </tr>\n",
       "    <tr>\n",
       "      <th>4</th>\n",
       "      <td>XYST</td>\n",
       "      <td>NYC</td>\n",
       "      <td>$$</td>\n",
       "      <td>4</td>\n",
       "      <td>241</td>\n",
       "      <td>vegan</td>\n",
       "      <td>18.4</td>\n",
       "      <td>13.0978</td>\n",
       "      <td>3</td>\n",
       "      <td>1</td>\n",
       "    </tr>\n",
       "    <tr>\n",
       "      <th>5</th>\n",
       "      <td>Urban Vegan Kitchen</td>\n",
       "      <td>NYC</td>\n",
       "      <td>$$</td>\n",
       "      <td>4</td>\n",
       "      <td>354</td>\n",
       "      <td>vegan</td>\n",
       "      <td>18.4</td>\n",
       "      <td>19.2391</td>\n",
       "      <td>3</td>\n",
       "      <td>1</td>\n",
       "    </tr>\n",
       "  </tbody>\n",
       "</table>\n",
       "</div>"
      ],
      "text/plain": [
       "                     name city price rating review_count rest_type  \\\n",
       "1                  Jajaja  NYC    $$    4.5          719     vegan   \n",
       "2          Seasoned Vegan  NYC    $$      4         1054     vegan   \n",
       "3  by CHLOE. West Village  NYC    $$      4         1598     vegan   \n",
       "4                    XYST  NYC    $$      4          241     vegan   \n",
       "5     Urban Vegan Kitchen  NYC    $$      4          354     vegan   \n",
       "\n",
       "   pop_in_mil pop_review_count  city_encode  rest_type_encode  \n",
       "1        18.4          39.0761            3                 1  \n",
       "2        18.4          57.2826            3                 1  \n",
       "3        18.4          86.8478            3                 1  \n",
       "4        18.4          13.0978            3                 1  \n",
       "5        18.4          19.2391            3                 1  "
      ]
     },
     "execution_count": 217,
     "metadata": {},
     "output_type": "execute_result"
    }
   ],
   "source": [
    "df.head()"
   ]
  },
  {
   "cell_type": "code",
   "execution_count": 218,
   "metadata": {},
   "outputs": [],
   "source": [
    "df_temp = df.drop(['rating'], axis = 1)"
   ]
  },
  {
   "cell_type": "code",
   "execution_count": 219,
   "metadata": {},
   "outputs": [],
   "source": [
    "temp_df = pd.concat([df_temp, temp_ser], axis = 1)"
   ]
  },
  {
   "cell_type": "code",
   "execution_count": 220,
   "metadata": {
    "scrolled": true
   },
   "outputs": [
    {
     "data": {
      "text/plain": [
       "Index(['name', 'city', 'price', 'review_count', 'rest_type', 'pop_in_mil',\n",
       "       'pop_review_count', 'city_encode', 'rest_type_encode', 'rating'],\n",
       "      dtype='object')"
      ]
     },
     "execution_count": 220,
     "metadata": {},
     "output_type": "execute_result"
    }
   ],
   "source": [
    "temp_df.columns"
   ]
  },
  {
   "cell_type": "code",
   "execution_count": 221,
   "metadata": {},
   "outputs": [
    {
     "data": {
      "text/plain": [
       "name                 object\n",
       "city                 object\n",
       "price                object\n",
       "review_count         object\n",
       "rest_type            object\n",
       "pop_in_mil          float64\n",
       "pop_review_count     object\n",
       "city_encode           int64\n",
       "rest_type_encode      int64\n",
       "rating              float64\n",
       "dtype: object"
      ]
     },
     "execution_count": 221,
     "metadata": {},
     "output_type": "execute_result"
    }
   ],
   "source": [
    "temp_df.dtypes"
   ]
  },
  {
   "cell_type": "code",
   "execution_count": 227,
   "metadata": {
    "scrolled": true
   },
   "outputs": [
    {
     "data": {
      "text/html": [
       "<table class=\"simpletable\">\n",
       "<caption>OLS Regression Results</caption>\n",
       "<tr>\n",
       "  <th>Dep. Variable:</th>         <td>rating</td>      <th>  R-squared:         </th> <td>   0.148</td> \n",
       "</tr>\n",
       "<tr>\n",
       "  <th>Model:</th>                   <td>OLS</td>       <th>  Adj. R-squared:    </th> <td>   0.147</td> \n",
       "</tr>\n",
       "<tr>\n",
       "  <th>Method:</th>             <td>Least Squares</td>  <th>  F-statistic:       </th> <td>   200.6</td> \n",
       "</tr>\n",
       "<tr>\n",
       "  <th>Date:</th>             <td>Tue, 16 Jul 2019</td> <th>  Prob (F-statistic):</th> <td>7.94e-159</td>\n",
       "</tr>\n",
       "<tr>\n",
       "  <th>Time:</th>                 <td>14:55:37</td>     <th>  Log-Likelihood:    </th> <td> -3730.1</td> \n",
       "</tr>\n",
       "<tr>\n",
       "  <th>No. Observations:</th>      <td>  4618</td>      <th>  AIC:               </th> <td>   7470.</td> \n",
       "</tr>\n",
       "<tr>\n",
       "  <th>Df Residuals:</th>          <td>  4613</td>      <th>  BIC:               </th> <td>   7502.</td> \n",
       "</tr>\n",
       "<tr>\n",
       "  <th>Df Model:</th>              <td>     4</td>      <th>                     </th>     <td> </td>    \n",
       "</tr>\n",
       "<tr>\n",
       "  <th>Covariance Type:</th>      <td>nonrobust</td>    <th>                     </th>     <td> </td>    \n",
       "</tr>\n",
       "</table>\n",
       "<table class=\"simpletable\">\n",
       "<tr>\n",
       "           <td></td>             <th>coef</th>     <th>std err</th>      <th>t</th>      <th>P>|t|</th>  <th>[0.025</th>    <th>0.975]</th>  \n",
       "</tr>\n",
       "<tr>\n",
       "  <th>Intercept</th>          <td>    3.6586</td> <td>    0.018</td> <td>  208.788</td> <td> 0.000</td> <td>    3.624</td> <td>    3.693</td>\n",
       "</tr>\n",
       "<tr>\n",
       "  <th>city[T.LA]</th>         <td>    0.4088</td> <td>    0.022</td> <td>   18.548</td> <td> 0.000</td> <td>    0.366</td> <td>    0.452</td>\n",
       "</tr>\n",
       "<tr>\n",
       "  <th>city[T.Minn]</th>       <td>   -0.0505</td> <td>    0.023</td> <td>   -2.220</td> <td> 0.026</td> <td>   -0.095</td> <td>   -0.006</td>\n",
       "</tr>\n",
       "<tr>\n",
       "  <th>city[T.NYC]</th>        <td>    0.3531</td> <td>    0.022</td> <td>   15.808</td> <td> 0.000</td> <td>    0.309</td> <td>    0.397</td>\n",
       "</tr>\n",
       "<tr>\n",
       "  <th>rest_type[T.vegan]</th> <td>    0.2204</td> <td>    0.016</td> <td>   13.706</td> <td> 0.000</td> <td>    0.189</td> <td>    0.252</td>\n",
       "</tr>\n",
       "</table>\n",
       "<table class=\"simpletable\">\n",
       "<tr>\n",
       "  <th>Omnibus:</th>       <td>430.456</td> <th>  Durbin-Watson:     </th> <td>   1.598</td> \n",
       "</tr>\n",
       "<tr>\n",
       "  <th>Prob(Omnibus):</th> <td> 0.000</td>  <th>  Jarque-Bera (JB):  </th> <td> 755.587</td> \n",
       "</tr>\n",
       "<tr>\n",
       "  <th>Skew:</th>          <td>-0.654</td>  <th>  Prob(JB):          </th> <td>8.44e-165</td>\n",
       "</tr>\n",
       "<tr>\n",
       "  <th>Kurtosis:</th>      <td> 4.488</td>  <th>  Cond. No.          </th> <td>    5.29</td> \n",
       "</tr>\n",
       "</table><br/><br/>Warnings:<br/>[1] Standard Errors assume that the covariance matrix of the errors is correctly specified."
      ],
      "text/plain": [
       "<class 'statsmodels.iolib.summary.Summary'>\n",
       "\"\"\"\n",
       "                            OLS Regression Results                            \n",
       "==============================================================================\n",
       "Dep. Variable:                 rating   R-squared:                       0.148\n",
       "Model:                            OLS   Adj. R-squared:                  0.147\n",
       "Method:                 Least Squares   F-statistic:                     200.6\n",
       "Date:                Tue, 16 Jul 2019   Prob (F-statistic):          7.94e-159\n",
       "Time:                        14:55:37   Log-Likelihood:                -3730.1\n",
       "No. Observations:                4618   AIC:                             7470.\n",
       "Df Residuals:                    4613   BIC:                             7502.\n",
       "Df Model:                           4                                         \n",
       "Covariance Type:            nonrobust                                         \n",
       "======================================================================================\n",
       "                         coef    std err          t      P>|t|      [0.025      0.975]\n",
       "--------------------------------------------------------------------------------------\n",
       "Intercept              3.6586      0.018    208.788      0.000       3.624       3.693\n",
       "city[T.LA]             0.4088      0.022     18.548      0.000       0.366       0.452\n",
       "city[T.Minn]          -0.0505      0.023     -2.220      0.026      -0.095      -0.006\n",
       "city[T.NYC]            0.3531      0.022     15.808      0.000       0.309       0.397\n",
       "rest_type[T.vegan]     0.2204      0.016     13.706      0.000       0.189       0.252\n",
       "==============================================================================\n",
       "Omnibus:                      430.456   Durbin-Watson:                   1.598\n",
       "Prob(Omnibus):                  0.000   Jarque-Bera (JB):              755.587\n",
       "Skew:                          -0.654   Prob(JB):                    8.44e-165\n",
       "Kurtosis:                       4.488   Cond. No.                         5.29\n",
       "==============================================================================\n",
       "\n",
       "Warnings:\n",
       "[1] Standard Errors assume that the covariance matrix of the errors is correctly specified.\n",
       "\"\"\""
      ]
     },
     "execution_count": 227,
     "metadata": {},
     "output_type": "execute_result"
    }
   ],
   "source": [
    "model = ols('rating ~ city + rest_type', data = temp_df)\n",
    "model.fit().summary()    "
   ]
  },
  {
   "cell_type": "code",
   "execution_count": 229,
   "metadata": {
    "scrolled": true
   },
   "outputs": [],
   "source": [
    "formula = 'rating ~ C(city) + C(rest_type) + C(rest_type) : C(city)'\n",
    "model = ols(formula, temp_df).fit()\n",
    "aov_table = anova_lm(model, typ=2)"
   ]
  },
  {
   "cell_type": "code",
   "execution_count": 230,
   "metadata": {},
   "outputs": [
    {
     "data": {
      "text/html": [
       "<div>\n",
       "<style scoped>\n",
       "    .dataframe tbody tr th:only-of-type {\n",
       "        vertical-align: middle;\n",
       "    }\n",
       "\n",
       "    .dataframe tbody tr th {\n",
       "        vertical-align: top;\n",
       "    }\n",
       "\n",
       "    .dataframe thead th {\n",
       "        text-align: right;\n",
       "    }\n",
       "</style>\n",
       "<table border=\"1\" class=\"dataframe\">\n",
       "  <thead>\n",
       "    <tr style=\"text-align: right;\">\n",
       "      <th></th>\n",
       "      <th>sum_sq</th>\n",
       "      <th>df</th>\n",
       "      <th>F</th>\n",
       "      <th>PR(&gt;F)</th>\n",
       "    </tr>\n",
       "  </thead>\n",
       "  <tbody>\n",
       "    <tr>\n",
       "      <th>C(city)</th>\n",
       "      <td>191.895966</td>\n",
       "      <td>3.0</td>\n",
       "      <td>221.341216</td>\n",
       "      <td>3.781723e-134</td>\n",
       "    </tr>\n",
       "    <tr>\n",
       "      <th>C(rest_type)</th>\n",
       "      <td>55.383470</td>\n",
       "      <td>1.0</td>\n",
       "      <td>191.645162</td>\n",
       "      <td>9.858571e-43</td>\n",
       "    </tr>\n",
       "    <tr>\n",
       "      <th>C(rest_type):C(city)</th>\n",
       "      <td>27.851970</td>\n",
       "      <td>3.0</td>\n",
       "      <td>32.125683</td>\n",
       "      <td>1.519463e-20</td>\n",
       "    </tr>\n",
       "    <tr>\n",
       "      <th>Residual</th>\n",
       "      <td>1332.242319</td>\n",
       "      <td>4610.0</td>\n",
       "      <td>NaN</td>\n",
       "      <td>NaN</td>\n",
       "    </tr>\n",
       "  </tbody>\n",
       "</table>\n",
       "</div>"
      ],
      "text/plain": [
       "                           sum_sq      df           F         PR(>F)\n",
       "C(city)                191.895966     3.0  221.341216  3.781723e-134\n",
       "C(rest_type)            55.383470     1.0  191.645162   9.858571e-43\n",
       "C(rest_type):C(city)    27.851970     3.0   32.125683   1.519463e-20\n",
       "Residual              1332.242319  4610.0         NaN            NaN"
      ]
     },
     "execution_count": 230,
     "metadata": {},
     "output_type": "execute_result"
    }
   ],
   "source": [
    "aov_table"
   ]
  },
  {
   "cell_type": "markdown",
   "metadata": {},
   "source": [
    "## LA: VEGAN VS. MEAT"
   ]
  },
  {
   "cell_type": "code",
   "execution_count": 233,
   "metadata": {
    "scrolled": true
   },
   "outputs": [
    {
     "data": {
      "text/plain": [
       "count     602.0\n",
       "unique      5.0\n",
       "top         4.0\n",
       "freq      293.0\n",
       "Name: rating, dtype: float64"
      ]
     },
     "execution_count": 233,
     "metadata": {},
     "output_type": "execute_result"
    },
    {
     "data": {
      "image/png": "[encoded data removed]",
      "text/plain": [
       "<Figure size 432x288 with 1 Axes>"
      ]
     },
     "metadata": {},
     "output_type": "display_data"
    }
   ],
   "source": [
    "sns.boxplot(list(df_la_vegan.rating))\n",
    "df_la_vegan.rating.describe() "
   ]
  },
  {
   "cell_type": "code",
   "execution_count": 234,
   "metadata": {},
   "outputs": [
    {
     "data": {
      "text/plain": [
       "count     583.0\n",
       "unique      8.0\n",
       "top         4.0\n",
       "freq      221.0\n",
       "Name: rating, dtype: float64"
      ]
     },
     "execution_count": 234,
     "metadata": {},
     "output_type": "execute_result"
    },
    {
     "data": {
      "image/png": "[encoded data removed]",
      "text/plain": [
       "<Figure size 432x288 with 1 Axes>"
      ]
     },
     "metadata": {},
     "output_type": "display_data"
    }
   ],
   "source": [
    "sns.boxplot(list(df_la_meat.rating))\n",
    "df_la_meat.rating.describe() "
   ]
  },
  {
   "cell_type": "code",
   "execution_count": 247,
   "metadata": {},
   "outputs": [
    {
     "data": {
      "image/png": "[encoded data removed]",
      "text/plain": [
       "<Figure size 432x288 with 1 Axes>"
      ]
     },
     "metadata": {},
     "output_type": "display_data"
    }
   ],
   "source": [
    "sns.distplot(list(df_la_vegan.rating), label='Vegan', color='seagreen')\n",
    "sns.distplot(list(df_la_meat.rating), label='Non-Vegan', color='indianred')\n",
    "plt.title('Distribution plots of the rating between Vegan and Non-Vegan restaurants: LA')\n",
    "plt.legend();"
   ]
  },
  {
   "cell_type": "code",
   "execution_count": 237,
   "metadata": {},
   "outputs": [
    {
     "data": {
      "text/plain": [
       "Ttest_indResult(statistic=4.254401422503947, pvalue=2.2615593368308613e-05)"
      ]
     },
     "execution_count": 237,
     "metadata": {},
     "output_type": "execute_result"
    }
   ],
   "source": [
    "stats.ttest_ind(df_la_vegan.rating, df_la_meat.rating)"
   ]
  },
  {
   "cell_type": "markdown",
   "metadata": {},
   "source": [
    "Since our pvalue = 2.2615593368308613e-05 we reject the null hypothesis and we can conclude that there is a significant difference between ratings of vegan and meat restaurants\n"
   ]
  },
  {
   "cell_type": "code",
   "execution_count": 258,
   "metadata": {},
   "outputs": [
    {
     "name": "stdout",
     "output_type": "stream",
     "text": [
      "Our Effect Size is 0.24720827209036922. This is a small effect size.\n"
     ]
    }
   ],
   "source": [
    "variable = Cohen_d(df_la_vegan.rating, df_la_meat.rating)\n",
    "print(f'Our Effect Size is {variable}. This is a small effect size.')"
   ]
  },
  {
   "cell_type": "markdown",
   "metadata": {},
   "source": [
    "## DALLAS: VEGAN VS. MEAT"
   ]
  },
  {
   "cell_type": "code",
   "execution_count": 240,
   "metadata": {},
   "outputs": [
    {
     "data": {
      "text/plain": [
       "<matplotlib.axes._subplots.AxesSubplot at 0x1c2a459ac8>"
      ]
     },
     "execution_count": 240,
     "metadata": {},
     "output_type": "execute_result"
    },
    {
     "data": {
      "image/png": "[encoded data removed]",
      "text/plain": [
       "<Figure size 432x288 with 1 Axes>"
      ]
     },
     "metadata": {},
     "output_type": "display_data"
    }
   ],
   "source": [
    "df_dallas_vegan.rating.describe() \n",
    "sns.boxplot(list(df_dallas_vegan.rating))"
   ]
  },
  {
   "cell_type": "code",
   "execution_count": 241,
   "metadata": {},
   "outputs": [
    {
     "data": {
      "text/plain": [
       "<matplotlib.axes._subplots.AxesSubplot at 0x1c2b63edd8>"
      ]
     },
     "execution_count": 241,
     "metadata": {},
     "output_type": "execute_result"
    },
    {
     "data": {
      "image/png": "[encoded data removed]",
      "text/plain": [
       "<Figure size 432x288 with 1 Axes>"
      ]
     },
     "metadata": {},
     "output_type": "display_data"
    }
   ],
   "source": [
    "df_dallas_meat.rating.describe()\n",
    "sns.boxplot(list(df_dallas_meat.rating))"
   ]
  },
  {
   "cell_type": "code",
   "execution_count": 246,
   "metadata": {},
   "outputs": [
    {
     "data": {
      "image/png": "[encoded data removed]",
      "text/plain": [
       "<Figure size 432x288 with 1 Axes>"
      ]
     },
     "metadata": {},
     "output_type": "display_data"
    }
   ],
   "source": [
    "sns.distplot(list(df_dallas_vegan.rating), label='Vegan', color='seagreen')\n",
    "sns.distplot(list(df_dallas_meat.rating), label='Non-vegan', color='indianred')\n",
    "plt.title('Distribution plots of the rating between Vegan and Non-Vegan Restaurants: Dallas')\n",
    "plt.legend();"
   ]
  },
  {
   "cell_type": "code",
   "execution_count": 243,
   "metadata": {},
   "outputs": [
    {
     "data": {
      "text/plain": [
       "Ttest_indResult(statistic=12.4352680870252, pvalue=1.5181204408675692e-33)"
      ]
     },
     "execution_count": 243,
     "metadata": {},
     "output_type": "execute_result"
    }
   ],
   "source": [
    "stats.ttest_ind(df_dallas_vegan.rating, df_dallas_meat.rating)"
   ]
  },
  {
   "cell_type": "code",
   "execution_count": 257,
   "metadata": {
    "scrolled": true
   },
   "outputs": [
    {
     "name": "stdout",
     "output_type": "stream",
     "text": [
      "Our Effect Size is 0.7054854947951317. This is a medium/high effect size.\n"
     ]
    }
   ],
   "source": [
    "variable = Cohen_d(df_dallas_vegan.rating, df_dallas_meat.rating)\n",
    "print(f'Our Effect Size is {variable}. This is a medium/high effect size.')\n",
    "\n"
   ]
  },
  {
   "cell_type": "markdown",
   "metadata": {},
   "source": [
    "## MINNEAPOLIS: VEGAN VS. MEAT"
   ]
  },
  {
   "cell_type": "code",
   "execution_count": 249,
   "metadata": {},
   "outputs": [
    {
     "data": {
      "text/plain": [
       "<matplotlib.axes._subplots.AxesSubplot at 0x1c2c39f7b8>"
      ]
     },
     "execution_count": 249,
     "metadata": {},
     "output_type": "execute_result"
    },
    {
     "data": {
      "image/png": "[encoded data removed]",
      "text/plain": [
       "<Figure size 432x288 with 1 Axes>"
      ]
     },
     "metadata": {},
     "output_type": "display_data"
    }
   ],
   "source": [
    "df_minn_vegan.rating.describe() \n",
    "sns.boxplot(list(df_minn_vegan.rating))"
   ]
  },
  {
   "cell_type": "code",
   "execution_count": 250,
   "metadata": {},
   "outputs": [
    {
     "data": {
      "text/plain": [
       "<matplotlib.axes._subplots.AxesSubplot at 0x1c2c489780>"
      ]
     },
     "execution_count": 250,
     "metadata": {},
     "output_type": "execute_result"
    },
    {
     "data": {
      "image/png": "[encoded data removed]",
      "text/plain": [
       "<Figure size 432x288 with 1 Axes>"
      ]
     },
     "metadata": {},
     "output_type": "display_data"
    }
   ],
   "source": [
    "df_minn_meat.rating.describe()\n",
    "sns.boxplot(list(df_minn_meat.rating))"
   ]
  },
  {
   "cell_type": "code",
   "execution_count": 248,
   "metadata": {},
   "outputs": [
    {
     "data": {
      "image/png": "[encoded data removed]",
      "text/plain": [
       "<Figure size 432x288 with 1 Axes>"
      ]
     },
     "metadata": {},
     "output_type": "display_data"
    }
   ],
   "source": [
    "sns.distplot(list(df_minn_vegan.rating), label='Vegan', color='seagreen')\n",
    "sns.distplot(list(df_minn_meat.rating), label='Non-Vegan', color='indianred')\n",
    "plt.title('Distribution plots of the rating between Vegan and Non-Vegan restaurants: Minneapolis')\n",
    "plt.legend();"
   ]
  },
  {
   "cell_type": "code",
   "execution_count": 254,
   "metadata": {},
   "outputs": [
    {
     "data": {
      "text/plain": [
       "Ttest_indResult(statistic=8.28345220065862, pvalue=3.5761816875286817e-16)"
      ]
     },
     "execution_count": 254,
     "metadata": {},
     "output_type": "execute_result"
    }
   ],
   "source": [
    "stats.ttest_ind(df_minn_vegan.rating, df_minn_meat.rating)"
   ]
  },
  {
   "cell_type": "code",
   "execution_count": 256,
   "metadata": {},
   "outputs": [
    {
     "name": "stdout",
     "output_type": "stream",
     "text": [
      "Our Effect Size is 0.5209664093645829. This is a medium effect size.\n"
     ]
    }
   ],
   "source": [
    "variable = Cohen_d(df_minn_vegan.rating, df_minn_meat.rating)\n",
    "print(f'Our Effect Size is {variable}. This is a medium effect size.')"
   ]
  }
 ],
 "metadata": {
  "kernelspec": {
   "display_name": "Python 3",
   "language": "python",
   "name": "python3"
  },
  "language_info": {
   "codemirror_mode": {
    "name": "ipython",
    "version": 3
   },
   "file_extension": ".py",
   "mimetype": "text/x-python",
   "name": "python",
   "nbconvert_exporter": "python",
   "pygments_lexer": "ipython3",
   "version": "3.7.3"
  }
 },
 "nbformat": 4,
 "nbformat_minor": 2
}
