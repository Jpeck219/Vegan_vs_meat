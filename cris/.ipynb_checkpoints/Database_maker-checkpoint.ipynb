{
 "cells": [
  {
   "cell_type": "code",
   "execution_count": 233,
   "metadata": {},
   "outputs": [],
   "source": [
    "import pandas as pd\n",
    "import json\n",
    "import sqlite3\n",
    "import ast\n",
    "import csv\n",
    "import numpy as np\n",
    "import matplotlib.pyplot as plt\n",
    "%matplotlib inline\n",
    "from scipy import stats\n",
    "import seaborn as sns"
   ]
  },
  {
   "cell_type": "code",
   "execution_count": 3,
   "metadata": {},
   "outputs": [],
   "source": [
    "conn = sqlite3.connect('Food_Mod3_proj.db')\n",
    "c = conn.cursor() "
   ]
  },
  {
   "cell_type": "code",
   "execution_count": 79,
   "metadata": {},
   "outputs": [],
   "source": [
    "csv_list = [('veganNY.csv', 'NYC', 'vegan'),\n",
    "            ('meatLA.csv', 'LA', 'meat'),\n",
    "            ('meatDallas.csv', 'Dallas', 'meat'),\n",
    "            ('veganMinneapolis.csv', 'Minn', 'vegan'),\n",
    "            ('stakehouseNY.csv', 'NYC', 'meat'),\n",
    "            ('veganLA.csv', 'LA', 'vegan'),\n",
    "            ('meatMinneapolis.csv', 'Minn', 'meat'),\n",
    "            ('veganDallas.csv', 'Dallas', 'vegan')]"
   ]
  },
  {
   "cell_type": "code",
   "execution_count": 78,
   "metadata": {},
   "outputs": [
    {
     "data": {
      "text/plain": [
       "<sqlite3.Cursor at 0x1170e7c00>"
      ]
     },
     "execution_count": 78,
     "metadata": {},
     "output_type": "execute_result"
    }
   ],
   "source": [
    "c.execute(\"\"\"DROP TABLE rest_info\"\"\")"
   ]
  },
  {
   "cell_type": "code",
   "execution_count": 81,
   "metadata": {},
   "outputs": [
    {
     "data": {
      "text/plain": [
       "<sqlite3.Cursor at 0x1170e7c00>"
      ]
     },
     "execution_count": 81,
     "metadata": {},
     "output_type": "execute_result"
    }
   ],
   "source": [
    "c.execute('''CREATE TABLE rest_info\n",
    "(name TEXT NOT NULL, \n",
    "city TEXT NOT NULL,\n",
    "price INTEGER NOT NULL, \n",
    "rating INTEGER NOT NULL, \n",
    "review_count INTEGER NOT NULL,\n",
    "rest_type TEXT NOT NULL);''')"
   ]
  },
  {
   "cell_type": "code",
   "execution_count": 82,
   "metadata": {},
   "outputs": [],
   "source": [
    "def csv_to_db(a_list):\n",
    "    for i in a_list:\n",
    "        with open('/Users/jonathanpeck/Desktop/Vegan_vs_meat/cris/csv/{}'.format(i[0]), newline='') as csvfile:\n",
    "            _data = csv.reader(csvfile)\n",
    "            for row in _data:\n",
    "                rest_info = []\n",
    "                try: \n",
    "                    name = row[10] #name\n",
    "                    city = i[1] #city i[1]\n",
    "                    price = row[12] #price\n",
    "                    rating = row[13] #rating\n",
    "                    review_count = row[14] #review_count\n",
    "                    rest_type = i[2]\n",
    "                    rest_info.append([name, city, price, rating, review_count, rest_type])\n",
    "                    c.execute(\"\"\"INSERT INTO rest_info (name, city, price, rating, review_count, rest_type)\n",
    "                    VALUES (?, ?, ?, ?, ?, ?);\"\"\", rest_info[0])\n",
    "                except: \n",
    "                    print('failed')"
   ]
  },
  {
   "cell_type": "code",
   "execution_count": 83,
   "metadata": {},
   "outputs": [],
   "source": [
    "csv_to_db(csv_list)"
   ]
  },
  {
   "cell_type": "code",
   "execution_count": 84,
   "metadata": {},
   "outputs": [
    {
     "data": {
      "text/plain": [
       "[('name', 'NYC', 'price', 'rating', 'review_count', 'vegan'),\n",
       " ('Jajaja', 'NYC', '$$', 4.5, 719, 'vegan'),\n",
       " ('Seasoned Vegan', 'NYC', '$$', 4, 1054, 'vegan'),\n",
       " ('by CHLOE. West Village', 'NYC', '$$', 4, 1598, 'vegan'),\n",
       " ('XYST', 'NYC', '$$', 4, 241, 'vegan'),\n",
       " ('Urban Vegan Kitchen', 'NYC', '$$', 4, 354, 'vegan'),\n",
       " ('Double Zero', 'NYC', '$$', 4.5, 424, 'vegan'),\n",
       " ('Bar Verde', 'NYC', '$$', 4.5, 184, 'vegan'),\n",
       " ('Honeybee’s', 'NYC', '', 4, 18, 'vegan'),\n",
       " ('Champs Diner', 'NYC', '$$', 4, 1394, 'vegan'),\n",
       " ('Spicy Moon', 'NYC', '$$', 4.5, 146, 'vegan'),\n",
       " (\"Divya's Kitchen\", 'NYC', '$$', 4.5, 308, 'vegan'),\n",
       " ('MTHR Vegan', 'NYC', '$$', 4.5, 80, 'vegan'),\n",
       " ('Avant Garden - Brooklyn', 'NYC', '', 4.5, 32, 'vegan'),\n",
       " ('Ladybird', 'NYC', '$$', 4, 232, 'vegan'),\n",
       " ('Blossom', 'NYC', '$$$', 4, 1008, 'vegan'),\n",
       " ('Le Botaniste', 'NYC', '$$', 4.5, 109, 'vegan'),\n",
       " ('Original Buddha Bodai Kosher Vegetarian Restaurant',\n",
       "  'NYC',\n",
       "  '$$',\n",
       "  4,\n",
       "  935,\n",
       "  'vegan'),\n",
       " ('Spring Cafe', 'NYC', '$', 4.5, 36, 'vegan'),\n",
       " ('Avant Garden', 'NYC', '$$$', 4.5, 293, 'vegan'),\n",
       " ('Red Bamboo', 'NYC', '$$', 4, 1664, 'vegan'),\n",
       " ('by CHLOE. Flatiron', 'NYC', '$$', 4, 714, 'vegan'),\n",
       " ('Le Botaniste', 'NYC', '', 4.5, 17, 'vegan'),\n",
       " ('Candle 79', 'NYC', '$$', 4, 1294, 'vegan'),\n",
       " ('Plant Food + Wine', 'NYC', '', 4, 66, 'vegan'),\n",
       " ('The Candle Cafe', 'NYC', '$$', 4, 882, 'vegan'),\n",
       " ('Peacefood Cafe', 'NYC', '$$', 4, 1216, 'vegan'),\n",
       " ('Franchia Vegan Cafe', 'NYC', '$$', 4, 865, 'vegan'),\n",
       " ('Artistic Pizza', 'NYC', '', 4.5, 9, 'vegan'),\n",
       " ('The Cinnamon Snail', 'NYC', '$$', 4, 467, 'vegan'),\n",
       " ('Vegan Love', 'NYC', '', 4.5, 22, 'vegan'),\n",
       " ('Toad Style', 'NYC', '$$', 4, 335, 'vegan'),\n",
       " ('Peacefood Cafe Downtown', 'NYC', '$$', 4, 704, 'vegan'),\n",
       " ('Greedi Vegan', 'NYC', '$$', 4.5, 116, 'vegan'),\n",
       " ('Sacred Chow', 'NYC', '$$', 4, 534, 'vegan'),\n",
       " ('Blossom on Columbus', 'NYC', '$$', 4, 343, 'vegan'),\n",
       " ('Happy Zoe Vegan Bakery', 'NYC', '$', 4.5, 62, 'vegan'),\n",
       " ('Delice & Sarrasin', 'NYC', '$$', 4, 358, 'vegan'),\n",
       " ('Bunna Cafe', 'NYC', '$$', 4.5, 545, 'vegan'),\n",
       " ('Dirt Candy', 'NYC', '$$$', 4, 599, 'vegan'),\n",
       " (\"Paulie Gee's\", 'NYC', '$$', 4.5, 1187, 'vegan'),\n",
       " ('No5nyc', 'NYC', '$$', 4, 118, 'vegan'),\n",
       " ('Black Flamingo', 'NYC', '$$', 4, 189, 'vegan'),\n",
       " ('P.S. Kitchen', 'NYC', '$$', 4, 331, 'vegan'),\n",
       " ('Blossom Du Jour', 'NYC', '$$', 4, 387, 'vegan'),\n",
       " ('Superiority Burger', 'NYC', '$', 4, 561, 'vegan'),\n",
       " ('Mother of Pearl', 'NYC', '$$', 4, 387, 'vegan'),\n",
       " ('Next Level Burger', 'NYC', '$$', 4, 149, 'vegan'),\n",
       " (\"Rip's Malt Shop\", 'NYC', '$$', 4.5, 72, 'vegan'),\n",
       " ('Nix', 'NYC', '$$', 4, 489, 'vegan'),\n",
       " ('VSPOT', 'NYC', '$$', 3.5, 652, 'vegan'),\n",
       " ('Noodlelove', 'NYC', '$$', 4, 65, 'vegan'),\n",
       " ('Supernatural', 'NYC', '', 5, 20, 'vegan'),\n",
       " ('Modern Love Brooklyn', 'NYC', '$$', 4.5, 418, 'vegan'),\n",
       " ('Bodhi Kosher Vegetarian Restaurant', 'NYC', '$$', 4, 319, 'vegan'),\n",
       " ('Bali Kitchen', 'NYC', '$$', 4.5, 111, 'vegan'),\n",
       " ('Sans', 'NYC', '', 3.5, 45, 'vegan'),\n",
       " (\"LuAnne's Wild Ginger All-Asian Vegan\", 'NYC', '$$', 4, 341, 'vegan'),\n",
       " ('by CHLOE. Seaport District', 'NYC', '$$', 3.5, 59, 'vegan'),\n",
       " ('Cocoron', 'NYC', '$$', 4, 965, 'vegan'),\n",
       " ('Kajitsu', 'NYC', '$$$$', 4, 216, 'vegan'),\n",
       " ('Dun-Well Doughnuts', 'NYC', '$', 4, 218, 'vegan'),\n",
       " ('BAD Gyal Vegan', 'NYC', '', 4.5, 14, 'vegan'),\n",
       " ('ABCV', 'NYC', '$$$', 4, 415, 'vegan'),\n",
       " ('Jujube Tree', 'NYC', '$$', 4.5, 357, 'vegan'),\n",
       " ('VLife', 'NYC', '$$', 4, 333, 'vegan'),\n",
       " ('Happy Vegan', 'NYC', '', 4, 4, 'vegan'),\n",
       " ('Hartbreakers', 'NYC', '', 4, 60, 'vegan'),\n",
       " ('Little Choc Apothecary', 'NYC', '$$', 4.5, 326, 'vegan'),\n",
       " ('Pocion', 'NYC', '$$', 4.5, 145, 'vegan'),\n",
       " ('Two Tablespoons', 'NYC', '$$', 4, 37, 'vegan'),\n",
       " ('Co Co Lin Vegetarian House', 'NYC', '$$', 4, 231, 'vegan'),\n",
       " (\"Screamer's Pizzeria\", 'NYC', '$', 4, 314, 'vegan'),\n",
       " ('Norman Cafe', 'NYC', '', 4.5, 6, 'vegan'),\n",
       " ('Ital Kitchen', 'NYC', '$$', 4.5, 121, 'vegan'),\n",
       " ('The Cinnamon Snail', 'NYC', '$', 4.5, 991, 'vegan'),\n",
       " ('by CHLOE. SOHO', 'NYC', '$$', 4, 307, 'vegan'),\n",
       " ('Beyond Sushi', 'NYC', '$$', 4.5, 390, 'vegan'),\n",
       " ('Quantum Leap', 'NYC', '$$', 4, 651, 'vegan'),\n",
       " ('Beyond Sushi', 'NYC', '$$', 4.5, 907, 'vegan'),\n",
       " ('Jungle Cafe', 'NYC', '$$', 4, 220, 'vegan'),\n",
       " ('Amituofo Vegan Cuisine', 'NYC', '$$', 4.5, 87, 'vegan'),\n",
       " (\"Luanne's Wild Ginger\", 'NYC', '$$', 4.5, 58, 'vegan'),\n",
       " ('Orchard Grocer', 'NYC', '$$', 4.5, 169, 'vegan'),\n",
       " ('by CHLOE. Williamsburg', 'NYC', '$$', 3.5, 209, 'vegan'),\n",
       " ('Shangri-La', 'NYC', '$$', 4, 162, 'vegan'),\n",
       " ('Pure Ktchn', 'NYC', '$$', 4.5, 242, 'vegan'),\n",
       " ('Awash Brooklyn', 'NYC', '$$', 4, 163, 'vegan'),\n",
       " ('westbourne', 'NYC', '$$', 4, 103, 'vegan'),\n",
       " ('Hangawi', 'NYC', '$$$', 4, 1096, 'vegan'),\n",
       " ('The Thirsty Koala', 'NYC', '$$', 4.5, 1036, 'vegan'),\n",
       " ('Vegan Shop Up', 'NYC', '$$', 4.5, 25, 'vegan'),\n",
       " ('May Kaidee East Broadway', 'NYC', '', 4.5, 33, 'vegan'),\n",
       " ('Loving Hut', 'NYC', '$$', 4, 320, 'vegan'),\n",
       " ('V 4 Vegan', 'NYC', '', 4, 8, 'vegan'),\n",
       " ('Westville Dumbo', 'NYC', '$$', 4, 233, 'vegan'),\n",
       " ('Green Zenphony', 'NYC', '$$', 4.5, 182, 'vegan'),\n",
       " ('American Vegan', 'NYC', '', 4.5, 43, 'vegan'),\n",
       " ('Bar Velo Brooklyn', 'NYC', '$$', 4.5, 61, 'vegan'),\n",
       " ('Goemon', 'NYC', '$$', 4, 126, 'vegan'),\n",
       " ('Kimbap Lab', 'NYC', '$$', 5, 29, 'vegan'),\n",
       " ('Next Stop Vegan', 'NYC', '', 5, 11, 'vegan'),\n",
       " ('Jones Wood Foundry', 'NYC', '$$', 4, 597, 'vegan'),\n",
       " ('Bodai Vegetarian', 'NYC', '$$', 4, 274, 'vegan'),\n",
       " ('Go Zen', 'NYC', '$$', 4, 553, 'vegan'),\n",
       " ('The Luv Nugget', 'NYC', '', 4, 1, 'vegan'),\n",
       " ('Ginger Root Vegan', 'NYC', '$$', 4.5, 104, 'vegan'),\n",
       " ('Pet Shop', 'NYC', '$$', 4, 206, 'vegan'),\n",
       " (\"Marty's V Burger\", 'NYC', '$', 4.5, 245, 'vegan'),\n",
       " ('Wild Ginger', 'NYC', '$$', 3.5, 140, 'vegan'),\n",
       " (\"Govinda's Vegetarian\", 'NYC', '$', 4.5, 164, 'vegan'),\n",
       " ('Tofubox', 'NYC', '', 5, 50, 'vegan'),\n",
       " (\"Vinnie's Pizzeria\", 'NYC', '$', 4, 630, 'vegan'),\n",
       " ('Sol Sips', 'NYC', '$', 4.5, 101, 'vegan'),\n",
       " ('Brain Food The Smart Kitchen', 'NYC', '', 4, 35, 'vegan'),\n",
       " ('Yeah Dawg Vegan', 'NYC', '$', 4.5, 11, 'vegan'),\n",
       " (\"Monk's Meats\", 'NYC', '$$', 3.5, 15, 'vegan'),\n",
       " ('Pine Box Rock Shop', 'NYC', '$$', 4, 217, 'vegan'),\n",
       " ('Red Pipe Cafe', 'NYC', '$$', 4, 420, 'vegan'),\n",
       " ('Riverdel', 'NYC', '$$', 4.5, 118, 'vegan'),\n",
       " ('Terri', 'NYC', '$$', 4, 842, 'vegan'),\n",
       " ('My Pie', 'NYC', '$', 4.5, 125, 'vegan'),\n",
       " (\"The Butcher's Daughter\", 'NYC', '$$', 3.5, 1145, 'vegan'),\n",
       " ('Beyond Sushi', 'NYC', '$$', 4.5, 27, 'vegan'),\n",
       " ('Meet Noodles', 'NYC', '$$', 4.5, 77, 'vegan'),\n",
       " ('Taim West Village', 'NYC', '$', 4.5, 1484, 'vegan'),\n",
       " ('Confectionery', 'NYC', '$$', 5, 113, 'vegan'),\n",
       " ('Vegans Delight', 'NYC', '$', 4.5, 44, 'vegan'),\n",
       " ('Michaeli Bakery', 'NYC', '', 5, 20, 'vegan'),\n",
       " ('Beyond Sushi', 'NYC', '$$', 4.5, 618, 'vegan'),\n",
       " ('Hotel Tortuga', 'NYC', '$$', 3.5, 487, 'vegan'),\n",
       " (\"Luanne's Wild Ginger Franklin\", 'NYC', '$$', 4, 64, 'vegan'),\n",
       " ('Beyond Sushi', 'NYC', '$$', 4.5, 26, 'vegan'),\n",
       " ('Nish Nush', 'NYC', '$$', 4.5, 679, 'vegan'),\n",
       " ('My Pie Pizzeria Romana', 'NYC', '$', 4.5, 688, 'vegan'),\n",
       " ('BoCaphe', 'NYC', '$$', 4, 1183, 'vegan'),\n",
       " ('Grilled Cheese Incident', 'NYC', '', 5, 5, 'vegan'),\n",
       " ('Tara Rose', 'NYC', '', 5, 6, 'vegan'),\n",
       " ('The Good Fork', 'NYC', '$$', 4, 400, 'vegan'),\n",
       " ('Oda House', 'NYC', '', 4.5, 16, 'vegan'),\n",
       " ('Ginger House', 'NYC', '$$', 4, 119, 'vegan'),\n",
       " ('Taco Dumbo', 'NYC', '$$', 4, 151, 'vegan'),\n",
       " ('Le Botaniste', 'NYC', '$$', 4.5, 370, 'vegan'),\n",
       " ('Ital Fusion', 'NYC', '$$', 4.5, 62, 'vegan'),\n",
       " ('Fermento', 'NYC', '$$', 4.5, 33, 'vegan'),\n",
       " ('Pickle Shack', 'NYC', '', 4.5, 6, 'vegan'),\n",
       " ('Vegetarian Dim Sum House', 'NYC', '$', 3.5, 541, 'vegan'),\n",
       " ('Moon Man', 'NYC', '', 5, 2, 'vegan'),\n",
       " ('Quantum Leap', 'NYC', '', 4.5, 24, 'vegan'),\n",
       " ('Souen', 'NYC', '$$', 3.5, 314, 'vegan'),\n",
       " ('Body & Soul Bakeshop', 'NYC', '$', 4.5, 63, 'vegan'),\n",
       " ('TONCHIN NEW YORK', 'NYC', '$$', 4.5, 824, 'vegan'),\n",
       " ('Kor Tor Mor', 'NYC', '$$', 4, 213, 'vegan'),\n",
       " ('Abracadabra Brooklyn', 'NYC', '$$', 4.5, 143, 'vegan'),\n",
       " ('Clementine Bakery', 'NYC', '$', 4, 422, 'vegan'),\n",
       " ('Benyam Cuisine', 'NYC', '$$', 5, 85, 'vegan'),\n",
       " ('The Shanti Shack', 'NYC', '$$', 5, 29, 'vegan'),\n",
       " ('honeygrow', 'NYC', '$$', 4, 158, 'vegan'),\n",
       " ('More Life Cafe Vegan', 'NYC', '$$', 4.5, 41, 'vegan'),\n",
       " ('Secret Garden', 'NYC', '', 4.5, 16, 'vegan'),\n",
       " ('The Chick Shop', 'NYC', '', 4.5, 47, 'vegan'),\n",
       " ('Bive', 'NYC', '', 4.5, 26, 'vegan'),\n",
       " (\"LuAnne's Wild Ginger All-Asian Vegan\", 'NYC', '$$', 4, 627, 'vegan'),\n",
       " ('The Little Beet', 'NYC', '$$', 4, 126, 'vegan'),\n",
       " ('Brooklyn Whiskers - Greenpoint', 'NYC', '$', 4.5, 22, 'vegan'),\n",
       " ('Chickpea & Olive', 'NYC', '$$', 4.5, 150, 'vegan'),\n",
       " ('Lucky Vegetarian', 'NYC', '$$', 4.5, 50, 'vegan'),\n",
       " ('Pizzette', 'NYC', '', 5, 1, 'vegan'),\n",
       " ('VSPOT Organic', 'NYC', '$$', 3.5, 376, 'vegan'),\n",
       " ('Burrito Republic', 'NYC', '$', 4.5, 78, 'vegan'),\n",
       " ('Zatar', 'NYC', '', 4.5, 22, 'vegan'),\n",
       " ('Caravan of Dreams', 'NYC', '$$', 3.5, 513, 'vegan'),\n",
       " ('Ikraveit Foods', 'NYC', '$', 3, 118, 'vegan'),\n",
       " ('Thai Villa', 'NYC', '$$', 4.5, 2691, 'vegan'),\n",
       " ('Zyara NY', 'NYC', '$', 4.5, 129, 'vegan'),\n",
       " ('Ayurveda Cafe', 'NYC', '$$', 4, 298, 'vegan'),\n",
       " ('Bareburger', 'NYC', '$$', 4, 847, 'vegan'),\n",
       " ('Mulberry & Vine', 'NYC', '$$', 4, 294, 'vegan'),\n",
       " ('Village Natural', 'NYC', '$$', 3.5, 137, 'vegan'),\n",
       " ('Jivamuktea Café', 'NYC', '$$', 3.5, 122, 'vegan'),\n",
       " ('Hummus Kitchen', 'NYC', '$$', 4, 723, 'vegan'),\n",
       " (\"The Butcher's Daughter\", 'NYC', '$$', 3.5, 218, 'vegan'),\n",
       " (\"Lyn-Genet's Kitchen\", 'NYC', '', 4, 5, 'vegan'),\n",
       " ('Brooklyn Whiskers Bakery', 'NYC', '$', 4, 137, 'vegan'),\n",
       " ('Chez Alex', 'NYC', '$', 4, 125, 'vegan'),\n",
       " ('I Am Thai Restaurant', 'NYC', '$$', 4, 267, 'vegan'),\n",
       " ('Taco Dumbo', 'NYC', '$$', 4, 221, 'vegan'),\n",
       " ('Bodai Vegetarian Restaurant', 'NYC', '', 4.5, 15, 'vegan'),\n",
       " ('Green Symphony', 'NYC', '$', 4, 82, 'vegan'),\n",
       " ('by CHLOE. Rockefeller Center', 'NYC', '$$', 4, 355, 'vegan'),\n",
       " ('Lifethyme', 'NYC', '$$$', 4, 224, 'vegan'),\n",
       " ('Green Symphony', 'NYC', '$', 4, 455, 'vegan'),\n",
       " ('The Little Beet Table', 'NYC', '$$', 4, 501, 'vegan'),\n",
       " ('Cafe Mogador', 'NYC', '$$', 4.5, 1102, 'vegan'),\n",
       " ('Jahlookova', 'NYC', '$', 4.5, 13, 'vegan'),\n",
       " ('Gobo', 'NYC', '', 4, 2, 'vegan'),\n",
       " ('Sabai Thai Restaurant', 'NYC', '$$', 4.5, 200, 'vegan'),\n",
       " ('Planted Cafe', 'NYC', '', 4.5, 23, 'vegan'),\n",
       " ('Acai Berry', 'NYC', '$$', 4, 82, 'vegan'),\n",
       " ('La Shuk', 'NYC', '$$', 4.5, 347, 'vegan'),\n",
       " ('Ahimsa', 'NYC', '$$', 4, 247, 'vegan'),\n",
       " ('Chun Vegetarian', 'NYC', '', 4.5, 22, 'vegan'),\n",
       " ('The Butchers Daughter', 'NYC', '$$', 3.5, 75, 'vegan'),\n",
       " ('Gertie', 'NYC', '', 4, 43, 'vegan'),\n",
       " (\"Mo's Original\", 'NYC', '', 4.5, 31, 'vegan'),\n",
       " ('Areppas', 'NYC', '$', 3.5, 148, 'vegan'),\n",
       " ('Chama Mama', 'NYC', '$$', 4.5, 110, 'vegan'),\n",
       " ('Up Thai', 'NYC', '$$', 4.5, 2062, 'vegan'),\n",
       " ('Buntopia', 'NYC', '$$', 4.5, 232, 'vegan'),\n",
       " (\"Ribalta Mo'\", 'NYC', '', 3.5, 19, 'vegan'),\n",
       " ('UThai', 'NYC', '$', 4, 144, 'vegan'),\n",
       " ('Time Out Market New York', 'NYC', '$$', 3.5, 77, 'vegan'),\n",
       " ('Atlas Cafe & Bakery', 'NYC', '$', 3.5, 458, 'vegan'),\n",
       " ('The Little Beet', 'NYC', '$$', 3.5, 145, 'vegan'),\n",
       " ('Good Health Cafe', 'NYC', '$$', 4, 254, 'vegan'),\n",
       " ('Austin Public', 'NYC', '$$', 3, 291, 'vegan'),\n",
       " ('Nish Nush', 'NYC', '$$', 4.5, 254, 'vegan'),\n",
       " ('Sweets by CHLOE.', 'NYC', '$$', 3.5, 166, 'vegan'),\n",
       " ('Mint Kitchen', 'NYC', '$$', 4.5, 75, 'vegan'),\n",
       " ('High Lúa Vietnamese Kitchen', 'NYC', '$$', 4.5, 86, 'vegan'),\n",
       " ('Lili and Cata', 'NYC', '', 5, 6, 'vegan'),\n",
       " ('Momo Ramen', 'NYC', '$$', 4, 253, 'vegan'),\n",
       " ('The Brooklyn Tree', 'NYC', '$$', 4.5, 136, 'vegan'),\n",
       " ('Sofreh', 'NYC', '$$', 4, 191, 'vegan'),\n",
       " ('Flowers Cafe', 'NYC', '', 5, 1, 'vegan'),\n",
       " ('KROK Brooklyn', 'NYC', '$$', 4.5, 43, 'vegan'),\n",
       " ('Golden Diner', 'NYC', '', 4.5, 43, 'vegan'),\n",
       " ('Ramen Ishida', 'NYC', '$$', 4.5, 136, 'vegan'),\n",
       " ('Chakra Cafe', 'NYC', '', 4.5, 37, 'vegan'),\n",
       " ('Gohan-ya', 'NYC', '$$$', 4, 44, 'vegan'),\n",
       " ('Green Recipes', 'NYC', '', 5, 45, 'vegan'),\n",
       " ('Strange Flavor Burger Shack', 'NYC', '$$', 3.5, 81, 'vegan'),\n",
       " ('Sunflower Cafe', 'NYC', '', 4, 33, 'vegan'),\n",
       " ('Ahimsa Garden', 'NYC', '$$', 4.5, 83, 'vegan'),\n",
       " ('Injera', 'NYC', '$$', 4, 549, 'vegan'),\n",
       " ('The Organic Grill', 'NYC', '$$', 3.5, 421, 'vegan'),\n",
       " ('Two Tablespoons', 'NYC', '$$', 3.5, 78, 'vegan'),\n",
       " ('Olea', 'NYC', '$$', 4, 823, 'vegan'),\n",
       " ('Green Bean Cafe', 'NYC', '$', 3.5, 121, 'vegan'),\n",
       " ('Hungry Like the Wolf', 'NYC', '', 3.5, 6, 'vegan'),\n",
       " ('Dough Vale', 'NYC', '', 5, 2, 'vegan'),\n",
       " ('The Family Store', 'NYC', '$$', 4.5, 161, 'vegan'),\n",
       " (\"Erin McKenna's Bakery\", 'NYC', '$', 3.5, 1061, 'vegan'),\n",
       " ('Gotan', 'NYC', '$$', 4, 111, 'vegan'),\n",
       " ('Vish Hummus & Happiness', 'NYC', '', 4.5, 11, 'vegan'),\n",
       " ('Screamer’s Pizzeria', 'NYC', '', 3.5, 58, 'vegan'),\n",
       " ('nonono', 'NYC', '$$', 4.5, 402, 'vegan'),\n",
       " ('Dig Inn', 'NYC', '', 3.5, 47, 'vegan'),\n",
       " ('Bloom Cafe', 'NYC', '', 4.5, 14, 'vegan'),\n",
       " ('Tofu Tofu', 'NYC', '$$', 4.5, 280, 'vegan'),\n",
       " ('Westville West', 'NYC', '$$', 4, 914, 'vegan'),\n",
       " ('Beyond Sushi', 'NYC', '$$', 4.5, 210, 'vegan'),\n",
       " ('Celestine', 'NYC', '$$$', 4, 181, 'vegan'),\n",
       " ('Rawsome Treats', 'NYC', '$$', 4.5, 82, 'vegan'),\n",
       " ('Tacoria', 'NYC', '$$', 4.5, 49, 'vegan'),\n",
       " ('LoveMama', 'NYC', '$$', 4, 4361, 'vegan'),\n",
       " ('Hole in the Wall', 'NYC', '$$', 4.5, 456, 'vegan'),\n",
       " ('Dao Palate', 'NYC', '$$', 3.5, 231, 'vegan'),\n",
       " ('Tuk Tuk', 'NYC', '$$', 4, 654, 'vegan'),\n",
       " ('House Of Flavor', 'NYC', '$$', 4.5, 66, 'vegan'),\n",
       " ('Blueprint Cafe Lounge', 'NYC', '$$', 4.5, 61, 'vegan'),\n",
       " ('The Little Beet', 'NYC', '$$', 3.5, 352, 'vegan'),\n",
       " ('Baba Cool', 'NYC', '$$', 4, 158, 'vegan'),\n",
       " ('THEP Thai Restaurant', 'NYC', '$$', 4.5, 514, 'vegan'),\n",
       " ('Brooklyn Standard', 'NYC', '$', 3, 240, 'vegan'),\n",
       " ('Uptown Veg and Juice Bar', 'NYC', '$$', 4, 113, 'vegan'),\n",
       " ('The Little Beet', 'NYC', '$$', 3.5, 75, 'vegan'),\n",
       " ('Blossom Du Jour', 'NYC', '$$', 3.5, 59, 'vegan'),\n",
       " ('While In Kathmandu', 'NYC', '$', 4.5, 108, 'vegan'),\n",
       " ('Osteria 57', 'NYC', '$$$', 4.5, 89, 'vegan'),\n",
       " (\"Friedman's\", 'NYC', '$$', 4, 2186, 'vegan'),\n",
       " ('Awash Ethiopian Restaurant', 'NYC', '$$', 3.5, 309, 'vegan'),\n",
       " ('The Osprey', 'NYC', '$$', 3.5, 135, 'vegan'),\n",
       " ('Sweet Chick', 'NYC', '$$', 4, 253, 'vegan'),\n",
       " ('POST', 'NYC', '$$', 4.5, 222, 'vegan'),\n",
       " ('Seed', 'NYC', '$$', 4.5, 183, 'vegan'),\n",
       " ('Bengal Tiger Indian Food', 'NYC', '$$', 4.5, 1625, 'vegan'),\n",
       " (\"Jack's Stir Brew Coffee\", 'NYC', '$$', 4, 189, 'vegan'),\n",
       " ('Black Cat LES', 'NYC', '$', 4, 279, 'vegan'),\n",
       " ('BCD Tofu House', 'NYC', '$$', 4, 1883, 'vegan'),\n",
       " ('Cobble & Co.', 'NYC', '$$', 3, 61, 'vegan'),\n",
       " ('Newtown', 'NYC', '$', 4.5, 123, 'vegan'),\n",
       " ('The MasalaWala', 'NYC', '$$', 4.5, 1385, 'vegan'),\n",
       " (\"Westville Hell's Kitchen\", 'NYC', '$$', 4.5, 50, 'vegan'),\n",
       " ('The Dropout', 'NYC', '', 5, 5, 'vegan'),\n",
       " ('The Kitchen Comic', 'NYC', '', 5, 1, 'vegan'),\n",
       " ('Land', 'NYC', '$$', 4, 1028, 'vegan'),\n",
       " ('El Vez Burrito Bar', 'NYC', '$$', 4, 116, 'vegan'),\n",
       " ('Rabbithole Restaurant', 'NYC', '$$', 4, 766, 'vegan'),\n",
       " ('Verdure Vegan Jamaican Restaurant', 'NYC', '', 5, 4, 'vegan'),\n",
       " ('Superfine', 'NYC', '$$', 3.5, 437, 'vegan'),\n",
       " ('Shinka Ramen & Sake Bar', 'NYC', '$$', 4.5, 238, 'vegan'),\n",
       " ('Mondayoff by Plant Love House', 'NYC', '$$', 4, 180, 'vegan'),\n",
       " ('Samudra Vegetarian Restaurant & Chaat House', 'NYC', '$$', 4, 497, 'vegan'),\n",
       " ('The Gradient', 'NYC', '', 5, 7, 'vegan'),\n",
       " ('Oath Pizza - East 67th Street', 'NYC', '$$', 4.5, 88, 'vegan'),\n",
       " ('Holy Cow', 'NYC', '$', 4, 183, 'vegan'),\n",
       " ('Look By Plant Love House', 'NYC', '$$', 4, 297, 'vegan'),\n",
       " ('Four Saison', 'NYC', '', 4.5, 3, 'vegan'),\n",
       " ('Nefista Vegan Kofteh', 'NYC', '$', 5, 72, 'vegan'),\n",
       " ('Natural Blend', 'NYC', '$', 4.5, 184, 'vegan'),\n",
       " ('The Wild Son', 'NYC', '$$', 4.5, 418, 'vegan'),\n",
       " ('Esme', 'NYC', '$$', 4.5, 308, 'vegan'),\n",
       " ('Westville - Wall St', 'NYC', '$$', 4, 156, 'vegan'),\n",
       " ('Thy’s Noodles', 'NYC', '', 4.5, 51, 'vegan'),\n",
       " ('Alachi Masala', 'NYC', '$$', 4, 198, 'vegan'),\n",
       " ('Junzi Kitchen', 'NYC', '$$', 4.5, 55, 'vegan'),\n",
       " ('SkyIce 9th St.', 'NYC', '', 4, 4, 'vegan'),\n",
       " ('Momo Ramen', 'NYC', '', 4.5, 6, 'vegan'),\n",
       " ('Bunker', 'NYC', '$$', 4, 689, 'vegan'),\n",
       " ('The Boogie Down Grind Café', 'NYC', '$$', 4.5, 39, 'vegan'),\n",
       " ('Atrium Dumbo', 'NYC', '$$', 4, 629, 'vegan'),\n",
       " ('Sans Bakery', 'NYC', '$$', 4.5, 3, 'vegan'),\n",
       " ('Dosa Royale', 'NYC', '$$', 3.5, 208, 'vegan'),\n",
       " ('The Juicy Box', 'NYC', '$$', 4, 43, 'vegan'),\n",
       " ('Father Knows Best', 'NYC', '$$', 4, 263, 'vegan'),\n",
       " (\"Eva's Kitchen\", 'NYC', '$$', 4.5, 73, 'vegan'),\n",
       " ('Cocoron', 'NYC', '$$', 4, 614, 'vegan'),\n",
       " (\"Po'Mi\", 'NYC', '', 4.5, 64, 'vegan'),\n",
       " ('Spice & Grill : The Indian Kitchen', 'NYC', '$$', 4.5, 120, 'vegan'),\n",
       " ('White Maize', 'NYC', '$', 4.5, 146, 'vegan'),\n",
       " (\"Adelina's\", 'NYC', '$$', 4, 164, 'vegan'),\n",
       " ('Taco Dumbo', 'NYC', '$$', 4, 60, 'vegan'),\n",
       " ('Oh Dumplings', 'NYC', '', 4, 46, 'vegan'),\n",
       " ('Colony 274', 'NYC', '$$', 3.5, 90, 'vegan'),\n",
       " ('Bombay Sandwich Co.', 'NYC', '$$', 4, 374, 'vegan'),\n",
       " ('Nefista Vegan Kofteh Clifton', 'NYC', '$', 5, 52, 'vegan'),\n",
       " ('Mulberry & Vine', 'NYC', '', 4, 25, 'vegan'),\n",
       " ('Lavatera Grill', 'NYC', '', 4.5, 9, 'vegan'),\n",
       " (\"Lombardo's of Bay Ridge\", 'NYC', '$$', 5, 99, 'vegan'),\n",
       " ('Mulberry & Vine', 'NYC', '$$', 4, 126, 'vegan'),\n",
       " (\"Juliana's Pizza\", 'NYC', '$$', 4.5, 2007, 'vegan'),\n",
       " ('Alimama', 'NYC', '$$', 4.5, 700, 'vegan'),\n",
       " (\"Eva's Kitchen\", 'NYC', '$', 4.5, 380, 'vegan'),\n",
       " ('Nansense', 'NYC', '', 5, 8, 'vegan'),\n",
       " ('Bodega Pizza', 'NYC', '$$', 4, 131, 'vegan'),\n",
       " ('A8 Pan Asian Vegan Cuisine', 'NYC', '', 4, 20, 'vegan'),\n",
       " ('Taqueria El Maguey', 'NYC', '', 4.5, 21, 'vegan'),\n",
       " ('Banter', 'NYC', '$$', 4.5, 347, 'vegan'),\n",
       " ('Springbone Kitchen', 'NYC', '$$', 4, 231, 'vegan'),\n",
       " ('Mekki NYC', 'NYC', '$$$', 4.5, 103, 'vegan'),\n",
       " ('Hummus Market', 'NYC', '$$', 4.5, 159, 'vegan'),\n",
       " ('Bajeko Sekuwa', 'NYC', '$$', 4, 79, 'vegan'),\n",
       " ('Dubu Maru', 'NYC', '', 4, 47, 'vegan'),\n",
       " ('Good Thanks NYC', 'NYC', '$$', 4.5, 93, 'vegan'),\n",
       " ('Magic Mix Juicery', 'NYC', '$$', 4, 176, 'vegan'),\n",
       " ('Aubergine Cafe', 'NYC', '$$', 3.5, 315, 'vegan'),\n",
       " ('sweetgreen', 'NYC', '$$', 4, 241, 'vegan'),\n",
       " ('Four Seasons Bakery & Juice Bar', 'NYC', '$$', 4.5, 21, 'vegan'),\n",
       " ('The Edge Harlem', 'NYC', '$$', 4, 538, 'vegan'),\n",
       " ('Baoburg', 'NYC', '$$', 4, 190, 'vegan'),\n",
       " (\"Bijan's\", 'NYC', '$$', 4, 500, 'vegan'),\n",
       " ('Kusharista - Lentils, Grains & More', 'NYC', '$', 4.5, 106, 'vegan'),\n",
       " ('Wild', 'NYC', '$$', 3.5, 385, 'vegan'),\n",
       " ('wagamama - murray hill', 'NYC', '$$', 4, 149, 'vegan'),\n",
       " ('Arepas Cafe', 'NYC', '$$', 4, 867, 'vegan'),\n",
       " ('Selamat Pagi', 'NYC', '$$', 4, 254, 'vegan'),\n",
       " ('Win Son', 'NYC', '$$', 4.5, 381, 'vegan'),\n",
       " (\"983-Bushwick's Living Room\", 'NYC', '$$', 4, 384, 'vegan'),\n",
       " ('Zen Vegetarian House', 'NYC', '$$', 4, 263, 'vegan'),\n",
       " ('Dosa Garden', 'NYC', '$$', 4, 108, 'vegan'),\n",
       " ('Gustaly', 'NYC', '', 5, 3, 'vegan'),\n",
       " ('Spoonfed New York Country', 'NYC', '$$', 4, 409, 'vegan'),\n",
       " ('Indian Accent', 'NYC', '$$$$', 4.5, 500, 'vegan'),\n",
       " ('El Barrio Burritos', 'NYC', '$', 3, 190, 'vegan'),\n",
       " ('Simple NYC-Downtown Brooklyn', 'NYC', '$$', 5, 67, 'vegan'),\n",
       " (\"Tribeca's Kitchen\", 'NYC', '$$', 4, 434, 'vegan'),\n",
       " ('Loco Coco', 'NYC', '$$', 4, 185, 'vegan'),\n",
       " ('Oceanview Cafe', 'NYC', '$$', 4.5, 108, 'vegan'),\n",
       " ('Cafe Viva', 'NYC', '$', 3.5, 219, 'vegan'),\n",
       " ('Ginger and Lemongrass', 'NYC', '$$', 4.5, 282, 'vegan'),\n",
       " ('Tamra Teahouse', 'NYC', '$$', 4.5, 87, 'vegan'),\n",
       " (\"Jack's Wife Freda\", 'NYC', '$$', 4, 1780, 'vegan'),\n",
       " ('Spiegel', 'NYC', '$$', 4, 313, 'vegan'),\n",
       " ('Ugly Baby', 'NYC', '$$', 4.5, 268, 'vegan'),\n",
       " ('Cinnamon Girl', 'NYC', '$', 3.5, 90, 'vegan'),\n",
       " ('Avocaderia', 'NYC', '$$', 3.5, 218, 'vegan'),\n",
       " ('Dig Inn', 'NYC', '$$', 4, 469, 'vegan'),\n",
       " ('Natural Blend Juice Bar & Bakery', 'NYC', '$', 4.5, 118, 'vegan'),\n",
       " ('OddFellows Ice Cream Co.', 'NYC', '$$', 4.5, 30, 'vegan'),\n",
       " ('Mojo Restaurant', 'NYC', '$$', 4.5, 65, 'vegan'),\n",
       " ('Zatar', 'NYC', '$$', 4.5, 92, 'vegan'),\n",
       " ('jajaja', 'NYC', '', 5, 1, 'vegan'),\n",
       " ('Arepa Factory', 'NYC', '$', 4, 199, 'vegan'),\n",
       " ('Zizi Limona', 'NYC', '$$', 4, 401, 'vegan'),\n",
       " ('Zest Ramen', 'NYC', '$$', 4.5, 193, 'vegan'),\n",
       " ('Yara', 'NYC', '', 4.5, 47, 'vegan'),\n",
       " ('Between the Bread', 'NYC', '$$', 4, 56, 'vegan'),\n",
       " ('Ramen Setagaya', 'NYC', '$$', 4, 228, 'vegan'),\n",
       " ('Taste of Heaven', 'NYC', '$$', 5, 104, 'vegan'),\n",
       " ('Anytime', 'NYC', '$$', 5, 641, 'vegan'),\n",
       " ('The Bean', 'NYC', '$', 4, 480, 'vegan'),\n",
       " (\"Baron's\", 'NYC', '$$', 4.5, 258, 'vegan'),\n",
       " ('Cafe Tibet', 'NYC', '$$', 4, 309, 'vegan'),\n",
       " ('Blockheads', 'NYC', '$$', 3.5, 754, 'vegan'),\n",
       " ('Ramen Danbo', 'NYC', '$$', 4.5, 110, 'vegan'),\n",
       " ('Dig Inn', 'NYC', '', 4.5, 28, 'vegan'),\n",
       " ('Liv', 'NYC', '', 4.5, 30, 'vegan'),\n",
       " ('Chick P', 'NYC', '$', 4.5, 239, 'vegan'),\n",
       " ('The Fulton', 'NYC', '', 3.5, 41, 'vegan'),\n",
       " ('SUNSHINE - HUMMUS', 'NYC', '', 5, 60, 'vegan'),\n",
       " ('Kati Shop', 'NYC', '$$', 5, 120, 'vegan'),\n",
       " ('While We Were Young', 'NYC', '$$', 4, 281, 'vegan'),\n",
       " ('Ube Kitchen', 'NYC', '$', 4, 26, 'vegan'),\n",
       " ('Ghenet Brooklyn', 'NYC', '$$', 4, 468, 'vegan'),\n",
       " ('Blossom Ice Cream', 'NYC', '$', 4.5, 200, 'vegan'),\n",
       " (\"Effy's Cafe\", 'NYC', '$$', 4, 211, 'vegan'),\n",
       " ('Cafe Himalaya', 'NYC', '$', 4, 593, 'vegan'),\n",
       " ('Raku', 'NYC', '$$', 4.5, 255, 'vegan'),\n",
       " ('Abyssinia Ethiopian Restaurant', 'NYC', '$$', 4, 228, 'vegan'),\n",
       " ('Downtown Natural Market', 'NYC', '$$', 4.5, 23, 'vegan'),\n",
       " ('The CopperPot', 'NYC', '', 4.5, 33, 'vegan'),\n",
       " ('Smør', 'NYC', '', 4.5, 21, 'vegan'),\n",
       " ('Bareburger', 'NYC', '$$', 4, 335, 'vegan'),\n",
       " ('Thai Farm Kitchen', 'NYC', '$$', 4.5, 132, 'vegan'),\n",
       " ('Buttermilk Channel', 'NYC', '$$', 4, 1835, 'vegan'),\n",
       " ('Brooklyn Fresh Market', 'NYC', '', 5, 1, 'vegan'),\n",
       " ('sweetgreen', 'NYC', '$$', 4, 227, 'vegan'),\n",
       " ('Gather', 'NYC', '$$', 4, 112, 'vegan'),\n",
       " ('5ive Spice', 'NYC', '$$', 4, 544, 'vegan'),\n",
       " ('Perelandra Natural Food Center', 'NYC', '$$', 4, 164, 'vegan'),\n",
       " ('Organic Soul Cafe', 'NYC', '$$', 5, 6, 'vegan'),\n",
       " ('Little Mo', 'NYC', '$$', 4, 295, 'vegan'),\n",
       " ('Queens Comfort', 'NYC', '$$', 4, 2022, 'vegan'),\n",
       " ('Black Burger', 'NYC', '$', 4, 308, 'vegan'),\n",
       " ('Chela Modern Mexican', 'NYC', '$$', 4.5, 327, 'vegan'),\n",
       " ('Hello Always Tea', 'NYC', '', 5, 32, 'vegan'),\n",
       " ('Massawa', 'NYC', '$$', 4, 252, 'vegan'),\n",
       " ('Melt Shop', 'NYC', '$$', 4, 350, 'vegan'),\n",
       " ('Wolfnights', 'NYC', '$$', 4, 506, 'vegan'),\n",
       " ('Ricas Pupusas & Mas', 'NYC', '', 4.5, 23, 'vegan'),\n",
       " ('Madcap Cafe', 'NYC', '$$', 4, 65, 'vegan'),\n",
       " ('Sweet Chick', 'NYC', '$$', 4, 1868, 'vegan'),\n",
       " ('Tatsu Ramen', 'NYC', '$$', 4, 323, 'vegan'),\n",
       " ('Dill & Parsley', 'NYC', '', 4.5, 16, 'vegan'),\n",
       " ('NY Dosas', 'NYC', '$', 4.5, 397, 'vegan'),\n",
       " (\"Petee's Cafe\", 'NYC', '$$', 4.5, 67, 'vegan'),\n",
       " ('Forkright', 'NYC', '', 4, 20, 'vegan'),\n",
       " ('honeygrow', 'NYC', '$$', 3.5, 278, 'vegan'),\n",
       " ('The Dumpling Shop', 'NYC', '', 4.5, 100, 'vegan'),\n",
       " ('Westville Chelsea', 'NYC', '$$', 4, 1073, 'vegan'),\n",
       " ('Eatwell', 'NYC', '', 5, 1, 'vegan'),\n",
       " ('&pizza', 'NYC', '$$', 4.5, 379, 'vegan'),\n",
       " ('sweetgreen', 'NYC', '$$', 4, 608, 'vegan'),\n",
       " ('The Bean', 'NYC', '$', 3.5, 97, 'vegan'),\n",
       " ('Posh Pop Bakeshop', 'NYC', '', 4.5, 104, 'vegan'),\n",
       " ('Dudleys', 'NYC', '$$', 4, 650, 'vegan'),\n",
       " ('Colonie', 'NYC', '$$$', 4, 549, 'vegan'),\n",
       " ('Tacos Lokos 4ever', 'NYC', '$', 4, 25, 'vegan'),\n",
       " ('Kanan Indian Restaurant', 'NYC', '$$', 3.5, 119, 'vegan'),\n",
       " (\"John's of 12th Street\", 'NYC', '$$', 3.5, 649, 'vegan'),\n",
       " ('Camperdown Elm', 'NYC', '$$$', 4.5, 99, 'vegan'),\n",
       " (\"Schmackary's\", 'NYC', '', 4.5, 3, 'vegan'),\n",
       " ('Vino Levantino', 'NYC', '$$', 4, 224, 'vegan'),\n",
       " ('Lakruwana', 'NYC', '$$', 4.5, 280, 'vegan'),\n",
       " ('Sai Gon Dep', 'NYC', '$$', 4, 76, 'vegan'),\n",
       " ('Salt+Seed', 'NYC', '', 5, 4, 'vegan'),\n",
       " ('Lotus Vegetarian', 'NYC', '', 5, 5, 'vegan'),\n",
       " ('Juicy Lucy Juice Bar', 'NYC', '$', 4, 122, 'vegan'),\n",
       " ('The Food Sermon Kitchen', 'NYC', '$$', 4.5, 243, 'vegan'),\n",
       " ('Jin Ramen', 'NYC', '$$', 4, 813, 'vegan'),\n",
       " ('Bar Bruno', 'NYC', '$$', 4, 241, 'vegan'),\n",
       " ('Van Leeuwen Ice Cream', 'NYC', '', 4, 17, 'vegan'),\n",
       " ('Mother Dough', 'NYC', '$$', 4.5, 27, 'vegan'),\n",
       " ('Lazy Suzy Cafe & Shop', 'NYC', '', 5, 16, 'vegan'),\n",
       " ('Samurai Papa', 'NYC', '$$', 4.5, 251, 'vegan'),\n",
       " ('CAVA', 'NYC', '', 4.5, 40, 'vegan'),\n",
       " ('19 Cleveland By Nish Nush', 'NYC', '', 4.5, 89, 'vegan'),\n",
       " (\"Mom's Kitchen & Bar\", 'NYC', '$$', 4, 555, 'vegan'),\n",
       " ('Smooch', 'NYC', '$$', 3.5, 196, 'vegan'),\n",
       " ('NAYA', 'NYC', '$', 4.5, 121, 'vegan'),\n",
       " ('Ippudo Westside', 'NYC', '$$', 4, 3516, 'vegan'),\n",
       " ('Topaz Noodle Bar', 'NYC', '$$', 4, 577, 'vegan'),\n",
       " ('Vegetarian Palate', 'NYC', '$$', 3.5, 182, 'vegan'),\n",
       " ('Gentle Perch', 'NYC', '', 5, 3, 'vegan'),\n",
       " ('Nimbooda', 'NYC', '$$', 4, 148, 'vegan'),\n",
       " ('Taco Mahal', 'NYC', '$$', 4.5, 479, 'vegan'),\n",
       " ('Bonafini', 'NYC', '$$', 4, 324, 'vegan'),\n",
       " ('Local 92', 'NYC', '$$', 4, 368, 'vegan'),\n",
       " ('Blackbarn Cafe | Bar', 'NYC', '$$', 4, 66, 'vegan'),\n",
       " ('minigrow', 'NYC', '$$', 3.5, 99, 'vegan'),\n",
       " ('Frankie Goes To Bollywood', 'NYC', '', 4, 26, 'vegan'),\n",
       " ('Caracas Arepa Bar', 'NYC', '$$', 4, 794, 'vegan'),\n",
       " ('Naruto Ramen', 'NYC', '$$', 4, 220, 'vegan'),\n",
       " ('The River Café', 'NYC', '$$$$', 4, 1064, 'vegan'),\n",
       " ('Calexico', 'NYC', '$$', 4, 603, 'vegan'),\n",
       " ('Calle Dao - Chelsea', 'NYC', '$$', 4.5, 470, 'vegan'),\n",
       " ('Spring Natural Kitchen', 'NYC', '$$', 3.5, 456, 'vegan'),\n",
       " ('CHALAIT', 'NYC', '$$', 4.5, 79, 'vegan'),\n",
       " ('Sunday in Brooklyn', 'NYC', '$$', 4, 609, 'vegan'),\n",
       " ('Good Move', 'NYC', '$$', 4, 29, 'vegan'),\n",
       " ('MRS. AN Thai', 'NYC', '$$', 4, 79, 'vegan'),\n",
       " ('Nowadays', 'NYC', '$$', 3.5, 149, 'vegan'),\n",
       " ('Taheni Mediterranean Grill', 'NYC', '$', 4.5, 201, 'vegan'),\n",
       " ('Café Beit', 'NYC', '$', 4.5, 83, 'vegan'),\n",
       " ('Miss Ada', 'NYC', '$$$', 4.5, 167, 'vegan'),\n",
       " ('Reunion', 'NYC', '$$', 4, 373, 'vegan'),\n",
       " ('La Loncheria', 'NYC', '$$', 4.5, 55, 'vegan'),\n",
       " (\"Julia's\", 'NYC', '$$', 4.5, 189, 'vegan'),\n",
       " ('OBAO', 'NYC', '$$', 4, 2255, 'vegan'),\n",
       " (\"Dawa's\", 'NYC', '$$', 4.5, 205, 'vegan'),\n",
       " ('Citizens of Chelsea', 'NYC', '$$', 4, 578, 'vegan'),\n",
       " ('Thai72', 'NYC', '$$', 4, 206, 'vegan'),\n",
       " (\"Walter's\", 'NYC', '$$', 4, 489, 'vegan'),\n",
       " ('Bea', 'NYC', '$$', 4, 2304, 'vegan'),\n",
       " ('Roots Cafe', 'NYC', '$$', 4.5, 297, 'vegan'),\n",
       " ('NaNa Thai Street', 'NYC', '', 4.5, 39, 'vegan'),\n",
       " ('Meraki Hummus & Juice Bar', 'NYC', '$$', 5, 27, 'vegan'),\n",
       " ('Tiger Box', 'NYC', '$', 4, 49, 'vegan'),\n",
       " ('Milk Burger', 'NYC', '$$', 4.5, 91, 'vegan'),\n",
       " ('Manhatta', 'NYC', '$$$$', 4.5, 301, 'vegan'),\n",
       " ('Pye Boat Noodle', 'NYC', '$$', 4, 737, 'vegan'),\n",
       " ('Porteñas Yerba Mate', 'NYC', '', 4.5, 20, 'vegan'),\n",
       " ('Comfortland', 'NYC', '', 4, 96, 'vegan'),\n",
       " ('CAVA', 'NYC', '$$', 4.5, 262, 'vegan'),\n",
       " ('Bread & Spread', 'NYC', '$$', 4.5, 130, 'vegan'),\n",
       " ('indi thai', 'NYC', '', 4.5, 59, 'vegan'),\n",
       " ('Yemen Cafe & Restaurant', 'NYC', '$$', 4.5, 471, 'vegan'),\n",
       " ('La Morada Restaurant', 'NYC', '$$', 4.5, 152, 'vegan'),\n",
       " ('The Plaza Food Hall', 'NYC', '$$', 4, 627, 'vegan'),\n",
       " ('Chennai Garden by Tiffin Wallah', 'NYC', '$$', 4, 745, 'vegan'),\n",
       " ('The Gumbo Bros', 'NYC', '$$', 4.5, 291, 'vegan'),\n",
       " ('Chicks Isan', 'NYC', '', 4.5, 45, 'vegan'),\n",
       " ('Panzerotti Bites', 'NYC', '$$', 5, 97, 'vegan'),\n",
       " ('Yellow Magnolia Café', 'NYC', '$$', 4, 59, 'vegan'),\n",
       " ('Harlem Public', 'NYC', '$$', 4, 855, 'vegan'),\n",
       " ('May-Wah Vegetarian Market', 'NYC', '$$', 4.5, 108, 'vegan'),\n",
       " (\"S'MAC\", 'NYC', '$$', 3.5, 2144, 'vegan'),\n",
       " ('Three Jewels Cafe', 'NYC', '', 4, 9, 'vegan'),\n",
       " (\"Friedman's\", 'NYC', '$$', 4, 526, 'vegan'),\n",
       " ('Five Leaves', 'NYC', '$$', 4, 1549, 'vegan'),\n",
       " ('Proper Food', 'NYC', '', 4.5, 4, 'vegan'),\n",
       " ('Thursday Kitchen', 'NYC', '$$', 4.5, 1201, 'vegan'),\n",
       " (\"Paulie Gee's Slice Shop\", 'NYC', '$', 4, 127, 'vegan'),\n",
       " ('Wild Park Slope', 'NYC', '$$', 3.5, 216, 'vegan'),\n",
       " ('JoJu', 'NYC', '$', 4.5, 1531, 'vegan'),\n",
       " ('The Bluebell Cafe', 'NYC', '$$', 4, 585, 'vegan'),\n",
       " ('Cocoa Grinder', 'NYC', '$$', 4, 284, 'vegan'),\n",
       " ('Outro', 'NYC', '$$', 4, 225, 'vegan'),\n",
       " ('Salis Cafe', 'NYC', '$$', 4.5, 21, 'vegan'),\n",
       " ('Ashland', 'NYC', '$$', 4.5, 16, 'vegan'),\n",
       " ('Saiguette', 'NYC', '$$', 4.5, 569, 'vegan'),\n",
       " ('Daddy Greens', 'NYC', '$', 4, 359, 'vegan'),\n",
       " ('Loring Place', 'NYC', '$$$', 4.5, 338, 'vegan'),\n",
       " ('Dig Inn', 'NYC', '$$', 4, 234, 'vegan'),\n",
       " ('Loosie Rouge', 'NYC', '$$', 4, 76, 'vegan'),\n",
       " ('Balzem', 'NYC', '$$', 4, 399, 'vegan'),\n",
       " ('Mi Noodle Bar', 'NYC', '$$', 4.5, 183, 'vegan'),\n",
       " ('The Drunken Munkey - UES', 'NYC', '$$', 4.5, 916, 'vegan'),\n",
       " ('Spring Natural', 'NYC', '$$', 3.5, 766, 'vegan'),\n",
       " ('Beatstro', 'NYC', '$$', 4, 185, 'vegan'),\n",
       " ('The Bonnie', 'NYC', '$$', 4, 566, 'vegan'),\n",
       " ('Baby Brasa', 'NYC', '$$', 4, 389, 'vegan'),\n",
       " (\"CC's Cafe\", 'NYC', '$$', 4.5, 131, 'vegan'),\n",
       " ('Wok Wok', 'NYC', '$$', 4, 809, 'vegan'),\n",
       " ('Los Tacos No.1', 'NYC', '$', 4.5, 1284, 'vegan'),\n",
       " ('Mr. Taka Ramen', 'NYC', '$$', 4, 415, 'vegan'),\n",
       " ('Black Tap Craft Burger & Beers', 'NYC', '$$', 4, 979, 'vegan'),\n",
       " ('Momofuku Noodle Bar', 'NYC', '', 4, 164, 'vegan'),\n",
       " ('Kitsby', 'NYC', '$$', 4.5, 58, 'vegan'),\n",
       " ('Green Basket & More', 'NYC', '$', 5, 12, 'vegan'),\n",
       " ('Vatan Indian Vegetarian', 'NYC', '$$$', 4, 599, 'vegan'),\n",
       " ('Coco & Cru', 'NYC', '$$', 4, 282, 'vegan'),\n",
       " ('Champion Pizza', 'NYC', '$', 4, 262, 'vegan'),\n",
       " ('Pinwheel Garden Dumpling & Noodle Bar', 'NYC', '$$', 4.5, 136, 'vegan'),\n",
       " ('Jia NYC', 'NYC', '$$', 4.5, 69, 'vegan'),\n",
       " ('Luchadores', 'NYC', '', 4, 46, 'vegan'),\n",
       " ('Koku Ramen', 'NYC', '$$', 4, 256, 'vegan'),\n",
       " ('The Black Flamingo', 'NYC', '$', 4.5, 51, 'vegan'),\n",
       " ('Veggies Natural Juice Bar', 'NYC', '$', 4.5, 134, 'vegan'),\n",
       " ('Sweetwater Restaurant', 'NYC', '$$', 4, 338, 'vegan'),\n",
       " ('Taza Mkt', 'NYC', '', 5, 13, 'vegan'),\n",
       " (\"Millie's Cuban Cafe\", 'NYC', '', 4.5, 52, 'vegan'),\n",
       " ('Bareburger', 'NYC', '$$', 3, 30, 'vegan'),\n",
       " ('Cyclo', 'NYC', '$$', 4, 463, 'vegan'),\n",
       " ('V-Nam Cafe', 'NYC', '$', 4, 448, 'vegan'),\n",
       " ('Vegan Food and Drink Festival', 'NYC', '$$', 3.5, 5, 'vegan'),\n",
       " ('Hummus Place', 'NYC', '$$', 4, 590, 'vegan'),\n",
       " ('Dr Smood - Madison', 'NYC', '$$', 3.5, 106, 'vegan'),\n",
       " ('Olmsted', 'NYC', '$$$', 4, 332, 'vegan'),\n",
       " ('The Bean', 'NYC', '$', 3.5, 448, 'vegan'),\n",
       " ('Loco Coco - Brooklyn', 'NYC', '', 1, 2, 'vegan'),\n",
       " (\"Subia's Organic Market\", 'NYC', '$$', 4, 178, 'vegan'),\n",
       " ('Avocado Appétit', 'NYC', '$$', 4.5, 200, 'vegan'),\n",
       " ('deep indian kitchen - indikitch', 'NYC', '$$', 4, 689, 'vegan'),\n",
       " ('Van Leeuwen Artisan Ice Cream', 'NYC', '$$', 4, 90, 'vegan'),\n",
       " ('Seed + Mill', 'NYC', '$', 4.5, 205, 'vegan'),\n",
       " ('Calyer', 'NYC', '', 4.5, 7, 'vegan'),\n",
       " ('Thai Direct Bowls', 'NYC', '', 4, 34, 'vegan'),\n",
       " ('Bao Bao Cafe', 'NYC', '$', 4, 430, 'vegan'),\n",
       " ('Scoops & Plates Eatery', 'NYC', '$', 4, 34, 'vegan'),\n",
       " ('Two Hands Restaurant & Bar', 'NYC', '$$', 3.5, 275, 'vegan'),\n",
       " (\"L'Accolade\", 'NYC', '', 4.5, 6, 'vegan'),\n",
       " ('Café China', 'NYC', '$$', 4, 1471, 'vegan'),\n",
       " ('The Picnic Basket', 'NYC', '$', 4, 145, 'vegan'),\n",
       " (\"Sunny and Annie's\", 'NYC', '$', 4.5, 464, 'vegan'),\n",
       " ('Himalayan Yak', 'NYC', '$$', 3.5, 603, 'vegan'),\n",
       " ('Zoma', 'NYC', '$$', 4, 377, 'vegan'),\n",
       " ('The Little Beet', 'NYC', '$$', 4, 34, 'vegan'),\n",
       " ('Bowery Road', 'NYC', '$$$', 4, 185, 'vegan'),\n",
       " ('Van Leeuwen Artisan Ice Cream', 'NYC', '', 4.5, 3, 'vegan'),\n",
       " ('Hard Times Christmas Liquors at the Sunset bar',\n",
       "  'NYC',\n",
       "  '$$',\n",
       "  4,\n",
       "  349,\n",
       "  'vegan'),\n",
       " ('Go Natural Health Foods & Juice Bar', 'NYC', '$$', 4, 70, 'vegan'),\n",
       " ('SIMÒ PIZZA', 'NYC', '$', 4.5, 110, 'vegan'),\n",
       " ('Hu Kitchen', 'NYC', '$$', 3.5, 902, 'vegan'),\n",
       " (\"Jack's Wife Freda\", 'NYC', '$$', 4, 797, 'vegan'),\n",
       " ('Belle Reve', 'NYC', '$$', 4, 152, 'vegan'),\n",
       " ('Mama Fox', 'NYC', '$$', 4, 76, 'vegan'),\n",
       " ('Vegan Street Fair Grand Bazaar', 'NYC', '', 3, 1, 'vegan'),\n",
       " ('Veggies Natural Juice Bar and Cafe', 'NYC', '', 4.5, 14, 'vegan'),\n",
       " ('Chow House', 'NYC', '$$', 4.5, 282, 'vegan'),\n",
       " ('Sunshine', 'NYC', '$$', 4, 328, 'vegan'),\n",
       " ('Van Leeuwen Artisan Ice Cream', 'NYC', '$$', 4, 97, 'vegan'),\n",
       " ('Burgerology', 'NYC', '$$', 3.5, 139, 'vegan'),\n",
       " ('SpaHa Soul and Bone Broth', 'NYC', '$$', 4.5, 114, 'vegan'),\n",
       " ('Dr Cow Tree Nut Cheese Corp', 'NYC', '$$', 4.5, 27, 'vegan'),\n",
       " (\"Drip Cafe' Bk\", 'NYC', '', 5, 4, 'vegan'),\n",
       " ('CAVA', 'NYC', '$$', 4, 142, 'vegan'),\n",
       " ('Hungry Bird', 'NYC', '$$', 4.5, 182, 'vegan'),\n",
       " (\"Luna's Kitchen & Bar\", 'NYC', '', 5, 7, 'vegan'),\n",
       " ('Otis', 'NYC', '$$', 5, 207, 'vegan'),\n",
       " ('CK14  The Crooked Knife', 'NYC', '$$', 4, 496, 'vegan'),\n",
       " ('Bogota Latin Bistro', 'NYC', '$$', 4, 2096, 'vegan'),\n",
       " ('Uglyduckling', 'NYC', '$$', 4, 452, 'vegan'),\n",
       " ('Pinto Restaurant', 'NYC', '$$', 4, 208, 'vegan'),\n",
       " ('The Burrito Box', 'NYC', '$', 4, 843, 'vegan'),\n",
       " ('Awash Ethiopian Restaurant', 'NYC', '$$', 4, 438, 'vegan'),\n",
       " ('Society Cafe', 'NYC', '$$', 4, 139, 'vegan'),\n",
       " ('Rustic Table', 'NYC', '$$', 4, 750, 'vegan'),\n",
       " ('Taco Dumbo', 'NYC', '$$', 4, 90, 'vegan'),\n",
       " ('Jen Maxine', 'NYC', '', 5, 2, 'vegan'),\n",
       " (\"Xi'an Famous Foods\", 'NYC', '$', 4, 955, 'vegan'),\n",
       " ('Nuchas - Brooklyn', 'NYC', '', 4.5, 3, 'vegan'),\n",
       " ('Boucherie West Village', 'NYC', '$$$', 4.5, 1107, 'vegan'),\n",
       " ('Food For Health', 'NYC', '$$', 4.5, 92, 'vegan'),\n",
       " ('Entwine', 'NYC', '$$', 4, 202, 'vegan'),\n",
       " ('The Coppola Cafe', 'NYC', '', 4.5, 7, 'vegan'),\n",
       " ('B&H Dairy', 'NYC', '$', 4.5, 457, 'vegan'),\n",
       " ('Fish Cheeks', 'NYC', '$$', 4.5, 401, 'vegan'),\n",
       " ('House of Small Wonder', 'NYC', '$$', 4, 683, 'vegan'),\n",
       " ('Renaissance Harlem', 'NYC', '$$', 4, 162, 'vegan'),\n",
       " ('Quinoa Kitchen', 'NYC', '$$', 4.5, 144, 'vegan'),\n",
       " ('Cafe Peanut', 'NYC', '', 4.5, 5, 'vegan'),\n",
       " ('Van Leeuwen Artisan Ice Cream', 'NYC', '$$', 4.5, 452, 'vegan'),\n",
       " (\"Meme's Healthy Nibbles\", 'NYC', '$$', 4, 143, 'vegan'),\n",
       " ('Vida', 'NYC', '$$$', 4, 56, 'vegan'),\n",
       " ('1803', 'NYC', '$$', 4.5, 256, 'vegan'),\n",
       " ('De Mole', 'NYC', '', 4.5, 74, 'vegan'),\n",
       " ('The Kati Roll Company', 'NYC', '$', 4, 1464, 'vegan'),\n",
       " ('Java Indonesian Restaurant', 'NYC', '$$', 4, 186, 'vegan'),\n",
       " ('The Bowery Market', 'NYC', '$$', 4, 21, 'vegan'),\n",
       " ('&pizza', 'NYC', '$$', 4, 128, 'vegan'),\n",
       " ('Bamboo House & Bar', 'NYC', '', 4.5, 9, 'vegan'),\n",
       " ('Big Bowls Little Plates', 'NYC', '$$', 4, 24, 'vegan'),\n",
       " ('Moss Cafe', 'NYC', '$$', 4, 123, 'vegan'),\n",
       " ('Capybara Bar and Restaurant', 'NYC', '$$', 4, 39, 'vegan'),\n",
       " ('Foragers Table', 'NYC', '$$', 4, 528, 'vegan'),\n",
       " ('The Market', 'NYC', '$$', 4, 129, 'vegan'),\n",
       " ('Trattoria Trecolori', 'NYC', '$$', 4, 2153, 'vegan'),\n",
       " ('Maoz Falafel & Grill', 'NYC', '$$', 4, 205, 'vegan'),\n",
       " ('Fatty Daddy Taco', 'NYC', '$$', 4, 138, 'vegan'),\n",
       " ('Trufa Restaurant', 'NYC', '$$', 4, 292, 'vegan'),\n",
       " ('Hui Restaurant & Bar', 'NYC', '$$', 4.5, 99, 'vegan'),\n",
       " (\"L'ADRESSE\", 'NYC', '$$', 4, 480, 'vegan'),\n",
       " ('Bati', 'NYC', '$$', 3.5, 211, 'vegan'),\n",
       " ('Blockheads', 'NYC', '$$', 3.5, 442, 'vegan'),\n",
       " (\"Tiny's Giant Sandwich Shop\", 'NYC', '$', 4, 474, 'vegan'),\n",
       " ('wagamama - nomad', 'NYC', '$$', 3.5, 762, 'vegan'),\n",
       " ('Kokage', 'NYC', '$$$', 4, 85, 'vegan'),\n",
       " ('Maoz Vegetarian', 'NYC', '$', 4, 44, 'vegan'),\n",
       " ('191 Knickerbocker', 'NYC', '$$', 5, 100, 'vegan'),\n",
       " ('The Blue Light Speak Cheesy', 'NYC', '$', 5, 68, 'vegan'),\n",
       " ('The Shady Lady', 'NYC', '$$', 4, 746, 'vegan'),\n",
       " ('Havana Cafe', 'NYC', '$$', 4, 161, 'vegan'),\n",
       " ('Top Thai Greenwich', 'NYC', '$$', 4.5, 1166, 'vegan'),\n",
       " ('Gran Electrica', 'NYC', '$$', 3.5, 458, 'vegan'),\n",
       " (\"MeMe's Diner\", 'NYC', '$$$', 4, 88, 'vegan'),\n",
       " ('Dosa Hutt', 'NYC', '$', 4.5, 204, 'vegan'),\n",
       " ('The Grey Dog', 'NYC', '$$', 4, 1049, 'vegan'),\n",
       " ('Little Collins', 'NYC', '$$', 4.5, 757, 'vegan'),\n",
       " ('The Hummus & Pita', 'NYC', '$$', 4, 368, 'vegan'),\n",
       " ('Elephant & Castle', 'NYC', '$$', 4, 528, 'vegan'),\n",
       " (\"Mia's Bakery\", 'NYC', '$', 4.5, 584, 'vegan'),\n",
       " ('Diner', 'NYC', '$$', 4, 731, 'vegan'),\n",
       " ('Samurai Papa BS', 'NYC', '$$', 4, 140, 'vegan'),\n",
       " ('Gentleman Farmer - Fort Greene', 'NYC', '$$$', 4.5, 145, 'vegan'),\n",
       " ('Cheeky Sandwiches', 'NYC', '$', 4.5, 1112, 'vegan'),\n",
       " ('Ix Restaurant', 'NYC', '$$', 4.5, 107, 'vegan'),\n",
       " (\"Mamoun's Falafel\", 'NYC', '$', 4, 2318, 'vegan'),\n",
       " ('Counter & Bodega', 'NYC', '$$', 4.5, 61, 'vegan'),\n",
       " ('Very Fresh Noodles', 'NYC', '$$', 4.5, 819, 'vegan'),\n",
       " ('Spice Kitchen', 'NYC', '$$', 4.5, 173, 'vegan'),\n",
       " ('The Shakespeare', 'NYC', '$$', 4, 351, 'vegan'),\n",
       " ('Moloko', 'NYC', '$$', 4.5, 155, 'vegan'),\n",
       " ('Simply Juiced', 'NYC', '$$', 4.5, 111, 'vegan'),\n",
       " ('FalafaLafa Marine Park', 'NYC', '$', 4.5, 73, 'vegan'),\n",
       " ('Shanghai 21', 'NYC', '$$', 4, 1543, 'vegan'),\n",
       " ('Kaikagetsu NYC', 'NYC', '', 4.5, 34, 'vegan'),\n",
       " ('Birds of a Feather', 'NYC', '$$', 4, 272, 'vegan'),\n",
       " ('Westville Hudson', 'NYC', '$$', 4, 496, 'vegan'),\n",
       " ('The Hummus & Pita', 'NYC', '$$', 4, 619, 'vegan'),\n",
       " ('name', 'LA', 'price', 'rating', 'review_count', 'meat'),\n",
       " ('Meat On Ocean', 'LA', '$$$', 4, 634, 'meat'),\n",
       " ('H&H Brazilian Steakhouse', 'LA', '', 4.5, 113, 'meat'),\n",
       " ('Slab', 'LA', '$$', 4.5, 230, 'meat'),\n",
       " ('Jeong Yuk Jeom', 'LA', '$$', 4, 164, 'meat'),\n",
       " (\"McCall's Meat & Fish Company\", 'LA', '$$$', 4.5, 206, 'meat'),\n",
       " ('Ten-Raku', 'LA', '$$', 4.5, 387, 'meat'),\n",
       " (\"The Park's Finest\", 'LA', '$$', 4, 1942, 'meat'),\n",
       " ('UNCLEDADDY BBQ', 'LA', '', 5, 2, 'meat'),\n",
       " ('Choice Meat Market', 'LA', '$$', 4.5, 65, 'meat'),\n",
       " ('Red Rock-Sawtelle', 'LA', '$$', 4, 103, 'meat'),\n",
       " ('Magal BBQ', 'LA', '$$', 4.5, 1514, 'meat'),\n",
       " ('Huntington Meats', 'LA', '$$', 5, 171, 'meat'),\n",
       " ('LA Brisket', 'LA', '', 5, 78, 'meat'),\n",
       " ('Belcampo Burger LA/West Third', 'LA', '$$', 4, 284, 'meat'),\n",
       " (\"Lala's Argentine Grill\", 'LA', '$$', 4, 1877, 'meat'),\n",
       " (\"Bludso's Bar & Que\", 'LA', '$$', 4, 1835, 'meat'),\n",
       " ('Red Pig', 'LA', '$$', 4.5, 19, 'meat'),\n",
       " ('ACA Grill', 'LA', '$$', 4.5, 420, 'meat'),\n",
       " ('Gwen Butcher Shop', 'LA', '$$$$', 4, 511, 'meat'),\n",
       " ('Prime Cutts', 'LA', '$$', 4, 204, 'meat'),\n",
       " ('Soowon Galbi KBBQ Restaurant', 'LA', '$$', 4.5, 2458, 'meat'),\n",
       " ('Quarters Korean BBQ', 'LA', '$$', 4, 2473, 'meat'),\n",
       " ('A Cut Above Butcher Shop', 'LA', '$$', 4.5, 297, 'meat'),\n",
       " (\"Marconda's Meats\", 'LA', '$$', 4.5, 169, 'meat'),\n",
       " ('Pampas Grill', 'LA', '$$', 4, 1167, 'meat'),\n",
       " ('Aria Meat & BBQ', 'LA', '$', 5, 84, 'meat'),\n",
       " ('Polleria La Princesa', 'LA', '', 5, 1, 'meat'),\n",
       " ('Shin Sun Meat', 'LA', '$$', 4.5, 15, 'meat'),\n",
       " (\"Standing's Butchery\", 'LA', '$$', 5, 57, 'meat'),\n",
       " ('Sevan Meat Market', 'LA', '$$', 4.5, 107, 'meat'),\n",
       " (\"AJ's Tex-Mex & Barbecue\", 'LA', '$$', 4.5, 174, 'meat'),\n",
       " ('AYCE Gogi', 'LA', '$$', 4, 1434, 'meat'),\n",
       " ('Tamaen Japanese BBQ', 'LA', '', 4, 17, 'meat'),\n",
       " (\"Boogie McGee's Bayou Smokehouse BBQ\", 'LA', '$$', 4, 413, 'meat'),\n",
       " ('Yangmani', 'LA', '$$', 4.5, 174, 'meat'),\n",
       " ('European Deluxe Sausage Kitchen', 'LA', '$$', 5, 145, 'meat'),\n",
       " (\"Lala's Argentine Grill\", 'LA', '$$', 4, 90, 'meat'),\n",
       " ('La Carniceria Meat Market', 'LA', '$$', 4.5, 28, 'meat'),\n",
       " (\"Rich's BBQ\", 'LA', '$', 5, 57, 'meat'),\n",
       " ('Ahgassi Gopchang', 'LA', '$$', 4.5, 1208, 'meat'),\n",
       " ('Song Hak LA', 'LA', '$$', 4.5, 100, 'meat'),\n",
       " (\"Rabbi's Daughter\", 'LA', '$$', 4.5, 82, 'meat'),\n",
       " ('Zacatecas Meat Mkt', 'LA', '$$$$', 4.5, 5, 'meat'),\n",
       " ('Meat Love Korean BBQ', 'LA', '$$', 4, 372, 'meat'),\n",
       " ('Manpuku Japanese Yakiniku Dining', 'LA', '$$$', 4.5, 81, 'meat'),\n",
       " ('Max City BBQ', 'LA', '$$', 4, 886, 'meat'),\n",
       " ('Ribs Against the Machine', 'LA', '$$', 4.5, 73, 'meat'),\n",
       " ('Los Cinco Puntos', 'LA', '$', 4.5, 527, 'meat'),\n",
       " ('Torigoya', 'LA', '$$', 4, 119, 'meat'),\n",
       " ('Manpuku Tokyo BBQ', 'LA', '$$', 4, 597, 'meat'),\n",
       " ('Phillips Barbecue', 'LA', '$$', 4, 480, 'meat'),\n",
       " ('Zovk Market', 'LA', '$$', 4.5, 16, 'meat'),\n",
       " ('Angus Meat Market', 'LA', '$$', 4.5, 8, 'meat'),\n",
       " ('SuKarne - Premium Meats', 'LA', '', 5, 6, 'meat'),\n",
       " ('Tropicalia Brazilian Grill', 'LA', '$$', 4, 560, 'meat'),\n",
       " ('Choice Meat Market', 'LA', '$$', 5, 14, 'meat'),\n",
       " (\"Meme's BBQ Smoke House\", 'LA', '$$', 4.5, 187, 'meat'),\n",
       " ('Maple Block Meat Co', 'LA', '$$', 4, 1152, 'meat'),\n",
       " ('Ham Ji Park', 'LA', '$$', 4, 1451, 'meat'),\n",
       " ('El Centro Meat Market', 'LA', '$', 4.5, 10, 'meat'),\n",
       " ('Fogo de Chão Brazilian Steakhouse', 'LA', '$$$', 3.5, 992, 'meat'),\n",
       " ('ACA Grill', 'LA', '$$', 4.5, 34, 'meat'),\n",
       " ('Malbec Argentinean Cuisine', 'LA', '$$', 4, 728, 'meat'),\n",
       " ('Belcampo Burger DTLA', 'LA', '$$', 3.5, 518, 'meat'),\n",
       " (\"Urseila's Meat\", 'LA', '$', 5, 13, 'meat'),\n",
       " ('YAZAWA', 'LA', '$$$$', 4.5, 224, 'meat'),\n",
       " ('Lou’s Hot Chicken', 'LA', '', 5, 41, 'meat'),\n",
       " ('Ohana BBQ', 'LA', '$$', 4.5, 344, 'meat'),\n",
       " (\"Freedman's\", 'LA', '$$', 4, 171, 'meat'),\n",
       " ('Pampas Grill', 'LA', '$$', 4.5, 209, 'meat'),\n",
       " ('Chops Meat & Fish', 'LA', '$$', 5, 38, 'meat'),\n",
       " ('M Grill', 'LA', '$$$', 4.5, 1929, 'meat'),\n",
       " ('Carlitos Gardel Argentine Steakhouse', 'LA', '$$$', 4.5, 952, 'meat'),\n",
       " ('Harmony Farms', 'LA', '$$', 4.5, 121, 'meat'),\n",
       " ('Corner Place', 'LA', '$$', 4, 905, 'meat'),\n",
       " ('Round Table Grill', 'LA', '$$$', 4.5, 134, 'meat'),\n",
       " (\"Lupita's Meat Market\", 'LA', '$', 4, 27, 'meat'),\n",
       " ('Meat District Co', 'LA', '$$', 3.5, 966, 'meat'),\n",
       " ('Maloney Meat Co', 'LA', '$$', 4, 25, 'meat'),\n",
       " ('JJUKKU JJUKKU BBQ', 'LA', '$$', 4, 833, 'meat'),\n",
       " ('The Stinking Rose', 'LA', '$$', 4, 4169, 'meat'),\n",
       " ('Cielito Lindo Meat Market', 'LA', '$', 4.5, 6, 'meat'),\n",
       " ('Swinging Door BBQ', 'LA', '', 4.5, 5, 'meat'),\n",
       " ('Ssam Korean BBQ', 'LA', '$$', 4.5, 1084, 'meat'),\n",
       " ('Rays Texas BBQ', 'LA', '$$', 4.5, 726, 'meat'),\n",
       " ('Don Felix Meat Market', 'LA', '$', 4, 59, 'meat'),\n",
       " ('RiceBox', 'LA', '$$', 4.5, 135, 'meat'),\n",
       " ('Holy Cow BBQ', 'LA', '$$', 3.5, 791, 'meat'),\n",
       " ('Gyu-Kaku Japanese BBQ', 'LA', '$$', 4, 430, 'meat'),\n",
       " ('Kabob By Faraj Restaurant & Kosher Meat Market',\n",
       "  'LA',\n",
       "  '$$',\n",
       "  4.5,\n",
       "  219,\n",
       "  'meat'),\n",
       " ('Best Buy Meat', 'LA', '$$', 4.5, 7, 'meat'),\n",
       " ('Haykazuni Meat Market', 'LA', '$', 4.5, 12, 'meat'),\n",
       " ('Jokbal 1030', 'LA', '$$', 4.5, 97, 'meat'),\n",
       " ('TGI Korean BBQ', 'LA', '$$', 4.5, 279, 'meat'),\n",
       " ('Handy Market', 'LA', '$$', 4, 527, 'meat'),\n",
       " ('Alameda Market', 'LA', '$$', 4.5, 46, 'meat'),\n",
       " ('KOBUNGA', 'LA', '$$', 4.5, 141, 'meat'),\n",
       " ('Ombu Grill', 'LA', '$$$', 4, 151, 'meat'),\n",
       " ('Kang Ho-dong Baekjeong', 'LA', '$$', 4.5, 4056, 'meat'),\n",
       " ('Mi Tienda Meats', 'LA', '$$', 4.5, 11, 'meat'),\n",
       " ('Wood Spoon', 'LA', '$$', 4, 1370, 'meat'),\n",
       " ('Zamora Brothers', 'LA', '$', 4.5, 72, 'meat'),\n",
       " ('Hae Jang Chon Korean BBQ Restaurant', 'LA', '$$', 4, 4669, 'meat'),\n",
       " ('El Sereno Meat Market', 'LA', '$', 4.5, 35, 'meat'),\n",
       " ('Montana Natural Beef', 'LA', '$$', 5, 9, 'meat'),\n",
       " ('Oleego By Parks BBQ', 'LA', '$', 4, 325, 'meat'),\n",
       " ('Gyu-Kaku Japanese BBQ', 'LA', '$$', 4, 1095, 'meat'),\n",
       " ('Nanban-Kan Restaurant', 'LA', '$$', 4, 726, 'meat'),\n",
       " ('Manna Korean BBQ', 'LA', '$$', 3.5, 1234, 'meat'),\n",
       " ('Full Moon Pickles & Catering', 'LA', '', 5, 1, 'meat'),\n",
       " ('LA Fresh Poultry', 'LA', '$', 4, 42, 'meat'),\n",
       " (\"Pete's Louisiana Style Hot Links\", 'LA', '$', 4.5, 52, 'meat'),\n",
       " ('Majangdong', 'LA', '', 5, 17, 'meat'),\n",
       " ('Baby Blues BBQ', 'LA', '', 3.5, 148, 'meat'),\n",
       " ('Gyu-Kaku Japanese BBQ', 'LA', '$$', 3.5, 1004, 'meat'),\n",
       " ('Eight Korean BBQ', 'LA', '$$', 4.5, 1614, 'meat'),\n",
       " ('Feng Mao Lamb Kebab', 'LA', '$$', 4, 440, 'meat'),\n",
       " ('Fogo de Chão Brazilian Steakhouse', 'LA', '$$$$', 4, 3749, 'meat'),\n",
       " ('New China Mongolian Bbq', 'LA', '', 4.5, 41, 'meat'),\n",
       " ('Bulgogi Hut', 'LA', '$$', 4, 1906, 'meat'),\n",
       " ('The Swingin Door Texas BBQ', 'LA', '$$', 4, 723, 'meat'),\n",
       " ('Western Kosher', 'LA', '$$', 4, 38, 'meat'),\n",
       " ('Rosales Meat Distributors', 'LA', '', 5, 1, 'meat'),\n",
       " ('Cheesemongers of Sherman Oaks', 'LA', '$$', 5, 130, 'meat'),\n",
       " ('Cantinho Brasileiro', 'LA', '$', 4.5, 23, 'meat'),\n",
       " (\"Hardy's Meat Market\", 'LA', '$$', 4, 75, 'meat'),\n",
       " (\"Catalina's Market\", 'LA', '$', 4, 107, 'meat'),\n",
       " ('La Quail Farm', 'LA', '', 4, 17, 'meat'),\n",
       " ('Ong Ga Nae Korean BBQ', 'LA', '$$', 4.5, 433, 'meat'),\n",
       " ('Broadleaf', 'LA', '$$$$', 5, 3, 'meat'),\n",
       " ('El Camaguey Meat Market', 'LA', '$$', 4, 111, 'meat'),\n",
       " ('Alameda Swap Meet', 'LA', '$$', 3.5, 63, 'meat'),\n",
       " (\"Park's Meat Market\", 'LA', '$$', 3.5, 26, 'meat'),\n",
       " ('Sipan Meat Market', 'LA', '$', 4.5, 22, 'meat'),\n",
       " ('Taco Stand on Centinela and Venice', 'LA', '$', 4.5, 76, 'meat'),\n",
       " ('Crazy Falafel', 'LA', '', 4.5, 41, 'meat'),\n",
       " ('House of Galbi', 'LA', '$$', 4, 478, 'meat'),\n",
       " ('The Oaks Gourmet', 'LA', '$$', 4, 675, 'meat'),\n",
       " (\"Turner's Lousiana Meat & Poultry\", 'LA', '$', 4.5, 8, 'meat'),\n",
       " ('Manhattan Meats', 'LA', '$$', 4.5, 99, 'meat'),\n",
       " ('Carniceria Zacoalco', 'LA', '', 3, 2, 'meat'),\n",
       " ('Druzhba Deli', 'LA', '$$', 4.5, 21, 'meat'),\n",
       " ('The Smokey Cow', 'LA', '', 5, 3, 'meat'),\n",
       " (\"Lucille's Smokehouse Bar-B-Que\", 'LA', '$$', 3.5, 822, 'meat'),\n",
       " ('Belcampo Butcher Shop DTLA', 'LA', '$$', 3.5, 43, 'meat'),\n",
       " ('La Pasadita Meat Market', 'LA', '', 5, 14, 'meat'),\n",
       " (\"Delmonico's Steak and Lobster House\", 'LA', '$$$', 3.5, 640, 'meat'),\n",
       " ('Whittier Market', 'LA', '$$', 4.5, 27, 'meat'),\n",
       " ('Moobongri Soondae BBQ', 'LA', '', 4.5, 12, 'meat'),\n",
       " ('Brothers Bbq', 'LA', '$$', 4, 445, 'meat'),\n",
       " ('Brothers Bbq', 'LA', '$$', 4, 445, 'meat'),\n",
       " ('Karabagh Meat Market & Deli', 'LA', '$$', 3, 50, 'meat'),\n",
       " ('El Recreo Meat Market', 'LA', '$', 4.5, 17, 'meat'),\n",
       " ('Carnitas El Momo', 'LA', '$', 5, 71, 'meat'),\n",
       " ('Rancho Meat Market', 'LA', '$', 4.5, 11, 'meat'),\n",
       " ('Meatos Bistrot Chic', 'LA', '$$$', 4.5, 69, 'meat'),\n",
       " ('Smorgasburg', 'LA', '$$', 4, 928, 'meat'),\n",
       " ('Cafe Chimichurri', 'LA', '$$', 4, 224, 'meat'),\n",
       " ('Horse Thief BBQ', 'LA', '$$', 3.5, 812, 'meat'),\n",
       " ('Alex Meat Market Carniceria Argentina', 'LA', '$', 4.5, 76, 'meat'),\n",
       " ('Kalbis Grill', 'LA', '$$', 4.5, 195, 'meat'),\n",
       " ('BBQ + RICE Korean BBQ Bowls', 'LA', '$', 5, 198, 'meat'),\n",
       " ('Stone Grill', 'LA', '$$', 4, 412, 'meat'),\n",
       " (\"TJ's Tacos LA\", 'LA', '$', 5, 9, 'meat'),\n",
       " ('Glen Rose Meat', 'LA', '', 5, 5, 'meat'),\n",
       " ('Samba Brazilian Steakhouse and Lounge', 'LA', '$$$', 3, 1282, 'meat'),\n",
       " ('MulDaePo BBQ', 'LA', '$$', 4.5, 71, 'meat'),\n",
       " ('Haig Kabob House', 'LA', '$$', 4.5, 85, 'meat'),\n",
       " ('Boneyard Bistro', 'LA', '$$', 4, 1259, 'meat'),\n",
       " ('Aussie Pies And Sausages', 'LA', '', 5, 1, 'meat'),\n",
       " ('Chadolpoong', 'LA', '$$', 4, 87, 'meat'),\n",
       " ('Feng Mao Lamb Kebab', 'LA', '$$', 4.5, 534, 'meat'),\n",
       " (\"Taylor's Steakhouse\", 'LA', '$$$', 4, 1084, 'meat'),\n",
       " ('Samba Grill', 'LA', '$$', 4, 18, 'meat'),\n",
       " ('Nairi Meat & Deli', 'LA', '$', 4.5, 20, 'meat'),\n",
       " ('Angel’s Tijuana Tacos', 'LA', '', 4, 32, 'meat'),\n",
       " ('Royal Meat Market & Deli', 'LA', '', 5, 1, 'meat'),\n",
       " ('Carniceria lapotosina', 'LA', '', 5, 2, 'meat'),\n",
       " ('BBQ Chicken', 'LA', '$$', 4, 172, 'meat'),\n",
       " ('Huli Huli Hawaiian Grill & Teabar', 'LA', '$', 3.5, 83, 'meat'),\n",
       " (\"Gelsinger's Meats Market Deli\", 'LA', '$$', 4.5, 23, 'meat'),\n",
       " ('Ham Ji Park', 'LA', '$$', 4, 153, 'meat'),\n",
       " (\"Park's BBQ\", 'LA', '$$$', 4, 1623, 'meat'),\n",
       " ('Ararat Fish & Meat Market', 'LA', '$$', 4.5, 15, 'meat'),\n",
       " ('Kaban Persian Restaurant', 'LA', '$$', 4.5, 134, 'meat'),\n",
       " ('La Princesita Carnicera Y Tortilleria', 'LA', '$', 4.5, 37, 'meat'),\n",
       " ('APL Restaurant / APL BBQ', 'LA', '$$$$', 3.5, 215, 'meat'),\n",
       " ('Florence Meats', 'LA', '', 5, 1, 'meat'),\n",
       " ('Carniceria Don Juan', 'LA', '$', 5, 33, 'meat'),\n",
       " ('DaeBuDo', 'LA', '$$', 4.5, 166, 'meat'),\n",
       " ('Famous Market', 'LA', '$', 5, 17, 'meat'),\n",
       " ('The Barbacoa Boyz', 'LA', '', 5, 5, 'meat'),\n",
       " (\"Gus's Barbecue\", 'LA', '$$', 4, 2073, 'meat'),\n",
       " ('Mh Zh', 'LA', '$$', 4.5, 361, 'meat'),\n",
       " ('Pampas Grill', 'LA', '$$', 4, 615, 'meat'),\n",
       " ('Paddy Mac', 'LA', '$$', 4.5, 15, 'meat'),\n",
       " ('Genwa Korean BBQ', 'LA', '$$', 4.5, 2755, 'meat'),\n",
       " ('Seven Seas Gourmet Foods', 'LA', '$$$', 4.5, 20, 'meat'),\n",
       " ('Original Kabob Factory', 'LA', '$$', 4.5, 888, 'meat'),\n",
       " ('La Blanquita Carniceria', 'LA', '$$', 4.5, 20, 'meat'),\n",
       " ('Dvin Meat Market', 'LA', '$', 5, 27, 'meat'),\n",
       " ('Soh Grill House', 'LA', '$$', 4.5, 296, 'meat'),\n",
       " ('Brothers Bar-B-Que', 'LA', '$$', 3.5, 387, 'meat'),\n",
       " (\"Mike's Deli\", 'LA', '$$', 4.5, 696, 'meat'),\n",
       " ('Koreatown Galleria', 'LA', '$$', 4, 268, 'meat'),\n",
       " ('Kogi BBQ Truck- Roja', 'LA', '$', 4, 185, 'meat'),\n",
       " ('Road To Seoul', 'LA', '$$', 4, 3611, 'meat'),\n",
       " (\"Raffi's Place\", 'LA', '$$', 4.5, 4167, 'meat'),\n",
       " ('Ta-eem Grill', 'LA', '$$', 4.5, 1061, 'meat'),\n",
       " ('Gjusta', 'LA', '$$', 4, 1358, 'meat'),\n",
       " ('Los Amigos Market', 'LA', '$$', 4.5, 6, 'meat'),\n",
       " (\"Empanada's Place\", 'LA', '$', 4.5, 730, 'meat'),\n",
       " ('Soot Bull Jeep', 'LA', '$$', 4, 891, 'meat'),\n",
       " ('Clutch', 'LA', '$$', 4, 426, 'meat'),\n",
       " ('Artisan Premium Jerky', 'LA', '$$', 5, 44, 'meat'),\n",
       " ('Belcampo Butcher Shop', 'LA', '$$$', 4, 38, 'meat'),\n",
       " ('Gen Korean BBQ House', 'LA', '$$', 4, 834, 'meat'),\n",
       " (\"Del Frisco's Grille\", 'LA', '$$', 4, 1077, 'meat'),\n",
       " ('Tijuana Meats No 2', 'LA', '$', 4.5, 5, 'meat'),\n",
       " ('Yang San Bak', 'LA', '$$', 4.5, 275, 'meat'),\n",
       " (\"Moo's Craft Barbecue\", 'LA', '$$', 4, 65, 'meat'),\n",
       " ('Peking Poultry', 'LA', '$$', 3.5, 15, 'meat'),\n",
       " ('Cafe Brasil', 'LA', '$$', 4, 791, 'meat'),\n",
       " ('Premier Meat Company', 'LA', '', 3.5, 9, 'meat'),\n",
       " ('Spicy BBQ Restaurant', 'LA', '$$', 4.5, 506, 'meat'),\n",
       " (\"Nick + Stef's Steakhouse\", 'LA', '$$$', 4, 565, 'meat'),\n",
       " (\"Schreiner's Fine Sausages\", 'LA', '$', 4, 224, 'meat'),\n",
       " ('Wi Korean BBQ', 'LA', '$$', 4.5, 291, 'meat'),\n",
       " (\"Lieder's\", 'LA', '$$', 4.5, 31, 'meat'),\n",
       " ('Honey Baked Ham Company', 'LA', '$', 4, 134, 'meat'),\n",
       " ('Hardys Best BBQ', 'LA', '$$', 4, 19, 'meat'),\n",
       " ('Los Tres Cochinitos Restaurant', 'LA', '$', 4.5, 151, 'meat'),\n",
       " ('Laguna Meat Market', 'LA', '$', 5, 4, 'meat'),\n",
       " ('BBQ Choice', 'LA', '', 4.5, 28, 'meat'),\n",
       " (\"D's Original Take Out Grill\", 'LA', '$$', 4, 206, 'meat'),\n",
       " ('Tigranakert Meat Market', 'LA', '$$', 4, 46, 'meat'),\n",
       " (\"Kelly's Barbecue\", 'LA', '', 5, 8, 'meat'),\n",
       " ('Bangkok Market', 'LA', '$', 4, 106, 'meat'),\n",
       " ('Halal  Bar-B-Que', 'LA', '', 4.5, 20, 'meat'),\n",
       " (\"Olson's Deli\", 'LA', '$$', 4.5, 214, 'meat'),\n",
       " ('Froma on Melrose', 'LA', '$$', 4.5, 267, 'meat'),\n",
       " ('Sakura House', 'LA', '$$', 4, 305, 'meat'),\n",
       " ('Carniceria Los Compadres', 'LA', '$$', 4.5, 12, 'meat'),\n",
       " ('Las 7 Regiones', 'LA', '$$', 4.5, 39, 'meat'),\n",
       " ('Pacific Island Meat & Grocery', 'LA', '', 5, 6, 'meat'),\n",
       " (\"Moy's Meat Market\", 'LA', '$', 4.5, 47, 'meat'),\n",
       " ('Oo-Kook Korean BBQ', 'LA', '$$', 4, 1770, 'meat'),\n",
       " ('Honey Pig', 'LA', '$$', 3.5, 906, 'meat'),\n",
       " ('El Caney Meat Market', 'LA', '$', 4.5, 9, 'meat'),\n",
       " ('Beverly Soon Tofu Restaurant', 'LA', '$$', 4, 1428, 'meat'),\n",
       " ('DTLA Cheese', 'LA', '$$', 4, 256, 'meat'),\n",
       " (\"Russak's Cured & Smoked Products\", 'LA', '', 5, 3, 'meat'),\n",
       " ('Hwang Hae Do Korean BBQ', 'LA', '$$', 4, 146, 'meat'),\n",
       " ('Easyfit', 'LA', '$$', 4.5, 34, 'meat'),\n",
       " ('Ay-Do-No Korean BBQ', 'LA', '$$', 4, 464, 'meat'),\n",
       " ('Mr T Meat Market', 'LA', '$$$', 5, 2, 'meat'),\n",
       " ('Little Jewel of New Orleans', 'LA', '$$', 4, 1610, 'meat'),\n",
       " ('Secret Bar & Grill', 'LA', '$$', 3.5, 290, 'meat'),\n",
       " ('chunwei inc', 'LA', '', 4, 1, 'meat'),\n",
       " (\"Rocco's Italian Market and Deli\", 'LA', '$$', 4.5, 208, 'meat'),\n",
       " ('Hasiba', 'LA', '$$', 4.5, 152, 'meat'),\n",
       " ('Luis Meat Market', 'LA', '$', 4, 8, 'meat'),\n",
       " ('Killa Ribs', 'LA', '', 5, 1, 'meat'),\n",
       " ('Konanyan Meat Company', 'LA', '', 4, 1, 'meat'),\n",
       " (\"John's Fish Market\", 'LA', '$$', 4.5, 16, 'meat'),\n",
       " ('Mercado Buenos Aires', 'LA', '$$', 4, 561, 'meat'),\n",
       " ('Vintage Wine + Eats', 'LA', '', 5, 1, 'meat'),\n",
       " ('Selam Market & Deli', 'LA', '$', 4, 10, 'meat'),\n",
       " ('Kalbis Grill', 'LA', '$$', 4, 27, 'meat'),\n",
       " ('Korea BBQ House', 'LA', '$$', 4, 211, 'meat'),\n",
       " ('Sun Ha Jang', 'LA', '$$', 3.5, 199, 'meat'),\n",
       " ('Toe Bang Cafe', 'LA', '$$', 4, 820, 'meat'),\n",
       " ('La Familia Meat Market', 'LA', '', 1, 1, 'meat'),\n",
       " ('Sevan Meat Market', 'LA', '$$', 4.5, 26, 'meat'),\n",
       " ('SuKarne - Premium Meats', 'LA', '', 5, 1, 'meat'),\n",
       " (\"Pecos Bill's BBQ\", 'LA', '$', 4, 260, 'meat'),\n",
       " ('Baltaire', 'LA', '$$$$', 4, 696, 'meat'),\n",
       " ('Little Ocha Extra', 'LA', '$', 4, 182, 'meat'),\n",
       " ('Carniceria Guadalajara', 'LA', '$$', 4.5, 9, 'meat'),\n",
       " ('La Boucherie', 'LA', '$$$$', 4, 309, 'meat'),\n",
       " ('Dream Dinners', 'LA', '$$', 5, 15, 'meat'),\n",
       " (\"Chin's Hawaiian Teriyaki Bbq Chicken\", 'LA', '$', 4, 59, 'meat'),\n",
       " ('Glenoaks Meat Market', 'LA', '$$', 4.5, 11, 'meat'),\n",
       " ('Wood Ranch BBQ & Grill', 'LA', '$$', 4, 583, 'meat'),\n",
       " ('Chivas Farm Market', 'LA', '', 5, 1, 'meat'),\n",
       " ('La Pergoletta Deli', 'LA', '', 4.5, 16, 'meat'),\n",
       " (\"Chow's Meat Market\", 'LA', '', 5, 1, 'meat'),\n",
       " ('Galbi King', 'LA', '$$', 3, 516, 'meat'),\n",
       " ('Peoples Sausage Company', 'LA', '$', 4.5, 55, 'meat'),\n",
       " (\"Chong's Meat & Fish Market\", 'LA', '$$', 4.5, 15, 'meat'),\n",
       " ('Cast Iron Gourmet', 'LA', '$$$', 4.5, 7, 'meat'),\n",
       " ('Noho Halal Meat & Grocery', 'LA', '$', 4, 29, 'meat'),\n",
       " (\"Farmer's Market Poultry\", 'LA', '$$', 4.5, 17, 'meat'),\n",
       " ('French Street Bistro', 'LA', '$$', 3, 13, 'meat'),\n",
       " ('Chosun Galbee', 'LA', '$$$', 4, 1601, 'meat'),\n",
       " ('L&L Hawaiian Barbecue', 'LA', '$', 3.5, 160, 'meat'),\n",
       " ('Eastside Market Italian Deli', 'LA', '$', 4.5, 977, 'meat'),\n",
       " ('Wood Ranch BBQ & Grill', 'LA', '$$', 3.5, 927, 'meat'),\n",
       " ...]"
      ]
     },
     "execution_count": 84,
     "metadata": {},
     "output_type": "execute_result"
    }
   ],
   "source": [
    "c.execute(\"\"\"select * from rest_info\"\"\").fetchall()"
   ]
  },
  {
   "cell_type": "code",
   "execution_count": 89,
   "metadata": {
    "scrolled": true
   },
   "outputs": [
    {
     "data": {
      "text/html": [
       "<div>\n",
       "<style scoped>\n",
       "    .dataframe tbody tr th:only-of-type {\n",
       "        vertical-align: middle;\n",
       "    }\n",
       "\n",
       "    .dataframe tbody tr th {\n",
       "        vertical-align: top;\n",
       "    }\n",
       "\n",
       "    .dataframe thead th {\n",
       "        text-align: right;\n",
       "    }\n",
       "</style>\n",
       "<table border=\"1\" class=\"dataframe\">\n",
       "  <thead>\n",
       "    <tr style=\"text-align: right;\">\n",
       "      <th></th>\n",
       "      <th>name</th>\n",
       "      <th>city</th>\n",
       "      <th>price</th>\n",
       "      <th>rating</th>\n",
       "      <th>review_count</th>\n",
       "      <th>rest_type</th>\n",
       "    </tr>\n",
       "  </thead>\n",
       "  <tbody>\n",
       "    <tr>\n",
       "      <th>0</th>\n",
       "      <td>name</td>\n",
       "      <td>NYC</td>\n",
       "      <td>price</td>\n",
       "      <td>rating</td>\n",
       "      <td>review_count</td>\n",
       "      <td>vegan</td>\n",
       "    </tr>\n",
       "    <tr>\n",
       "      <th>1</th>\n",
       "      <td>Jajaja</td>\n",
       "      <td>NYC</td>\n",
       "      <td>$$</td>\n",
       "      <td>4.5</td>\n",
       "      <td>719</td>\n",
       "      <td>vegan</td>\n",
       "    </tr>\n",
       "    <tr>\n",
       "      <th>2</th>\n",
       "      <td>Seasoned Vegan</td>\n",
       "      <td>NYC</td>\n",
       "      <td>$$</td>\n",
       "      <td>4</td>\n",
       "      <td>1054</td>\n",
       "      <td>vegan</td>\n",
       "    </tr>\n",
       "    <tr>\n",
       "      <th>3</th>\n",
       "      <td>by CHLOE. West Village</td>\n",
       "      <td>NYC</td>\n",
       "      <td>$$</td>\n",
       "      <td>4</td>\n",
       "      <td>1598</td>\n",
       "      <td>vegan</td>\n",
       "    </tr>\n",
       "    <tr>\n",
       "      <th>4</th>\n",
       "      <td>XYST</td>\n",
       "      <td>NYC</td>\n",
       "      <td>$$</td>\n",
       "      <td>4</td>\n",
       "      <td>241</td>\n",
       "      <td>vegan</td>\n",
       "    </tr>\n",
       "  </tbody>\n",
       "</table>\n",
       "</div>"
      ],
      "text/plain": [
       "                     name city  price  rating  review_count rest_type\n",
       "0                    name  NYC  price  rating  review_count     vegan\n",
       "1                  Jajaja  NYC     $$     4.5           719     vegan\n",
       "2          Seasoned Vegan  NYC     $$       4          1054     vegan\n",
       "3  by CHLOE. West Village  NYC     $$       4          1598     vegan\n",
       "4                    XYST  NYC     $$       4           241     vegan"
      ]
     },
     "execution_count": 89,
     "metadata": {},
     "output_type": "execute_result"
    }
   ],
   "source": [
    "c.execute(\"\"\"SELECT * from rest_info\"\"\")\n",
    "df = pd.DataFrame(c.fetchall())\n",
    "df.columns = ['name','city', 'price', 'rating', 'review_count', 'rest_type']\n",
    "df.head()"
   ]
  },
  {
   "cell_type": "code",
   "execution_count": 96,
   "metadata": {},
   "outputs": [
    {
     "data": {
      "text/html": [
       "<div>\n",
       "<style scoped>\n",
       "    .dataframe tbody tr th:only-of-type {\n",
       "        vertical-align: middle;\n",
       "    }\n",
       "\n",
       "    .dataframe tbody tr th {\n",
       "        vertical-align: top;\n",
       "    }\n",
       "\n",
       "    .dataframe thead th {\n",
       "        text-align: right;\n",
       "    }\n",
       "</style>\n",
       "<table border=\"1\" class=\"dataframe\">\n",
       "  <thead>\n",
       "    <tr style=\"text-align: right;\">\n",
       "      <th></th>\n",
       "      <th>name</th>\n",
       "      <th>city</th>\n",
       "      <th>price</th>\n",
       "      <th>rating</th>\n",
       "      <th>review_count</th>\n",
       "      <th>rest_type</th>\n",
       "    </tr>\n",
       "  </thead>\n",
       "  <tbody>\n",
       "    <tr>\n",
       "      <th>1</th>\n",
       "      <td>Jajaja</td>\n",
       "      <td>NYC</td>\n",
       "      <td>$$</td>\n",
       "      <td>4.5</td>\n",
       "      <td>719</td>\n",
       "      <td>vegan</td>\n",
       "    </tr>\n",
       "    <tr>\n",
       "      <th>2</th>\n",
       "      <td>Seasoned Vegan</td>\n",
       "      <td>NYC</td>\n",
       "      <td>$$</td>\n",
       "      <td>4</td>\n",
       "      <td>1054</td>\n",
       "      <td>vegan</td>\n",
       "    </tr>\n",
       "    <tr>\n",
       "      <th>3</th>\n",
       "      <td>by CHLOE. West Village</td>\n",
       "      <td>NYC</td>\n",
       "      <td>$$</td>\n",
       "      <td>4</td>\n",
       "      <td>1598</td>\n",
       "      <td>vegan</td>\n",
       "    </tr>\n",
       "    <tr>\n",
       "      <th>4</th>\n",
       "      <td>XYST</td>\n",
       "      <td>NYC</td>\n",
       "      <td>$$</td>\n",
       "      <td>4</td>\n",
       "      <td>241</td>\n",
       "      <td>vegan</td>\n",
       "    </tr>\n",
       "    <tr>\n",
       "      <th>5</th>\n",
       "      <td>Urban Vegan Kitchen</td>\n",
       "      <td>NYC</td>\n",
       "      <td>$$</td>\n",
       "      <td>4</td>\n",
       "      <td>354</td>\n",
       "      <td>vegan</td>\n",
       "    </tr>\n",
       "  </tbody>\n",
       "</table>\n",
       "</div>"
      ],
      "text/plain": [
       "                     name city price rating review_count rest_type\n",
       "1                  Jajaja  NYC    $$    4.5          719     vegan\n",
       "2          Seasoned Vegan  NYC    $$      4         1054     vegan\n",
       "3  by CHLOE. West Village  NYC    $$      4         1598     vegan\n",
       "4                    XYST  NYC    $$      4          241     vegan\n",
       "5     Urban Vegan Kitchen  NYC    $$      4          354     vegan"
      ]
     },
     "execution_count": 96,
     "metadata": {},
     "output_type": "execute_result"
    }
   ],
   "source": [
    "# df.drop([0], inplace = True)\n",
    "df.head()"
   ]
  },
  {
   "cell_type": "code",
   "execution_count": 100,
   "metadata": {
    "scrolled": true
   },
   "outputs": [],
   "source": [
    "df.price.replace('',np.NaN, inplace = True)"
   ]
  },
  {
   "cell_type": "code",
   "execution_count": 101,
   "metadata": {},
   "outputs": [],
   "source": [
    "df = df.dropna(axis = 0)"
   ]
  },
  {
   "cell_type": "code",
   "execution_count": 102,
   "metadata": {},
   "outputs": [
    {
     "data": {
      "text/plain": [
       "name            0\n",
       "city            0\n",
       "price           0\n",
       "rating          0\n",
       "review_count    0\n",
       "rest_type       0\n",
       "dtype: int64"
      ]
     },
     "execution_count": 102,
     "metadata": {},
     "output_type": "execute_result"
    }
   ],
   "source": [
    "df.isna().sum()"
   ]
  },
  {
   "cell_type": "code",
   "execution_count": 103,
   "metadata": {},
   "outputs": [
    {
     "data": {
      "text/plain": [
       "(4625, 6)"
      ]
     },
     "execution_count": 103,
     "metadata": {},
     "output_type": "execute_result"
    }
   ],
   "source": [
    "df.shape"
   ]
  },
  {
   "cell_type": "code",
   "execution_count": 104,
   "metadata": {},
   "outputs": [
    {
     "data": {
      "text/plain": [
       "array(['NYC', 'LA', 'Dallas', 'Minn'], dtype=object)"
      ]
     },
     "execution_count": 104,
     "metadata": {},
     "output_type": "execute_result"
    }
   ],
   "source": [
    "df.city.unique()"
   ]
  },
  {
   "cell_type": "code",
   "execution_count": 119,
   "metadata": {
    "scrolled": true
   },
   "outputs": [],
   "source": [
    "df_ny = df.loc[lambda df: df['city'] == 'NYC'] "
   ]
  },
  {
   "cell_type": "code",
   "execution_count": 169,
   "metadata": {},
   "outputs": [
    {
     "data": {
      "text/plain": [
       "array([4.5, 4, 3.5, 5, 3, 'rating', 2.5, 1.5, 2], dtype=object)"
      ]
     },
     "execution_count": 169,
     "metadata": {},
     "output_type": "execute_result"
    }
   ],
   "source": [
    "df_ny.rating.unique()"
   ]
  },
  {
   "cell_type": "code",
   "execution_count": 125,
   "metadata": {},
   "outputs": [],
   "source": [
    "df_ny_vegan = df_ny.loc[lambda df_ny : df_ny['rest_type'] =='vegan']"
   ]
  },
  {
   "cell_type": "code",
   "execution_count": 126,
   "metadata": {},
   "outputs": [],
   "source": [
    "df_ny_meat = df_ny.loc[lambda df_ny : df_ny['rest_type'] =='meat']"
   ]
  },
  {
   "cell_type": "code",
   "execution_count": 178,
   "metadata": {
    "scrolled": true
   },
   "outputs": [
    {
     "data": {
      "text/html": [
       "<div>\n",
       "<style scoped>\n",
       "    .dataframe tbody tr th:only-of-type {\n",
       "        vertical-align: middle;\n",
       "    }\n",
       "\n",
       "    .dataframe tbody tr th {\n",
       "        vertical-align: top;\n",
       "    }\n",
       "\n",
       "    .dataframe thead th {\n",
       "        text-align: right;\n",
       "    }\n",
       "</style>\n",
       "<table border=\"1\" class=\"dataframe\">\n",
       "  <thead>\n",
       "    <tr style=\"text-align: right;\">\n",
       "      <th></th>\n",
       "      <th>name</th>\n",
       "      <th>city</th>\n",
       "      <th>price</th>\n",
       "      <th>rating</th>\n",
       "      <th>review_count</th>\n",
       "      <th>rest_type</th>\n",
       "    </tr>\n",
       "  </thead>\n",
       "  <tbody>\n",
       "  </tbody>\n",
       "</table>\n",
       "</div>"
      ],
      "text/plain": [
       "Empty DataFrame\n",
       "Columns: [name, city, price, rating, review_count, rest_type]\n",
       "Index: []"
      ]
     },
     "execution_count": 178,
     "metadata": {},
     "output_type": "execute_result"
    }
   ],
   "source": [
    "df_ny_meat.loc[df['rating'] == 'rating']"
   ]
  },
  {
   "cell_type": "code",
   "execution_count": 202,
   "metadata": {},
   "outputs": [
    {
     "name": "stderr",
     "output_type": "stream",
     "text": [
      "/anaconda3/lib/python3.7/site-packages/pandas/core/frame.py:3940: SettingWithCopyWarning: \n",
      "A value is trying to be set on a copy of a slice from a DataFrame\n",
      "\n",
      "See the caveats in the documentation: http://pandas.pydata.org/pandas-docs/stable/indexing.html#indexing-view-versus-copy\n",
      "  errors=errors)\n"
     ]
    }
   ],
   "source": [
    "df.loc[df['rating']=='rating']\n",
    "df.drop([701, 1402, 2084, 3486, 4187, 4658], inplace = True)"
   ]
  },
  {
   "cell_type": "code",
   "execution_count": 177,
   "metadata": {
    "scrolled": true
   },
   "outputs": [
    {
     "name": "stderr",
     "output_type": "stream",
     "text": [
      "/anaconda3/lib/python3.7/site-packages/pandas/core/frame.py:3940: SettingWithCopyWarning: \n",
      "A value is trying to be set on a copy of a slice from a DataFrame\n",
      "\n",
      "See the caveats in the documentation: http://pandas.pydata.org/pandas-docs/stable/indexing.html#indexing-view-versus-copy\n",
      "  errors=errors)\n"
     ]
    }
   ],
   "source": [
    "df_ny_meat.drop([2785], inplace = True)"
   ]
  },
  {
   "cell_type": "markdown",
   "metadata": {},
   "source": [
    "##  Question : There is a popularity difference between vegan restaurants and stakehouses in NYC ?"
   ]
  },
  {
   "cell_type": "markdown",
   "metadata": {},
   "source": [
    "- H0: there is not a significant different between the average rating and the type of restaurant.\n",
    "- H1: there is a significant different between the average rating and the type of restaurant.\n",
    "- The alpha level (i.e. the probability of rejecting the null hypothesis when it is true) will be set at 0.05 for a two-tailed test."
   ]
  },
  {
   "cell_type": "code",
   "execution_count": 157,
   "metadata": {
    "scrolled": true
   },
   "outputs": [
    {
     "data": {
      "text/plain": [
       "<matplotlib.axes._subplots.AxesSubplot at 0x1a1c04c0b8>"
      ]
     },
     "execution_count": 157,
     "metadata": {},
     "output_type": "execute_result"
    },
    {
     "data": {
      "image/png": "[encoded data removed]",
      "text/plain": [
       "<Figure size 432x288 with 1 Axes>"
      ]
     },
     "metadata": {
      "needs_background": "light"
     },
     "output_type": "display_data"
    }
   ],
   "source": [
    "sns.boxplot(list(df_ny_vegan.rating))"
   ]
  },
  {
   "cell_type": "code",
   "execution_count": 180,
   "metadata": {},
   "outputs": [
    {
     "data": {
      "text/plain": [
       "count     580.0\n",
       "unique      5.0\n",
       "top         4.0\n",
       "freq      292.0\n",
       "Name: rating, dtype: float64"
      ]
     },
     "execution_count": 180,
     "metadata": {},
     "output_type": "execute_result"
    }
   ],
   "source": [
    "df_ny_vegan.rating.describe() "
   ]
  },
  {
   "cell_type": "code",
   "execution_count": 179,
   "metadata": {},
   "outputs": [
    {
     "data": {
      "text/plain": [
       "<matplotlib.axes._subplots.AxesSubplot at 0x1a1bc69128>"
      ]
     },
     "execution_count": 179,
     "metadata": {},
     "output_type": "execute_result"
    },
    {
     "data": {
      "image/png": "[encoded data removed]",
      "text/plain": [
       "<Figure size 432x288 with 1 Axes>"
      ]
     },
     "metadata": {
      "needs_background": "light"
     },
     "output_type": "display_data"
    }
   ],
   "source": [
    "sns.boxplot(list(df_ny_meat.rating))"
   ]
  },
  {
   "cell_type": "code",
   "execution_count": 181,
   "metadata": {},
   "outputs": [
    {
     "data": {
      "text/plain": [
       "count     545.0\n",
       "unique      8.0\n",
       "top         4.0\n",
       "freq      203.0\n",
       "Name: rating, dtype: float64"
      ]
     },
     "execution_count": 181,
     "metadata": {},
     "output_type": "execute_result"
    }
   ],
   "source": [
    "df_ny_meat.rating.describe() "
   ]
  },
  {
   "cell_type": "code",
   "execution_count": 183,
   "metadata": {},
   "outputs": [
    {
     "data": {
      "image/png": "[encoded data removed]",
      "text/plain": [
       "<Figure size 432x288 with 1 Axes>"
      ]
     },
     "metadata": {
      "needs_background": "light"
     },
     "output_type": "display_data"
    }
   ],
   "source": [
    "# fig plotting vegan VS Steakhouse\n",
    "sns.distplot(list(df_ny_vegan.rating), label='Vegan', color='seagreen')\n",
    "sns.distplot(list(df_ny_meat.rating), label='Steakhouse', color='indianred')\n",
    "plt.title('Distribution plots of the rating between Vegan and Steakhouse NY')\n",
    "plt.legend();"
   ]
  },
  {
   "cell_type": "code",
   "execution_count": 184,
   "metadata": {},
   "outputs": [
    {
     "data": {
      "text/plain": [
       "Ttest_indResult(statistic=1.0357250484486435, pvalue=0.30055340407982656)"
      ]
     },
     "execution_count": 184,
     "metadata": {},
     "output_type": "execute_result"
    }
   ],
   "source": [
    "stats.ttest_ind(df_ny_vegan.rating, df_ny_meat.rating)"
   ]
  },
  {
   "cell_type": "markdown",
   "metadata": {},
   "source": [
    "Since out pvalue=0.30055340407982656 we fail to reject the null hypothesis and we can conclude that there is not significant difference between ratings of vegan and meat restaurants)"
   ]
  },
  {
   "cell_type": "code",
   "execution_count": 185,
   "metadata": {},
   "outputs": [],
   "source": [
    "def Cohen_d(group1, group2):\n",
    "    # Compute Cohen's d.\n",
    "    # group1: Series or NumPy array\n",
    "    # group2: Series or NumPy array\n",
    "    # returns a floating point number \n",
    "    diff = group1.mean() - group2.mean()\n",
    "    n1, n2 = len(group1), len(group2)\n",
    "    var1 = group1.var()\n",
    "    var2 = group2.var()\n",
    "    # Calculate the pooled threshold as shown earlier\n",
    "    pooled_var = (n1 * var1 + n2 * var2) / (n1 + n2)\n",
    "    \n",
    "    # Calculate Cohen's d statistic\n",
    "    d = diff / np.sqrt(pooled_var)\n",
    "    \n",
    "    return d"
   ]
  },
  {
   "cell_type": "code",
   "execution_count": 188,
   "metadata": {},
   "outputs": [],
   "source": [
    "variable =Cohen_d(df_ny_vegan.rating, df_ny_meat.rating)"
   ]
  },
  {
   "cell_type": "code",
   "execution_count": 189,
   "metadata": {},
   "outputs": [
    {
     "name": "stdout",
     "output_type": "stream",
     "text": [
      "Our Effect Size is 0.061787901671426275. This is a small effect size which means that the difference in means is trivial.\n"
     ]
    }
   ],
   "source": [
    "print(f'Our Effect Size is {variable}. This is a small effect size which means that the difference in means is trivial.')"
   ]
  },
  {
   "cell_type": "markdown",
   "metadata": {},
   "source": [
    "## Are vegan restaurants more popular in different cities?\n",
    "- H0: there is not a significant difference between the popularity (review_count) for all cities. µ1 = µ 2 = µ 3...\n",
    "- H1: there is a significant difference between the popularity in at least one city.\n",
    "- The alpha level (i.e. the probability of rejecting the null hypothesis when it is true) will be set at 0.05"
   ]
  },
  {
   "cell_type": "code",
   "execution_count": 207,
   "metadata": {},
   "outputs": [
    {
     "data": {
      "text/plain": [
       "array(['NYC', 'LA', 'Dallas', 'Minn'], dtype=object)"
      ]
     },
     "execution_count": 207,
     "metadata": {},
     "output_type": "execute_result"
    }
   ],
   "source": [
    "df.city.unique()"
   ]
  },
  {
   "cell_type": "code",
   "execution_count": 203,
   "metadata": {},
   "outputs": [],
   "source": [
    "df_la = df.loc[lambda df: df['city'] == 'LA'] \n",
    "df_la_vegan = df_la.loc[lambda df_la : df_la['rest_type'] =='vegan']\n",
    "df_la_meat = df_la.loc[lambda df_la : df_la['rest_type'] =='meat']"
   ]
  },
  {
   "cell_type": "code",
   "execution_count": 205,
   "metadata": {},
   "outputs": [],
   "source": [
    "df_dallas = df.loc[lambda df: df['city'] == 'Dallas'] \n",
    "df_dallas_vegan = df_dallas.loc[lambda df_dallas : df_dallas['rest_type'] =='vegan']\n",
    "df_dallas_meat = df_dallas.loc[lambda df_dallas : df_dallas['rest_type'] =='meat']"
   ]
  },
  {
   "cell_type": "code",
   "execution_count": 208,
   "metadata": {},
   "outputs": [],
   "source": [
    "df_minn = df.loc[lambda df: df['city'] == 'Minn'] \n",
    "df_minn_vegan = df_minn.loc[lambda df_minn : df_minn['rest_type'] =='vegan']\n",
    "df_minn_meat = df_minn.loc[lambda df_minn : df_minn['rest_type'] =='meat']"
   ]
  },
  {
   "cell_type": "code",
   "execution_count": 210,
   "metadata": {},
   "outputs": [
    {
     "data": {
      "text/plain": [
       "2480"
      ]
     },
     "execution_count": 210,
     "metadata": {},
     "output_type": "execute_result"
    }
   ],
   "source": [
    "len(df_ny_vegan.review_count)+ len(df_la_vegan.review_count)+len(df_dallas_vegan.review_count) + len(df_minn_vegan.review_count)\n",
    "    "
   ]
  },
  {
   "cell_type": "code",
   "execution_count": 223,
   "metadata": {},
   "outputs": [
    {
     "data": {
      "text/plain": [
       "<matplotlib.axes._subplots.AxesSubplot at 0x1a1c21ed68>"
      ]
     },
     "execution_count": 223,
     "metadata": {},
     "output_type": "execute_result"
    },
    {
     "data": {
      "image/png": "[encoded data removed]",
      "text/plain": [
       "<Figure size 432x288 with 1 Axes>"
      ]
     },
     "metadata": {
      "needs_background": "light"
     },
     "output_type": "display_data"
    }
   ],
   "source": [
    "sns.distplot(list(df_ny_vegan.review_count))"
   ]
  },
  {
   "cell_type": "code",
   "execution_count": 224,
   "metadata": {},
   "outputs": [
    {
     "data": {
      "text/plain": [
       "<matplotlib.axes._subplots.AxesSubplot at 0x1a1c21ef28>"
      ]
     },
     "execution_count": 224,
     "metadata": {},
     "output_type": "execute_result"
    },
    {
     "data": {
      "image/png": "[encoded data removed]",
      "text/plain": [
       "<Figure size 432x288 with 1 Axes>"
      ]
     },
     "metadata": {
      "needs_background": "light"
     },
     "output_type": "display_data"
    }
   ],
   "source": [
    "sns.distplot(list(df_minn_vegan.review_count))"
   ]
  },
  {
   "cell_type": "code",
   "execution_count": 225,
   "metadata": {
    "scrolled": true
   },
   "outputs": [
    {
     "data": {
      "text/plain": [
       "<matplotlib.axes._subplots.AxesSubplot at 0x1a1c29e6a0>"
      ]
     },
     "execution_count": 225,
     "metadata": {},
     "output_type": "execute_result"
    },
    {
     "data": {
      "image/png": "[encoded data removed]",
      "text/plain": [
       "<Figure size 432x288 with 1 Axes>"
      ]
     },
     "metadata": {
      "needs_background": "light"
     },
     "output_type": "display_data"
    }
   ],
   "source": [
    "sns.distplot(list(df_la_vegan.review_count))"
   ]
  },
  {
   "cell_type": "code",
   "execution_count": 226,
   "metadata": {
    "scrolled": true
   },
   "outputs": [
    {
     "data": {
      "text/plain": [
       "<matplotlib.axes._subplots.AxesSubplot at 0x1a1c2d8e80>"
      ]
     },
     "execution_count": 226,
     "metadata": {},
     "output_type": "execute_result"
    },
    {
     "data": {
      "image/png": "[encoded data removed]",
      "text/plain": [
       "<Figure size 432x288 with 1 Axes>"
      ]
     },
     "metadata": {
      "needs_background": "light"
     },
     "output_type": "display_data"
    }
   ],
   "source": [
    "sns.distplot(list(df_dallas_vegan.review_count))"
   ]
  },
  {
   "cell_type": "code",
   "execution_count": 244,
   "metadata": {},
   "outputs": [
    {
     "data": {
      "text/plain": [
       "F_onewayResult(statistic=68.69232288047708, pvalue=1.1474089109186928e-42)"
      ]
     },
     "execution_count": 244,
     "metadata": {},
     "output_type": "execute_result"
    }
   ],
   "source": [
    "stats.f_oneway(df_ny_vegan.review_count, df_la_vegan.review_count, df_dallas_vegan.review_count, df_minn_vegan.review_count)\n"
   ]
  },
  {
   "cell_type": "code",
   "execution_count": 259,
   "metadata": {},
   "outputs": [],
   "source": [
    "sample_minn = list(df_minn_vegan.review_count.sample(580))\n",
    "sample_dallas = list(df_dallas_vegan.review_count.sample(580))\n",
    "sample_la = list(df_la_vegan.review_count.sample(580))"
   ]
  },
  {
   "cell_type": "code",
   "execution_count": 261,
   "metadata": {},
   "outputs": [
    {
     "data": {
      "text/html": [
       "<div>\n",
       "<style scoped>\n",
       "    .dataframe tbody tr th:only-of-type {\n",
       "        vertical-align: middle;\n",
       "    }\n",
       "\n",
       "    .dataframe tbody tr th {\n",
       "        vertical-align: top;\n",
       "    }\n",
       "\n",
       "    .dataframe thead th {\n",
       "        text-align: right;\n",
       "    }\n",
       "</style>\n",
       "<table border=\"1\" class=\"dataframe\">\n",
       "  <thead>\n",
       "    <tr style=\"text-align: right;\">\n",
       "      <th></th>\n",
       "      <th>ny</th>\n",
       "      <th>la</th>\n",
       "      <th>dallas</th>\n",
       "      <th>minn</th>\n",
       "    </tr>\n",
       "  </thead>\n",
       "  <tbody>\n",
       "    <tr>\n",
       "      <th>0</th>\n",
       "      <td>719</td>\n",
       "      <td>254</td>\n",
       "      <td>787</td>\n",
       "      <td>272</td>\n",
       "    </tr>\n",
       "    <tr>\n",
       "      <th>1</th>\n",
       "      <td>1054</td>\n",
       "      <td>268</td>\n",
       "      <td>156</td>\n",
       "      <td>25</td>\n",
       "    </tr>\n",
       "    <tr>\n",
       "      <th>2</th>\n",
       "      <td>1598</td>\n",
       "      <td>850</td>\n",
       "      <td>12</td>\n",
       "      <td>33</td>\n",
       "    </tr>\n",
       "    <tr>\n",
       "      <th>3</th>\n",
       "      <td>241</td>\n",
       "      <td>387</td>\n",
       "      <td>161</td>\n",
       "      <td>56</td>\n",
       "    </tr>\n",
       "    <tr>\n",
       "      <th>4</th>\n",
       "      <td>354</td>\n",
       "      <td>706</td>\n",
       "      <td>309</td>\n",
       "      <td>316</td>\n",
       "    </tr>\n",
       "  </tbody>\n",
       "</table>\n",
       "</div>"
      ],
      "text/plain": [
       "     ny   la  dallas  minn\n",
       "0   719  254     787   272\n",
       "1  1054  268     156    25\n",
       "2  1598  850      12    33\n",
       "3   241  387     161    56\n",
       "4   354  706     309   316"
      ]
     },
     "execution_count": 261,
     "metadata": {},
     "output_type": "execute_result"
    }
   ],
   "source": [
    "review_count_dict = {'ny' : list(df_ny_vegan.review_count), 'la' : sample_la, 'dallas' : sample_dallas, 'minn' : sample_minn}\n",
    "df_boxplot = pd.DataFrame.from_dict(review_count_dict)\n",
    "df_boxplot.head()"
   ]
  },
  {
   "cell_type": "code",
   "execution_count": 264,
   "metadata": {},
   "outputs": [
    {
     "ename": "ValueError",
     "evalue": "Wrong number of items passed 4, placement implies 580",
     "output_type": "error",
     "traceback": [
      "\u001b[0;31m---------------------------------------------------------------------------\u001b[0m",
      "\u001b[0;31mValueError\u001b[0m                                Traceback (most recent call last)",
      "\u001b[0;32m<ipython-input-264-8627122cbf02>\u001b[0m in \u001b[0;36m<module>\u001b[0;34m\u001b[0m\n\u001b[0;32m----> 1\u001b[0;31m \u001b[0msns\u001b[0m\u001b[0;34m.\u001b[0m\u001b[0mboxplot\u001b[0m\u001b[0;34m(\u001b[0m\u001b[0mx\u001b[0m\u001b[0;34m=\u001b[0m\u001b[0mdf_boxplot\u001b[0m\u001b[0;34m.\u001b[0m\u001b[0mcolumns\u001b[0m\u001b[0;34m,\u001b[0m \u001b[0my\u001b[0m \u001b[0;34m=\u001b[0m \u001b[0mdf_boxplot\u001b[0m\u001b[0;34m)\u001b[0m\u001b[0;34m\u001b[0m\u001b[0;34m\u001b[0m\u001b[0m\n\u001b[0m",
      "\u001b[0;32m/anaconda3/lib/python3.7/site-packages/seaborn/categorical.py\u001b[0m in \u001b[0;36mboxplot\u001b[0;34m(x, y, hue, data, order, hue_order, orient, color, palette, saturation, width, dodge, fliersize, linewidth, whis, notch, ax, **kwargs)\u001b[0m\n\u001b[1;32m   2229\u001b[0m     plotter = _BoxPlotter(x, y, hue, data, order, hue_order,\n\u001b[1;32m   2230\u001b[0m                           \u001b[0morient\u001b[0m\u001b[0;34m,\u001b[0m \u001b[0mcolor\u001b[0m\u001b[0;34m,\u001b[0m \u001b[0mpalette\u001b[0m\u001b[0;34m,\u001b[0m \u001b[0msaturation\u001b[0m\u001b[0;34m,\u001b[0m\u001b[0;34m\u001b[0m\u001b[0;34m\u001b[0m\u001b[0m\n\u001b[0;32m-> 2231\u001b[0;31m                           width, dodge, fliersize, linewidth)\n\u001b[0m\u001b[1;32m   2232\u001b[0m \u001b[0;34m\u001b[0m\u001b[0m\n\u001b[1;32m   2233\u001b[0m     \u001b[0;32mif\u001b[0m \u001b[0max\u001b[0m \u001b[0;32mis\u001b[0m \u001b[0;32mNone\u001b[0m\u001b[0;34m:\u001b[0m\u001b[0;34m\u001b[0m\u001b[0;34m\u001b[0m\u001b[0m\n",
      "\u001b[0;32m/anaconda3/lib/python3.7/site-packages/seaborn/categorical.py\u001b[0m in \u001b[0;36m__init__\u001b[0;34m(self, x, y, hue, data, order, hue_order, orient, color, palette, saturation, width, dodge, fliersize, linewidth)\u001b[0m\n\u001b[1;32m    444\u001b[0m                  width, dodge, fliersize, linewidth):\n\u001b[1;32m    445\u001b[0m \u001b[0;34m\u001b[0m\u001b[0m\n\u001b[0;32m--> 446\u001b[0;31m         \u001b[0mself\u001b[0m\u001b[0;34m.\u001b[0m\u001b[0mestablish_variables\u001b[0m\u001b[0;34m(\u001b[0m\u001b[0mx\u001b[0m\u001b[0;34m,\u001b[0m \u001b[0my\u001b[0m\u001b[0;34m,\u001b[0m \u001b[0mhue\u001b[0m\u001b[0;34m,\u001b[0m \u001b[0mdata\u001b[0m\u001b[0;34m,\u001b[0m \u001b[0morient\u001b[0m\u001b[0;34m,\u001b[0m \u001b[0morder\u001b[0m\u001b[0;34m,\u001b[0m \u001b[0mhue_order\u001b[0m\u001b[0;34m)\u001b[0m\u001b[0;34m\u001b[0m\u001b[0;34m\u001b[0m\u001b[0m\n\u001b[0m\u001b[1;32m    447\u001b[0m         \u001b[0mself\u001b[0m\u001b[0;34m.\u001b[0m\u001b[0mestablish_colors\u001b[0m\u001b[0;34m(\u001b[0m\u001b[0mcolor\u001b[0m\u001b[0;34m,\u001b[0m \u001b[0mpalette\u001b[0m\u001b[0;34m,\u001b[0m \u001b[0msaturation\u001b[0m\u001b[0;34m)\u001b[0m\u001b[0;34m\u001b[0m\u001b[0;34m\u001b[0m\u001b[0m\n\u001b[1;32m    448\u001b[0m \u001b[0;34m\u001b[0m\u001b[0m\n",
      "\u001b[0;32m/anaconda3/lib/python3.7/site-packages/seaborn/categorical.py\u001b[0m in \u001b[0;36mestablish_variables\u001b[0;34m(self, x, y, hue, data, orient, order, hue_order, units)\u001b[0m\n\u001b[1;32m    205\u001b[0m                 \u001b[0;31m# Group the numeric data\u001b[0m\u001b[0;34m\u001b[0m\u001b[0;34m\u001b[0m\u001b[0;34m\u001b[0m\u001b[0m\n\u001b[1;32m    206\u001b[0m                 plot_data, value_label = self._group_longform(vals, groups,\n\u001b[0;32m--> 207\u001b[0;31m                                                               group_names)\n\u001b[0m\u001b[1;32m    208\u001b[0m \u001b[0;34m\u001b[0m\u001b[0m\n\u001b[1;32m    209\u001b[0m                 \u001b[0;31m# Now handle the hue levels for nested ordering\u001b[0m\u001b[0;34m\u001b[0m\u001b[0;34m\u001b[0m\u001b[0;34m\u001b[0m\u001b[0m\n",
      "\u001b[0;32m/anaconda3/lib/python3.7/site-packages/seaborn/categorical.py\u001b[0m in \u001b[0;36m_group_longform\u001b[0;34m(self, vals, grouper, order)\u001b[0m\n\u001b[1;32m    244\u001b[0m         \u001b[0;31m# Ensure that the groupby will work\u001b[0m\u001b[0;34m\u001b[0m\u001b[0;34m\u001b[0m\u001b[0;34m\u001b[0m\u001b[0m\n\u001b[1;32m    245\u001b[0m         \u001b[0;32mif\u001b[0m \u001b[0;32mnot\u001b[0m \u001b[0misinstance\u001b[0m\u001b[0;34m(\u001b[0m\u001b[0mvals\u001b[0m\u001b[0;34m,\u001b[0m \u001b[0mpd\u001b[0m\u001b[0;34m.\u001b[0m\u001b[0mSeries\u001b[0m\u001b[0;34m)\u001b[0m\u001b[0;34m:\u001b[0m\u001b[0;34m\u001b[0m\u001b[0;34m\u001b[0m\u001b[0m\n\u001b[0;32m--> 246\u001b[0;31m             \u001b[0mvals\u001b[0m \u001b[0;34m=\u001b[0m \u001b[0mpd\u001b[0m\u001b[0;34m.\u001b[0m\u001b[0mSeries\u001b[0m\u001b[0;34m(\u001b[0m\u001b[0mvals\u001b[0m\u001b[0;34m)\u001b[0m\u001b[0;34m\u001b[0m\u001b[0;34m\u001b[0m\u001b[0m\n\u001b[0m\u001b[1;32m    247\u001b[0m \u001b[0;34m\u001b[0m\u001b[0m\n\u001b[1;32m    248\u001b[0m         \u001b[0;31m# Group the val data\u001b[0m\u001b[0;34m\u001b[0m\u001b[0;34m\u001b[0m\u001b[0;34m\u001b[0m\u001b[0m\n",
      "\u001b[0;32m/anaconda3/lib/python3.7/site-packages/pandas/core/series.py\u001b[0m in \u001b[0;36m__init__\u001b[0;34m(self, data, index, dtype, name, copy, fastpath)\u001b[0m\n\u001b[1;32m    262\u001b[0m                                       raise_cast_failure=True)\n\u001b[1;32m    263\u001b[0m \u001b[0;34m\u001b[0m\u001b[0m\n\u001b[0;32m--> 264\u001b[0;31m                 \u001b[0mdata\u001b[0m \u001b[0;34m=\u001b[0m \u001b[0mSingleBlockManager\u001b[0m\u001b[0;34m(\u001b[0m\u001b[0mdata\u001b[0m\u001b[0;34m,\u001b[0m \u001b[0mindex\u001b[0m\u001b[0;34m,\u001b[0m \u001b[0mfastpath\u001b[0m\u001b[0;34m=\u001b[0m\u001b[0;32mTrue\u001b[0m\u001b[0;34m)\u001b[0m\u001b[0;34m\u001b[0m\u001b[0;34m\u001b[0m\u001b[0m\n\u001b[0m\u001b[1;32m    265\u001b[0m \u001b[0;34m\u001b[0m\u001b[0m\n\u001b[1;32m    266\u001b[0m         \u001b[0mgeneric\u001b[0m\u001b[0;34m.\u001b[0m\u001b[0mNDFrame\u001b[0m\u001b[0;34m.\u001b[0m\u001b[0m__init__\u001b[0m\u001b[0;34m(\u001b[0m\u001b[0mself\u001b[0m\u001b[0;34m,\u001b[0m \u001b[0mdata\u001b[0m\u001b[0;34m,\u001b[0m \u001b[0mfastpath\u001b[0m\u001b[0;34m=\u001b[0m\u001b[0;32mTrue\u001b[0m\u001b[0;34m)\u001b[0m\u001b[0;34m\u001b[0m\u001b[0;34m\u001b[0m\u001b[0m\n",
      "\u001b[0;32m/anaconda3/lib/python3.7/site-packages/pandas/core/internals/managers.py\u001b[0m in \u001b[0;36m__init__\u001b[0;34m(self, block, axis, do_integrity_check, fastpath)\u001b[0m\n\u001b[1;32m   1479\u001b[0m \u001b[0;34m\u001b[0m\u001b[0m\n\u001b[1;32m   1480\u001b[0m         \u001b[0;32mif\u001b[0m \u001b[0;32mnot\u001b[0m \u001b[0misinstance\u001b[0m\u001b[0;34m(\u001b[0m\u001b[0mblock\u001b[0m\u001b[0;34m,\u001b[0m \u001b[0mBlock\u001b[0m\u001b[0;34m)\u001b[0m\u001b[0;34m:\u001b[0m\u001b[0;34m\u001b[0m\u001b[0;34m\u001b[0m\u001b[0m\n\u001b[0;32m-> 1481\u001b[0;31m             \u001b[0mblock\u001b[0m \u001b[0;34m=\u001b[0m \u001b[0mmake_block\u001b[0m\u001b[0;34m(\u001b[0m\u001b[0mblock\u001b[0m\u001b[0;34m,\u001b[0m \u001b[0mplacement\u001b[0m\u001b[0;34m=\u001b[0m\u001b[0mslice\u001b[0m\u001b[0;34m(\u001b[0m\u001b[0;36m0\u001b[0m\u001b[0;34m,\u001b[0m \u001b[0mlen\u001b[0m\u001b[0;34m(\u001b[0m\u001b[0maxis\u001b[0m\u001b[0;34m)\u001b[0m\u001b[0;34m)\u001b[0m\u001b[0;34m,\u001b[0m \u001b[0mndim\u001b[0m\u001b[0;34m=\u001b[0m\u001b[0;36m1\u001b[0m\u001b[0;34m)\u001b[0m\u001b[0;34m\u001b[0m\u001b[0;34m\u001b[0m\u001b[0m\n\u001b[0m\u001b[1;32m   1482\u001b[0m \u001b[0;34m\u001b[0m\u001b[0m\n\u001b[1;32m   1483\u001b[0m         \u001b[0mself\u001b[0m\u001b[0;34m.\u001b[0m\u001b[0mblocks\u001b[0m \u001b[0;34m=\u001b[0m \u001b[0;34m[\u001b[0m\u001b[0mblock\u001b[0m\u001b[0;34m]\u001b[0m\u001b[0;34m\u001b[0m\u001b[0;34m\u001b[0m\u001b[0m\n",
      "\u001b[0;32m/anaconda3/lib/python3.7/site-packages/pandas/core/internals/blocks.py\u001b[0m in \u001b[0;36mmake_block\u001b[0;34m(values, placement, klass, ndim, dtype, fastpath)\u001b[0m\n\u001b[1;32m   3093\u001b[0m         \u001b[0mvalues\u001b[0m \u001b[0;34m=\u001b[0m \u001b[0mDatetimeArray\u001b[0m\u001b[0;34m.\u001b[0m\u001b[0m_simple_new\u001b[0m\u001b[0;34m(\u001b[0m\u001b[0mvalues\u001b[0m\u001b[0;34m,\u001b[0m \u001b[0mdtype\u001b[0m\u001b[0;34m=\u001b[0m\u001b[0mdtype\u001b[0m\u001b[0;34m)\u001b[0m\u001b[0;34m\u001b[0m\u001b[0;34m\u001b[0m\u001b[0m\n\u001b[1;32m   3094\u001b[0m \u001b[0;34m\u001b[0m\u001b[0m\n\u001b[0;32m-> 3095\u001b[0;31m     \u001b[0;32mreturn\u001b[0m \u001b[0mklass\u001b[0m\u001b[0;34m(\u001b[0m\u001b[0mvalues\u001b[0m\u001b[0;34m,\u001b[0m \u001b[0mndim\u001b[0m\u001b[0;34m=\u001b[0m\u001b[0mndim\u001b[0m\u001b[0;34m,\u001b[0m \u001b[0mplacement\u001b[0m\u001b[0;34m=\u001b[0m\u001b[0mplacement\u001b[0m\u001b[0;34m)\u001b[0m\u001b[0;34m\u001b[0m\u001b[0;34m\u001b[0m\u001b[0m\n\u001b[0m\u001b[1;32m   3096\u001b[0m \u001b[0;34m\u001b[0m\u001b[0m\n\u001b[1;32m   3097\u001b[0m \u001b[0;34m\u001b[0m\u001b[0m\n",
      "\u001b[0;32m/anaconda3/lib/python3.7/site-packages/pandas/core/internals/blocks.py\u001b[0m in \u001b[0;36m__init__\u001b[0;34m(self, values, placement, ndim)\u001b[0m\n\u001b[1;32m   2629\u001b[0m \u001b[0;34m\u001b[0m\u001b[0m\n\u001b[1;32m   2630\u001b[0m         super(ObjectBlock, self).__init__(values, ndim=ndim,\n\u001b[0;32m-> 2631\u001b[0;31m                                           placement=placement)\n\u001b[0m\u001b[1;32m   2632\u001b[0m \u001b[0;34m\u001b[0m\u001b[0m\n\u001b[1;32m   2633\u001b[0m     \u001b[0;34m@\u001b[0m\u001b[0mproperty\u001b[0m\u001b[0;34m\u001b[0m\u001b[0;34m\u001b[0m\u001b[0m\n",
      "\u001b[0;32m/anaconda3/lib/python3.7/site-packages/pandas/core/internals/blocks.py\u001b[0m in \u001b[0;36m__init__\u001b[0;34m(self, values, placement, ndim)\u001b[0m\n\u001b[1;32m     85\u001b[0m             raise ValueError(\n\u001b[1;32m     86\u001b[0m                 \u001b[0;34m'Wrong number of items passed {val}, placement implies '\u001b[0m\u001b[0;34m\u001b[0m\u001b[0;34m\u001b[0m\u001b[0m\n\u001b[0;32m---> 87\u001b[0;31m                 '{mgr}'.format(val=len(self.values), mgr=len(self.mgr_locs)))\n\u001b[0m\u001b[1;32m     88\u001b[0m \u001b[0;34m\u001b[0m\u001b[0m\n\u001b[1;32m     89\u001b[0m     \u001b[0;32mdef\u001b[0m \u001b[0m_check_ndim\u001b[0m\u001b[0;34m(\u001b[0m\u001b[0mself\u001b[0m\u001b[0;34m,\u001b[0m \u001b[0mvalues\u001b[0m\u001b[0;34m,\u001b[0m \u001b[0mndim\u001b[0m\u001b[0;34m)\u001b[0m\u001b[0;34m:\u001b[0m\u001b[0;34m\u001b[0m\u001b[0;34m\u001b[0m\u001b[0m\n",
      "\u001b[0;31mValueError\u001b[0m: Wrong number of items passed 4, placement implies 580"
     ]
    }
   ],
   "source": [
    "sns.boxplot(x=df_boxplot.columns, y = df_boxplot)"
   ]
  },
  {
   "cell_type": "code",
   "execution_count": 270,
   "metadata": {},
   "outputs": [
    {
     "ename": "TypeError",
     "evalue": "boxplot() got an unexpected keyword argument 'groupby'",
     "output_type": "error",
     "traceback": [
      "\u001b[0;31m---------------------------------------------------------------------------\u001b[0m",
      "\u001b[0;31mTypeError\u001b[0m                                 Traceback (most recent call last)",
      "\u001b[0;32m<ipython-input-270-f308a6d42420>\u001b[0m in \u001b[0;36m<module>\u001b[0;34m\u001b[0m\n\u001b[0;32m----> 1\u001b[0;31m \u001b[0mplt\u001b[0m\u001b[0;34m.\u001b[0m\u001b[0mboxplot\u001b[0m\u001b[0;34m(\u001b[0m\u001b[0mdf\u001b[0m\u001b[0;34m[\u001b[0m\u001b[0;34m'review_count'\u001b[0m\u001b[0;34m]\u001b[0m\u001b[0;34m,\u001b[0m \u001b[0mgroupby\u001b[0m \u001b[0;34m=\u001b[0m \u001b[0mdf\u001b[0m\u001b[0;34m[\u001b[0m\u001b[0;34m'city'\u001b[0m\u001b[0;34m]\u001b[0m\u001b[0;34m)\u001b[0m\u001b[0;34m\u001b[0m\u001b[0;34m\u001b[0m\u001b[0m\n\u001b[0m",
      "\u001b[0;31mTypeError\u001b[0m: boxplot() got an unexpected keyword argument 'groupby'"
     ]
    }
   ],
   "source": [
    "plt.boxplot(df['review_count'], groupby = df['city'])"
   ]
  },
  {
   "cell_type": "code",
   "execution_count": 272,
   "metadata": {},
   "outputs": [
    {
     "ename": "AttributeError",
     "evalue": "Unknown property kind",
     "output_type": "error",
     "traceback": [
      "\u001b[0;31m---------------------------------------------------------------------------\u001b[0m",
      "\u001b[0;31mAttributeError\u001b[0m                            Traceback (most recent call last)",
      "\u001b[0;32m<ipython-input-272-2af706af9213>\u001b[0m in \u001b[0;36m<module>\u001b[0;34m\u001b[0m\n\u001b[0;32m----> 1\u001b[0;31m \u001b[0msns\u001b[0m\u001b[0;34m.\u001b[0m\u001b[0mbarplot\u001b[0m\u001b[0;34m(\u001b[0m\u001b[0mx\u001b[0m \u001b[0;34m=\u001b[0m \u001b[0;34m'review_count'\u001b[0m\u001b[0;34m,\u001b[0m \u001b[0my\u001b[0m \u001b[0;34m=\u001b[0m \u001b[0;34m'city'\u001b[0m \u001b[0;34m,\u001b[0m \u001b[0mkind\u001b[0m \u001b[0;34m=\u001b[0m \u001b[0;34m'box'\u001b[0m \u001b[0;34m,\u001b[0m \u001b[0mdata\u001b[0m \u001b[0;34m=\u001b[0m \u001b[0mdf\u001b[0m\u001b[0;34m)\u001b[0m\u001b[0;34m\u001b[0m\u001b[0;34m\u001b[0m\u001b[0m\n\u001b[0m",
      "\u001b[0;32m/anaconda3/lib/python3.7/site-packages/seaborn/categorical.py\u001b[0m in \u001b[0;36mbarplot\u001b[0;34m(x, y, hue, data, order, hue_order, estimator, ci, n_boot, units, orient, color, palette, saturation, errcolor, errwidth, capsize, dodge, ax, **kwargs)\u001b[0m\n\u001b[1;32m   3152\u001b[0m         \u001b[0max\u001b[0m \u001b[0;34m=\u001b[0m \u001b[0mplt\u001b[0m\u001b[0;34m.\u001b[0m\u001b[0mgca\u001b[0m\u001b[0;34m(\u001b[0m\u001b[0;34m)\u001b[0m\u001b[0;34m\u001b[0m\u001b[0;34m\u001b[0m\u001b[0m\n\u001b[1;32m   3153\u001b[0m \u001b[0;34m\u001b[0m\u001b[0m\n\u001b[0;32m-> 3154\u001b[0;31m     \u001b[0mplotter\u001b[0m\u001b[0;34m.\u001b[0m\u001b[0mplot\u001b[0m\u001b[0;34m(\u001b[0m\u001b[0max\u001b[0m\u001b[0;34m,\u001b[0m \u001b[0mkwargs\u001b[0m\u001b[0;34m)\u001b[0m\u001b[0;34m\u001b[0m\u001b[0;34m\u001b[0m\u001b[0m\n\u001b[0m\u001b[1;32m   3155\u001b[0m     \u001b[0;32mreturn\u001b[0m \u001b[0max\u001b[0m\u001b[0;34m\u001b[0m\u001b[0;34m\u001b[0m\u001b[0m\n\u001b[1;32m   3156\u001b[0m \u001b[0;34m\u001b[0m\u001b[0m\n",
      "\u001b[0;32m/anaconda3/lib/python3.7/site-packages/seaborn/categorical.py\u001b[0m in \u001b[0;36mplot\u001b[0;34m(self, ax, bar_kws)\u001b[0m\n\u001b[1;32m   1659\u001b[0m     \u001b[0;32mdef\u001b[0m \u001b[0mplot\u001b[0m\u001b[0;34m(\u001b[0m\u001b[0mself\u001b[0m\u001b[0;34m,\u001b[0m \u001b[0max\u001b[0m\u001b[0;34m,\u001b[0m \u001b[0mbar_kws\u001b[0m\u001b[0;34m)\u001b[0m\u001b[0;34m:\u001b[0m\u001b[0;34m\u001b[0m\u001b[0;34m\u001b[0m\u001b[0m\n\u001b[1;32m   1660\u001b[0m         \u001b[0;34m\"\"\"Make the plot.\"\"\"\u001b[0m\u001b[0;34m\u001b[0m\u001b[0;34m\u001b[0m\u001b[0m\n\u001b[0;32m-> 1661\u001b[0;31m         \u001b[0mself\u001b[0m\u001b[0;34m.\u001b[0m\u001b[0mdraw_bars\u001b[0m\u001b[0;34m(\u001b[0m\u001b[0max\u001b[0m\u001b[0;34m,\u001b[0m \u001b[0mbar_kws\u001b[0m\u001b[0;34m)\u001b[0m\u001b[0;34m\u001b[0m\u001b[0;34m\u001b[0m\u001b[0m\n\u001b[0m\u001b[1;32m   1662\u001b[0m         \u001b[0mself\u001b[0m\u001b[0;34m.\u001b[0m\u001b[0mannotate_axes\u001b[0m\u001b[0;34m(\u001b[0m\u001b[0max\u001b[0m\u001b[0;34m)\u001b[0m\u001b[0;34m\u001b[0m\u001b[0;34m\u001b[0m\u001b[0m\n\u001b[1;32m   1663\u001b[0m         \u001b[0;32mif\u001b[0m \u001b[0mself\u001b[0m\u001b[0;34m.\u001b[0m\u001b[0morient\u001b[0m \u001b[0;34m==\u001b[0m \u001b[0;34m\"h\"\u001b[0m\u001b[0;34m:\u001b[0m\u001b[0;34m\u001b[0m\u001b[0;34m\u001b[0m\u001b[0m\n",
      "\u001b[0;32m/anaconda3/lib/python3.7/site-packages/seaborn/categorical.py\u001b[0m in \u001b[0;36mdraw_bars\u001b[0;34m(self, ax, kws)\u001b[0m\n\u001b[1;32m   1625\u001b[0m             \u001b[0;31m# Draw the bars\u001b[0m\u001b[0;34m\u001b[0m\u001b[0;34m\u001b[0m\u001b[0;34m\u001b[0m\u001b[0m\n\u001b[1;32m   1626\u001b[0m             barfunc(barpos, self.statistic, self.width,\n\u001b[0;32m-> 1627\u001b[0;31m                     color=self.colors, align=\"center\", **kws)\n\u001b[0m\u001b[1;32m   1628\u001b[0m \u001b[0;34m\u001b[0m\u001b[0m\n\u001b[1;32m   1629\u001b[0m             \u001b[0;31m# Draw the confidence intervals\u001b[0m\u001b[0;34m\u001b[0m\u001b[0;34m\u001b[0m\u001b[0;34m\u001b[0m\u001b[0m\n",
      "\u001b[0;32m/anaconda3/lib/python3.7/site-packages/matplotlib/axes/_axes.py\u001b[0m in \u001b[0;36mbarh\u001b[0;34m(self, y, width, height, left, align, **kwargs)\u001b[0m\n\u001b[1;32m   2461\u001b[0m         \u001b[0mkwargs\u001b[0m\u001b[0;34m.\u001b[0m\u001b[0msetdefault\u001b[0m\u001b[0;34m(\u001b[0m\u001b[0;34m'orientation'\u001b[0m\u001b[0;34m,\u001b[0m \u001b[0;34m'horizontal'\u001b[0m\u001b[0;34m)\u001b[0m\u001b[0;34m\u001b[0m\u001b[0;34m\u001b[0m\u001b[0m\n\u001b[1;32m   2462\u001b[0m         patches = self.bar(x=left, height=height, width=width, bottom=y,\n\u001b[0;32m-> 2463\u001b[0;31m                            align=align, **kwargs)\n\u001b[0m\u001b[1;32m   2464\u001b[0m         \u001b[0;32mreturn\u001b[0m \u001b[0mpatches\u001b[0m\u001b[0;34m\u001b[0m\u001b[0;34m\u001b[0m\u001b[0m\n\u001b[1;32m   2465\u001b[0m \u001b[0;34m\u001b[0m\u001b[0m\n",
      "\u001b[0;32m/anaconda3/lib/python3.7/site-packages/matplotlib/__init__.py\u001b[0m in \u001b[0;36minner\u001b[0;34m(ax, data, *args, **kwargs)\u001b[0m\n\u001b[1;32m   1808\u001b[0m                         \u001b[0;34m\"the Matplotlib list!)\"\u001b[0m \u001b[0;34m%\u001b[0m \u001b[0;34m(\u001b[0m\u001b[0mlabel_namer\u001b[0m\u001b[0;34m,\u001b[0m \u001b[0mfunc\u001b[0m\u001b[0;34m.\u001b[0m\u001b[0m__name__\u001b[0m\u001b[0;34m)\u001b[0m\u001b[0;34m,\u001b[0m\u001b[0;34m\u001b[0m\u001b[0;34m\u001b[0m\u001b[0m\n\u001b[1;32m   1809\u001b[0m                         RuntimeWarning, stacklevel=2)\n\u001b[0;32m-> 1810\u001b[0;31m             \u001b[0;32mreturn\u001b[0m \u001b[0mfunc\u001b[0m\u001b[0;34m(\u001b[0m\u001b[0max\u001b[0m\u001b[0;34m,\u001b[0m \u001b[0;34m*\u001b[0m\u001b[0margs\u001b[0m\u001b[0;34m,\u001b[0m \u001b[0;34m**\u001b[0m\u001b[0mkwargs\u001b[0m\u001b[0;34m)\u001b[0m\u001b[0;34m\u001b[0m\u001b[0;34m\u001b[0m\u001b[0m\n\u001b[0m\u001b[1;32m   1811\u001b[0m \u001b[0;34m\u001b[0m\u001b[0m\n\u001b[1;32m   1812\u001b[0m         inner.__doc__ = _add_data_doc(inner.__doc__,\n",
      "\u001b[0;32m/anaconda3/lib/python3.7/site-packages/matplotlib/axes/_axes.py\u001b[0m in \u001b[0;36mbar\u001b[0;34m(self, x, height, width, bottom, align, **kwargs)\u001b[0m\n\u001b[1;32m   2296\u001b[0m                 \u001b[0mlabel\u001b[0m\u001b[0;34m=\u001b[0m\u001b[0;34m'_nolegend_'\u001b[0m\u001b[0;34m,\u001b[0m\u001b[0;34m\u001b[0m\u001b[0;34m\u001b[0m\u001b[0m\n\u001b[1;32m   2297\u001b[0m                 )\n\u001b[0;32m-> 2298\u001b[0;31m             \u001b[0mr\u001b[0m\u001b[0;34m.\u001b[0m\u001b[0mupdate\u001b[0m\u001b[0;34m(\u001b[0m\u001b[0mkwargs\u001b[0m\u001b[0;34m)\u001b[0m\u001b[0;34m\u001b[0m\u001b[0;34m\u001b[0m\u001b[0m\n\u001b[0m\u001b[1;32m   2299\u001b[0m             \u001b[0mr\u001b[0m\u001b[0;34m.\u001b[0m\u001b[0mget_path\u001b[0m\u001b[0;34m(\u001b[0m\u001b[0;34m)\u001b[0m\u001b[0;34m.\u001b[0m\u001b[0m_interpolation_steps\u001b[0m \u001b[0;34m=\u001b[0m \u001b[0;36m100\u001b[0m\u001b[0;34m\u001b[0m\u001b[0;34m\u001b[0m\u001b[0m\n\u001b[1;32m   2300\u001b[0m             \u001b[0;32mif\u001b[0m \u001b[0morientation\u001b[0m \u001b[0;34m==\u001b[0m \u001b[0;34m'vertical'\u001b[0m\u001b[0;34m:\u001b[0m\u001b[0;34m\u001b[0m\u001b[0;34m\u001b[0m\u001b[0m\n",
      "\u001b[0;32m/anaconda3/lib/python3.7/site-packages/matplotlib/artist.py\u001b[0m in \u001b[0;36mupdate\u001b[0;34m(self, props)\u001b[0m\n\u001b[1;32m    914\u001b[0m \u001b[0;34m\u001b[0m\u001b[0m\n\u001b[1;32m    915\u001b[0m         \u001b[0;32mwith\u001b[0m \u001b[0mcbook\u001b[0m\u001b[0;34m.\u001b[0m\u001b[0m_setattr_cm\u001b[0m\u001b[0;34m(\u001b[0m\u001b[0mself\u001b[0m\u001b[0;34m,\u001b[0m \u001b[0meventson\u001b[0m\u001b[0;34m=\u001b[0m\u001b[0;32mFalse\u001b[0m\u001b[0;34m)\u001b[0m\u001b[0;34m:\u001b[0m\u001b[0;34m\u001b[0m\u001b[0;34m\u001b[0m\u001b[0m\n\u001b[0;32m--> 916\u001b[0;31m             \u001b[0mret\u001b[0m \u001b[0;34m=\u001b[0m \u001b[0;34m[\u001b[0m\u001b[0m_update_property\u001b[0m\u001b[0;34m(\u001b[0m\u001b[0mself\u001b[0m\u001b[0;34m,\u001b[0m \u001b[0mk\u001b[0m\u001b[0;34m,\u001b[0m \u001b[0mv\u001b[0m\u001b[0;34m)\u001b[0m \u001b[0;32mfor\u001b[0m \u001b[0mk\u001b[0m\u001b[0;34m,\u001b[0m \u001b[0mv\u001b[0m \u001b[0;32min\u001b[0m \u001b[0mprops\u001b[0m\u001b[0;34m.\u001b[0m\u001b[0mitems\u001b[0m\u001b[0;34m(\u001b[0m\u001b[0;34m)\u001b[0m\u001b[0;34m]\u001b[0m\u001b[0;34m\u001b[0m\u001b[0;34m\u001b[0m\u001b[0m\n\u001b[0m\u001b[1;32m    917\u001b[0m \u001b[0;34m\u001b[0m\u001b[0m\n\u001b[1;32m    918\u001b[0m         \u001b[0;32mif\u001b[0m \u001b[0mlen\u001b[0m\u001b[0;34m(\u001b[0m\u001b[0mret\u001b[0m\u001b[0;34m)\u001b[0m\u001b[0;34m:\u001b[0m\u001b[0;34m\u001b[0m\u001b[0;34m\u001b[0m\u001b[0m\n",
      "\u001b[0;32m/anaconda3/lib/python3.7/site-packages/matplotlib/artist.py\u001b[0m in \u001b[0;36m<listcomp>\u001b[0;34m(.0)\u001b[0m\n\u001b[1;32m    914\u001b[0m \u001b[0;34m\u001b[0m\u001b[0m\n\u001b[1;32m    915\u001b[0m         \u001b[0;32mwith\u001b[0m \u001b[0mcbook\u001b[0m\u001b[0;34m.\u001b[0m\u001b[0m_setattr_cm\u001b[0m\u001b[0;34m(\u001b[0m\u001b[0mself\u001b[0m\u001b[0;34m,\u001b[0m \u001b[0meventson\u001b[0m\u001b[0;34m=\u001b[0m\u001b[0;32mFalse\u001b[0m\u001b[0;34m)\u001b[0m\u001b[0;34m:\u001b[0m\u001b[0;34m\u001b[0m\u001b[0;34m\u001b[0m\u001b[0m\n\u001b[0;32m--> 916\u001b[0;31m             \u001b[0mret\u001b[0m \u001b[0;34m=\u001b[0m \u001b[0;34m[\u001b[0m\u001b[0m_update_property\u001b[0m\u001b[0;34m(\u001b[0m\u001b[0mself\u001b[0m\u001b[0;34m,\u001b[0m \u001b[0mk\u001b[0m\u001b[0;34m,\u001b[0m \u001b[0mv\u001b[0m\u001b[0;34m)\u001b[0m \u001b[0;32mfor\u001b[0m \u001b[0mk\u001b[0m\u001b[0;34m,\u001b[0m \u001b[0mv\u001b[0m \u001b[0;32min\u001b[0m \u001b[0mprops\u001b[0m\u001b[0;34m.\u001b[0m\u001b[0mitems\u001b[0m\u001b[0;34m(\u001b[0m\u001b[0;34m)\u001b[0m\u001b[0;34m]\u001b[0m\u001b[0;34m\u001b[0m\u001b[0;34m\u001b[0m\u001b[0m\n\u001b[0m\u001b[1;32m    917\u001b[0m \u001b[0;34m\u001b[0m\u001b[0m\n\u001b[1;32m    918\u001b[0m         \u001b[0;32mif\u001b[0m \u001b[0mlen\u001b[0m\u001b[0;34m(\u001b[0m\u001b[0mret\u001b[0m\u001b[0;34m)\u001b[0m\u001b[0;34m:\u001b[0m\u001b[0;34m\u001b[0m\u001b[0;34m\u001b[0m\u001b[0m\n",
      "\u001b[0;32m/anaconda3/lib/python3.7/site-packages/matplotlib/artist.py\u001b[0m in \u001b[0;36m_update_property\u001b[0;34m(self, k, v)\u001b[0m\n\u001b[1;32m    910\u001b[0m                 \u001b[0mfunc\u001b[0m \u001b[0;34m=\u001b[0m \u001b[0mgetattr\u001b[0m\u001b[0;34m(\u001b[0m\u001b[0mself\u001b[0m\u001b[0;34m,\u001b[0m \u001b[0;34m'set_'\u001b[0m \u001b[0;34m+\u001b[0m \u001b[0mk\u001b[0m\u001b[0;34m,\u001b[0m \u001b[0;32mNone\u001b[0m\u001b[0;34m)\u001b[0m\u001b[0;34m\u001b[0m\u001b[0;34m\u001b[0m\u001b[0m\n\u001b[1;32m    911\u001b[0m                 \u001b[0;32mif\u001b[0m \u001b[0;32mnot\u001b[0m \u001b[0mcallable\u001b[0m\u001b[0;34m(\u001b[0m\u001b[0mfunc\u001b[0m\u001b[0;34m)\u001b[0m\u001b[0;34m:\u001b[0m\u001b[0;34m\u001b[0m\u001b[0;34m\u001b[0m\u001b[0m\n\u001b[0;32m--> 912\u001b[0;31m                     \u001b[0;32mraise\u001b[0m \u001b[0mAttributeError\u001b[0m\u001b[0;34m(\u001b[0m\u001b[0;34m'Unknown property %s'\u001b[0m \u001b[0;34m%\u001b[0m \u001b[0mk\u001b[0m\u001b[0;34m)\u001b[0m\u001b[0;34m\u001b[0m\u001b[0;34m\u001b[0m\u001b[0m\n\u001b[0m\u001b[1;32m    913\u001b[0m                 \u001b[0;32mreturn\u001b[0m \u001b[0mfunc\u001b[0m\u001b[0;34m(\u001b[0m\u001b[0mv\u001b[0m\u001b[0;34m)\u001b[0m\u001b[0;34m\u001b[0m\u001b[0;34m\u001b[0m\u001b[0m\n\u001b[1;32m    914\u001b[0m \u001b[0;34m\u001b[0m\u001b[0m\n",
      "\u001b[0;31mAttributeError\u001b[0m: Unknown property kind"
     ]
    },
    {
     "data": {
      "image/png": "[encoded data removed]",
      "text/plain": [
       "<Figure size 432x288 with 1 Axes>"
      ]
     },
     "metadata": {
      "needs_background": "light"
     },
     "output_type": "display_data"
    }
   ],
   "source": [
    "sns.barplot(x = 'review_count', y = 'city' , kind = 'box' , data = df)"
   ]
  },
  {
   "cell_type": "code",
   "execution_count": null,
   "metadata": {},
   "outputs": [],
   "source": []
  }
 ],
 "metadata": {
  "kernelspec": {
   "display_name": "Python 3",
   "language": "python",
   "name": "python3"
  },
  "language_info": {
   "codemirror_mode": {
    "name": "ipython",
    "version": 3
   },
   "file_extension": ".py",
   "mimetype": "text/x-python",
   "name": "python",
   "nbconvert_exporter": "python",
   "pygments_lexer": "ipython3",
   "version": "3.7.3"
  }
 },
 "nbformat": 4,
 "nbformat_minor": 2
}
