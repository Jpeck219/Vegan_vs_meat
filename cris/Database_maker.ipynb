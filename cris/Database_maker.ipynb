{
 "cells": [
  {
   "cell_type": "code",
   "execution_count": 1,
   "metadata": {},
   "outputs": [],
   "source": [
    "import pandas as pd\n",
    "import json\n",
    "import sqlite3\n",
    "import ast\n",
    "import csv\n",
    "import numpy as np\n",
    "import matplotlib.pyplot as plt\n",
    "from scipy import stats\n",
    "import seaborn as sns\n",
    "from scipy import stats\n",
    "from sklearn import preprocessing \n",
    "from statsmodels.multivariate.manova import MANOVA \n",
    "from statsmodels.stats.anova import anova_lm\n",
    "from statsmodels.formula.api import ols\n",
    "from statsmodels.stats.multicomp import MultiComparison\n",
    "from statsmodels.stats.multicomp import (pairwise_tukeyhsd,\n",
    "                                         MultiComparison)\n",
    "from statsmodels.stats.multicomp import pairwise_tukeyhsd\n",
    "from statsmodels.stats.multicomp import MultiComparison\n",
    "# from functions import *"
   ]
  },
  {
   "cell_type": "markdown",
   "metadata": {},
   "source": [
    "## Storing data in SQL"
   ]
  },
  {
   "cell_type": "code",
   "execution_count": 2,
   "metadata": {},
   "outputs": [],
   "source": [
    "conn = sqlite3.connect('Food_Mod3_proj.db')\n",
    "c = conn.cursor() "
   ]
  },
  {
   "cell_type": "code",
   "execution_count": 3,
   "metadata": {},
   "outputs": [
    {
     "data": {
      "text/plain": [
       "<sqlite3.Cursor at 0x1a1700f7a0>"
      ]
     },
     "execution_count": 3,
     "metadata": {},
     "output_type": "execute_result"
    }
   ],
   "source": [
    "c.execute(\"\"\"DROP TABLE rest_info\"\"\")"
   ]
  },
  {
   "cell_type": "code",
   "execution_count": 4,
   "metadata": {},
   "outputs": [],
   "source": [
    "csv_list = [('veganNY.csv', 'NYC', 'vegan', 18.4),\n",
    "            ('meatLA.csv', 'LA', 'meat', 18.8),\n",
    "            ('meatDallas.csv', 'Dallas', 'meat', 7.5),\n",
    "            ('veganMinneapolis.csv', 'Minn', 'vegan', 3.4),\n",
    "            ('stakehouseNY.csv', 'NYC', 'meat', 18.4),\n",
    "            ('veganLA.csv', 'LA', 'vegan', 18.8),\n",
    "            ('meatMinneapolis.csv', 'Minn', 'meat', 3.4),\n",
    "            ('veganDallas.csv', 'Dallas', 'vegan', 7.5)]"
   ]
  },
  {
   "cell_type": "code",
   "execution_count": 5,
   "metadata": {},
   "outputs": [
    {
     "data": {
      "text/plain": [
       "<sqlite3.Cursor at 0x1a1700f7a0>"
      ]
     },
     "execution_count": 5,
     "metadata": {},
     "output_type": "execute_result"
    }
   ],
   "source": [
    "c.execute('''CREATE TABLE rest_info\n",
    "(name TEXT NOT NULL, \n",
    "city TEXT NOT NULL,\n",
    "price INTEGER NOT NULL, \n",
    "rating INTEGER NOT NULL, \n",
    "review_count INTEGER NOT NULL,\n",
    "rest_type TEXT NOT NULL,\n",
    "pop_in_mil INTEGER NOT NULL);''')"
   ]
  },
  {
   "cell_type": "code",
   "execution_count": 6,
   "metadata": {},
   "outputs": [],
   "source": [
    "def csv_to_db(a_list):\n",
    "    '''it takes a list of csv files and converted into a dataframe'''\n",
    "    for i in a_list:\n",
    "        with open('/Users/cristinamulas/Desktop/Vegan_vs_meat/cris/csv/{}'.format(i[0]), newline='') as csvfile:\n",
    "            _data = csv.reader(csvfile)\n",
    "            for row in _data:\n",
    "                rest_info = []\n",
    "                try: \n",
    "                    name = row[10] #name\n",
    "                    city = i[1] #city i[1]\n",
    "                    price = row[12] #price\n",
    "                    rating = row[13] #rating\n",
    "                    review_count = row[14] #review_count\n",
    "                    rest_type = i[2]\n",
    "                    pop_in_mil = i[3]\n",
    "                    rest_info.append([name, city, price, rating, review_count, rest_type, pop_in_mil])\n",
    "                    c.execute(\"\"\"INSERT INTO rest_info (name, city, price, rating, review_count, rest_type, pop_in_mil)\n",
    "                    VALUES (?, ?, ?, ?, ?, ?, ?);\"\"\", rest_info[0])\n",
    "                except: \n",
    "                    print('failed')"
   ]
  },
  {
   "cell_type": "code",
   "execution_count": 7,
   "metadata": {},
   "outputs": [],
   "source": [
    "csv_to_db(csv_list)"
   ]
  },
  {
   "cell_type": "markdown",
   "metadata": {},
   "source": [
    "## Convert csv file into a dataframe "
   ]
  },
  {
   "cell_type": "code",
   "execution_count": 8,
   "metadata": {
    "scrolled": true
   },
   "outputs": [],
   "source": [
    "c.execute(\"\"\"SELECT * from rest_info\"\"\")\n",
    "df = pd.DataFrame(c.fetchall())\n",
    "df.columns = ['name','city', 'price', 'rating', 'review_count', 'rest_type', 'pop_in_mil']\n"
   ]
  },
  {
   "cell_type": "markdown",
   "metadata": {},
   "source": [
    "## Cleaning df"
   ]
  },
  {
   "cell_type": "code",
   "execution_count": 9,
   "metadata": {
    "scrolled": true
   },
   "outputs": [],
   "source": [
    "df.price.replace('',np.NaN, inplace = True)"
   ]
  },
  {
   "cell_type": "code",
   "execution_count": 10,
   "metadata": {},
   "outputs": [],
   "source": [
    "df = df.dropna(axis = 0)"
   ]
  },
  {
   "cell_type": "code",
   "execution_count": 11,
   "metadata": {},
   "outputs": [],
   "source": [
    "df.loc[df['rating']=='rating']\n",
    "df.drop([0, 701, 1402, 2084, 2785, 3486, 4187, 4658], inplace = True)"
   ]
  },
  {
   "cell_type": "code",
   "execution_count": 12,
   "metadata": {},
   "outputs": [
    {
     "data": {
      "text/plain": [
       "name             object\n",
       "city             object\n",
       "price            object\n",
       "rating           object\n",
       "review_count     object\n",
       "rest_type        object\n",
       "pop_in_mil      float64\n",
       "dtype: object"
      ]
     },
     "execution_count": 12,
     "metadata": {},
     "output_type": "execute_result"
    }
   ],
   "source": [
    "df.dtypes"
   ]
  },
  {
   "cell_type": "code",
   "execution_count": 13,
   "metadata": {},
   "outputs": [
    {
     "data": {
      "text/plain": [
       "4.0    1900\n",
       "4.5    1189\n",
       "3.5     822\n",
       "3.0     289\n",
       "5.0     229\n",
       "2.5     125\n",
       "2.0      49\n",
       "1.5      10\n",
       "1.0       5\n",
       "Name: rating, dtype: int64"
      ]
     },
     "execution_count": 13,
     "metadata": {},
     "output_type": "execute_result"
    }
   ],
   "source": [
    "# converting rating feature to float\n",
    "df['rating'].value_counts()"
   ]
  },
  {
   "cell_type": "code",
   "execution_count": 14,
   "metadata": {},
   "outputs": [],
   "source": [
    "df['rating'] = df['rating'].replace('rating', np.nan)"
   ]
  },
  {
   "cell_type": "code",
   "execution_count": 15,
   "metadata": {},
   "outputs": [],
   "source": [
    "df['rating'] = df['rating'].astype('float64')"
   ]
  },
  {
   "cell_type": "code",
   "execution_count": 16,
   "metadata": {},
   "outputs": [],
   "source": [
    "df['rating'] = df['rating'].fillna(0)"
   ]
  },
  {
   "cell_type": "code",
   "execution_count": 17,
   "metadata": {},
   "outputs": [
    {
     "data": {
      "text/plain": [
       "array([719, 1054, 1598, ..., 778, 898, 334], dtype=object)"
      ]
     },
     "execution_count": 17,
     "metadata": {},
     "output_type": "execute_result"
    }
   ],
   "source": [
    "# converting review_count values from obj to float\n",
    "df.review_count.unique()"
   ]
  },
  {
   "cell_type": "code",
   "execution_count": 18,
   "metadata": {},
   "outputs": [],
   "source": [
    "df['review_count'] = df['review_count'].replace('review_count', np.nan)"
   ]
  },
  {
   "cell_type": "code",
   "execution_count": 19,
   "metadata": {},
   "outputs": [],
   "source": [
    "df.review_count = df['review_count'].astype('float64')"
   ]
  },
  {
   "cell_type": "code",
   "execution_count": 20,
   "metadata": {},
   "outputs": [
    {
     "data": {
      "text/plain": [
       "0"
      ]
     },
     "execution_count": 20,
     "metadata": {},
     "output_type": "execute_result"
    }
   ],
   "source": [
    "df.review_count.isnull().sum()"
   ]
  },
  {
   "cell_type": "code",
   "execution_count": 21,
   "metadata": {},
   "outputs": [],
   "source": [
    "df['review_count'] = df['review_count'].fillna(0)"
   ]
  },
  {
   "cell_type": "code",
   "execution_count": 22,
   "metadata": {},
   "outputs": [],
   "source": [
    "# create a new feature\n",
    "df['pop_review_count'] = df.review_count / df.pop_in_mil\n"
   ]
  },
  {
   "cell_type": "code",
   "execution_count": 23,
   "metadata": {},
   "outputs": [
    {
     "data": {
      "text/plain": [
       "name                0\n",
       "city                0\n",
       "price               0\n",
       "rating              0\n",
       "review_count        0\n",
       "rest_type           0\n",
       "pop_in_mil          0\n",
       "pop_review_count    0\n",
       "dtype: int64"
      ]
     },
     "execution_count": 23,
     "metadata": {},
     "output_type": "execute_result"
    }
   ],
   "source": [
    "df.isna().sum()"
   ]
  },
  {
   "cell_type": "code",
   "execution_count": 24,
   "metadata": {},
   "outputs": [
    {
     "data": {
      "text/plain": [
       "(4618, 8)"
      ]
     },
     "execution_count": 24,
     "metadata": {},
     "output_type": "execute_result"
    }
   ],
   "source": [
    "df.shape"
   ]
  },
  {
   "cell_type": "code",
   "execution_count": 25,
   "metadata": {},
   "outputs": [
    {
     "data": {
      "text/plain": [
       "array(['NYC', 'LA', 'Dallas', 'Minn'], dtype=object)"
      ]
     },
     "execution_count": 25,
     "metadata": {},
     "output_type": "execute_result"
    }
   ],
   "source": [
    "df.city.unique()"
   ]
  },
  {
   "cell_type": "markdown",
   "metadata": {},
   "source": [
    "##  Subseting  dataframes into different cities"
   ]
  },
  {
   "cell_type": "code",
   "execution_count": 26,
   "metadata": {
    "scrolled": true
   },
   "outputs": [],
   "source": [
    "df_ny = df.loc[lambda df: df['city'] == 'NYC'] \n",
    "df_ny_vegan = df_ny.loc[lambda df_ny : df_ny['rest_type'] =='vegan']\n",
    "df_ny_meat = df_ny.loc[lambda df_ny : df_ny['rest_type'] =='meat']"
   ]
  },
  {
   "cell_type": "code",
   "execution_count": 27,
   "metadata": {},
   "outputs": [],
   "source": [
    "df_la = df.loc[lambda df: df['city'] == 'LA'] \n",
    "df_la_vegan = df_la.loc[lambda df_la : df_la['rest_type'] =='vegan']\n",
    "df_la_meat = df_la.loc[lambda df_la : df_la['rest_type'] =='meat']"
   ]
  },
  {
   "cell_type": "code",
   "execution_count": 28,
   "metadata": {},
   "outputs": [],
   "source": [
    "df_dallas = df.loc[lambda df: df['city'] == 'Dallas'] \n",
    "df_dallas_vegan = df_dallas.loc[lambda df_dallas : df_dallas['rest_type'] =='vegan']\n",
    "df_dallas_meat = df_dallas.loc[lambda df_dallas : df_dallas['rest_type'] =='meat']"
   ]
  },
  {
   "cell_type": "code",
   "execution_count": 29,
   "metadata": {},
   "outputs": [],
   "source": [
    "df_minn = df.loc[lambda df: df['city'] == 'Minn'] \n",
    "df_minn_vegan = df_minn.loc[lambda df_minn : df_minn['rest_type'] =='vegan']\n",
    "df_minn_meat = df_minn.loc[lambda df_minn : df_minn['rest_type'] =='meat']"
   ]
  },
  {
   "cell_type": "markdown",
   "metadata": {},
   "source": [
    "##  Question 1 : Is there a quality difference between vegan and non-vegan restaurants in NYC ?"
   ]
  },
  {
   "cell_type": "markdown",
   "metadata": {},
   "source": [
    "- H0: there is not a significant difference between the average rating and the type of restaurant in NYC.\n",
    "- H1: there is a significant different between the average rating and the type of restaurant.\n",
    "- The alpha level (i.e. the probability of rejecting the null hypothesis when it is true) will be set at 0.05 for a two-tailed test."
   ]
  },
  {
   "cell_type": "code",
   "execution_count": 30,
   "metadata": {
    "scrolled": true
   },
   "outputs": [
    {
     "data": {
      "text/plain": [
       "Text(0.5, 0, 'Rating')"
      ]
     },
     "execution_count": 30,
     "metadata": {},
     "output_type": "execute_result"
    },
    {
     "data": {
      "image/png": "[encoded data removed]",
      "text/plain": [
       "<Figure size 432x288 with 1 Axes>"
      ]
     },
     "metadata": {
      "needs_background": "light"
     },
     "output_type": "display_data"
    }
   ],
   "source": [
    "# fig for the mean\n",
    "ax = sns.boxplot(list(df_ny_vegan.rating))\n",
    "ax.set_title('NY Vegan Restaurant')\n",
    "ax.set_xlabel('Rating')\n"
   ]
  },
  {
   "cell_type": "code",
   "execution_count": 31,
   "metadata": {},
   "outputs": [
    {
     "data": {
      "text/plain": [
       "Text(0.5, 0, 'Rating')"
      ]
     },
     "execution_count": 31,
     "metadata": {},
     "output_type": "execute_result"
    },
    {
     "data": {
      "image/png": "[encoded data removed]",
      "text/plain": [
       "<Figure size 432x288 with 1 Axes>"
      ]
     },
     "metadata": {
      "needs_background": "light"
     },
     "output_type": "display_data"
    }
   ],
   "source": [
    "ax = sns.boxplot(df_ny_meat.rating)\n",
    "ax.set_title('NY Meat Restaurant')\n",
    "ax.set_xlabel('Rating')"
   ]
  },
  {
   "cell_type": "code",
   "execution_count": 32,
   "metadata": {},
   "outputs": [
    {
     "data": {
      "text/plain": [
       "<matplotlib.legend.Legend at 0x1a177b3898>"
      ]
     },
     "execution_count": 32,
     "metadata": {},
     "output_type": "execute_result"
    },
    {
     "data": {
      "image/png": "[encoded data removed]",
      "text/plain": [
       "<Figure size 432x288 with 1 Axes>"
      ]
     },
     "metadata": {
      "needs_background": "light"
     },
     "output_type": "display_data"
    }
   ],
   "source": [
    "# fig plotting vegan VS Steakhouse\n",
    "sns.distplot(list(df_ny_vegan.rating), label='Vegan', color='seagreen')\n",
    "sns.distplot(list(df_ny_meat.rating), label='Steakhouse', color='indianred')\n",
    "plt.title('Distribution plots of the rating between Vegan and Steakhouse NY')\n",
    "plt.legend()"
   ]
  },
  {
   "cell_type": "markdown",
   "metadata": {},
   "source": [
    "We are going to implement independent t-test since  we observe two independent samples from the same population."
   ]
  },
  {
   "cell_type": "code",
   "execution_count": 33,
   "metadata": {},
   "outputs": [
    {
     "data": {
      "text/plain": [
       "Ttest_indResult(statistic=1.0357250484486444, pvalue=0.3005534040798261)"
      ]
     },
     "execution_count": 33,
     "metadata": {},
     "output_type": "execute_result"
    }
   ],
   "source": [
    "stats.ttest_ind(df_ny_vegan.rating, df_ny_meat.rating)"
   ]
  },
  {
   "cell_type": "markdown",
   "metadata": {},
   "source": [
    "Since out pvalue=0.32 we fail to reject the null hypothesis and we can conclude that there is not significant difference between ratings of vegan and meat restaurants"
   ]
  },
  {
   "cell_type": "markdown",
   "metadata": {},
   "source": [
    "We also implement Cohen_d to to measure effect size."
   ]
  },
  {
   "cell_type": "code",
   "execution_count": 34,
   "metadata": {},
   "outputs": [],
   "source": [
    "def Cohen_d(group1, group2):\n",
    "    diff = group1.mean() - group2.mean()\n",
    "    n1, n2 = len(group1), len(group2)\n",
    "    var1 = group1.var()\n",
    "    var2 = group2.var()\n",
    "    # Calculate the pooled threshold as shown earlier\n",
    "    pooled_var = (n1 * var1 + n2 * var2) / (n1 + n2)\n",
    "    \n",
    "    # Calculate Cohen's d statistic\n",
    "    d = diff / np.sqrt(pooled_var)\n",
    "    \n",
    "    return d"
   ]
  },
  {
   "cell_type": "code",
   "execution_count": 35,
   "metadata": {},
   "outputs": [],
   "source": [
    "variable = Cohen_d(df_ny_vegan.rating, df_ny_meat.rating)"
   ]
  },
  {
   "cell_type": "code",
   "execution_count": 36,
   "metadata": {},
   "outputs": [
    {
     "name": "stdout",
     "output_type": "stream",
     "text": [
      "Our Effect Size is 0.06178790167142621. This is a small effect size.\n"
     ]
    }
   ],
   "source": [
    "print(f'Our Effect Size is {variable}. This is a small effect size.')"
   ]
  },
  {
   "cell_type": "markdown",
   "metadata": {},
   "source": [
    "## Question 2: Are vegan restaurants more popular in different cities?\n",
    "- H0: there is not a significant difference between the popularity (review_count) for all cities. µ1 = µ 2 = µ 3...\n",
    "- H1: there is a significant difference between the popularity in at least one city.\n",
    "- The alpha level (i.e. the probability of rejecting the null hypothesis when it is true) will be set at 0.05"
   ]
  },
  {
   "cell_type": "code",
   "execution_count": 37,
   "metadata": {},
   "outputs": [
    {
     "data": {
      "text/plain": [
       "<matplotlib.legend.Legend at 0x1a179bc390>"
      ]
     },
     "execution_count": 37,
     "metadata": {},
     "output_type": "execute_result"
    },
    {
     "data": {
      "image/png": "[encoded data removed]",
      "text/plain": [
       "<Figure size 432x288 with 1 Axes>"
      ]
     },
     "metadata": {
      "needs_background": "light"
     },
     "output_type": "display_data"
    }
   ],
   "source": [
    "sns.distplot(df_ny_vegan.review_count , label = 'NYC')\n",
    "sns.distplot(df_minn_vegan.review_count, label = 'Minneapolist')\n",
    "sns.distplot(df_la_vegan.review_count , label = 'LA')\n",
    "sns.distplot(df_dallas_vegan.review_count , label = 'Dallas')\n",
    "plt.title('Distribution plots of the review count between different cities')\n",
    "plt.legend()"
   ]
  },
  {
   "cell_type": "markdown",
   "metadata": {},
   "source": [
    "For the second question, we are going to implement oneway ANOVA"
   ]
  },
  {
   "cell_type": "code",
   "execution_count": 42,
   "metadata": {},
   "outputs": [
    {
     "data": {
      "text/plain": [
       "F_onewayResult(statistic=68.69232288047708, pvalue=1.1474089109186928e-42)"
      ]
     },
     "execution_count": 42,
     "metadata": {},
     "output_type": "execute_result"
    }
   ],
   "source": [
    "stats.f_oneway(df_ny_vegan.review_count, df_la_vegan.review_count, df_dallas_vegan.review_count, df_minn_vegan.review_count)\n"
   ]
  },
  {
   "cell_type": "markdown",
   "metadata": {},
   "source": [
    "Since out pvalue=1.28e-42 we can conclude that there is a significant difference between popularity among different vegan restaurants in different cities."
   ]
  },
  {
   "cell_type": "markdown",
   "metadata": {},
   "source": [
    "We have run a Tukey HSD to assess the affect of each restaurant. I have displayed only those that reject the null hypothesis.\n",
    "\n"
   ]
  },
  {
   "cell_type": "code",
   "execution_count": 43,
   "metadata": {},
   "outputs": [
    {
     "name": "stdout",
     "output_type": "stream",
     "text": [
      "Multiple Comparison of Means - Tukey HSD,FWER=0.05\n",
      "==================================================\n",
      "group1 group2  meandiff   lower     upper   reject\n",
      "--------------------------------------------------\n",
      "Dallas   LA    265.9112  211.4227  320.3997  True \n",
      "Dallas  Minn   -91.1025 -147.1702  -35.0349  True \n",
      "Dallas  NYC    91.6724   36.4445   146.9003  True \n",
      "  LA    Minn  -357.0137 -413.7313 -300.2961  True \n",
      "  LA    NYC   -174.2388 -230.1264 -118.3511  True \n",
      " Minn   NYC    182.7749  125.3466  240.2033  True \n",
      "--------------------------------------------------\n"
     ]
    },
    {
     "data": {
      "image/png": "[encoded data removed]",
      "text/plain": [
       "<Figure size 864x576 with 1 Axes>"
      ]
     },
     "metadata": {
      "needs_background": "light"
     },
     "output_type": "display_data"
    }
   ],
   "source": [
    "mc = MultiComparison(list(df.review_count), df.city)\n",
    "mc_results = mc.tukeyhsd()\n",
    "print(mc_results)\n",
    "mc_results = mc_results.plot_simultaneous(figsize=(12,8))\n",
    "plt.show()\n"
   ]
  },
  {
   "cell_type": "markdown",
   "metadata": {},
   "source": [
    "- Answering the same question but with pop_review_count feature"
   ]
  },
  {
   "cell_type": "code",
   "execution_count": 38,
   "metadata": {},
   "outputs": [
    {
     "data": {
      "text/plain": [
       "<matplotlib.legend.Legend at 0x1a17c9d208>"
      ]
     },
     "execution_count": 38,
     "metadata": {},
     "output_type": "execute_result"
    },
    {
     "data": {
      "image/png": "[encoded data removed]",
      "text/plain": [
       "<Figure size 432x288 with 1 Axes>"
      ]
     },
     "metadata": {
      "needs_background": "light"
     },
     "output_type": "display_data"
    }
   ],
   "source": [
    "sns.distplot(df_ny_vegan.pop_review_count, label = 'NYC')\n",
    "sns.distplot(df_minn_vegan.pop_review_count ,label = 'Minneapolist')\n",
    "sns.distplot(df_la_vegan.pop_review_count, label = \"LA\")\n",
    "sns.distplot(df_dallas_vegan.pop_review_count , label = 'Dallas')\n",
    "plt.title('Distribution plots of the pop_review count between different cities')\n",
    "plt.legend()"
   ]
  },
  {
   "cell_type": "code",
   "execution_count": 45,
   "metadata": {},
   "outputs": [
    {
     "data": {
      "text/plain": [
       "F_onewayResult(statistic=73.31614911119138, pvalue=1.9909663553329932e-45)"
      ]
     },
     "execution_count": 45,
     "metadata": {},
     "output_type": "execute_result"
    }
   ],
   "source": [
    "stats.f_oneway(df_ny_vegan.pop_review_count, df_la_vegan.pop_review_count, df_dallas_vegan.pop_review_count, df_minn_vegan.pop_review_count)"
   ]
  },
  {
   "cell_type": "markdown",
   "metadata": {},
   "source": [
    "Since out pvalue=2.15e-45 we can conclude that there is a significant difference between popularity among different vegan restaurants in different cities."
   ]
  },
  {
   "cell_type": "markdown",
   "metadata": {},
   "source": [
    "We have run a Tukey HSD to assess the affect of each restaurant. I have displayed only those that reject the null hypothesis."
   ]
  },
  {
   "cell_type": "code",
   "execution_count": 46,
   "metadata": {
    "scrolled": false
   },
   "outputs": [
    {
     "name": "stdout",
     "output_type": "stream",
     "text": [
      "Multiple Comparison of Means - Tukey HSD,FWER=0.05\n",
      "===============================================\n",
      "group1 group2 meandiff  lower    upper   reject\n",
      "-----------------------------------------------\n",
      "Dallas   LA   -4.9626  -9.5786  -0.3466   True \n",
      "Dallas  Minn  11.5381   6.7883  16.2878   True \n",
      "Dallas  NYC   -13.8489 -18.5276 -9.1702   True \n",
      "  LA    Minn  16.5006  11.6958  21.3055   True \n",
      "  LA    NYC   -8.8863  -13.6209 -4.1518   True \n",
      " Minn   NYC   -25.387  -30.252  -20.5219  True \n",
      "-----------------------------------------------\n"
     ]
    },
    {
     "data": {
      "image/png": "[encoded data removed]",
      "text/plain": [
       "<Figure size 864x576 with 1 Axes>"
      ]
     },
     "metadata": {
      "needs_background": "light"
     },
     "output_type": "display_data"
    }
   ],
   "source": [
    "\n",
    "from statsmodels.stats.multicomp import (pairwise_tukeyhsd,\n",
    "                                         MultiComparison)\n",
    "from statsmodels.stats.multicomp import pairwise_tukeyhsd\n",
    "from statsmodels.stats.multicomp import MultiComparison\n",
    "mc = MultiComparison(list(df.pop_review_count), df.city)\n",
    "mc_results = mc.tukeyhsd()\n",
    "print(mc_results)\n",
    "mc_results = mc_results.plot_simultaneous(figsize=(12,8))\n",
    "plt.show()"
   ]
  },
  {
   "cell_type": "markdown",
   "metadata": {},
   "source": [
    "## Question 3: Is the quality of vegan vs. Non-vegan restaurants different across different cities?\n",
    "- H0: There is no difference between rating of Vegan and Non-vegan resturants across different cities. µ1 = µ 2 = µ 3\n",
    "- H1: There is a difference between rating of Vegan and Non-vegan resturants across different cities.\n",
    "- The alpha level (i.e. the probability of rejecting the null hypothesis when it is true) will be set at 0.01 for a one-tail test"
   ]
  },
  {
   "cell_type": "markdown",
   "metadata": {},
   "source": [
    "A two-way anova with replication tests three null hypotheses: that the means of observations grouped by one factor are the same; that the means of observations grouped by the other factor are the same; and that there is no interaction between the two factors."
   ]
  },
  {
   "cell_type": "markdown",
   "metadata": {},
   "source": [
    "- First, we need to encode some features to implement our model"
   ]
  },
  {
   "cell_type": "code",
   "execution_count": 47,
   "metadata": {},
   "outputs": [],
   "source": [
    "label_encoder = preprocessing.LabelEncoder() \n",
    "df['city_encode']= label_encoder.fit_transform(df['city']) \n",
    "df['rest_type_encode'] = label_encoder.fit_transform(df['rest_type']) \n",
    "\n"
   ]
  },
  {
   "cell_type": "markdown",
   "metadata": {},
   "source": [
    "We run MANOVA to see if there a difference between rating of Vegan and Non-vegan resturants across different cities."
   ]
  },
  {
   "cell_type": "code",
   "execution_count": 48,
   "metadata": {
    "scrolled": true
   },
   "outputs": [
    {
     "name": "stdout",
     "output_type": "stream",
     "text": [
      "                   Multivariate linear model\n",
      "===============================================================\n",
      "                                                               \n",
      "---------------------------------------------------------------\n",
      "        Intercept        Value  Num DF   Den DF  F Value Pr > F\n",
      "---------------------------------------------------------------\n",
      "           Wilks' lambda 0.9956 2.0000 4615.0000 10.2128 0.0000\n",
      "          Pillai's trace 0.0044 2.0000 4615.0000 10.2128 0.0000\n",
      "  Hotelling-Lawley trace 0.0044 2.0000 4615.0000 10.2128 0.0000\n",
      "     Roy's greatest root 0.0044 2.0000 4615.0000 10.2128 0.0000\n",
      "---------------------------------------------------------------\n",
      "                                                               \n",
      "---------------------------------------------------------------\n",
      "         rating         Value  Num DF   Den DF  F Value  Pr > F\n",
      "---------------------------------------------------------------\n",
      "          Wilks' lambda 0.9573 2.0000 4615.0000 102.8177 0.0000\n",
      "         Pillai's trace 0.0427 2.0000 4615.0000 102.8177 0.0000\n",
      " Hotelling-Lawley trace 0.0446 2.0000 4615.0000 102.8177 0.0000\n",
      "    Roy's greatest root 0.0446 2.0000 4615.0000 102.8177 0.0000\n",
      "===============================================================\n",
      "\n"
     ]
    }
   ],
   "source": [
    "mod = MANOVA.from_formula('city_encode + rest_type_encode ~ rating', data=df)\n",
    "model = mod.mv_test()\n",
    "print(model)"
   ]
  },
  {
   "cell_type": "markdown",
   "metadata": {},
   "source": [
    "Our p values is < 0.01 so we can reject the null hypotesys. We can conlude that there is a difference between rating of Vegan and Non-vegan resturants across different cities."
   ]
  }
 ],
 "metadata": {
  "kernelspec": {
   "display_name": "Python 3",
   "language": "python",
   "name": "python3"
  },
  "language_info": {
   "codemirror_mode": {
    "name": "ipython",
    "version": 3
   },
   "file_extension": ".py",
   "mimetype": "text/x-python",
   "name": "python",
   "nbconvert_exporter": "python",
   "pygments_lexer": "ipython3",
   "version": "3.7.3"
  }
 },
 "nbformat": 4,
 "nbformat_minor": 2
}
